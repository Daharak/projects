{
 "cells": [
  {
   "cell_type": "markdown",
   "metadata": {},
   "source": [
    "# Описание проекта."
   ]
  },
  {
   "cell_type": "markdown",
   "metadata": {},
   "source": [
    "Вы — аналитик крупного интернет-магазина. Вместе с отделом маркетинга вы подготовили список гипотез для увеличения выручки.\n",
    "Приоритизируйте гипотезы, запустите A/B-тест и проанализируйте результаты."
   ]
  },
  {
   "cell_type": "markdown",
   "metadata": {},
   "source": [
    "## Описание данных."
   ]
  },
  {
   "cell_type": "markdown",
   "metadata": {},
   "source": [
    "Файл /datasets/hypothesis.csv. Скачать датасет  \n",
    "Hypothesis — краткое описание гипотезы;  \n",
    "Reach — охват пользователей по 10-балльной шкале;  \n",
    "Impact — влияние на пользователей по 10-балльной шкале;  \n",
    "Confidence — уверенность в гипотезе по 10-балльной шкале;  \n",
    "Efforts — затраты ресурсов на проверку гипотезы по 10-балльной шкале. Чем больше значение Efforts, тем дороже проверка гипотезы."
   ]
  },
  {
   "cell_type": "markdown",
   "metadata": {},
   "source": [
    "## Часть 1. Приоритизация гипотез."
   ]
  },
  {
   "cell_type": "markdown",
   "metadata": {},
   "source": [
    "В файле /datasets/hypothesis.csv 9 гипотез по увеличению выручки интернет-магазина с указанными параметрами Reach, Impact, Confidence, Effort."
   ]
  },
  {
   "cell_type": "markdown",
   "metadata": {},
   "source": [
    "**Задача**   \n",
    "Примените фреймворк ICE для приоритизации гипотез. Отсортируйте их по убыванию приоритета.  \n",
    "Примените фреймворк RICE для приоритизации гипотез. Отсортируйте их по убыванию приоритета.  \n",
    "Укажите, как изменилась приоритизация гипотез при применении RICE вместо ICE. Объясните, почему так произошло.  "
   ]
  },
  {
   "cell_type": "markdown",
   "metadata": {},
   "source": [
    "Импортируем основные библиотеки для начала работы. Загрузим датасет с помощью конструкции try/except."
   ]
  },
  {
   "cell_type": "code",
   "execution_count": 1,
   "metadata": {},
   "outputs": [],
   "source": [
    "import numpy as np\n",
    "import pandas as pd\n",
    "import seaborn as sns\n",
    "from matplotlib import pyplot as plt\n",
    "from IPython.display import display\n",
    "import scipy.stats as stats\n",
    "import datetime as dt"
   ]
  },
  {
   "cell_type": "code",
   "execution_count": 2,
   "metadata": {},
   "outputs": [],
   "source": [
    "try:\n",
    "    data_h = pd.read_csv('/datasets/hypothesis.csv')\n",
    "except:\n",
    "    data_h = pd.read_csv('https://code.s3.yandex.net/datasets/hypothesis.csv')"
   ]
  },
  {
   "cell_type": "code",
   "execution_count": 3,
   "metadata": {},
   "outputs": [],
   "source": [
    "pd.set_option('display.max_columns', None)\n",
    "pd.set_option('max_colwidth', 1)\n",
    "pd.options.display.float_format = '{:,.2f}'.format"
   ]
  },
  {
   "cell_type": "markdown",
   "metadata": {},
   "source": [
    "Произведем предообработку данных для датасета. Воспользуемся методом info и изучим тип данных каждого столбца датасета."
   ]
  },
  {
   "cell_type": "code",
   "execution_count": 4,
   "metadata": {},
   "outputs": [
    {
     "name": "stdout",
     "output_type": "stream",
     "text": [
      "<class 'pandas.core.frame.DataFrame'>\n",
      "RangeIndex: 9 entries, 0 to 8\n",
      "Data columns (total 5 columns):\n",
      " #   Column      Non-Null Count  Dtype \n",
      "---  ------      --------------  ----- \n",
      " 0   Hypothesis  9 non-null      object\n",
      " 1   Reach       9 non-null      int64 \n",
      " 2   Impact      9 non-null      int64 \n",
      " 3   Confidence  9 non-null      int64 \n",
      " 4   Efforts     9 non-null      int64 \n",
      "dtypes: int64(4), object(1)\n",
      "memory usage: 488.0+ bytes\n"
     ]
    }
   ],
   "source": [
    "data_h.info()"
   ]
  },
  {
   "cell_type": "markdown",
   "metadata": {},
   "source": [
    "Воспользуемся методом head(10) и посмотрим на десять строк датасета."
   ]
  },
  {
   "cell_type": "code",
   "execution_count": 5,
   "metadata": {},
   "outputs": [
    {
     "data": {
      "text/html": [
       "<div>\n",
       "<style scoped>\n",
       "    .dataframe tbody tr th:only-of-type {\n",
       "        vertical-align: middle;\n",
       "    }\n",
       "\n",
       "    .dataframe tbody tr th {\n",
       "        vertical-align: top;\n",
       "    }\n",
       "\n",
       "    .dataframe thead th {\n",
       "        text-align: right;\n",
       "    }\n",
       "</style>\n",
       "<table border=\"1\" class=\"dataframe\">\n",
       "  <thead>\n",
       "    <tr style=\"text-align: right;\">\n",
       "      <th></th>\n",
       "      <th>Hypothesis</th>\n",
       "      <th>Reach</th>\n",
       "      <th>Impact</th>\n",
       "      <th>Confidence</th>\n",
       "      <th>Efforts</th>\n",
       "    </tr>\n",
       "  </thead>\n",
       "  <tbody>\n",
       "    <tr>\n",
       "      <th>0</th>\n",
       "      <td>Добавить два новых канала привлечения трафика, что позволит привлекать на 30% больше пользователей</td>\n",
       "      <td>3</td>\n",
       "      <td>10</td>\n",
       "      <td>8</td>\n",
       "      <td>6</td>\n",
       "    </tr>\n",
       "    <tr>\n",
       "      <th>1</th>\n",
       "      <td>Запустить собственную службу доставки, что сократит срок доставки заказов</td>\n",
       "      <td>2</td>\n",
       "      <td>5</td>\n",
       "      <td>4</td>\n",
       "      <td>10</td>\n",
       "    </tr>\n",
       "    <tr>\n",
       "      <th>2</th>\n",
       "      <td>Добавить блоки рекомендаций товаров на сайт интернет магазина, чтобы повысить конверсию и средний чек заказа</td>\n",
       "      <td>8</td>\n",
       "      <td>3</td>\n",
       "      <td>7</td>\n",
       "      <td>3</td>\n",
       "    </tr>\n",
       "    <tr>\n",
       "      <th>3</th>\n",
       "      <td>Изменить структура категорий, что увеличит конверсию, т.к. пользователи быстрее найдут нужный товар</td>\n",
       "      <td>8</td>\n",
       "      <td>3</td>\n",
       "      <td>3</td>\n",
       "      <td>8</td>\n",
       "    </tr>\n",
       "    <tr>\n",
       "      <th>4</th>\n",
       "      <td>Изменить цвет фона главной страницы, чтобы увеличить вовлеченность пользователей</td>\n",
       "      <td>3</td>\n",
       "      <td>1</td>\n",
       "      <td>1</td>\n",
       "      <td>1</td>\n",
       "    </tr>\n",
       "    <tr>\n",
       "      <th>5</th>\n",
       "      <td>Добавить страницу отзывов клиентов о магазине, что позволит увеличить количество заказов</td>\n",
       "      <td>3</td>\n",
       "      <td>2</td>\n",
       "      <td>2</td>\n",
       "      <td>3</td>\n",
       "    </tr>\n",
       "    <tr>\n",
       "      <th>6</th>\n",
       "      <td>Показать на главной странице баннеры с актуальными акциями и распродажами, чтобы увеличить конверсию</td>\n",
       "      <td>5</td>\n",
       "      <td>3</td>\n",
       "      <td>8</td>\n",
       "      <td>3</td>\n",
       "    </tr>\n",
       "    <tr>\n",
       "      <th>7</th>\n",
       "      <td>Добавить форму подписки на все основные страницы, чтобы собрать базу клиентов для email-рассылок</td>\n",
       "      <td>10</td>\n",
       "      <td>7</td>\n",
       "      <td>8</td>\n",
       "      <td>5</td>\n",
       "    </tr>\n",
       "    <tr>\n",
       "      <th>8</th>\n",
       "      <td>Запустить акцию, дающую скидку на товар в день рождения</td>\n",
       "      <td>1</td>\n",
       "      <td>9</td>\n",
       "      <td>9</td>\n",
       "      <td>5</td>\n",
       "    </tr>\n",
       "  </tbody>\n",
       "</table>\n",
       "</div>"
      ],
      "text/plain": [
       "                                                                                                     Hypothesis  \\\n",
       "0  Добавить два новых канала привлечения трафика, что позволит привлекать на 30% больше пользователей             \n",
       "1  Запустить собственную службу доставки, что сократит срок доставки заказов                                      \n",
       "2  Добавить блоки рекомендаций товаров на сайт интернет магазина, чтобы повысить конверсию и средний чек заказа   \n",
       "3  Изменить структура категорий, что увеличит конверсию, т.к. пользователи быстрее найдут нужный товар            \n",
       "4  Изменить цвет фона главной страницы, чтобы увеличить вовлеченность пользователей                               \n",
       "5  Добавить страницу отзывов клиентов о магазине, что позволит увеличить количество заказов                       \n",
       "6  Показать на главной странице баннеры с актуальными акциями и распродажами, чтобы увеличить конверсию           \n",
       "7  Добавить форму подписки на все основные страницы, чтобы собрать базу клиентов для email-рассылок               \n",
       "8  Запустить акцию, дающую скидку на товар в день рождения                                                        \n",
       "\n",
       "   Reach  Impact  Confidence  Efforts  \n",
       "0  3      10      8           6        \n",
       "1  2      5       4           10       \n",
       "2  8      3       7           3        \n",
       "3  8      3       3           8        \n",
       "4  3      1       1           1        \n",
       "5  3      2       2           3        \n",
       "6  5      3       8           3        \n",
       "7  10     7       8           5        \n",
       "8  1      9       9           5        "
      ]
     },
     "execution_count": 5,
     "metadata": {},
     "output_type": "execute_result"
    }
   ],
   "source": [
    "data_h.head(10)"
   ]
  },
  {
   "cell_type": "markdown",
   "metadata": {},
   "source": [
    "Приведем название столбцов к нижнему регистру."
   ]
  },
  {
   "cell_type": "code",
   "execution_count": 6,
   "metadata": {},
   "outputs": [],
   "source": [
    "data_h.columns = [x.lower() for x in data_h.columns]"
   ]
  },
  {
   "cell_type": "markdown",
   "metadata": {},
   "source": [
    "Других замечаний по данным в датасете нет. Можем приступать к анализу данных."
   ]
  },
  {
   "cell_type": "markdown",
   "metadata": {},
   "source": [
    "Применим фреймворк ICE для приоритизации гипотез. Отсортируем их по убыванию приоритета."
   ]
  },
  {
   "cell_type": "code",
   "execution_count": 7,
   "metadata": {},
   "outputs": [
    {
     "data": {
      "text/html": [
       "<div>\n",
       "<style scoped>\n",
       "    .dataframe tbody tr th:only-of-type {\n",
       "        vertical-align: middle;\n",
       "    }\n",
       "\n",
       "    .dataframe tbody tr th {\n",
       "        vertical-align: top;\n",
       "    }\n",
       "\n",
       "    .dataframe thead th {\n",
       "        text-align: right;\n",
       "    }\n",
       "</style>\n",
       "<table border=\"1\" class=\"dataframe\">\n",
       "  <thead>\n",
       "    <tr style=\"text-align: right;\">\n",
       "      <th></th>\n",
       "      <th>hypothesis</th>\n",
       "      <th>ICE</th>\n",
       "    </tr>\n",
       "  </thead>\n",
       "  <tbody>\n",
       "    <tr>\n",
       "      <th>8</th>\n",
       "      <td>Запустить акцию, дающую скидку на товар в день рождения</td>\n",
       "      <td>16.20</td>\n",
       "    </tr>\n",
       "    <tr>\n",
       "      <th>0</th>\n",
       "      <td>Добавить два новых канала привлечения трафика, что позволит привлекать на 30% больше пользователей</td>\n",
       "      <td>13.33</td>\n",
       "    </tr>\n",
       "    <tr>\n",
       "      <th>7</th>\n",
       "      <td>Добавить форму подписки на все основные страницы, чтобы собрать базу клиентов для email-рассылок</td>\n",
       "      <td>11.20</td>\n",
       "    </tr>\n",
       "    <tr>\n",
       "      <th>6</th>\n",
       "      <td>Показать на главной странице баннеры с актуальными акциями и распродажами, чтобы увеличить конверсию</td>\n",
       "      <td>8.00</td>\n",
       "    </tr>\n",
       "    <tr>\n",
       "      <th>2</th>\n",
       "      <td>Добавить блоки рекомендаций товаров на сайт интернет магазина, чтобы повысить конверсию и средний чек заказа</td>\n",
       "      <td>7.00</td>\n",
       "    </tr>\n",
       "    <tr>\n",
       "      <th>1</th>\n",
       "      <td>Запустить собственную службу доставки, что сократит срок доставки заказов</td>\n",
       "      <td>2.00</td>\n",
       "    </tr>\n",
       "    <tr>\n",
       "      <th>5</th>\n",
       "      <td>Добавить страницу отзывов клиентов о магазине, что позволит увеличить количество заказов</td>\n",
       "      <td>1.33</td>\n",
       "    </tr>\n",
       "    <tr>\n",
       "      <th>3</th>\n",
       "      <td>Изменить структура категорий, что увеличит конверсию, т.к. пользователи быстрее найдут нужный товар</td>\n",
       "      <td>1.12</td>\n",
       "    </tr>\n",
       "    <tr>\n",
       "      <th>4</th>\n",
       "      <td>Изменить цвет фона главной страницы, чтобы увеличить вовлеченность пользователей</td>\n",
       "      <td>1.00</td>\n",
       "    </tr>\n",
       "  </tbody>\n",
       "</table>\n",
       "</div>"
      ],
      "text/plain": [
       "                                                                                                     hypothesis  \\\n",
       "8  Запустить акцию, дающую скидку на товар в день рождения                                                        \n",
       "0  Добавить два новых канала привлечения трафика, что позволит привлекать на 30% больше пользователей             \n",
       "7  Добавить форму подписки на все основные страницы, чтобы собрать базу клиентов для email-рассылок               \n",
       "6  Показать на главной странице баннеры с актуальными акциями и распродажами, чтобы увеличить конверсию           \n",
       "2  Добавить блоки рекомендаций товаров на сайт интернет магазина, чтобы повысить конверсию и средний чек заказа   \n",
       "1  Запустить собственную службу доставки, что сократит срок доставки заказов                                      \n",
       "5  Добавить страницу отзывов клиентов о магазине, что позволит увеличить количество заказов                       \n",
       "3  Изменить структура категорий, что увеличит конверсию, т.к. пользователи быстрее найдут нужный товар            \n",
       "4  Изменить цвет фона главной страницы, чтобы увеличить вовлеченность пользователей                               \n",
       "\n",
       "    ICE  \n",
       "8 16.20  \n",
       "0 13.33  \n",
       "7 11.20  \n",
       "6 8.00   \n",
       "2 7.00   \n",
       "1 2.00   \n",
       "5 1.33   \n",
       "3 1.12   \n",
       "4 1.00   "
      ]
     },
     "metadata": {},
     "output_type": "display_data"
    }
   ],
   "source": [
    "data_h['ICE'] = data_h['impact'] * data_h['confidence'] / data_h['efforts']\n",
    "\n",
    "display(data_h[['hypothesis', 'ICE']].sort_values(by='ICE', ascending=False))"
   ]
  },
  {
   "cell_type": "markdown",
   "metadata": {},
   "source": [
    "Наиболее перспективными гипотезами являются № 8, 0, 7, 6. "
   ]
  },
  {
   "cell_type": "markdown",
   "metadata": {},
   "source": [
    "Применим фреймворк RICE для приоритизации гипотез. Отсортируем их по убыванию приоритета."
   ]
  },
  {
   "cell_type": "code",
   "execution_count": 8,
   "metadata": {},
   "outputs": [
    {
     "data": {
      "text/html": [
       "<div>\n",
       "<style scoped>\n",
       "    .dataframe tbody tr th:only-of-type {\n",
       "        vertical-align: middle;\n",
       "    }\n",
       "\n",
       "    .dataframe tbody tr th {\n",
       "        vertical-align: top;\n",
       "    }\n",
       "\n",
       "    .dataframe thead th {\n",
       "        text-align: right;\n",
       "    }\n",
       "</style>\n",
       "<table border=\"1\" class=\"dataframe\">\n",
       "  <thead>\n",
       "    <tr style=\"text-align: right;\">\n",
       "      <th></th>\n",
       "      <th>hypothesis</th>\n",
       "      <th>RICE</th>\n",
       "    </tr>\n",
       "  </thead>\n",
       "  <tbody>\n",
       "    <tr>\n",
       "      <th>7</th>\n",
       "      <td>Добавить форму подписки на все основные страницы, чтобы собрать базу клиентов для email-рассылок</td>\n",
       "      <td>112.00</td>\n",
       "    </tr>\n",
       "    <tr>\n",
       "      <th>2</th>\n",
       "      <td>Добавить блоки рекомендаций товаров на сайт интернет магазина, чтобы повысить конверсию и средний чек заказа</td>\n",
       "      <td>56.00</td>\n",
       "    </tr>\n",
       "    <tr>\n",
       "      <th>0</th>\n",
       "      <td>Добавить два новых канала привлечения трафика, что позволит привлекать на 30% больше пользователей</td>\n",
       "      <td>40.00</td>\n",
       "    </tr>\n",
       "    <tr>\n",
       "      <th>6</th>\n",
       "      <td>Показать на главной странице баннеры с актуальными акциями и распродажами, чтобы увеличить конверсию</td>\n",
       "      <td>40.00</td>\n",
       "    </tr>\n",
       "    <tr>\n",
       "      <th>8</th>\n",
       "      <td>Запустить акцию, дающую скидку на товар в день рождения</td>\n",
       "      <td>16.20</td>\n",
       "    </tr>\n",
       "    <tr>\n",
       "      <th>3</th>\n",
       "      <td>Изменить структура категорий, что увеличит конверсию, т.к. пользователи быстрее найдут нужный товар</td>\n",
       "      <td>9.00</td>\n",
       "    </tr>\n",
       "    <tr>\n",
       "      <th>1</th>\n",
       "      <td>Запустить собственную службу доставки, что сократит срок доставки заказов</td>\n",
       "      <td>4.00</td>\n",
       "    </tr>\n",
       "    <tr>\n",
       "      <th>5</th>\n",
       "      <td>Добавить страницу отзывов клиентов о магазине, что позволит увеличить количество заказов</td>\n",
       "      <td>4.00</td>\n",
       "    </tr>\n",
       "    <tr>\n",
       "      <th>4</th>\n",
       "      <td>Изменить цвет фона главной страницы, чтобы увеличить вовлеченность пользователей</td>\n",
       "      <td>3.00</td>\n",
       "    </tr>\n",
       "  </tbody>\n",
       "</table>\n",
       "</div>"
      ],
      "text/plain": [
       "                                                                                                     hypothesis  \\\n",
       "7  Добавить форму подписки на все основные страницы, чтобы собрать базу клиентов для email-рассылок               \n",
       "2  Добавить блоки рекомендаций товаров на сайт интернет магазина, чтобы повысить конверсию и средний чек заказа   \n",
       "0  Добавить два новых канала привлечения трафика, что позволит привлекать на 30% больше пользователей             \n",
       "6  Показать на главной странице баннеры с актуальными акциями и распродажами, чтобы увеличить конверсию           \n",
       "8  Запустить акцию, дающую скидку на товар в день рождения                                                        \n",
       "3  Изменить структура категорий, что увеличит конверсию, т.к. пользователи быстрее найдут нужный товар            \n",
       "1  Запустить собственную службу доставки, что сократит срок доставки заказов                                      \n",
       "5  Добавить страницу отзывов клиентов о магазине, что позволит увеличить количество заказов                       \n",
       "4  Изменить цвет фона главной страницы, чтобы увеличить вовлеченность пользователей                               \n",
       "\n",
       "    RICE  \n",
       "7 112.00  \n",
       "2 56.00   \n",
       "0 40.00   \n",
       "6 40.00   \n",
       "8 16.20   \n",
       "3 9.00    \n",
       "1 4.00    \n",
       "5 4.00    \n",
       "4 3.00    "
      ]
     },
     "metadata": {},
     "output_type": "display_data"
    }
   ],
   "source": [
    "data_h['RICE'] = data_h['reach'] * data_h['impact'] * data_h['confidence'] / data_h['efforts']\n",
    "\n",
    "display(data_h[['hypothesis', 'RICE']].sort_values(by='RICE', ascending=False))"
   ]
  },
  {
   "cell_type": "markdown",
   "metadata": {},
   "source": [
    "При применении фреймворка RICE наиболее перспективной гипотезой стала под номером 7. Гипотезы 0 и 6 также остаются актуальными.\n",
    "\n",
    "Так произошло потому что параметр reach равен 10 ,а у других гипотез он меньше. Следовательно гипотеза под номером 7 является самой сильной. "
   ]
  },
  {
   "cell_type": "markdown",
   "metadata": {},
   "source": [
    "## Часть 2. Анализ A/B-теста."
   ]
  },
  {
   "cell_type": "markdown",
   "metadata": {},
   "source": [
    "Вы провели A/B-тест и получили результаты, которые описаны в файлах /datasets/orders.csv и /datasets/visitors.csv."
   ]
  },
  {
   "cell_type": "markdown",
   "metadata": {},
   "source": [
    "**Задача**  \n",
    "Проанализируйте A/B-тест:  \n",
    "1) Постройте график кумулятивной выручки по группам. Сделайте выводы и предположения.  \n",
    "2) Постройте график кумулятивного среднего чека по группам. Сделайте выводы и предположения.  \n",
    "3) Постройте график относительного изменения кумулятивного среднего чека группы B к группе A. Сделайте выводы и предположения.  \n",
    "4) Постройте график кумулятивного среднего количества заказов на посетителя по группам. Сделайте выводы и предположения.  \n",
    "5) Постройте график относительного изменения кумулятивного среднего количества заказов на посетителя группы B к группе A. Сделайте выводы и предположения.  \n",
    "6) Постройте точечный график количества заказов по пользователям. Сделайте выводы и предположения.  \n",
    "7) Посчитайте 95-й и 99-й перцентили количества заказов на пользователя. Выберите границу для определения аномальных пользователей.  \n",
    "8) Постройте точечный график стоимостей заказов. Сделайте выводы и предположения.  \n",
    "9) Посчитайте 95-й и 99-й перцентили стоимости заказов. Выберите границу для определения аномальных заказов.  \n",
    "10) Посчитайте статистическую значимость различий в среднем количестве заказов на посетителя между группами по «сырым» данным. Сделайте выводы и предположения.  \n",
    "11) Посчитайте статистическую значимость различий в среднем чеке заказа между группами по «сырым» данным. Сделайте выводы и предположения.  \n",
    "12) Посчитайте статистическую значимость различий в среднем количестве заказов на посетителя между группами по «очищенным» данным. Сделайте выводы и предположения.  \n",
    "13) Посчитайте статистическую значимость различий в среднем чеке заказа между группами по «очищенным» данным. Сделайте выводы и предположения.  \n",
    "14) Примите решение по результатам теста и объясните его. Варианты решений: 1. Остановить тест, зафиксировать победу одной из групп. 2. Остановить тест, зафиксировать отсутствие различий между группами. 3. Продолжить тест.  "
   ]
  },
  {
   "cell_type": "markdown",
   "metadata": {},
   "source": [
    "### Предобработка датасета orders."
   ]
  },
  {
   "cell_type": "code",
   "execution_count": 9,
   "metadata": {},
   "outputs": [],
   "source": [
    "try:\n",
    "    orders = pd.read_csv('/datasets/orders.csv')\n",
    "except:\n",
    "    orders = pd.read_csv('https://code.s3.yandex.net/datasets/orders.csv')"
   ]
  },
  {
   "cell_type": "code",
   "execution_count": 10,
   "metadata": {},
   "outputs": [
    {
     "name": "stdout",
     "output_type": "stream",
     "text": [
      "<class 'pandas.core.frame.DataFrame'>\n",
      "RangeIndex: 1197 entries, 0 to 1196\n",
      "Data columns (total 5 columns):\n",
      " #   Column         Non-Null Count  Dtype \n",
      "---  ------         --------------  ----- \n",
      " 0   transactionId  1197 non-null   int64 \n",
      " 1   visitorId      1197 non-null   int64 \n",
      " 2   date           1197 non-null   object\n",
      " 3   revenue        1197 non-null   int64 \n",
      " 4   group          1197 non-null   object\n",
      "dtypes: int64(3), object(2)\n",
      "memory usage: 46.9+ KB\n"
     ]
    }
   ],
   "source": [
    "orders.info()"
   ]
  },
  {
   "cell_type": "code",
   "execution_count": 11,
   "metadata": {},
   "outputs": [
    {
     "data": {
      "text/html": [
       "<div>\n",
       "<style scoped>\n",
       "    .dataframe tbody tr th:only-of-type {\n",
       "        vertical-align: middle;\n",
       "    }\n",
       "\n",
       "    .dataframe tbody tr th {\n",
       "        vertical-align: top;\n",
       "    }\n",
       "\n",
       "    .dataframe thead th {\n",
       "        text-align: right;\n",
       "    }\n",
       "</style>\n",
       "<table border=\"1\" class=\"dataframe\">\n",
       "  <thead>\n",
       "    <tr style=\"text-align: right;\">\n",
       "      <th></th>\n",
       "      <th>transactionId</th>\n",
       "      <th>visitorId</th>\n",
       "      <th>date</th>\n",
       "      <th>revenue</th>\n",
       "      <th>group</th>\n",
       "    </tr>\n",
       "  </thead>\n",
       "  <tbody>\n",
       "    <tr>\n",
       "      <th>0</th>\n",
       "      <td>3667963787</td>\n",
       "      <td>3312258926</td>\n",
       "      <td>2019-08-15</td>\n",
       "      <td>1650</td>\n",
       "      <td>B</td>\n",
       "    </tr>\n",
       "    <tr>\n",
       "      <th>1</th>\n",
       "      <td>2804400009</td>\n",
       "      <td>3642806036</td>\n",
       "      <td>2019-08-15</td>\n",
       "      <td>730</td>\n",
       "      <td>B</td>\n",
       "    </tr>\n",
       "    <tr>\n",
       "      <th>2</th>\n",
       "      <td>2961555356</td>\n",
       "      <td>4069496402</td>\n",
       "      <td>2019-08-15</td>\n",
       "      <td>400</td>\n",
       "      <td>A</td>\n",
       "    </tr>\n",
       "    <tr>\n",
       "      <th>3</th>\n",
       "      <td>3797467345</td>\n",
       "      <td>1196621759</td>\n",
       "      <td>2019-08-15</td>\n",
       "      <td>9759</td>\n",
       "      <td>B</td>\n",
       "    </tr>\n",
       "    <tr>\n",
       "      <th>4</th>\n",
       "      <td>2282983706</td>\n",
       "      <td>2322279887</td>\n",
       "      <td>2019-08-15</td>\n",
       "      <td>2308</td>\n",
       "      <td>B</td>\n",
       "    </tr>\n",
       "  </tbody>\n",
       "</table>\n",
       "</div>"
      ],
      "text/plain": [
       "   transactionId   visitorId        date  revenue group\n",
       "0  3667963787     3312258926  2019-08-15  1650     B   \n",
       "1  2804400009     3642806036  2019-08-15  730      B   \n",
       "2  2961555356     4069496402  2019-08-15  400      A   \n",
       "3  3797467345     1196621759  2019-08-15  9759     B   \n",
       "4  2282983706     2322279887  2019-08-15  2308     B   "
      ]
     },
     "execution_count": 11,
     "metadata": {},
     "output_type": "execute_result"
    }
   ],
   "source": [
    "orders.head()"
   ]
  },
  {
   "cell_type": "markdown",
   "metadata": {},
   "source": [
    "В столбце date представлены данные в формате object. Для дальнейшей работы произведем изменение в формат datetime."
   ]
  },
  {
   "cell_type": "code",
   "execution_count": 12,
   "metadata": {},
   "outputs": [],
   "source": [
    "orders[\"date\"] = orders[\"date\"].map(lambda x: dt.datetime.strptime(x, '%Y-%m-%d'))"
   ]
  },
  {
   "cell_type": "markdown",
   "metadata": {},
   "source": [
    "Далее проверим датасет на наличие дубликатов методом duplicated().sum())"
   ]
  },
  {
   "cell_type": "code",
   "execution_count": 13,
   "metadata": {},
   "outputs": [
    {
     "data": {
      "text/plain": [
       "0"
      ]
     },
     "execution_count": 13,
     "metadata": {},
     "output_type": "execute_result"
    }
   ],
   "source": [
    "orders.duplicated().sum()"
   ]
  },
  {
   "cell_type": "markdown",
   "metadata": {},
   "source": [
    "Дубликаты в датасете отсутствуют. Далее повторим алгоритм для датасета visitors."
   ]
  },
  {
   "cell_type": "markdown",
   "metadata": {},
   "source": [
    "### Предобработка датасета visitors."
   ]
  },
  {
   "cell_type": "code",
   "execution_count": 14,
   "metadata": {},
   "outputs": [],
   "source": [
    "try:\n",
    "    visitors = pd.read_csv('/datasets/visitors.csv')\n",
    "except:\n",
    "    visitors = pd.read_csv('https://code.s3.yandex.net/datasets/visitors.csv')"
   ]
  },
  {
   "cell_type": "code",
   "execution_count": 15,
   "metadata": {},
   "outputs": [
    {
     "name": "stdout",
     "output_type": "stream",
     "text": [
      "<class 'pandas.core.frame.DataFrame'>\n",
      "RangeIndex: 62 entries, 0 to 61\n",
      "Data columns (total 3 columns):\n",
      " #   Column    Non-Null Count  Dtype \n",
      "---  ------    --------------  ----- \n",
      " 0   date      62 non-null     object\n",
      " 1   group     62 non-null     object\n",
      " 2   visitors  62 non-null     int64 \n",
      "dtypes: int64(1), object(2)\n",
      "memory usage: 1.6+ KB\n"
     ]
    }
   ],
   "source": [
    "visitors.info()"
   ]
  },
  {
   "cell_type": "code",
   "execution_count": 16,
   "metadata": {},
   "outputs": [
    {
     "data": {
      "text/html": [
       "<div>\n",
       "<style scoped>\n",
       "    .dataframe tbody tr th:only-of-type {\n",
       "        vertical-align: middle;\n",
       "    }\n",
       "\n",
       "    .dataframe tbody tr th {\n",
       "        vertical-align: top;\n",
       "    }\n",
       "\n",
       "    .dataframe thead th {\n",
       "        text-align: right;\n",
       "    }\n",
       "</style>\n",
       "<table border=\"1\" class=\"dataframe\">\n",
       "  <thead>\n",
       "    <tr style=\"text-align: right;\">\n",
       "      <th></th>\n",
       "      <th>date</th>\n",
       "      <th>group</th>\n",
       "      <th>visitors</th>\n",
       "    </tr>\n",
       "  </thead>\n",
       "  <tbody>\n",
       "    <tr>\n",
       "      <th>0</th>\n",
       "      <td>2019-08-01</td>\n",
       "      <td>A</td>\n",
       "      <td>719</td>\n",
       "    </tr>\n",
       "    <tr>\n",
       "      <th>1</th>\n",
       "      <td>2019-08-02</td>\n",
       "      <td>A</td>\n",
       "      <td>619</td>\n",
       "    </tr>\n",
       "    <tr>\n",
       "      <th>2</th>\n",
       "      <td>2019-08-03</td>\n",
       "      <td>A</td>\n",
       "      <td>507</td>\n",
       "    </tr>\n",
       "    <tr>\n",
       "      <th>3</th>\n",
       "      <td>2019-08-04</td>\n",
       "      <td>A</td>\n",
       "      <td>717</td>\n",
       "    </tr>\n",
       "    <tr>\n",
       "      <th>4</th>\n",
       "      <td>2019-08-05</td>\n",
       "      <td>A</td>\n",
       "      <td>756</td>\n",
       "    </tr>\n",
       "  </tbody>\n",
       "</table>\n",
       "</div>"
      ],
      "text/plain": [
       "         date group  visitors\n",
       "0  2019-08-01  A     719     \n",
       "1  2019-08-02  A     619     \n",
       "2  2019-08-03  A     507     \n",
       "3  2019-08-04  A     717     \n",
       "4  2019-08-05  A     756     "
      ]
     },
     "execution_count": 16,
     "metadata": {},
     "output_type": "execute_result"
    }
   ],
   "source": [
    "visitors.head()"
   ]
  },
  {
   "cell_type": "markdown",
   "metadata": {},
   "source": [
    "В столбце date представлены данные в формате object. Для дальнейшей работы произведем изменение в формат datetime."
   ]
  },
  {
   "cell_type": "code",
   "execution_count": 17,
   "metadata": {},
   "outputs": [],
   "source": [
    "visitors[\"date\"] = visitors[\"date\"].map(lambda x: dt.datetime.strptime(x, '%Y-%m-%d'))"
   ]
  },
  {
   "cell_type": "markdown",
   "metadata": {},
   "source": [
    "Далее проверим датасет на наличие дубликатов методом duplicated().sum())"
   ]
  },
  {
   "cell_type": "code",
   "execution_count": 18,
   "metadata": {},
   "outputs": [
    {
     "data": {
      "text/plain": [
       "0"
      ]
     },
     "execution_count": 18,
     "metadata": {},
     "output_type": "execute_result"
    }
   ],
   "source": [
    "visitors.duplicated().sum()"
   ]
  },
  {
   "cell_type": "markdown",
   "metadata": {},
   "source": [
    "Дубликаты в датасете отсутствуют."
   ]
  },
  {
   "cell_type": "markdown",
   "metadata": {},
   "source": [
    "## Подготовка к проведению AB теста."
   ]
  },
  {
   "cell_type": "markdown",
   "metadata": {},
   "source": [
    "Перед проведением AB теста необходимо учесть попадают ли пользователи в обе группы. Для успешного тестирования и недопустимости искажения результатов необходимо минимизировать количество данных пользователей."
   ]
  },
  {
   "cell_type": "code",
   "execution_count": 19,
   "metadata": {},
   "outputs": [],
   "source": [
    "new = len(np.intersect1d(orders.query('group == \"A\"')['visitorId'].unique(), orders.query('group == \"B\"')['visitorId'].unique()))"
   ]
  },
  {
   "cell_type": "code",
   "execution_count": 20,
   "metadata": {},
   "outputs": [],
   "source": [
    "old = orders['visitorId'].nunique()"
   ]
  },
  {
   "cell_type": "code",
   "execution_count": 21,
   "metadata": {},
   "outputs": [],
   "source": [
    "user_percent = new / old * 100"
   ]
  },
  {
   "cell_type": "code",
   "execution_count": 22,
   "metadata": {},
   "outputs": [
    {
     "name": "stdout",
     "output_type": "stream",
     "text": [
      "5.63\n"
     ]
    }
   ],
   "source": [
    "print(round(user_percent, 2))"
   ]
  },
  {
   "cell_type": "markdown",
   "metadata": {},
   "source": [
    "В обе группы попали 58 пользователей, что составляет 5,63%. Процент пересекающихся пользователей в обеих группах незначителен, примем решение не удалять пользователей."
   ]
  },
  {
   "cell_type": "markdown",
   "metadata": {},
   "source": [
    "## Исследование результатов AB теста."
   ]
  },
  {
   "cell_type": "markdown",
   "metadata": {},
   "source": [
    "Итак, по условию задания мы провели AB тест и получили результаты. Необходимо исследовать полученные данные. "
   ]
  },
  {
   "cell_type": "markdown",
   "metadata": {},
   "source": [
    "### График кумулятивной выручки."
   ]
  },
  {
   "cell_type": "markdown",
   "metadata": {},
   "source": [
    "Чтобы исключить проблему подсматривания, анализируют графики метрик. Изучают графики кумулятивных, или накапливаемых данных. Построим график кумулятивной выручки."
   ]
  },
  {
   "cell_type": "markdown",
   "metadata": {},
   "source": [
    "Вы провели A/B-тест и получили результаты, которые описаны в файлах /datasets/orders.csv и /datasets/visitors.csv."
   ]
  },
  {
   "cell_type": "markdown",
   "metadata": {},
   "source": [
    "Воспользуемся методом groupby и посчитаем медианное значение выручки за день для каждой группы. "
   ]
  },
  {
   "cell_type": "markdown",
   "metadata": {},
   "source": [
    "Выбираем медиану потому что она может найти именно тот показатель, который ближе всего к истинно среднему. На неё не влияют выбивающиеся из общей массы числа, поэтому она считается одним из самых надёжных и устойчивых показателей."
   ]
  },
  {
   "cell_type": "code",
   "execution_count": 23,
   "metadata": {},
   "outputs": [
    {
     "data": {
      "text/plain": [
       "group\n",
       "A   112,473.00\n",
       "B   147,274.00\n",
       "Name: revenue, dtype: float64"
      ]
     },
     "execution_count": 23,
     "metadata": {},
     "output_type": "execute_result"
    }
   ],
   "source": [
    "orders.groupby(['date','group'])['revenue'].sum().groupby('group').median()"
   ]
  },
  {
   "cell_type": "markdown",
   "metadata": {},
   "source": [
    "Как видно в группе B выручка больше."
   ]
  },
  {
   "cell_type": "markdown",
   "metadata": {},
   "source": [
    "Для того чтобы произвести объединение данных необходимо сравнить совпадают ли даты и группы в таблицах посетителей и заказов. Для этого воспользуемся методом drop_duplicates и отсортируем значения по столбцам date и group. "
   ]
  },
  {
   "cell_type": "code",
   "execution_count": 24,
   "metadata": {},
   "outputs": [
    {
     "data": {
      "text/html": [
       "<div>\n",
       "<style scoped>\n",
       "    .dataframe tbody tr th:only-of-type {\n",
       "        vertical-align: middle;\n",
       "    }\n",
       "\n",
       "    .dataframe tbody tr th {\n",
       "        vertical-align: top;\n",
       "    }\n",
       "\n",
       "    .dataframe thead th {\n",
       "        text-align: right;\n",
       "    }\n",
       "</style>\n",
       "<table border=\"1\" class=\"dataframe\">\n",
       "  <thead>\n",
       "    <tr style=\"text-align: right;\">\n",
       "      <th></th>\n",
       "      <th>date</th>\n",
       "      <th>group</th>\n",
       "    </tr>\n",
       "  </thead>\n",
       "  <tbody>\n",
       "    <tr>\n",
       "      <th>0</th>\n",
       "      <td>2019-08-01</td>\n",
       "      <td>A</td>\n",
       "    </tr>\n",
       "    <tr>\n",
       "      <th>1</th>\n",
       "      <td>2019-08-01</td>\n",
       "      <td>B</td>\n",
       "    </tr>\n",
       "    <tr>\n",
       "      <th>2</th>\n",
       "      <td>2019-08-02</td>\n",
       "      <td>A</td>\n",
       "    </tr>\n",
       "    <tr>\n",
       "      <th>3</th>\n",
       "      <td>2019-08-02</td>\n",
       "      <td>B</td>\n",
       "    </tr>\n",
       "    <tr>\n",
       "      <th>4</th>\n",
       "      <td>2019-08-03</td>\n",
       "      <td>A</td>\n",
       "    </tr>\n",
       "    <tr>\n",
       "      <th>...</th>\n",
       "      <td>...</td>\n",
       "      <td>...</td>\n",
       "    </tr>\n",
       "    <tr>\n",
       "      <th>57</th>\n",
       "      <td>2019-08-29</td>\n",
       "      <td>B</td>\n",
       "    </tr>\n",
       "    <tr>\n",
       "      <th>58</th>\n",
       "      <td>2019-08-30</td>\n",
       "      <td>A</td>\n",
       "    </tr>\n",
       "    <tr>\n",
       "      <th>59</th>\n",
       "      <td>2019-08-30</td>\n",
       "      <td>B</td>\n",
       "    </tr>\n",
       "    <tr>\n",
       "      <th>60</th>\n",
       "      <td>2019-08-31</td>\n",
       "      <td>A</td>\n",
       "    </tr>\n",
       "    <tr>\n",
       "      <th>61</th>\n",
       "      <td>2019-08-31</td>\n",
       "      <td>B</td>\n",
       "    </tr>\n",
       "  </tbody>\n",
       "</table>\n",
       "<p>62 rows × 2 columns</p>\n",
       "</div>"
      ],
      "text/plain": [
       "         date group\n",
       "0  2019-08-01  A   \n",
       "1  2019-08-01  B   \n",
       "2  2019-08-02  A   \n",
       "3  2019-08-02  B   \n",
       "4  2019-08-03  A   \n",
       "..        ... ..   \n",
       "57 2019-08-29  B   \n",
       "58 2019-08-30  A   \n",
       "59 2019-08-30  B   \n",
       "60 2019-08-31  A   \n",
       "61 2019-08-31  B   \n",
       "\n",
       "[62 rows x 2 columns]"
      ]
     },
     "execution_count": 24,
     "metadata": {},
     "output_type": "execute_result"
    }
   ],
   "source": [
    "orders[['date','group']].drop_duplicates().sort_values(by=['date','group']).reset_index(drop=True)"
   ]
  },
  {
   "cell_type": "markdown",
   "metadata": {},
   "source": [
    "Создадим переменную test_group и сравним отличия в датасетах orders и visitors."
   ]
  },
  {
   "cell_type": "code",
   "execution_count": 25,
   "metadata": {},
   "outputs": [
    {
     "data": {
      "text/html": [
       "<div>\n",
       "<style scoped>\n",
       "    .dataframe tbody tr th:only-of-type {\n",
       "        vertical-align: middle;\n",
       "    }\n",
       "\n",
       "    .dataframe tbody tr th {\n",
       "        vertical-align: top;\n",
       "    }\n",
       "\n",
       "    .dataframe thead th {\n",
       "        text-align: right;\n",
       "    }\n",
       "</style>\n",
       "<table border=\"1\" class=\"dataframe\">\n",
       "  <thead>\n",
       "    <tr style=\"text-align: right;\">\n",
       "      <th></th>\n",
       "      <th>date</th>\n",
       "      <th>group</th>\n",
       "    </tr>\n",
       "  </thead>\n",
       "  <tbody>\n",
       "    <tr>\n",
       "      <th>0</th>\n",
       "      <td>True</td>\n",
       "      <td>True</td>\n",
       "    </tr>\n",
       "    <tr>\n",
       "      <th>1</th>\n",
       "      <td>True</td>\n",
       "      <td>True</td>\n",
       "    </tr>\n",
       "    <tr>\n",
       "      <th>2</th>\n",
       "      <td>True</td>\n",
       "      <td>True</td>\n",
       "    </tr>\n",
       "    <tr>\n",
       "      <th>3</th>\n",
       "      <td>True</td>\n",
       "      <td>True</td>\n",
       "    </tr>\n",
       "    <tr>\n",
       "      <th>4</th>\n",
       "      <td>True</td>\n",
       "      <td>True</td>\n",
       "    </tr>\n",
       "    <tr>\n",
       "      <th>...</th>\n",
       "      <td>...</td>\n",
       "      <td>...</td>\n",
       "    </tr>\n",
       "    <tr>\n",
       "      <th>57</th>\n",
       "      <td>True</td>\n",
       "      <td>True</td>\n",
       "    </tr>\n",
       "    <tr>\n",
       "      <th>58</th>\n",
       "      <td>True</td>\n",
       "      <td>True</td>\n",
       "    </tr>\n",
       "    <tr>\n",
       "      <th>59</th>\n",
       "      <td>True</td>\n",
       "      <td>True</td>\n",
       "    </tr>\n",
       "    <tr>\n",
       "      <th>60</th>\n",
       "      <td>True</td>\n",
       "      <td>True</td>\n",
       "    </tr>\n",
       "    <tr>\n",
       "      <th>61</th>\n",
       "      <td>True</td>\n",
       "      <td>True</td>\n",
       "    </tr>\n",
       "  </tbody>\n",
       "</table>\n",
       "<p>62 rows × 2 columns</p>\n",
       "</div>"
      ],
      "text/plain": [
       "    date  group\n",
       "0   True  True \n",
       "1   True  True \n",
       "2   True  True \n",
       "3   True  True \n",
       "4   True  True \n",
       "..   ...   ... \n",
       "57  True  True \n",
       "58  True  True \n",
       "59  True  True \n",
       "60  True  True \n",
       "61  True  True \n",
       "\n",
       "[62 rows x 2 columns]"
      ]
     },
     "metadata": {},
     "output_type": "display_data"
    }
   ],
   "source": [
    "test_group = orders[['date','group']].drop_duplicates().sort_values(by=['date','group']).reset_index(drop=True) == \\\n",
    "                        visitors[['date','group']].drop_duplicates().sort_values(by=['date','group']).reset_index(drop=True)\n",
    "display(test_group)"
   ]
  },
  {
   "cell_type": "markdown",
   "metadata": {},
   "source": [
    "Пары в наших датасетах совпадают, а значит можно производить объединение."
   ]
  },
  {
   "cell_type": "markdown",
   "metadata": {},
   "source": [
    "Создадим новый датасет cumulativeData в котором объеденим данные из датасетов orders и visitors."
   ]
  },
  {
   "cell_type": "code",
   "execution_count": 26,
   "metadata": {},
   "outputs": [
    {
     "data": {
      "text/html": [
       "<div>\n",
       "<style scoped>\n",
       "    .dataframe tbody tr th:only-of-type {\n",
       "        vertical-align: middle;\n",
       "    }\n",
       "\n",
       "    .dataframe tbody tr th {\n",
       "        vertical-align: top;\n",
       "    }\n",
       "\n",
       "    .dataframe thead th {\n",
       "        text-align: right;\n",
       "    }\n",
       "</style>\n",
       "<table border=\"1\" class=\"dataframe\">\n",
       "  <thead>\n",
       "    <tr style=\"text-align: right;\">\n",
       "      <th></th>\n",
       "      <th>date</th>\n",
       "      <th>group</th>\n",
       "      <th>orders</th>\n",
       "      <th>buyers</th>\n",
       "      <th>revenue</th>\n",
       "      <th>visitors</th>\n",
       "    </tr>\n",
       "  </thead>\n",
       "  <tbody>\n",
       "    <tr>\n",
       "      <th>0</th>\n",
       "      <td>2019-08-01</td>\n",
       "      <td>A</td>\n",
       "      <td>24</td>\n",
       "      <td>20</td>\n",
       "      <td>148579</td>\n",
       "      <td>719</td>\n",
       "    </tr>\n",
       "    <tr>\n",
       "      <th>1</th>\n",
       "      <td>2019-08-01</td>\n",
       "      <td>B</td>\n",
       "      <td>21</td>\n",
       "      <td>20</td>\n",
       "      <td>101217</td>\n",
       "      <td>713</td>\n",
       "    </tr>\n",
       "    <tr>\n",
       "      <th>2</th>\n",
       "      <td>2019-08-02</td>\n",
       "      <td>A</td>\n",
       "      <td>44</td>\n",
       "      <td>38</td>\n",
       "      <td>242401</td>\n",
       "      <td>1338</td>\n",
       "    </tr>\n",
       "    <tr>\n",
       "      <th>3</th>\n",
       "      <td>2019-08-02</td>\n",
       "      <td>B</td>\n",
       "      <td>45</td>\n",
       "      <td>43</td>\n",
       "      <td>266748</td>\n",
       "      <td>1294</td>\n",
       "    </tr>\n",
       "    <tr>\n",
       "      <th>4</th>\n",
       "      <td>2019-08-03</td>\n",
       "      <td>A</td>\n",
       "      <td>68</td>\n",
       "      <td>62</td>\n",
       "      <td>354874</td>\n",
       "      <td>1845</td>\n",
       "    </tr>\n",
       "  </tbody>\n",
       "</table>\n",
       "</div>"
      ],
      "text/plain": [
       "        date group  orders  buyers  revenue  visitors\n",
       "0 2019-08-01  A     24      20      148579   719     \n",
       "1 2019-08-01  B     21      20      101217   713     \n",
       "2 2019-08-02  A     44      38      242401   1338    \n",
       "3 2019-08-02  B     45      43      266748   1294    \n",
       "4 2019-08-03  A     68      62      354874   1845    "
      ]
     },
     "execution_count": 26,
     "metadata": {},
     "output_type": "execute_result"
    }
   ],
   "source": [
    "datesGroups = orders[['date','group']].drop_duplicates()\n",
    "\n",
    "ordersAggregated = datesGroups.apply(lambda x: orders[np.logical_and(orders['date'] <= x['date'], orders['group'] == x['group'])]. \\\n",
    "                                     agg({'date' : 'max', \n",
    "                                          'group' : 'max', \n",
    "                                          'transactionId' : pd.Series.nunique, \n",
    "                                          'visitorId' : pd.Series.nunique, \n",
    "                                          'revenue' : 'sum'}), axis=1).sort_values(by=['date','group'])\n",
    "\n",
    "visitorsAggregated = datesGroups.apply(lambda x: visitors[np.logical_and(visitors['date'] <= x['date'], visitors['group'] == x['group'])]. \\\n",
    "                                       agg({'date' : 'max', \n",
    "                                            'group' : 'max', \n",
    "                                            'visitors' : 'sum'}), axis=1).sort_values(by=['date','group'])\n",
    "\n",
    "cumulativeData = ordersAggregated.merge(visitorsAggregated, left_on=['date', 'group'], right_on=['date', 'group'])\n",
    "cumulativeData.columns = ['date', 'group', 'orders', 'buyers', 'revenue', 'visitors']\n",
    "\n",
    "cumulativeData.head(5)"
   ]
  },
  {
   "cell_type": "markdown",
   "metadata": {},
   "source": [
    "Создадим переменные cumulativeRevenueA и cumulativeRevenueB в которых сохраним в которых сохраните данные о датах, выручке и числе заказов в группах A и B."
   ]
  },
  {
   "cell_type": "code",
   "execution_count": 27,
   "metadata": {},
   "outputs": [],
   "source": [
    "cumulativeRevenueA = cumulativeData[cumulativeData['group']=='A'][['date','revenue', 'orders']]\n",
    "cumulativeRevenueB = cumulativeData[cumulativeData['group']=='B'][['date','revenue', 'orders']]"
   ]
  },
  {
   "cell_type": "code",
   "execution_count": 28,
   "metadata": {},
   "outputs": [
    {
     "data": {
      "image/png": "[encoded data removed]",
      "text/plain": [
       "<Figure size 1300x500 with 1 Axes>"
      ]
     },
     "metadata": {},
     "output_type": "display_data"
    }
   ],
   "source": [
    "plt.figure(figsize=(13,5))\n",
    "plt.title('График кумулятивной выручки')\n",
    "plt.ylabel(\"Выручка\")\n",
    "plt.xlabel(\"Дата совершения заказа\")\n",
    "plt.grid()\n",
    "plt.plot(cumulativeRevenueA['date'], cumulativeRevenueA['revenue'], label='Группа A')\n",
    "plt.plot(cumulativeRevenueB['date'], cumulativeRevenueB['revenue'], label='Группа B')\n",
    "plt.legend();"
   ]
  },
  {
   "cell_type": "markdown",
   "metadata": {},
   "source": [
    "Как видно на графике в группе B произошел резкий рост после 17 августа 2019 года. Необходимо проверить заказы в данный период, возможно в наших данных присутствуют аномальные значения. "
   ]
  },
  {
   "cell_type": "markdown",
   "metadata": {},
   "source": [
    "Сделаем срез данных с помощью метода query. Исследуем временной промежуток от 18 августа 2019 года до 21 августа 2019 года."
   ]
  },
  {
   "cell_type": "code",
   "execution_count": 29,
   "metadata": {},
   "outputs": [
    {
     "data": {
      "text/html": [
       "<div>\n",
       "<style scoped>\n",
       "    .dataframe tbody tr th:only-of-type {\n",
       "        vertical-align: middle;\n",
       "    }\n",
       "\n",
       "    .dataframe tbody tr th {\n",
       "        vertical-align: top;\n",
       "    }\n",
       "\n",
       "    .dataframe thead th {\n",
       "        text-align: right;\n",
       "    }\n",
       "</style>\n",
       "<table border=\"1\" class=\"dataframe\">\n",
       "  <thead>\n",
       "    <tr style=\"text-align: right;\">\n",
       "      <th></th>\n",
       "      <th>date</th>\n",
       "      <th>revenue</th>\n",
       "      <th>orders</th>\n",
       "    </tr>\n",
       "  </thead>\n",
       "  <tbody>\n",
       "    <tr>\n",
       "      <th>33</th>\n",
       "      <td>2019-08-17</td>\n",
       "      <td>2620790</td>\n",
       "      <td>373</td>\n",
       "    </tr>\n",
       "    <tr>\n",
       "      <th>35</th>\n",
       "      <td>2019-08-18</td>\n",
       "      <td>2686621</td>\n",
       "      <td>382</td>\n",
       "    </tr>\n",
       "    <tr>\n",
       "      <th>37</th>\n",
       "      <td>2019-08-19</td>\n",
       "      <td>4116541</td>\n",
       "      <td>403</td>\n",
       "    </tr>\n",
       "    <tr>\n",
       "      <th>39</th>\n",
       "      <td>2019-08-20</td>\n",
       "      <td>4263815</td>\n",
       "      <td>423</td>\n",
       "    </tr>\n",
       "    <tr>\n",
       "      <th>41</th>\n",
       "      <td>2019-08-21</td>\n",
       "      <td>4426892</td>\n",
       "      <td>437</td>\n",
       "    </tr>\n",
       "  </tbody>\n",
       "</table>\n",
       "</div>"
      ],
      "text/plain": [
       "         date  revenue  orders\n",
       "33 2019-08-17  2620790  373   \n",
       "35 2019-08-18  2686621  382   \n",
       "37 2019-08-19  4116541  403   \n",
       "39 2019-08-20  4263815  423   \n",
       "41 2019-08-21  4426892  437   "
      ]
     },
     "execution_count": 29,
     "metadata": {},
     "output_type": "execute_result"
    }
   ],
   "source": [
    "cumulativeRevenueB.query(' \"2019-08-17\" <= date <= \"2019-08-21\" ')"
   ]
  },
  {
   "cell_type": "markdown",
   "metadata": {},
   "source": [
    "Определим медианное значение для одного заказа 17 августа, отсортируем значения по столбцу revenue в порядке убывания стоимости заказа."
   ]
  },
  {
   "cell_type": "code",
   "execution_count": 30,
   "metadata": {},
   "outputs": [
    {
     "name": "stdout",
     "output_type": "stream",
     "text": [
      "Медианное значение заказа 17 августа = 4789.5\n"
     ]
    },
    {
     "data": {
      "text/html": [
       "<div>\n",
       "<style scoped>\n",
       "    .dataframe tbody tr th:only-of-type {\n",
       "        vertical-align: middle;\n",
       "    }\n",
       "\n",
       "    .dataframe tbody tr th {\n",
       "        vertical-align: top;\n",
       "    }\n",
       "\n",
       "    .dataframe thead th {\n",
       "        text-align: right;\n",
       "    }\n",
       "</style>\n",
       "<table border=\"1\" class=\"dataframe\">\n",
       "  <thead>\n",
       "    <tr style=\"text-align: right;\">\n",
       "      <th></th>\n",
       "      <th>transactionId</th>\n",
       "      <th>visitorId</th>\n",
       "      <th>date</th>\n",
       "      <th>revenue</th>\n",
       "      <th>group</th>\n",
       "    </tr>\n",
       "  </thead>\n",
       "  <tbody>\n",
       "    <tr>\n",
       "      <th>188</th>\n",
       "      <td>3634771255</td>\n",
       "      <td>2668501323</td>\n",
       "      <td>2019-08-17</td>\n",
       "      <td>17990</td>\n",
       "      <td>A</td>\n",
       "    </tr>\n",
       "    <tr>\n",
       "      <th>225</th>\n",
       "      <td>2931845376</td>\n",
       "      <td>2954449915</td>\n",
       "      <td>2019-08-17</td>\n",
       "      <td>10791</td>\n",
       "      <td>A</td>\n",
       "    </tr>\n",
       "    <tr>\n",
       "      <th>203</th>\n",
       "      <td>3630998268</td>\n",
       "      <td>1967724198</td>\n",
       "      <td>2019-08-17</td>\n",
       "      <td>9850</td>\n",
       "      <td>B</td>\n",
       "    </tr>\n",
       "    <tr>\n",
       "      <th>149</th>\n",
       "      <td>2368313386</td>\n",
       "      <td>3362039251</td>\n",
       "      <td>2019-08-17</td>\n",
       "      <td>9448</td>\n",
       "      <td>B</td>\n",
       "    </tr>\n",
       "    <tr>\n",
       "      <th>127</th>\n",
       "      <td>3437333253</td>\n",
       "      <td>162423694</td>\n",
       "      <td>2019-08-17</td>\n",
       "      <td>9400</td>\n",
       "      <td>B</td>\n",
       "    </tr>\n",
       "    <tr>\n",
       "      <th>226</th>\n",
       "      <td>2374285072</td>\n",
       "      <td>4033511429</td>\n",
       "      <td>2019-08-17</td>\n",
       "      <td>9310</td>\n",
       "      <td>B</td>\n",
       "    </tr>\n",
       "    <tr>\n",
       "      <th>125</th>\n",
       "      <td>2232016803</td>\n",
       "      <td>428219747</td>\n",
       "      <td>2019-08-17</td>\n",
       "      <td>7990</td>\n",
       "      <td>B</td>\n",
       "    </tr>\n",
       "    <tr>\n",
       "      <th>165</th>\n",
       "      <td>565328425</td>\n",
       "      <td>309675944</td>\n",
       "      <td>2019-08-17</td>\n",
       "      <td>6990</td>\n",
       "      <td>B</td>\n",
       "    </tr>\n",
       "  </tbody>\n",
       "</table>\n",
       "</div>"
      ],
      "text/plain": [
       "     transactionId   visitorId       date  revenue group\n",
       "188  3634771255     2668501323 2019-08-17  17990    A   \n",
       "225  2931845376     2954449915 2019-08-17  10791    A   \n",
       "203  3630998268     1967724198 2019-08-17  9850     B   \n",
       "149  2368313386     3362039251 2019-08-17  9448     B   \n",
       "127  3437333253     162423694  2019-08-17  9400     B   \n",
       "226  2374285072     4033511429 2019-08-17  9310     B   \n",
       "125  2232016803     428219747  2019-08-17  7990     B   \n",
       "165  565328425      309675944  2019-08-17  6990     B   "
      ]
     },
     "execution_count": 30,
     "metadata": {},
     "output_type": "execute_result"
    }
   ],
   "source": [
    "print('Медианное значение заказа 17 августа =',orders.query(' date == \"2019-08-17\" ')['revenue'].median())\n",
    "orders.query(' date == \"2019-08-17\" ').sort_values(by='revenue', ascending=False).head(8)"
   ]
  },
  {
   "cell_type": "markdown",
   "metadata": {},
   "source": [
    "Медианное значение заказа от 17 августа 2019 года равно 4789.5 Самый дорогой заказ равен 17990. Что не намного больше медианного значения. Продолжаем искать выбросы. Повторим операцию для 18 августа 2019 года. "
   ]
  },
  {
   "cell_type": "code",
   "execution_count": 31,
   "metadata": {},
   "outputs": [
    {
     "name": "stdout",
     "output_type": "stream",
     "text": [
      "Медианное значение одного заказа 18 августа = 2411.0\n"
     ]
    },
    {
     "data": {
      "text/html": [
       "<div>\n",
       "<style scoped>\n",
       "    .dataframe tbody tr th:only-of-type {\n",
       "        vertical-align: middle;\n",
       "    }\n",
       "\n",
       "    .dataframe tbody tr th {\n",
       "        vertical-align: top;\n",
       "    }\n",
       "\n",
       "    .dataframe thead th {\n",
       "        text-align: right;\n",
       "    }\n",
       "</style>\n",
       "<table border=\"1\" class=\"dataframe\">\n",
       "  <thead>\n",
       "    <tr style=\"text-align: right;\">\n",
       "      <th></th>\n",
       "      <th>transactionId</th>\n",
       "      <th>visitorId</th>\n",
       "      <th>date</th>\n",
       "      <th>revenue</th>\n",
       "      <th>group</th>\n",
       "    </tr>\n",
       "  </thead>\n",
       "  <tbody>\n",
       "    <tr>\n",
       "      <th>294</th>\n",
       "      <td>3709669952</td>\n",
       "      <td>3295038680</td>\n",
       "      <td>2019-08-18</td>\n",
       "      <td>23750</td>\n",
       "      <td>A</td>\n",
       "    </tr>\n",
       "    <tr>\n",
       "      <th>267</th>\n",
       "      <td>131747281</td>\n",
       "      <td>2579882178</td>\n",
       "      <td>2019-08-18</td>\n",
       "      <td>19538</td>\n",
       "      <td>B</td>\n",
       "    </tr>\n",
       "    <tr>\n",
       "      <th>229</th>\n",
       "      <td>4139571321</td>\n",
       "      <td>737242975</td>\n",
       "      <td>2019-08-18</td>\n",
       "      <td>15850</td>\n",
       "      <td>A</td>\n",
       "    </tr>\n",
       "    <tr>\n",
       "      <th>266</th>\n",
       "      <td>2012012971</td>\n",
       "      <td>1516351054</td>\n",
       "      <td>2019-08-18</td>\n",
       "      <td>14400</td>\n",
       "      <td>B</td>\n",
       "    </tr>\n",
       "    <tr>\n",
       "      <th>263</th>\n",
       "      <td>2575861846</td>\n",
       "      <td>4256040402</td>\n",
       "      <td>2019-08-18</td>\n",
       "      <td>10970</td>\n",
       "      <td>B</td>\n",
       "    </tr>\n",
       "    <tr>\n",
       "      <th>268</th>\n",
       "      <td>3897826085</td>\n",
       "      <td>3927376365</td>\n",
       "      <td>2019-08-18</td>\n",
       "      <td>10450</td>\n",
       "      <td>B</td>\n",
       "    </tr>\n",
       "    <tr>\n",
       "      <th>249</th>\n",
       "      <td>1360774578</td>\n",
       "      <td>3234906277</td>\n",
       "      <td>2019-08-18</td>\n",
       "      <td>7555</td>\n",
       "      <td>A</td>\n",
       "    </tr>\n",
       "    <tr>\n",
       "      <th>295</th>\n",
       "      <td>3046161180</td>\n",
       "      <td>4142693015</td>\n",
       "      <td>2019-08-18</td>\n",
       "      <td>6350</td>\n",
       "      <td>A</td>\n",
       "    </tr>\n",
       "  </tbody>\n",
       "</table>\n",
       "</div>"
      ],
      "text/plain": [
       "     transactionId   visitorId       date  revenue group\n",
       "294  3709669952     3295038680 2019-08-18  23750    A   \n",
       "267  131747281      2579882178 2019-08-18  19538    B   \n",
       "229  4139571321     737242975  2019-08-18  15850    A   \n",
       "266  2012012971     1516351054 2019-08-18  14400    B   \n",
       "263  2575861846     4256040402 2019-08-18  10970    B   \n",
       "268  3897826085     3927376365 2019-08-18  10450    B   \n",
       "249  1360774578     3234906277 2019-08-18  7555     A   \n",
       "295  3046161180     4142693015 2019-08-18  6350     A   "
      ]
     },
     "execution_count": 31,
     "metadata": {},
     "output_type": "execute_result"
    }
   ],
   "source": [
    "print('Медианное значение одного заказа 18 августа =',orders.query(' date == \"2019-08-18\" ')['revenue'].median())\n",
    "orders.query(' date == \"2019-08-18\" ').sort_values(by='revenue', ascending=False).head(8)"
   ]
  },
  {
   "cell_type": "markdown",
   "metadata": {},
   "source": [
    "Медианное значение заказа от 18 августа 2019 года равно 2411.0 Самый дорогой заказ равен 23750. Что не намного больше медианного значения. Продолжаем искать выбросы. Повторим операцию для 19 августа 2019 года. "
   ]
  },
  {
   "cell_type": "code",
   "execution_count": 32,
   "metadata": {},
   "outputs": [
    {
     "name": "stdout",
     "output_type": "stream",
     "text": [
      "Медианное значение одного заказа 19 августа = 2630.0\n"
     ]
    },
    {
     "data": {
      "text/html": [
       "<div>\n",
       "<style scoped>\n",
       "    .dataframe tbody tr th:only-of-type {\n",
       "        vertical-align: middle;\n",
       "    }\n",
       "\n",
       "    .dataframe tbody tr th {\n",
       "        vertical-align: top;\n",
       "    }\n",
       "\n",
       "    .dataframe thead th {\n",
       "        text-align: right;\n",
       "    }\n",
       "</style>\n",
       "<table border=\"1\" class=\"dataframe\">\n",
       "  <thead>\n",
       "    <tr style=\"text-align: right;\">\n",
       "      <th></th>\n",
       "      <th>transactionId</th>\n",
       "      <th>visitorId</th>\n",
       "      <th>date</th>\n",
       "      <th>revenue</th>\n",
       "      <th>group</th>\n",
       "    </tr>\n",
       "  </thead>\n",
       "  <tbody>\n",
       "    <tr>\n",
       "      <th>425</th>\n",
       "      <td>590470918</td>\n",
       "      <td>1920142716</td>\n",
       "      <td>2019-08-19</td>\n",
       "      <td>1294500</td>\n",
       "      <td>B</td>\n",
       "    </tr>\n",
       "    <tr>\n",
       "      <th>530</th>\n",
       "      <td>3970235543</td>\n",
       "      <td>2912540959</td>\n",
       "      <td>2019-08-19</td>\n",
       "      <td>43990</td>\n",
       "      <td>A</td>\n",
       "    </tr>\n",
       "    <tr>\n",
       "      <th>527</th>\n",
       "      <td>1570513684</td>\n",
       "      <td>2837914161</td>\n",
       "      <td>2019-08-19</td>\n",
       "      <td>33405</td>\n",
       "      <td>B</td>\n",
       "    </tr>\n",
       "    <tr>\n",
       "      <th>421</th>\n",
       "      <td>3765974140</td>\n",
       "      <td>1357170471</td>\n",
       "      <td>2019-08-19</td>\n",
       "      <td>31680</td>\n",
       "      <td>A</td>\n",
       "    </tr>\n",
       "    <tr>\n",
       "      <th>461</th>\n",
       "      <td>2683113224</td>\n",
       "      <td>154576532</td>\n",
       "      <td>2019-08-19</td>\n",
       "      <td>26550</td>\n",
       "      <td>B</td>\n",
       "    </tr>\n",
       "    <tr>\n",
       "      <th>525</th>\n",
       "      <td>3031564664</td>\n",
       "      <td>393266494</td>\n",
       "      <td>2019-08-19</td>\n",
       "      <td>21550</td>\n",
       "      <td>A</td>\n",
       "    </tr>\n",
       "    <tr>\n",
       "      <th>368</th>\n",
       "      <td>3268879337</td>\n",
       "      <td>2536252163</td>\n",
       "      <td>2019-08-19</td>\n",
       "      <td>20026</td>\n",
       "      <td>B</td>\n",
       "    </tr>\n",
       "    <tr>\n",
       "      <th>366</th>\n",
       "      <td>2037051350</td>\n",
       "      <td>1957949546</td>\n",
       "      <td>2019-08-19</td>\n",
       "      <td>16770</td>\n",
       "      <td>A</td>\n",
       "    </tr>\n",
       "  </tbody>\n",
       "</table>\n",
       "</div>"
      ],
      "text/plain": [
       "     transactionId   visitorId       date  revenue group\n",
       "425  590470918      1920142716 2019-08-19  1294500  B   \n",
       "530  3970235543     2912540959 2019-08-19  43990    A   \n",
       "527  1570513684     2837914161 2019-08-19  33405    B   \n",
       "421  3765974140     1357170471 2019-08-19  31680    A   \n",
       "461  2683113224     154576532  2019-08-19  26550    B   \n",
       "525  3031564664     393266494  2019-08-19  21550    A   \n",
       "368  3268879337     2536252163 2019-08-19  20026    B   \n",
       "366  2037051350     1957949546 2019-08-19  16770    A   "
      ]
     },
     "execution_count": 32,
     "metadata": {},
     "output_type": "execute_result"
    }
   ],
   "source": [
    "print('Медианное значение одного заказа 19 августа =',orders.query(' date == \"2019-08-19\" ')['revenue'].median())\n",
    "orders.query(' date == \"2019-08-19\" ').sort_values(by='revenue', ascending=False).head(8)"
   ]
  },
  {
   "cell_type": "markdown",
   "metadata": {},
   "source": [
    "Медианное значение заказа от 19 августа 2019 года равно 2630.0 Самый дорогой заказ равен 1294500. Выброс обнаружен. Также в данный день были заказа с суммами 43990, 33405, 31680. Заказ № 590470918 является аномальным значением. "
   ]
  },
  {
   "cell_type": "markdown",
   "metadata": {},
   "source": [
    "### График кумулятивного среднего чека."
   ]
  },
  {
   "cell_type": "markdown",
   "metadata": {},
   "source": [
    "Построим график кумулятивного среднего чека по группам. Для этого разделим кумулятивное значение выручки на кумулятивное количество заказов."
   ]
  },
  {
   "cell_type": "code",
   "execution_count": 33,
   "metadata": {},
   "outputs": [
    {
     "data": {
      "image/png": "[encoded data removed]",
      "text/plain": [
       "<Figure size 1300x500 with 1 Axes>"
      ]
     },
     "metadata": {},
     "output_type": "display_data"
    }
   ],
   "source": [
    "plt.figure(figsize=(13,5))\n",
    "plt.title('График кумулятивного среднего чека')\n",
    "plt.ylabel(\"Размер среднего чека\")\n",
    "plt.xlabel(\"Дата совершения заказа\")\n",
    "plt.grid()\n",
    "plt.plot(cumulativeRevenueA['date'], cumulativeRevenueA['revenue']/cumulativeRevenueA['orders'], label='группа A')\n",
    "plt.plot(cumulativeRevenueB['date'], cumulativeRevenueB['revenue']/cumulativeRevenueB['orders'], label='группа B')\n",
    "plt.legend();"
   ]
  },
  {
   "cell_type": "markdown",
   "metadata": {},
   "source": [
    "Данный график аналогичен предыдущему. После 17 августа 2019 года произошел резкий рост величины среднего чека до 10000. Это связано с аномально большим заказом № 425. Также стоит отметить, что 13 августа 2019 года средний чек больше в группе B. "
   ]
  },
  {
   "cell_type": "code",
   "execution_count": 34,
   "metadata": {},
   "outputs": [
    {
     "name": "stdout",
     "output_type": "stream",
     "text": [
      " Средний чек 13 августа в группе А = 7485.700819672131\n"
     ]
    },
    {
     "data": {
      "text/html": [
       "<div>\n",
       "<style scoped>\n",
       "    .dataframe tbody tr th:only-of-type {\n",
       "        vertical-align: middle;\n",
       "    }\n",
       "\n",
       "    .dataframe tbody tr th {\n",
       "        vertical-align: top;\n",
       "    }\n",
       "\n",
       "    .dataframe thead th {\n",
       "        text-align: right;\n",
       "    }\n",
       "</style>\n",
       "<table border=\"1\" class=\"dataframe\">\n",
       "  <thead>\n",
       "    <tr style=\"text-align: right;\">\n",
       "      <th></th>\n",
       "      <th>date</th>\n",
       "      <th>revenue</th>\n",
       "      <th>orders</th>\n",
       "      <th>avg_check</th>\n",
       "    </tr>\n",
       "  </thead>\n",
       "  <tbody>\n",
       "    <tr>\n",
       "      <th>24</th>\n",
       "      <td>2019-08-13</td>\n",
       "      <td>1826511</td>\n",
       "      <td>244</td>\n",
       "      <td>7,485.70</td>\n",
       "    </tr>\n",
       "  </tbody>\n",
       "</table>\n",
       "</div>"
      ],
      "text/plain": [
       "         date  revenue  orders  avg_check\n",
       "24 2019-08-13  1826511  244    7,485.70  "
      ]
     },
     "execution_count": 34,
     "metadata": {},
     "output_type": "execute_result"
    }
   ],
   "source": [
    "cumulativeRevenueA['avg_check'] = cumulativeRevenueA['revenue']/cumulativeRevenueA['orders']\n",
    "\n",
    "print(' Средний чек 13 августа в группе А =',cumulativeRevenueA.query(' date == \"2019-08-13\" ')['avg_check'].median())\n",
    "cumulativeRevenueA.query(' date == \"2019-08-13\" ').sort_values(by='revenue', ascending=False).head(8)"
   ]
  },
  {
   "cell_type": "code",
   "execution_count": 35,
   "metadata": {},
   "outputs": [
    {
     "name": "stdout",
     "output_type": "stream",
     "text": [
      " Средний чек 13 августа в группе В = 6504.343859649123\n"
     ]
    },
    {
     "data": {
      "text/html": [
       "<div>\n",
       "<style scoped>\n",
       "    .dataframe tbody tr th:only-of-type {\n",
       "        vertical-align: middle;\n",
       "    }\n",
       "\n",
       "    .dataframe tbody tr th {\n",
       "        vertical-align: top;\n",
       "    }\n",
       "\n",
       "    .dataframe thead th {\n",
       "        text-align: right;\n",
       "    }\n",
       "</style>\n",
       "<table border=\"1\" class=\"dataframe\">\n",
       "  <thead>\n",
       "    <tr style=\"text-align: right;\">\n",
       "      <th></th>\n",
       "      <th>date</th>\n",
       "      <th>revenue</th>\n",
       "      <th>orders</th>\n",
       "      <th>avg_check</th>\n",
       "    </tr>\n",
       "  </thead>\n",
       "  <tbody>\n",
       "    <tr>\n",
       "      <th>25</th>\n",
       "      <td>2019-08-13</td>\n",
       "      <td>1853738</td>\n",
       "      <td>285</td>\n",
       "      <td>6,504.34</td>\n",
       "    </tr>\n",
       "  </tbody>\n",
       "</table>\n",
       "</div>"
      ],
      "text/plain": [
       "         date  revenue  orders  avg_check\n",
       "25 2019-08-13  1853738  285    6,504.34  "
      ]
     },
     "execution_count": 35,
     "metadata": {},
     "output_type": "execute_result"
    }
   ],
   "source": [
    "cumulativeRevenueB['avg_check'] = cumulativeRevenueB['revenue']/cumulativeRevenueB['orders']\n",
    "\n",
    "print(' Средний чек 13 августа в группе В =',cumulativeRevenueB.query(' date == \"2019-08-13\" ')['avg_check'].median())\n",
    "cumulativeRevenueB.query(' date == \"2019-08-13\" ').sort_values(by='revenue', ascending=False).head(8)"
   ]
  },
  {
   "cell_type": "markdown",
   "metadata": {},
   "source": [
    "### График относительного изменения кумулятивного среднего чека."
   ]
  },
  {
   "cell_type": "markdown",
   "metadata": {},
   "source": [
    "Построим график относительного изменения кумулятивного среднего чека группы B к группе A. "
   ]
  },
  {
   "cell_type": "code",
   "execution_count": 36,
   "metadata": {},
   "outputs": [
    {
     "data": {
      "image/png": "[encoded data removed]",
      "text/plain": [
       "<Figure size 1300x500 with 1 Axes>"
      ]
     },
     "metadata": {},
     "output_type": "display_data"
    }
   ],
   "source": [
    "mergedCumulativeRevenue = cumulativeRevenueA.merge(cumulativeRevenueB, left_on='date', right_on='date', how='left', suffixes=['A', 'B'])\n",
    "\n",
    "plt.figure(figsize=(13,5))\n",
    "plt.ylabel(\"% изменения\")\n",
    "plt.xlabel(\"Дата совершения заказа\")\n",
    "plt.grid()\n",
    "plt.plot(mergedCumulativeRevenue['date'], (mergedCumulativeRevenue['revenueB']/mergedCumulativeRevenue['ordersB'])/ \\\n",
    "         (mergedCumulativeRevenue['revenueA']/mergedCumulativeRevenue['ordersA'])-1)\n",
    "plt.title('График относительного изменение кумулятивного среднего чека групп \"B\" к \"А\"')\n",
    "plt.axhline(y=0, color='black', linestyle='--') ;"
   ]
  },
  {
   "cell_type": "markdown",
   "metadata": {},
   "source": [
    "На данном графике наблюдаем рост среднего чека группы B с 1 августа 2019 года. 2 августа 2019 года превысил средний чек группы А и рост продолжался до 7 августа 2019 года. Далее произошло падение вплоть до 13 августа 2019 года. После этого наблюдаем плавный рост до 17 августа 2019 года. В эту дату произошел резкий рост, что связано с заказом № 590470918 с аномально большой суммой. После этого средний чек начал снижение. "
   ]
  },
  {
   "cell_type": "markdown",
   "metadata": {},
   "source": [
    "### График кумулятивной конверсии."
   ]
  },
  {
   "cell_type": "markdown",
   "metadata": {},
   "source": [
    "Построим график кумулятивной конверсии. "
   ]
  },
  {
   "cell_type": "code",
   "execution_count": 37,
   "metadata": {},
   "outputs": [
    {
     "data": {
      "image/png": "[encoded data removed]",
      "text/plain": [
       "<Figure size 1300x500 with 1 Axes>"
      ]
     },
     "metadata": {},
     "output_type": "display_data"
    }
   ],
   "source": [
    "cumulativeData['conversion'] = cumulativeData['orders']/cumulativeData['visitors']\n",
    "cumulativeDataA = cumulativeData[cumulativeData['group']=='A']\n",
    "cumulativeDataB = cumulativeData[cumulativeData['group']=='B']\n",
    "\n",
    "plt.figure(figsize=(13,5))\n",
    "plt.ylabel(\"Конверсия\")\n",
    "plt.xlabel(\"Дата совершения заказа\")\n",
    "plt.grid()\n",
    "plt.plot(cumulativeDataA['date'], cumulativeDataA['conversion'], label='группа A')\n",
    "plt.plot(cumulativeDataB['date'], cumulativeDataB['conversion'], label='группа B')\n",
    "plt.title('Кумулятивная конверсия')\n",
    "plt.legend();"
   ]
  },
  {
   "cell_type": "markdown",
   "metadata": {},
   "source": [
    "На графике видно, что конверсия в начале месяца у группы А была больше чем у группы B. 3 августа конверсия достигла своего пика. После пика началось резкое падение и 9 августа конверсия составила чуть более 0,030. После 06 августа конверсия группы В выше чем у группы А. "
   ]
  },
  {
   "cell_type": "markdown",
   "metadata": {},
   "source": [
    "### График относительного изменения кумулятивной конверсии."
   ]
  },
  {
   "cell_type": "markdown",
   "metadata": {},
   "source": [
    "Построим график относительного изменения кумулятивной конверсии. "
   ]
  },
  {
   "cell_type": "code",
   "execution_count": 38,
   "metadata": {},
   "outputs": [
    {
     "data": {
      "image/png": "[encoded data removed]",
      "text/plain": [
       "<Figure size 1300x500 with 1 Axes>"
      ]
     },
     "metadata": {},
     "output_type": "display_data"
    }
   ],
   "source": [
    "mergedCumulativeConversions = cumulativeDataA[['date','conversion']].merge(cumulativeDataB[['date','conversion']], \\\n",
    "                                                    left_on='date', right_on='date', how='left', suffixes=['A', 'B'])\n",
    "plt.figure(figsize=(13,5))\n",
    "plt.grid()\n",
    "plt.plot(mergedCumulativeConversions['date'], mergedCumulativeConversions['conversionB']/mergedCumulativeConversions['conversionA']-1, label=\"Относительный прирост конверсии группы B относительно группы A\")\n",
    "\n",
    "plt.title('Относительное изменение кумулятивной конверсии группы B к группе A')\n",
    "plt.ylabel(\"% изменения\")\n",
    "plt.xlabel(\"Дата совершения заказа\")\n",
    "plt.axhline(y=0, color='black', linestyle='--') \n",
    "plt.axhline(y=-0.1, color='grey', linestyle='--');"
   ]
  },
  {
   "cell_type": "markdown",
   "metadata": {},
   "source": [
    "На графике видно что конверсия группы А была выше группы B в период с 3 по 5 августа. Далее конверсия группы B показывает рост и достигает 20% прироста к 15 августа 2019 года. "
   ]
  },
  {
   "cell_type": "markdown",
   "metadata": {},
   "source": [
    "### Точечный график количества заказов по пользователям."
   ]
  },
  {
   "cell_type": "markdown",
   "metadata": {},
   "source": [
    "Построим график количества заказов по пользователям."
   ]
  },
  {
   "cell_type": "code",
   "execution_count": 39,
   "metadata": {},
   "outputs": [
    {
     "data": {
      "text/html": [
       "<div>\n",
       "<style scoped>\n",
       "    .dataframe tbody tr th:only-of-type {\n",
       "        vertical-align: middle;\n",
       "    }\n",
       "\n",
       "    .dataframe tbody tr th {\n",
       "        vertical-align: top;\n",
       "    }\n",
       "\n",
       "    .dataframe thead th {\n",
       "        text-align: right;\n",
       "    }\n",
       "</style>\n",
       "<table border=\"1\" class=\"dataframe\">\n",
       "  <thead>\n",
       "    <tr style=\"text-align: right;\">\n",
       "      <th></th>\n",
       "      <th>user_id</th>\n",
       "      <th>orders</th>\n",
       "    </tr>\n",
       "  </thead>\n",
       "  <tbody>\n",
       "    <tr>\n",
       "      <th>1023</th>\n",
       "      <td>4256040402</td>\n",
       "      <td>11</td>\n",
       "    </tr>\n",
       "    <tr>\n",
       "      <th>591</th>\n",
       "      <td>2458001652</td>\n",
       "      <td>11</td>\n",
       "    </tr>\n",
       "    <tr>\n",
       "      <th>569</th>\n",
       "      <td>2378935119</td>\n",
       "      <td>9</td>\n",
       "    </tr>\n",
       "    <tr>\n",
       "      <th>487</th>\n",
       "      <td>2038680547</td>\n",
       "      <td>8</td>\n",
       "    </tr>\n",
       "    <tr>\n",
       "      <th>44</th>\n",
       "      <td>199603092</td>\n",
       "      <td>5</td>\n",
       "    </tr>\n",
       "    <tr>\n",
       "      <th>744</th>\n",
       "      <td>3062433592</td>\n",
       "      <td>5</td>\n",
       "    </tr>\n",
       "    <tr>\n",
       "      <th>55</th>\n",
       "      <td>237748145</td>\n",
       "      <td>5</td>\n",
       "    </tr>\n",
       "    <tr>\n",
       "      <th>917</th>\n",
       "      <td>3803269165</td>\n",
       "      <td>5</td>\n",
       "    </tr>\n",
       "    <tr>\n",
       "      <th>299</th>\n",
       "      <td>1230306981</td>\n",
       "      <td>5</td>\n",
       "    </tr>\n",
       "    <tr>\n",
       "      <th>897</th>\n",
       "      <td>3717692402</td>\n",
       "      <td>5</td>\n",
       "    </tr>\n",
       "  </tbody>\n",
       "</table>\n",
       "</div>"
      ],
      "text/plain": [
       "         user_id  orders\n",
       "1023  4256040402  11    \n",
       "591   2458001652  11    \n",
       "569   2378935119  9     \n",
       "487   2038680547  8     \n",
       "44    199603092   5     \n",
       "744   3062433592  5     \n",
       "55    237748145   5     \n",
       "917   3803269165  5     \n",
       "299   1230306981  5     \n",
       "897   3717692402  5     "
      ]
     },
     "execution_count": 39,
     "metadata": {},
     "output_type": "execute_result"
    }
   ],
   "source": [
    "ordersByUsers = orders.drop(['group', 'revenue', 'date'], axis=1).groupby('visitorId', as_index=False). \\\n",
    "                                                                        agg({'transactionId' : pd.Series.nunique})\n",
    "\n",
    "ordersByUsers.columns = ['user_id','orders']\n",
    "ordersByUsers.sort_values(by='orders',ascending=False).head(10)"
   ]
  },
  {
   "cell_type": "code",
   "execution_count": 40,
   "metadata": {},
   "outputs": [
    {
     "data": {
      "image/png": "[encoded data removed]",
      "text/plain": [
       "<Figure size 1300x500 with 1 Axes>"
      ]
     },
     "metadata": {},
     "output_type": "display_data"
    }
   ],
   "source": [
    "x_values = pd.Series(range(0,len(ordersByUsers)))\n",
    "\n",
    "plt.figure(figsize=(13,5))\n",
    "plt.title('График количества заказов пользователей')\n",
    "plt.ylabel(\"Количество заказов\")\n",
    "plt.grid()\n",
    "plt.scatter(x_values, ordersByUsers['orders'], alpha=0.5);"
   ]
  },
  {
   "cell_type": "markdown",
   "metadata": {},
   "source": [
    "Чаще всего пользователи совершали 1 заказ. Количество пользователей, которые совершили 2 заказа намного меньше. Пользователей кто совершил 3 заказа еще меньше. Нельзя сделать однозначный вывод является ли данная группа пользователей аномалией или нет. Для определения границы аномальных пользователей расчитаем 95-ый и 99-ый перцентили."
   ]
  },
  {
   "cell_type": "markdown",
   "metadata": {},
   "source": [
    "### Расчёт 95 и 99 перцентелей количества заказов на пользователя."
   ]
  },
  {
   "cell_type": "markdown",
   "metadata": {},
   "source": [
    "Для того чтобы выбрать границу для определения аномальных пользователей необходимо рассчитать 95-ый и 99-ый перцентили."
   ]
  },
  {
   "cell_type": "code",
   "execution_count": 41,
   "metadata": {},
   "outputs": [
    {
     "name": "stdout",
     "output_type": "stream",
     "text": [
      "Рассчитаем 95 и 99 перцентили по заказам :  [2. 4.]\n"
     ]
    }
   ],
   "source": [
    "print('Рассчитаем 95 и 99 перцентили по заказам : ', np.percentile(ordersByUsers['orders'], [95, 99])) "
   ]
  },
  {
   "cell_type": "code",
   "execution_count": 42,
   "metadata": {},
   "outputs": [],
   "source": [
    "percentile_orders_95 = np.percentile(ordersByUsers['orders'], 95)\n",
    "percentile_orders_99 = np.percentile(ordersByUsers['orders'], 99)"
   ]
  },
  {
   "cell_type": "markdown",
   "metadata": {},
   "source": [
    "Большинство пользователей совершают не более 2 заказов, а  99 не более 4 заказов. Все что свыше 4 заказов будем считать аномалией."
   ]
  },
  {
   "cell_type": "code",
   "execution_count": 43,
   "metadata": {},
   "outputs": [
    {
     "data": {
      "image/png": "[encoded data removed]",
      "text/plain": [
       "<Figure size 640x480 with 1 Axes>"
      ]
     },
     "metadata": {},
     "output_type": "display_data"
    }
   ],
   "source": [
    "ordersByUsers['orders'].hist();"
   ]
  },
  {
   "cell_type": "markdown",
   "metadata": {},
   "source": [
    "### Точечный график стоимости заказов."
   ]
  },
  {
   "cell_type": "markdown",
   "metadata": {},
   "source": [
    "Построим точечный график стоимости заказов."
   ]
  },
  {
   "cell_type": "code",
   "execution_count": 44,
   "metadata": {},
   "outputs": [
    {
     "data": {
      "image/png": "[encoded data removed]",
      "text/plain": [
       "<Figure size 1300x500 with 1 Axes>"
      ]
     },
     "metadata": {},
     "output_type": "display_data"
    }
   ],
   "source": [
    "x_values = pd.Series(range(0,len(orders['revenue'])))\n",
    "plt.figure(figsize=(13,5))\n",
    "plt.grid()\n",
    "plt.title('График стоимости заказов')\n",
    "plt.ylabel(\"Стоимость заказа\")\n",
    "plt.scatter(x_values, orders['revenue'], alpha=0.5);"
   ]
  },
  {
   "cell_type": "markdown",
   "metadata": {},
   "source": [
    "График наглядно показывает аномально большие заказы. Заказ на 1.2 млн руб и заказ на 200 тыс. руб. Остальные заказы в пределах нормы и не сильно выбиваются из общих значений."
   ]
  },
  {
   "cell_type": "markdown",
   "metadata": {},
   "source": [
    "### Расчёт 95 и 99 перцентелей стоимости заказов."
   ]
  },
  {
   "cell_type": "code",
   "execution_count": 45,
   "metadata": {},
   "outputs": [
    {
     "name": "stdout",
     "output_type": "stream",
     "text": [
      "Расчёт 95 и 99 перцентили стоимости заказов:  [28000.  58233.2]\n"
     ]
    }
   ],
   "source": [
    "print('Расчёт 95 и 99 перцентили стоимости заказов: ', np.percentile(orders['revenue'], [95, 99])) "
   ]
  },
  {
   "cell_type": "code",
   "execution_count": 46,
   "metadata": {},
   "outputs": [],
   "source": [
    "percentile_revenue_99 = np.percentile(orders['revenue'], 99)"
   ]
  },
  {
   "cell_type": "markdown",
   "metadata": {},
   "source": [
    "У 99% пользователей стоимость заказов не превышает 58233.2 руб. Выберем данное значение в качестве пограничного. "
   ]
  },
  {
   "cell_type": "markdown",
   "metadata": {},
   "source": [
    "### Расчёт статистической значимости в среднем количестве заказов."
   ]
  },
  {
   "cell_type": "markdown",
   "metadata": {},
   "source": [
    "Посчитаем статистическую значимость различий в среднем количестве заказов на посетителя между группами по «сырым» данным."
   ]
  },
  {
   "cell_type": "markdown",
   "metadata": {},
   "source": [
    "Для расчёта статистической значимости необходимо создать несколько таблиц и объединить их. Также необзодимо добавить кумулятивные данные."
   ]
  },
  {
   "cell_type": "markdown",
   "metadata": {},
   "source": [
    "Необходимо применить p-value. В переменной sampleA добавим значения, всех элементов соответствующим количеству заказов каждого пользователя. Для расчёта конверсии в группе необходимо разделить сумму заказов на число пользователей. Найдем среднее в выборке sampleA методом mean(). Также найдем конверсия для группы sampleB."
   ]
  },
  {
   "cell_type": "code",
   "execution_count": 47,
   "metadata": {},
   "outputs": [],
   "source": [
    "total_user_A = visitors.loc[visitors['group']=='A']['visitors']\n",
    "total_user_B = visitors.loc[visitors['group']=='B']['visitors']"
   ]
  },
  {
   "cell_type": "code",
   "execution_count": 48,
   "metadata": {},
   "outputs": [],
   "source": [
    "ordersByUsersA = orders[orders['group']=='A'].groupby('visitorId', as_index=False).agg({'transactionId' : pd.Series.nunique})\n",
    "ordersByUsersA.columns = ['userId', 'orders']\n",
    "\n",
    "ordersByUsersB = orders[orders['group']=='B'].groupby('visitorId', as_index=False).agg({'transactionId' : pd.Series.nunique})\n",
    "ordersByUsersB.columns = ['userId', 'orders']\n",
    "\n",
    "sampleA = pd.concat([ordersByUsersA['orders'],pd.Series(0, index=np.arange(total_user_A.sum() - len(ordersByUsersA['orders'])), name='orders')],axis=0)\n",
    "\n",
    "sampleB = pd.concat([ordersByUsersB['orders'],pd.Series(0, index=np.arange(total_user_B.sum() - len(ordersByUsersB['orders'])), name='orders')],axis=0)"
   ]
  },
  {
   "cell_type": "markdown",
   "metadata": {},
   "source": [
    "Для расчёта относительного прироста конверсии группы B необходимо разделить конверсию группы В на разницу конверсии группы А и единицы. \n",
    "Уровень статистической значимости примем равным 5%.\n",
    "Нулевую гипотезу определим как: Статистически значимые различия между группами отсутствуют. \n",
    "Альтернативную гипотезу определим как: Статистически значимые различия есть."
   ]
  },
  {
   "cell_type": "markdown",
   "metadata": {},
   "source": [
    "В случае, когда в данных есть большие (по сравнению с нормальным распределением) выбросы, алгебраические метрики работают плохо. Да, они учитывают все значения. Но в этом также их слабое место: одно выбивающееся значение существенно влияет на результат.\n",
    "Поэтому в нашем случае прекрасно подойдет Непараметрический тест Уилкоксона-Манна-Уитни (st.mannwhitneyu). "
   ]
  },
  {
   "cell_type": "code",
   "execution_count": 49,
   "metadata": {},
   "outputs": [
    {
     "name": "stdout",
     "output_type": "stream",
     "text": [
      "alpha = 0.05\n",
      "p-value = 0.01679\n",
      "Относительный показатель 'группы B' и 'группы A' = 0.138\n"
     ]
    }
   ],
   "source": [
    "print(\"alpha =\",0.05)\n",
    "print(\"p-value = {0:.5f}\".format(stats.mannwhitneyu(sampleA, sampleB, alternative = 'two-sided')[1]))\n",
    "print(\"Относительный показатель 'группы B' и 'группы A' = {0:.3f}\".format(sampleB.mean()/sampleA.mean()-1)) "
   ]
  },
  {
   "cell_type": "markdown",
   "metadata": {},
   "source": [
    "Значение p-value равно 0.01679 что меньше 0.05. Следовательно различия между конверсиями групп А и В присутствуют. Относительный показатель равен 13,8%. Это прирост количества покупок группы В над группой А."
   ]
  },
  {
   "cell_type": "markdown",
   "metadata": {},
   "source": [
    "### Расчёт статистической значимости различий в среднем чеке (сырые данные)."
   ]
  },
  {
   "cell_type": "markdown",
   "metadata": {},
   "source": [
    "Посчитаем статистическую значимость различий в среднем чеке между группами по «сырым» данным."
   ]
  },
  {
   "cell_type": "markdown",
   "metadata": {},
   "source": [
    "Для расчёта статистической значимости различий в среднем чеке между двумя группами, воспользуемся критерием Манна-Уитни.\n",
    "Критический уровень статистической значимости примем равным 5%. \n",
    "\n",
    "Нулевую гипотезу определим так: Статистически значимые различия между группами отсутствуют. \n",
    "Альтернативную гипотезу определим как: Статистически значимые различия есть."
   ]
  },
  {
   "cell_type": "code",
   "execution_count": 50,
   "metadata": {},
   "outputs": [
    {
     "name": "stdout",
     "output_type": "stream",
     "text": [
      "alpha = 0.05\n",
      "p-value = 0.72929\n",
      "Относительный показатель 'B' и 'A' = 0.259\n"
     ]
    }
   ],
   "source": [
    "print(\"alpha =\",0.05)\n",
    "print(\"p-value = {0:.5f}\".format(stats.mannwhitneyu(orders[orders['group']=='A']['revenue'], orders[orders['group']=='B']['revenue'], alternative = 'two-sided')[1]))\n",
    "print(\"Относительный показатель 'B' и 'A' = {0:.3f}\".format(orders[orders['group']=='B']['revenue'].mean()/orders[orders['group']=='A']['revenue'].mean()-1)) "
   ]
  },
  {
   "cell_type": "markdown",
   "metadata": {},
   "source": [
    "p-value больше 0.05. Нулевая гипотеза подтвердилась а значит статистически значимые различия между группами отсутствуют. Относительный показатель групп В и групп А равен ~26%. В данном случае прирост в 26% является аномалией, которой является большой заказ № 590470918."
   ]
  },
  {
   "cell_type": "markdown",
   "metadata": {},
   "source": [
    "### Расчёт статистической значимости различий в конверсии между группами."
   ]
  },
  {
   "cell_type": "markdown",
   "metadata": {},
   "source": [
    "Посчитаем статистическую значимость различий в конверсии между группами по «очищенным» данным."
   ]
  },
  {
   "cell_type": "markdown",
   "metadata": {},
   "source": [
    "Ранее в качестве аномальных значений были приняты пользователи, которые совершили 3 и более заказов. Также в качестве пограничного значения стоимости заказа мы обозначили сумму 58233.2 руб. Необходимо сделать срез пользователей с числом заказов больше трех а также с заказами дороже 58233.2 руб. Данные переменные обозначим как: usersWithManyOrders и usersWithExpensiveOrders. Данные значения добавим в таблицу abnormalUsers."
   ]
  },
  {
   "cell_type": "code",
   "execution_count": 51,
   "metadata": {},
   "outputs": [
    {
     "name": "stdout",
     "output_type": "stream",
     "text": [
      "1099    148427295\n",
      "18      199603092\n",
      "23      237748145\n",
      "37      249864742\n",
      "68      457167155\n",
      "dtype: int64\n",
      "Количество аномальных пользователей: 31\n"
     ]
    }
   ],
   "source": [
    "usersWithManyOrders = pd.concat([ordersByUsersA[ordersByUsersA['orders'] > percentile_orders_95]['userId'], ordersByUsersB[ordersByUsersB['orders'] > percentile_orders_95]['userId']], axis = 0)\n",
    "usersWithExpensiveOrders = orders[orders['revenue'] > percentile_revenue_99]['visitorId']\n",
    "abnormalUsers = pd.concat([usersWithManyOrders, usersWithExpensiveOrders], axis = 0).drop_duplicates().sort_values()\n",
    "print(abnormalUsers.head(5))\n",
    "print ('Количество аномальных пользователей:', len(abnormalUsers))"
   ]
  },
  {
   "cell_type": "markdown",
   "metadata": {},
   "source": [
    "Посчитаем статистическую значимость различий конверсий между двумя группами теста с использованием очищенных данных. \n",
    "Узнаем, как их действия повлияли на результаты теста. "
   ]
  },
  {
   "cell_type": "code",
   "execution_count": 52,
   "metadata": {},
   "outputs": [],
   "source": [
    "sampleAFiltered = pd.concat([ordersByUsersA[np.logical_not(ordersByUsersA['userId'].isin(abnormalUsers))]['orders'], \\\n",
    "                             pd.Series(0, index=np.arange(total_user_A.sum() - len(ordersByUsersA['orders'])), \\\n",
    "                                       name='orders')],axis=0)\n",
    "\n",
    "sampleBFiltered = pd.concat([ordersByUsersB[np.logical_not(ordersByUsersB['userId'].isin(abnormalUsers))]['orders'], \\\n",
    "                             pd.Series(0, index=np.arange(total_user_B.sum() - len(ordersByUsersB['orders'])), \\\n",
    "                                       name='orders')],axis=0)"
   ]
  },
  {
   "cell_type": "markdown",
   "metadata": {},
   "source": [
    "Применим критерий Манна-Уитни к полученным группам. В качестве нулевой гипотезы определим следующий тезис: Статистически значимые различия между группами отсутствуют. \n",
    "Альтернативную гипотезу определим как: Статистически значимые различия есть. Уровень статистической значимости alpha примем равным 5%."
   ]
  },
  {
   "cell_type": "code",
   "execution_count": 53,
   "metadata": {},
   "outputs": [
    {
     "name": "stdout",
     "output_type": "stream",
     "text": [
      "alpha = 0.05\n",
      "p-value = 0.01007\n",
      "Относительный показатель 'Группа B' и 'Группа A' = 0.174\n"
     ]
    }
   ],
   "source": [
    "print(\"alpha =\",0.05)\n",
    "print(\"p-value = {0:.5f}\".format(stats.mannwhitneyu(sampleAFiltered, sampleBFiltered, alternative = 'two-sided')[1]))\n",
    "print(\"Относительный показатель 'Группа B' и 'Группа A' = {0:.3f}\".format(sampleBFiltered.mean()/sampleAFiltered.mean()-1))"
   ]
  },
  {
   "cell_type": "markdown",
   "metadata": {},
   "source": [
    "Значение p-value = 0.014 следовательно нулевую гипотезу отвергаем. В нашем случае подтвеждается альтернативная гипотеза - статистически значимые различия в конверсии между двумя группами присутствует. Относительный показатель равен 15,1%. Группа В более успешна чем группа А. "
   ]
  },
  {
   "cell_type": "markdown",
   "metadata": {},
   "source": [
    "### Расчёт статистической значимости различий в среднем чеке (очищенные данные)."
   ]
  },
  {
   "cell_type": "markdown",
   "metadata": {},
   "source": [
    "Используя очищенные данные посмотрим изменятся ли результаты. Нулевую гипотезу определим так: Статистически значимые различия между группами отсутствуют. \n",
    "Альтернативную гипотезу определим как: Статистически значимые различия есть. Уровень статистической значимости alpha примем равным 5%."
   ]
  },
  {
   "cell_type": "code",
   "execution_count": 54,
   "metadata": {},
   "outputs": [
    {
     "name": "stdout",
     "output_type": "stream",
     "text": [
      "alpha = 0.05\n",
      "p-value = 0.798\n",
      "Относительный показатель 'Группа B' и 'Группа A' = -0.020\n"
     ]
    }
   ],
   "source": [
    "print(\"alpha =\",0.05)\n",
    "print(\"p-value = {0:.3f}\".format(stats.mannwhitneyu(\n",
    "    orders[np.logical_and(\n",
    "        orders['group']=='A',\n",
    "        np.logical_not(orders['visitorId'].isin(abnormalUsers)))]['revenue'],\n",
    "    orders[np.logical_and(\n",
    "        orders['group']=='B',\n",
    "        np.logical_not(orders['visitorId'].isin(abnormalUsers)))]['revenue'], alternative = 'two-sided')[1]))\n",
    "\n",
    "print(\"Относительный показатель 'Группа B' и 'Группа A' = {0:.3f}\".format(\n",
    "    orders[np.logical_and(orders['group']=='B',np.logical_not(orders['visitorId'].isin(abnormalUsers)))]['revenue'].mean()/\n",
    "    orders[np.logical_and(\n",
    "        orders['group']=='A',\n",
    "        np.logical_not(orders['visitorId'].isin(abnormalUsers)))]['revenue'].mean() - 1))"
   ]
  },
  {
   "cell_type": "markdown",
   "metadata": {},
   "source": [
    "Значение P-value больше 0.05. Нулевая гипотеза подтверждена, следовательно различий в среднем чеке между группами нет. Если сравнивать результаты с использованием сырых данных то там различия составляли ~ 26%. Вероятно причина в аномалиях. "
   ]
  },
  {
   "cell_type": "markdown",
   "metadata": {},
   "source": [
    "### Выбор решения по результатам теста."
   ]
  },
  {
   "cell_type": "markdown",
   "metadata": {},
   "source": [
    "**В результате проведения AB теста обнаружены следующие моменты:**  \n",
    "\n",
    "1) Разница в конверсии между группа А и В присутствует как и с использованием сырых так и с применением очищенных данных.\n",
    "Относительный показатель группы В равен 13,8% с использованием сырых данных и 15,1 по очищенным. \n",
    "\n",
    "2) При использовании сырых данных при расчёте среднего чека разница составила ~26%. Причиной этому является аномально большой заказ(1,3 млн руб) под номером 425. После фильтрации данных, в результате расчёта с использованием очищенных данных разница практически выравнивается.  \n",
    "\n",
    "3) На основе полученных данных можно принять решение об остановке тестирования и признании успеха группой В над А. Конверсия в группе В практически на 20% больше чем в группе А. Стоит отметить, что после устранения аномалий средний чек в обоих группах отличается незначительным образом. "
   ]
  }
 ],
 "metadata": {
  "ExecuteTimeLog": [
   {
    "duration": 747,
    "start_time": "2022-12-10T07:44:39.848Z"
   },
   {
    "duration": 69,
    "start_time": "2022-12-10T08:15:01.275Z"
   },
   {
    "duration": 15,
    "start_time": "2022-12-10T08:30:16.742Z"
   },
   {
    "duration": 10,
    "start_time": "2022-12-10T08:30:24.940Z"
   },
   {
    "duration": 567,
    "start_time": "2022-12-10T08:38:10.365Z"
   },
   {
    "duration": 25,
    "start_time": "2022-12-10T08:38:10.934Z"
   },
   {
    "duration": 11,
    "start_time": "2022-12-10T08:38:10.960Z"
   },
   {
    "duration": 16,
    "start_time": "2022-12-10T08:38:10.973Z"
   },
   {
    "duration": 71,
    "start_time": "2022-12-10T08:38:10.991Z"
   },
   {
    "duration": 3,
    "start_time": "2022-12-10T08:38:21.259Z"
   },
   {
    "duration": 8,
    "start_time": "2022-12-10T08:38:31.209Z"
   },
   {
    "duration": 4,
    "start_time": "2022-12-10T08:44:45.555Z"
   },
   {
    "duration": 88,
    "start_time": "2022-12-10T08:45:03.149Z"
   },
   {
    "duration": 11,
    "start_time": "2022-12-10T08:47:42.677Z"
   },
   {
    "duration": 11,
    "start_time": "2022-12-10T08:52:42.967Z"
   },
   {
    "duration": 100,
    "start_time": "2022-12-10T09:08:21.948Z"
   },
   {
    "duration": 10,
    "start_time": "2022-12-10T09:08:38.772Z"
   },
   {
    "duration": 8,
    "start_time": "2022-12-10T09:08:46.665Z"
   },
   {
    "duration": 8,
    "start_time": "2022-12-10T09:24:21.421Z"
   },
   {
    "duration": 3,
    "start_time": "2022-12-10T09:24:38.106Z"
   },
   {
    "duration": 8,
    "start_time": "2022-12-10T09:24:43.040Z"
   },
   {
    "duration": 0,
    "start_time": "2022-12-10T09:26:27.438Z"
   },
   {
    "duration": 0,
    "start_time": "2022-12-10T09:26:27.439Z"
   },
   {
    "duration": 0,
    "start_time": "2022-12-10T09:26:27.439Z"
   },
   {
    "duration": 0,
    "start_time": "2022-12-10T09:26:27.440Z"
   },
   {
    "duration": 0,
    "start_time": "2022-12-10T09:26:27.441Z"
   },
   {
    "duration": 0,
    "start_time": "2022-12-10T09:26:27.442Z"
   },
   {
    "duration": 0,
    "start_time": "2022-12-10T09:26:27.443Z"
   },
   {
    "duration": 0,
    "start_time": "2022-12-10T09:26:27.445Z"
   },
   {
    "duration": 0,
    "start_time": "2022-12-10T09:26:27.445Z"
   },
   {
    "duration": 0,
    "start_time": "2022-12-10T09:26:27.446Z"
   },
   {
    "duration": 0,
    "start_time": "2022-12-10T09:26:27.447Z"
   },
   {
    "duration": 0,
    "start_time": "2022-12-10T09:26:27.448Z"
   },
   {
    "duration": 0,
    "start_time": "2022-12-10T09:26:27.450Z"
   },
   {
    "duration": 566,
    "start_time": "2022-12-10T09:27:16.486Z"
   },
   {
    "duration": 26,
    "start_time": "2022-12-10T09:27:17.054Z"
   },
   {
    "duration": 10,
    "start_time": "2022-12-10T09:27:17.081Z"
   },
   {
    "duration": 12,
    "start_time": "2022-12-10T09:27:17.093Z"
   },
   {
    "duration": 3,
    "start_time": "2022-12-10T09:27:17.107Z"
   },
   {
    "duration": 14,
    "start_time": "2022-12-10T09:27:17.111Z"
   },
   {
    "duration": 10,
    "start_time": "2022-12-10T09:27:17.126Z"
   },
   {
    "duration": 38,
    "start_time": "2022-12-10T09:27:17.137Z"
   },
   {
    "duration": 9,
    "start_time": "2022-12-10T09:27:17.177Z"
   },
   {
    "duration": 11,
    "start_time": "2022-12-10T09:27:17.187Z"
   },
   {
    "duration": 5,
    "start_time": "2022-12-10T09:27:17.199Z"
   },
   {
    "duration": 67,
    "start_time": "2022-12-10T09:27:17.205Z"
   },
   {
    "duration": 0,
    "start_time": "2022-12-10T09:27:17.274Z"
   },
   {
    "duration": 7,
    "start_time": "2022-12-10T09:30:33.199Z"
   },
   {
    "duration": 622,
    "start_time": "2022-12-10T09:30:48.846Z"
   },
   {
    "duration": 26,
    "start_time": "2022-12-10T09:30:49.470Z"
   },
   {
    "duration": 12,
    "start_time": "2022-12-10T09:30:49.497Z"
   },
   {
    "duration": 13,
    "start_time": "2022-12-10T09:30:49.511Z"
   },
   {
    "duration": 3,
    "start_time": "2022-12-10T09:30:49.525Z"
   },
   {
    "duration": 16,
    "start_time": "2022-12-10T09:30:49.530Z"
   },
   {
    "duration": 10,
    "start_time": "2022-12-10T09:30:49.547Z"
   },
   {
    "duration": 37,
    "start_time": "2022-12-10T09:30:49.559Z"
   },
   {
    "duration": 9,
    "start_time": "2022-12-10T09:30:49.597Z"
   },
   {
    "duration": 12,
    "start_time": "2022-12-10T09:30:49.608Z"
   },
   {
    "duration": 29,
    "start_time": "2022-12-10T09:30:49.622Z"
   },
   {
    "duration": 72,
    "start_time": "2022-12-10T09:30:49.653Z"
   },
   {
    "duration": 0,
    "start_time": "2022-12-10T09:30:49.726Z"
   },
   {
    "duration": 7,
    "start_time": "2022-12-10T09:31:15.752Z"
   },
   {
    "duration": 8,
    "start_time": "2022-12-10T09:31:56.733Z"
   },
   {
    "duration": 7,
    "start_time": "2022-12-10T09:32:04.273Z"
   },
   {
    "duration": 1097,
    "start_time": "2022-12-10T09:53:38.627Z"
   },
   {
    "duration": 26,
    "start_time": "2022-12-10T09:53:39.726Z"
   },
   {
    "duration": 3,
    "start_time": "2022-12-10T09:53:39.753Z"
   },
   {
    "duration": 14,
    "start_time": "2022-12-10T09:53:39.758Z"
   },
   {
    "duration": 15,
    "start_time": "2022-12-10T09:53:39.773Z"
   },
   {
    "duration": 3,
    "start_time": "2022-12-10T09:53:39.790Z"
   },
   {
    "duration": 15,
    "start_time": "2022-12-10T09:53:39.794Z"
   },
   {
    "duration": 15,
    "start_time": "2022-12-10T09:53:39.811Z"
   },
   {
    "duration": 38,
    "start_time": "2022-12-10T09:53:39.827Z"
   },
   {
    "duration": 10,
    "start_time": "2022-12-10T09:53:39.867Z"
   },
   {
    "duration": 13,
    "start_time": "2022-12-10T09:53:39.878Z"
   },
   {
    "duration": 114,
    "start_time": "2022-12-10T09:53:39.893Z"
   },
   {
    "duration": 0,
    "start_time": "2022-12-10T09:53:40.008Z"
   },
   {
    "duration": 0,
    "start_time": "2022-12-10T09:53:40.010Z"
   },
   {
    "duration": 11,
    "start_time": "2022-12-10T09:56:45.473Z"
   },
   {
    "duration": 11,
    "start_time": "2022-12-10T09:56:49.796Z"
   },
   {
    "duration": 6,
    "start_time": "2022-12-10T09:57:53.971Z"
   },
   {
    "duration": 66,
    "start_time": "2022-12-10T10:00:40.995Z"
   },
   {
    "duration": 10,
    "start_time": "2022-12-10T10:00:42.727Z"
   },
   {
    "duration": 7,
    "start_time": "2022-12-10T10:00:58.942Z"
   },
   {
    "duration": 4,
    "start_time": "2022-12-10T10:05:07.160Z"
   },
   {
    "duration": 10,
    "start_time": "2022-12-10T10:09:17.087Z"
   },
   {
    "duration": 5,
    "start_time": "2022-12-10T10:09:58.237Z"
   },
   {
    "duration": 9,
    "start_time": "2022-12-10T10:12:36.860Z"
   },
   {
    "duration": 4,
    "start_time": "2022-12-10T10:13:05.606Z"
   },
   {
    "duration": 3,
    "start_time": "2022-12-10T10:13:53.153Z"
   },
   {
    "duration": 4,
    "start_time": "2022-12-10T10:14:02.783Z"
   },
   {
    "duration": 2,
    "start_time": "2022-12-10T10:14:25.012Z"
   },
   {
    "duration": 3,
    "start_time": "2022-12-10T10:14:26.682Z"
   },
   {
    "duration": 4,
    "start_time": "2022-12-10T10:14:41.568Z"
   },
   {
    "duration": 3,
    "start_time": "2022-12-10T10:14:42.335Z"
   },
   {
    "duration": 3,
    "start_time": "2022-12-10T10:14:51.092Z"
   },
   {
    "duration": 4,
    "start_time": "2022-12-10T10:14:51.906Z"
   },
   {
    "duration": 1390,
    "start_time": "2022-12-11T18:37:01.915Z"
   },
   {
    "duration": 88,
    "start_time": "2022-12-11T18:37:03.307Z"
   },
   {
    "duration": 3,
    "start_time": "2022-12-11T18:37:03.397Z"
   },
   {
    "duration": 14,
    "start_time": "2022-12-11T18:37:03.402Z"
   },
   {
    "duration": 13,
    "start_time": "2022-12-11T18:37:03.418Z"
   },
   {
    "duration": 3,
    "start_time": "2022-12-11T18:37:03.433Z"
   },
   {
    "duration": 16,
    "start_time": "2022-12-11T18:37:03.437Z"
   },
   {
    "duration": 11,
    "start_time": "2022-12-11T18:37:03.455Z"
   },
   {
    "duration": 86,
    "start_time": "2022-12-11T18:37:03.467Z"
   },
   {
    "duration": 11,
    "start_time": "2022-12-11T18:37:03.555Z"
   },
   {
    "duration": 11,
    "start_time": "2022-12-11T18:37:03.568Z"
   },
   {
    "duration": 18,
    "start_time": "2022-12-11T18:37:03.580Z"
   },
   {
    "duration": 10,
    "start_time": "2022-12-11T18:37:03.600Z"
   },
   {
    "duration": 78,
    "start_time": "2022-12-11T18:37:03.614Z"
   },
   {
    "duration": 13,
    "start_time": "2022-12-11T18:37:03.694Z"
   },
   {
    "duration": 11,
    "start_time": "2022-12-11T18:37:03.709Z"
   },
   {
    "duration": 7,
    "start_time": "2022-12-11T18:37:03.722Z"
   },
   {
    "duration": 9,
    "start_time": "2022-12-11T18:37:03.730Z"
   },
   {
    "duration": 71,
    "start_time": "2022-12-11T18:37:03.741Z"
   },
   {
    "duration": 0,
    "start_time": "2022-12-11T18:37:03.814Z"
   },
   {
    "duration": 0,
    "start_time": "2022-12-11T18:37:03.816Z"
   },
   {
    "duration": 0,
    "start_time": "2022-12-11T18:37:03.818Z"
   },
   {
    "duration": 0,
    "start_time": "2022-12-11T18:37:03.820Z"
   },
   {
    "duration": 0,
    "start_time": "2022-12-11T18:37:03.821Z"
   },
   {
    "duration": 0,
    "start_time": "2022-12-11T18:37:03.822Z"
   },
   {
    "duration": 0,
    "start_time": "2022-12-11T18:37:03.824Z"
   },
   {
    "duration": 0,
    "start_time": "2022-12-11T18:37:03.825Z"
   },
   {
    "duration": 1285,
    "start_time": "2022-12-11T18:37:48.019Z"
   },
   {
    "duration": 26,
    "start_time": "2022-12-11T18:37:49.307Z"
   },
   {
    "duration": 16,
    "start_time": "2022-12-11T18:37:49.336Z"
   },
   {
    "duration": 32,
    "start_time": "2022-12-11T18:37:49.354Z"
   },
   {
    "duration": 21,
    "start_time": "2022-12-11T18:37:49.389Z"
   },
   {
    "duration": 19,
    "start_time": "2022-12-11T18:37:49.412Z"
   },
   {
    "duration": 24,
    "start_time": "2022-12-11T18:37:49.432Z"
   },
   {
    "duration": 20,
    "start_time": "2022-12-11T18:37:49.458Z"
   },
   {
    "duration": 55,
    "start_time": "2022-12-11T18:37:49.480Z"
   },
   {
    "duration": 52,
    "start_time": "2022-12-11T18:37:49.537Z"
   },
   {
    "duration": 17,
    "start_time": "2022-12-11T18:37:49.591Z"
   },
   {
    "duration": 32,
    "start_time": "2022-12-11T18:37:49.611Z"
   },
   {
    "duration": 16,
    "start_time": "2022-12-11T18:37:49.645Z"
   },
   {
    "duration": 22,
    "start_time": "2022-12-11T18:37:49.665Z"
   },
   {
    "duration": 19,
    "start_time": "2022-12-11T18:37:49.689Z"
   },
   {
    "duration": 17,
    "start_time": "2022-12-11T18:37:49.710Z"
   },
   {
    "duration": 18,
    "start_time": "2022-12-11T18:37:49.729Z"
   },
   {
    "duration": 25,
    "start_time": "2022-12-11T18:37:49.749Z"
   },
   {
    "duration": 22,
    "start_time": "2022-12-11T18:37:49.775Z"
   },
   {
    "duration": 18,
    "start_time": "2022-12-11T18:37:49.799Z"
   },
   {
    "duration": 17,
    "start_time": "2022-12-11T18:37:49.819Z"
   },
   {
    "duration": 27,
    "start_time": "2022-12-11T18:37:49.838Z"
   },
   {
    "duration": 20,
    "start_time": "2022-12-11T18:37:49.868Z"
   },
   {
    "duration": 12,
    "start_time": "2022-12-11T18:40:31.857Z"
   },
   {
    "duration": 14,
    "start_time": "2022-12-11T18:51:59.889Z"
   },
   {
    "duration": 18,
    "start_time": "2022-12-11T18:58:59.235Z"
   },
   {
    "duration": 275,
    "start_time": "2022-12-11T19:27:16.029Z"
   },
   {
    "duration": 7,
    "start_time": "2022-12-11T19:31:49.468Z"
   },
   {
    "duration": 234,
    "start_time": "2022-12-11T19:33:20.570Z"
   },
   {
    "duration": 184,
    "start_time": "2022-12-11T19:34:00.789Z"
   },
   {
    "duration": 183,
    "start_time": "2022-12-11T19:34:32.242Z"
   },
   {
    "duration": 186,
    "start_time": "2022-12-11T19:34:39.233Z"
   },
   {
    "duration": 180,
    "start_time": "2022-12-11T19:34:49.980Z"
   },
   {
    "duration": 210,
    "start_time": "2022-12-11T19:35:01.662Z"
   },
   {
    "duration": 282,
    "start_time": "2022-12-11T19:35:35.902Z"
   },
   {
    "duration": 192,
    "start_time": "2022-12-11T19:35:56.663Z"
   },
   {
    "duration": 287,
    "start_time": "2022-12-11T19:37:40.137Z"
   },
   {
    "duration": 205,
    "start_time": "2022-12-11T19:37:50.861Z"
   },
   {
    "duration": 224,
    "start_time": "2022-12-11T19:42:09.780Z"
   },
   {
    "duration": 215,
    "start_time": "2022-12-11T19:42:16.021Z"
   },
   {
    "duration": 200,
    "start_time": "2022-12-11T19:42:28.566Z"
   },
   {
    "duration": 200,
    "start_time": "2022-12-11T19:42:36.866Z"
   },
   {
    "duration": 12,
    "start_time": "2022-12-11T19:46:15.807Z"
   },
   {
    "duration": 15,
    "start_time": "2022-12-11T19:59:37.663Z"
   },
   {
    "duration": 15,
    "start_time": "2022-12-11T20:00:04.586Z"
   },
   {
    "duration": 19,
    "start_time": "2022-12-11T20:00:43.967Z"
   },
   {
    "duration": 28,
    "start_time": "2022-12-11T20:04:31.021Z"
   },
   {
    "duration": 15,
    "start_time": "2022-12-11T20:07:08.236Z"
   },
   {
    "duration": 15,
    "start_time": "2022-12-11T20:07:14.348Z"
   },
   {
    "duration": 14,
    "start_time": "2022-12-11T20:07:32.375Z"
   },
   {
    "duration": 17,
    "start_time": "2022-12-11T20:07:41.944Z"
   },
   {
    "duration": 14,
    "start_time": "2022-12-11T20:14:09.441Z"
   },
   {
    "duration": 209,
    "start_time": "2022-12-11T20:30:00.017Z"
   },
   {
    "duration": 202,
    "start_time": "2022-12-11T20:34:28.375Z"
   },
   {
    "duration": 297,
    "start_time": "2022-12-11T21:09:46.750Z"
   },
   {
    "duration": 237,
    "start_time": "2022-12-11T21:21:53.900Z"
   },
   {
    "duration": 297,
    "start_time": "2022-12-11T21:24:58.479Z"
   },
   {
    "duration": 211,
    "start_time": "2022-12-11T21:25:13.477Z"
   },
   {
    "duration": 312,
    "start_time": "2022-12-11T21:25:41.383Z"
   },
   {
    "duration": 1225,
    "start_time": "2022-12-12T06:15:32.968Z"
   },
   {
    "duration": 70,
    "start_time": "2022-12-12T06:15:34.195Z"
   },
   {
    "duration": 3,
    "start_time": "2022-12-12T06:15:34.266Z"
   },
   {
    "duration": 15,
    "start_time": "2022-12-12T06:15:34.270Z"
   },
   {
    "duration": 15,
    "start_time": "2022-12-12T06:15:34.287Z"
   },
   {
    "duration": 3,
    "start_time": "2022-12-12T06:15:34.304Z"
   },
   {
    "duration": 17,
    "start_time": "2022-12-12T06:15:34.308Z"
   },
   {
    "duration": 10,
    "start_time": "2022-12-12T06:15:34.326Z"
   },
   {
    "duration": 88,
    "start_time": "2022-12-12T06:15:34.337Z"
   },
   {
    "duration": 10,
    "start_time": "2022-12-12T06:15:34.427Z"
   },
   {
    "duration": 12,
    "start_time": "2022-12-12T06:15:34.439Z"
   },
   {
    "duration": 21,
    "start_time": "2022-12-12T06:15:34.453Z"
   },
   {
    "duration": 8,
    "start_time": "2022-12-12T06:15:34.476Z"
   },
   {
    "duration": 58,
    "start_time": "2022-12-12T06:15:34.487Z"
   },
   {
    "duration": 13,
    "start_time": "2022-12-12T06:15:34.547Z"
   },
   {
    "duration": 23,
    "start_time": "2022-12-12T06:15:34.561Z"
   },
   {
    "duration": 17,
    "start_time": "2022-12-12T06:15:34.586Z"
   },
   {
    "duration": 17,
    "start_time": "2022-12-12T06:15:34.605Z"
   },
   {
    "duration": 20,
    "start_time": "2022-12-12T06:15:34.625Z"
   },
   {
    "duration": 12,
    "start_time": "2022-12-12T06:15:34.646Z"
   },
   {
    "duration": 8,
    "start_time": "2022-12-12T06:15:34.660Z"
   },
   {
    "duration": 13,
    "start_time": "2022-12-12T06:15:34.669Z"
   },
   {
    "duration": 12,
    "start_time": "2022-12-12T06:15:34.683Z"
   },
   {
    "duration": 14,
    "start_time": "2022-12-12T06:15:34.697Z"
   },
   {
    "duration": 16,
    "start_time": "2022-12-12T06:15:34.712Z"
   },
   {
    "duration": 281,
    "start_time": "2022-12-12T06:15:34.729Z"
   },
   {
    "duration": 11,
    "start_time": "2022-12-12T06:15:35.012Z"
   },
   {
    "duration": 331,
    "start_time": "2022-12-12T06:15:35.025Z"
   },
   {
    "duration": 12,
    "start_time": "2022-12-12T06:15:35.358Z"
   },
   {
    "duration": 25,
    "start_time": "2022-12-12T06:15:35.371Z"
   },
   {
    "duration": 24,
    "start_time": "2022-12-12T06:15:35.397Z"
   },
   {
    "duration": 14,
    "start_time": "2022-12-12T06:15:35.423Z"
   },
   {
    "duration": 228,
    "start_time": "2022-12-12T06:15:35.439Z"
   },
   {
    "duration": 367,
    "start_time": "2022-12-12T06:15:35.669Z"
   },
   {
    "duration": 212,
    "start_time": "2022-12-12T06:15:36.038Z"
   },
   {
    "duration": 97,
    "start_time": "2022-12-12T06:15:36.251Z"
   },
   {
    "duration": 0,
    "start_time": "2022-12-12T06:15:36.350Z"
   },
   {
    "duration": 0,
    "start_time": "2022-12-12T06:15:36.351Z"
   },
   {
    "duration": 302,
    "start_time": "2022-12-12T06:43:28.584Z"
   },
   {
    "duration": 293,
    "start_time": "2022-12-12T06:43:57.256Z"
   },
   {
    "duration": 139,
    "start_time": "2022-12-12T06:56:31.558Z"
   },
   {
    "duration": 203,
    "start_time": "2022-12-12T06:56:36.212Z"
   },
   {
    "duration": 7,
    "start_time": "2022-12-12T07:28:14.163Z"
   },
   {
    "duration": 4,
    "start_time": "2022-12-12T07:28:23.812Z"
   },
   {
    "duration": 826,
    "start_time": "2022-12-12T07:30:09.272Z"
   },
   {
    "duration": 4,
    "start_time": "2022-12-12T07:30:18.827Z"
   },
   {
    "duration": 155,
    "start_time": "2022-12-12T07:32:05.520Z"
   },
   {
    "duration": 143,
    "start_time": "2022-12-12T07:32:26.590Z"
   },
   {
    "duration": 143,
    "start_time": "2022-12-12T07:33:10.367Z"
   },
   {
    "duration": 5,
    "start_time": "2022-12-12T07:36:46.532Z"
   },
   {
    "duration": 5,
    "start_time": "2022-12-12T07:37:17.582Z"
   },
   {
    "duration": 194,
    "start_time": "2022-12-12T07:52:30.799Z"
   },
   {
    "duration": 38,
    "start_time": "2022-12-12T07:52:59.220Z"
   },
   {
    "duration": 130,
    "start_time": "2022-12-12T08:14:19.387Z"
   },
   {
    "duration": 23,
    "start_time": "2022-12-12T08:14:33.806Z"
   },
   {
    "duration": 12,
    "start_time": "2022-12-12T08:35:18.800Z"
   },
   {
    "duration": 12,
    "start_time": "2022-12-12T08:46:25.408Z"
   },
   {
    "duration": 8,
    "start_time": "2022-12-12T08:46:44.905Z"
   },
   {
    "duration": 8,
    "start_time": "2022-12-12T08:51:44.355Z"
   },
   {
    "duration": 23,
    "start_time": "2022-12-12T08:52:16.001Z"
   },
   {
    "duration": 18,
    "start_time": "2022-12-12T09:13:35.912Z"
   },
   {
    "duration": 1148,
    "start_time": "2022-12-12T10:59:13.990Z"
   },
   {
    "duration": 27,
    "start_time": "2022-12-12T10:59:15.140Z"
   },
   {
    "duration": 3,
    "start_time": "2022-12-12T10:59:15.169Z"
   },
   {
    "duration": 15,
    "start_time": "2022-12-12T10:59:15.174Z"
   },
   {
    "duration": 21,
    "start_time": "2022-12-12T10:59:15.190Z"
   },
   {
    "duration": 4,
    "start_time": "2022-12-12T10:59:15.213Z"
   },
   {
    "duration": 18,
    "start_time": "2022-12-12T10:59:15.218Z"
   },
   {
    "duration": 11,
    "start_time": "2022-12-12T10:59:15.237Z"
   },
   {
    "duration": 40,
    "start_time": "2022-12-12T10:59:15.250Z"
   },
   {
    "duration": 13,
    "start_time": "2022-12-12T10:59:15.293Z"
   },
   {
    "duration": 23,
    "start_time": "2022-12-12T10:59:15.308Z"
   },
   {
    "duration": 30,
    "start_time": "2022-12-12T10:59:15.333Z"
   },
   {
    "duration": 17,
    "start_time": "2022-12-12T10:59:15.365Z"
   },
   {
    "duration": 31,
    "start_time": "2022-12-12T10:59:15.385Z"
   },
   {
    "duration": 29,
    "start_time": "2022-12-12T10:59:15.418Z"
   },
   {
    "duration": 68,
    "start_time": "2022-12-12T10:59:15.450Z"
   },
   {
    "duration": 20,
    "start_time": "2022-12-12T10:59:15.520Z"
   },
   {
    "duration": 22,
    "start_time": "2022-12-12T10:59:15.542Z"
   },
   {
    "duration": 16,
    "start_time": "2022-12-12T10:59:15.566Z"
   },
   {
    "duration": 6,
    "start_time": "2022-12-12T10:59:15.584Z"
   },
   {
    "duration": 6,
    "start_time": "2022-12-12T10:59:15.592Z"
   },
   {
    "duration": 6,
    "start_time": "2022-12-12T10:59:15.600Z"
   },
   {
    "duration": 12,
    "start_time": "2022-12-12T10:59:15.608Z"
   },
   {
    "duration": 14,
    "start_time": "2022-12-12T10:59:15.622Z"
   },
   {
    "duration": 21,
    "start_time": "2022-12-12T10:59:15.638Z"
   },
   {
    "duration": 308,
    "start_time": "2022-12-12T10:59:15.661Z"
   },
   {
    "duration": 6,
    "start_time": "2022-12-12T10:59:15.971Z"
   },
   {
    "duration": 289,
    "start_time": "2022-12-12T10:59:15.980Z"
   },
   {
    "duration": 9,
    "start_time": "2022-12-12T10:59:16.271Z"
   },
   {
    "duration": 21,
    "start_time": "2022-12-12T10:59:16.283Z"
   },
   {
    "duration": 22,
    "start_time": "2022-12-12T10:59:16.322Z"
   },
   {
    "duration": 19,
    "start_time": "2022-12-12T10:59:16.346Z"
   },
   {
    "duration": 277,
    "start_time": "2022-12-12T10:59:16.367Z"
   },
   {
    "duration": 294,
    "start_time": "2022-12-12T10:59:16.645Z"
   },
   {
    "duration": 221,
    "start_time": "2022-12-12T10:59:16.940Z"
   },
   {
    "duration": 300,
    "start_time": "2022-12-12T10:59:17.163Z"
   },
   {
    "duration": 203,
    "start_time": "2022-12-12T10:59:17.465Z"
   },
   {
    "duration": 198,
    "start_time": "2022-12-12T10:59:17.670Z"
   },
   {
    "duration": 6,
    "start_time": "2022-12-12T10:59:17.869Z"
   },
   {
    "duration": 166,
    "start_time": "2022-12-12T10:59:17.877Z"
   },
   {
    "duration": 4,
    "start_time": "2022-12-12T10:59:18.046Z"
   },
   {
    "duration": 240,
    "start_time": "2022-12-12T10:59:18.052Z"
   },
   {
    "duration": 42,
    "start_time": "2022-12-12T10:59:18.294Z"
   },
   {
    "duration": 156,
    "start_time": "2022-12-12T10:59:18.337Z"
   },
   {
    "duration": 39,
    "start_time": "2022-12-12T10:59:18.495Z"
   },
   {
    "duration": 12,
    "start_time": "2022-12-12T10:59:18.536Z"
   },
   {
    "duration": 13,
    "start_time": "2022-12-12T10:59:18.549Z"
   },
   {
    "duration": 14,
    "start_time": "2022-12-12T10:59:18.564Z"
   },
   {
    "duration": 44,
    "start_time": "2022-12-12T10:59:18.580Z"
   },
   {
    "duration": 19,
    "start_time": "2022-12-12T10:59:18.627Z"
   },
   {
    "duration": 1187,
    "start_time": "2022-12-12T11:22:48.488Z"
   },
   {
    "duration": 78,
    "start_time": "2022-12-12T11:22:49.677Z"
   },
   {
    "duration": 3,
    "start_time": "2022-12-12T11:22:49.757Z"
   },
   {
    "duration": 14,
    "start_time": "2022-12-12T11:22:49.762Z"
   },
   {
    "duration": 14,
    "start_time": "2022-12-12T11:22:49.777Z"
   },
   {
    "duration": 3,
    "start_time": "2022-12-12T11:22:49.793Z"
   },
   {
    "duration": 18,
    "start_time": "2022-12-12T11:22:49.798Z"
   },
   {
    "duration": 30,
    "start_time": "2022-12-12T11:22:49.819Z"
   },
   {
    "duration": 79,
    "start_time": "2022-12-12T11:22:49.852Z"
   },
   {
    "duration": 12,
    "start_time": "2022-12-12T11:22:49.933Z"
   },
   {
    "duration": 13,
    "start_time": "2022-12-12T11:22:49.947Z"
   },
   {
    "duration": 15,
    "start_time": "2022-12-12T11:22:49.961Z"
   },
   {
    "duration": 7,
    "start_time": "2022-12-12T11:22:49.978Z"
   },
   {
    "duration": 76,
    "start_time": "2022-12-12T11:22:49.986Z"
   },
   {
    "duration": 11,
    "start_time": "2022-12-12T11:22:50.063Z"
   },
   {
    "duration": 13,
    "start_time": "2022-12-12T11:22:50.075Z"
   },
   {
    "duration": 5,
    "start_time": "2022-12-12T11:22:50.089Z"
   },
   {
    "duration": 8,
    "start_time": "2022-12-12T11:22:50.096Z"
   },
   {
    "duration": 11,
    "start_time": "2022-12-12T11:22:50.105Z"
   },
   {
    "duration": 4,
    "start_time": "2022-12-12T11:22:50.117Z"
   },
   {
    "duration": 5,
    "start_time": "2022-12-12T11:22:50.123Z"
   },
   {
    "duration": 12,
    "start_time": "2022-12-12T11:22:50.130Z"
   },
   {
    "duration": 14,
    "start_time": "2022-12-12T11:22:50.143Z"
   },
   {
    "duration": 14,
    "start_time": "2022-12-12T11:22:50.158Z"
   },
   {
    "duration": 18,
    "start_time": "2022-12-12T11:22:50.174Z"
   },
   {
    "duration": 325,
    "start_time": "2022-12-12T11:22:50.193Z"
   },
   {
    "duration": 6,
    "start_time": "2022-12-12T11:22:50.519Z"
   },
   {
    "duration": 304,
    "start_time": "2022-12-12T11:22:50.536Z"
   },
   {
    "duration": 9,
    "start_time": "2022-12-12T11:22:50.841Z"
   },
   {
    "duration": 17,
    "start_time": "2022-12-12T11:22:50.852Z"
   },
   {
    "duration": 13,
    "start_time": "2022-12-12T11:22:50.871Z"
   },
   {
    "duration": 18,
    "start_time": "2022-12-12T11:22:50.886Z"
   },
   {
    "duration": 273,
    "start_time": "2022-12-12T11:22:50.905Z"
   },
   {
    "duration": 300,
    "start_time": "2022-12-12T11:22:51.179Z"
   },
   {
    "duration": 246,
    "start_time": "2022-12-12T11:22:51.481Z"
   },
   {
    "duration": 346,
    "start_time": "2022-12-12T11:22:51.728Z"
   },
   {
    "duration": 144,
    "start_time": "2022-12-12T11:22:52.076Z"
   },
   {
    "duration": 157,
    "start_time": "2022-12-12T11:22:52.222Z"
   },
   {
    "duration": 4,
    "start_time": "2022-12-12T11:22:52.381Z"
   },
   {
    "duration": 175,
    "start_time": "2022-12-12T11:22:52.387Z"
   },
   {
    "duration": 6,
    "start_time": "2022-12-12T11:22:52.564Z"
   },
   {
    "duration": 232,
    "start_time": "2022-12-12T11:22:52.572Z"
   },
   {
    "duration": 36,
    "start_time": "2022-12-12T11:22:52.805Z"
   },
   {
    "duration": 160,
    "start_time": "2022-12-12T11:22:52.842Z"
   },
   {
    "duration": 37,
    "start_time": "2022-12-12T11:22:53.004Z"
   },
   {
    "duration": 12,
    "start_time": "2022-12-12T11:22:53.042Z"
   },
   {
    "duration": 10,
    "start_time": "2022-12-12T11:22:53.055Z"
   },
   {
    "duration": 9,
    "start_time": "2022-12-12T11:22:53.067Z"
   },
   {
    "duration": 67,
    "start_time": "2022-12-12T11:22:53.077Z"
   },
   {
    "duration": 19,
    "start_time": "2022-12-12T11:22:53.147Z"
   },
   {
    "duration": 119,
    "start_time": "2022-12-12T13:10:02.754Z"
   },
   {
    "duration": 1459,
    "start_time": "2022-12-12T20:55:09.310Z"
   },
   {
    "duration": 77,
    "start_time": "2022-12-12T20:55:10.771Z"
   },
   {
    "duration": 8,
    "start_time": "2022-12-12T20:55:10.850Z"
   },
   {
    "duration": 34,
    "start_time": "2022-12-12T20:55:10.860Z"
   },
   {
    "duration": 24,
    "start_time": "2022-12-12T20:55:10.896Z"
   },
   {
    "duration": 10,
    "start_time": "2022-12-12T20:55:10.921Z"
   },
   {
    "duration": 32,
    "start_time": "2022-12-12T20:55:10.933Z"
   },
   {
    "duration": 17,
    "start_time": "2022-12-12T20:55:10.967Z"
   },
   {
    "duration": 118,
    "start_time": "2022-12-12T20:55:10.986Z"
   },
   {
    "duration": 11,
    "start_time": "2022-12-12T20:55:11.106Z"
   },
   {
    "duration": 15,
    "start_time": "2022-12-12T20:55:11.119Z"
   },
   {
    "duration": 29,
    "start_time": "2022-12-12T20:55:11.135Z"
   },
   {
    "duration": 13,
    "start_time": "2022-12-12T20:55:11.165Z"
   },
   {
    "duration": 68,
    "start_time": "2022-12-12T20:55:11.180Z"
   },
   {
    "duration": 16,
    "start_time": "2022-12-12T20:55:11.251Z"
   },
   {
    "duration": 13,
    "start_time": "2022-12-12T20:55:11.268Z"
   },
   {
    "duration": 8,
    "start_time": "2022-12-12T20:55:11.282Z"
   },
   {
    "duration": 9,
    "start_time": "2022-12-12T20:55:11.292Z"
   },
   {
    "duration": 12,
    "start_time": "2022-12-12T20:55:11.303Z"
   },
   {
    "duration": 8,
    "start_time": "2022-12-12T20:55:11.317Z"
   },
   {
    "duration": 13,
    "start_time": "2022-12-12T20:55:11.326Z"
   },
   {
    "duration": 20,
    "start_time": "2022-12-12T20:55:11.344Z"
   },
   {
    "duration": 18,
    "start_time": "2022-12-12T20:55:11.366Z"
   },
   {
    "duration": 27,
    "start_time": "2022-12-12T20:55:11.386Z"
   },
   {
    "duration": 19,
    "start_time": "2022-12-12T20:55:11.415Z"
   },
   {
    "duration": 328,
    "start_time": "2022-12-12T20:55:11.450Z"
   },
   {
    "duration": 5,
    "start_time": "2022-12-12T20:55:11.780Z"
   },
   {
    "duration": 345,
    "start_time": "2022-12-12T20:55:11.788Z"
   },
   {
    "duration": 16,
    "start_time": "2022-12-12T20:55:12.135Z"
   },
   {
    "duration": 20,
    "start_time": "2022-12-12T20:55:12.153Z"
   },
   {
    "duration": 15,
    "start_time": "2022-12-12T20:55:12.175Z"
   },
   {
    "duration": 14,
    "start_time": "2022-12-12T20:55:12.192Z"
   },
   {
    "duration": 282,
    "start_time": "2022-12-12T20:55:12.208Z"
   },
   {
    "duration": 416,
    "start_time": "2022-12-12T20:55:12.492Z"
   },
   {
    "duration": 256,
    "start_time": "2022-12-12T20:55:12.910Z"
   },
   {
    "duration": 316,
    "start_time": "2022-12-12T20:55:13.168Z"
   },
   {
    "duration": 137,
    "start_time": "2022-12-12T20:55:13.485Z"
   },
   {
    "duration": 167,
    "start_time": "2022-12-12T20:55:13.624Z"
   },
   {
    "duration": 5,
    "start_time": "2022-12-12T20:55:13.793Z"
   },
   {
    "duration": 187,
    "start_time": "2022-12-12T20:55:13.801Z"
   },
   {
    "duration": 5,
    "start_time": "2022-12-12T20:55:13.990Z"
   },
   {
    "duration": 238,
    "start_time": "2022-12-12T20:55:13.996Z"
   },
   {
    "duration": 30,
    "start_time": "2022-12-12T20:55:14.247Z"
   },
   {
    "duration": 144,
    "start_time": "2022-12-12T20:55:14.279Z"
   },
   {
    "duration": 39,
    "start_time": "2022-12-12T20:55:14.425Z"
   },
   {
    "duration": 10,
    "start_time": "2022-12-12T20:55:14.466Z"
   },
   {
    "duration": 14,
    "start_time": "2022-12-12T20:55:14.477Z"
   },
   {
    "duration": 9,
    "start_time": "2022-12-12T20:55:14.493Z"
   },
   {
    "duration": 56,
    "start_time": "2022-12-12T20:55:14.503Z"
   },
   {
    "duration": 15,
    "start_time": "2022-12-12T20:55:14.562Z"
   },
   {
    "duration": 45,
    "start_time": "2022-12-13T08:18:01.203Z"
   },
   {
    "duration": 1282,
    "start_time": "2022-12-13T08:18:11.304Z"
   },
   {
    "duration": 79,
    "start_time": "2022-12-13T08:18:12.588Z"
   },
   {
    "duration": 3,
    "start_time": "2022-12-13T08:18:12.668Z"
   },
   {
    "duration": 12,
    "start_time": "2022-12-13T08:18:12.673Z"
   },
   {
    "duration": 11,
    "start_time": "2022-12-13T08:18:12.686Z"
   },
   {
    "duration": 3,
    "start_time": "2022-12-13T08:18:12.698Z"
   },
   {
    "duration": 11,
    "start_time": "2022-12-13T08:18:12.702Z"
   },
   {
    "duration": 9,
    "start_time": "2022-12-13T08:18:12.714Z"
   },
   {
    "duration": 81,
    "start_time": "2022-12-13T08:18:12.724Z"
   },
   {
    "duration": 9,
    "start_time": "2022-12-13T08:18:12.808Z"
   },
   {
    "duration": 9,
    "start_time": "2022-12-13T08:18:12.819Z"
   },
   {
    "duration": 13,
    "start_time": "2022-12-13T08:18:12.830Z"
   },
   {
    "duration": 9,
    "start_time": "2022-12-13T08:18:12.844Z"
   },
   {
    "duration": 69,
    "start_time": "2022-12-13T08:18:12.854Z"
   },
   {
    "duration": 9,
    "start_time": "2022-12-13T08:18:12.924Z"
   },
   {
    "duration": 10,
    "start_time": "2022-12-13T08:18:12.935Z"
   },
   {
    "duration": 7,
    "start_time": "2022-12-13T08:18:12.946Z"
   },
   {
    "duration": 9,
    "start_time": "2022-12-13T08:18:12.955Z"
   },
   {
    "duration": 10,
    "start_time": "2022-12-13T08:18:12.966Z"
   },
   {
    "duration": 3,
    "start_time": "2022-12-13T08:18:12.978Z"
   },
   {
    "duration": 5,
    "start_time": "2022-12-13T08:18:12.982Z"
   },
   {
    "duration": 6,
    "start_time": "2022-12-13T08:18:12.988Z"
   },
   {
    "duration": 13,
    "start_time": "2022-12-13T08:18:12.995Z"
   },
   {
    "duration": 12,
    "start_time": "2022-12-13T08:18:13.026Z"
   },
   {
    "duration": 15,
    "start_time": "2022-12-13T08:18:13.039Z"
   },
   {
    "duration": 290,
    "start_time": "2022-12-13T08:18:13.055Z"
   },
   {
    "duration": 5,
    "start_time": "2022-12-13T08:18:13.346Z"
   },
   {
    "duration": 277,
    "start_time": "2022-12-13T08:18:13.354Z"
   },
   {
    "duration": 10,
    "start_time": "2022-12-13T08:18:13.633Z"
   },
   {
    "duration": 25,
    "start_time": "2022-12-13T08:18:13.644Z"
   },
   {
    "duration": 15,
    "start_time": "2022-12-13T08:18:13.670Z"
   },
   {
    "duration": 12,
    "start_time": "2022-12-13T08:18:13.687Z"
   },
   {
    "duration": 197,
    "start_time": "2022-12-13T08:18:13.725Z"
   },
   {
    "duration": 92,
    "start_time": "2022-12-13T08:18:13.926Z"
   },
   {
    "duration": 0,
    "start_time": "2022-12-13T08:18:14.026Z"
   },
   {
    "duration": 0,
    "start_time": "2022-12-13T08:18:14.027Z"
   },
   {
    "duration": 0,
    "start_time": "2022-12-13T08:18:14.028Z"
   },
   {
    "duration": 0,
    "start_time": "2022-12-13T08:18:14.029Z"
   },
   {
    "duration": 0,
    "start_time": "2022-12-13T08:18:14.030Z"
   },
   {
    "duration": 0,
    "start_time": "2022-12-13T08:18:14.032Z"
   },
   {
    "duration": 0,
    "start_time": "2022-12-13T08:18:14.033Z"
   },
   {
    "duration": 0,
    "start_time": "2022-12-13T08:18:14.034Z"
   },
   {
    "duration": 0,
    "start_time": "2022-12-13T08:18:14.035Z"
   },
   {
    "duration": 0,
    "start_time": "2022-12-13T08:18:14.037Z"
   },
   {
    "duration": 0,
    "start_time": "2022-12-13T08:18:14.039Z"
   },
   {
    "duration": 0,
    "start_time": "2022-12-13T08:18:14.040Z"
   },
   {
    "duration": 0,
    "start_time": "2022-12-13T08:18:14.041Z"
   },
   {
    "duration": 0,
    "start_time": "2022-12-13T08:18:14.043Z"
   },
   {
    "duration": 0,
    "start_time": "2022-12-13T08:18:14.044Z"
   },
   {
    "duration": 0,
    "start_time": "2022-12-13T08:18:14.045Z"
   },
   {
    "duration": 0,
    "start_time": "2022-12-13T08:18:14.046Z"
   },
   {
    "duration": 17,
    "start_time": "2022-12-13T08:20:38.514Z"
   },
   {
    "duration": 16,
    "start_time": "2022-12-13T08:21:19.842Z"
   },
   {
    "duration": 14,
    "start_time": "2022-12-13T08:24:25.610Z"
   },
   {
    "duration": 16,
    "start_time": "2022-12-13T08:25:52.460Z"
   },
   {
    "duration": 15,
    "start_time": "2022-12-13T08:26:49.959Z"
   },
   {
    "duration": 16,
    "start_time": "2022-12-13T08:30:08.228Z"
   },
   {
    "duration": 18,
    "start_time": "2022-12-13T08:30:27.573Z"
   },
   {
    "duration": 14,
    "start_time": "2022-12-13T08:30:47.176Z"
   },
   {
    "duration": 19,
    "start_time": "2022-12-13T08:30:59.586Z"
   },
   {
    "duration": 1328,
    "start_time": "2022-12-13T08:44:21.889Z"
   },
   {
    "duration": 35,
    "start_time": "2022-12-13T08:44:23.220Z"
   },
   {
    "duration": 3,
    "start_time": "2022-12-13T08:44:23.257Z"
   },
   {
    "duration": 18,
    "start_time": "2022-12-13T08:44:23.262Z"
   },
   {
    "duration": 19,
    "start_time": "2022-12-13T08:44:23.282Z"
   },
   {
    "duration": 20,
    "start_time": "2022-12-13T08:44:23.303Z"
   },
   {
    "duration": 29,
    "start_time": "2022-12-13T08:44:23.325Z"
   },
   {
    "duration": 10,
    "start_time": "2022-12-13T08:44:23.356Z"
   },
   {
    "duration": 42,
    "start_time": "2022-12-13T08:44:23.367Z"
   },
   {
    "duration": 11,
    "start_time": "2022-12-13T08:44:23.412Z"
   },
   {
    "duration": 24,
    "start_time": "2022-12-13T08:44:23.425Z"
   },
   {
    "duration": 13,
    "start_time": "2022-12-13T08:44:23.450Z"
   },
   {
    "duration": 8,
    "start_time": "2022-12-13T08:44:23.464Z"
   },
   {
    "duration": 18,
    "start_time": "2022-12-13T08:44:23.474Z"
   },
   {
    "duration": 10,
    "start_time": "2022-12-13T08:44:23.494Z"
   },
   {
    "duration": 9,
    "start_time": "2022-12-13T08:44:23.505Z"
   },
   {
    "duration": 6,
    "start_time": "2022-12-13T08:44:23.515Z"
   },
   {
    "duration": 25,
    "start_time": "2022-12-13T08:44:23.523Z"
   },
   {
    "duration": 14,
    "start_time": "2022-12-13T08:44:23.550Z"
   },
   {
    "duration": 5,
    "start_time": "2022-12-13T08:44:23.565Z"
   },
   {
    "duration": 3,
    "start_time": "2022-12-13T08:44:23.572Z"
   },
   {
    "duration": 5,
    "start_time": "2022-12-13T08:44:23.577Z"
   },
   {
    "duration": 11,
    "start_time": "2022-12-13T08:44:23.584Z"
   },
   {
    "duration": 13,
    "start_time": "2022-12-13T08:44:23.596Z"
   },
   {
    "duration": 32,
    "start_time": "2022-12-13T08:44:23.611Z"
   },
   {
    "duration": 311,
    "start_time": "2022-12-13T08:44:23.644Z"
   },
   {
    "duration": 6,
    "start_time": "2022-12-13T08:44:23.956Z"
   },
   {
    "duration": 297,
    "start_time": "2022-12-13T08:44:23.966Z"
   },
   {
    "duration": 9,
    "start_time": "2022-12-13T08:44:24.265Z"
   },
   {
    "duration": 17,
    "start_time": "2022-12-13T08:44:24.277Z"
   },
   {
    "duration": 38,
    "start_time": "2022-12-13T08:44:24.296Z"
   },
   {
    "duration": 20,
    "start_time": "2022-12-13T08:44:24.338Z"
   },
   {
    "duration": 202,
    "start_time": "2022-12-13T08:44:24.360Z"
   },
   {
    "duration": 15,
    "start_time": "2022-12-13T08:44:24.564Z"
   },
   {
    "duration": 16,
    "start_time": "2022-12-13T08:44:24.581Z"
   },
   {
    "duration": 345,
    "start_time": "2022-12-13T08:44:24.599Z"
   },
   {
    "duration": 234,
    "start_time": "2022-12-13T08:44:24.946Z"
   },
   {
    "duration": 320,
    "start_time": "2022-12-13T08:44:25.181Z"
   },
   {
    "duration": 200,
    "start_time": "2022-12-13T08:44:25.503Z"
   },
   {
    "duration": 178,
    "start_time": "2022-12-13T08:44:25.705Z"
   },
   {
    "duration": 5,
    "start_time": "2022-12-13T08:44:25.885Z"
   },
   {
    "duration": 176,
    "start_time": "2022-12-13T08:44:25.891Z"
   },
   {
    "duration": 6,
    "start_time": "2022-12-13T08:44:26.068Z"
   },
   {
    "duration": 222,
    "start_time": "2022-12-13T08:44:26.075Z"
   },
   {
    "duration": 39,
    "start_time": "2022-12-13T08:44:26.298Z"
   },
   {
    "duration": 149,
    "start_time": "2022-12-13T08:44:26.338Z"
   },
   {
    "duration": 20,
    "start_time": "2022-12-13T08:44:26.489Z"
   },
   {
    "duration": 27,
    "start_time": "2022-12-13T08:44:26.511Z"
   },
   {
    "duration": 9,
    "start_time": "2022-12-13T08:44:26.540Z"
   },
   {
    "duration": 8,
    "start_time": "2022-12-13T08:44:26.550Z"
   },
   {
    "duration": 21,
    "start_time": "2022-12-13T08:44:26.560Z"
   },
   {
    "duration": 12,
    "start_time": "2022-12-13T08:44:26.583Z"
   },
   {
    "duration": 145,
    "start_time": "2022-12-13T08:51:48.116Z"
   },
   {
    "duration": 5,
    "start_time": "2022-12-13T09:32:27.085Z"
   },
   {
    "duration": 22,
    "start_time": "2022-12-13T10:06:02.972Z"
   },
   {
    "duration": 178,
    "start_time": "2022-12-13T10:41:01.644Z"
   },
   {
    "duration": 73,
    "start_time": "2022-12-13T10:44:04.875Z"
   },
   {
    "duration": 1153,
    "start_time": "2022-12-13T10:44:11.109Z"
   },
   {
    "duration": 27,
    "start_time": "2022-12-13T10:44:12.264Z"
   },
   {
    "duration": 4,
    "start_time": "2022-12-13T10:44:12.292Z"
   },
   {
    "duration": 38,
    "start_time": "2022-12-13T10:44:12.297Z"
   },
   {
    "duration": 41,
    "start_time": "2022-12-13T10:44:12.337Z"
   },
   {
    "duration": 10,
    "start_time": "2022-12-13T10:44:12.380Z"
   },
   {
    "duration": 30,
    "start_time": "2022-12-13T10:44:12.391Z"
   },
   {
    "duration": 35,
    "start_time": "2022-12-13T10:44:12.423Z"
   },
   {
    "duration": 69,
    "start_time": "2022-12-13T10:44:12.460Z"
   },
   {
    "duration": 14,
    "start_time": "2022-12-13T10:44:12.533Z"
   },
   {
    "duration": 30,
    "start_time": "2022-12-13T10:44:12.549Z"
   },
   {
    "duration": 57,
    "start_time": "2022-12-13T10:44:12.581Z"
   },
   {
    "duration": 38,
    "start_time": "2022-12-13T10:44:12.640Z"
   },
   {
    "duration": 64,
    "start_time": "2022-12-13T10:44:12.680Z"
   },
   {
    "duration": 23,
    "start_time": "2022-12-13T10:44:12.745Z"
   },
   {
    "duration": 41,
    "start_time": "2022-12-13T10:44:12.770Z"
   },
   {
    "duration": 50,
    "start_time": "2022-12-13T10:44:12.813Z"
   },
   {
    "duration": 33,
    "start_time": "2022-12-13T10:44:12.864Z"
   },
   {
    "duration": 52,
    "start_time": "2022-12-13T10:44:12.899Z"
   },
   {
    "duration": 13,
    "start_time": "2022-12-13T10:44:12.953Z"
   },
   {
    "duration": 18,
    "start_time": "2022-12-13T10:44:12.968Z"
   },
   {
    "duration": 32,
    "start_time": "2022-12-13T10:44:12.988Z"
   },
   {
    "duration": 47,
    "start_time": "2022-12-13T10:44:13.022Z"
   },
   {
    "duration": 31,
    "start_time": "2022-12-13T10:44:13.070Z"
   },
   {
    "duration": 20,
    "start_time": "2022-12-13T10:44:13.102Z"
   },
   {
    "duration": 299,
    "start_time": "2022-12-13T10:44:13.123Z"
   },
   {
    "duration": 15,
    "start_time": "2022-12-13T10:44:13.423Z"
   },
   {
    "duration": 392,
    "start_time": "2022-12-13T10:44:13.440Z"
   },
   {
    "duration": 16,
    "start_time": "2022-12-13T10:44:13.836Z"
   },
   {
    "duration": 77,
    "start_time": "2022-12-13T10:44:13.854Z"
   },
   {
    "duration": 19,
    "start_time": "2022-12-13T10:44:13.933Z"
   },
   {
    "duration": 89,
    "start_time": "2022-12-13T10:44:13.954Z"
   },
   {
    "duration": 503,
    "start_time": "2022-12-13T10:44:14.048Z"
   },
   {
    "duration": 20,
    "start_time": "2022-12-13T10:44:14.553Z"
   },
   {
    "duration": 29,
    "start_time": "2022-12-13T10:44:14.627Z"
   },
   {
    "duration": 596,
    "start_time": "2022-12-13T10:44:14.658Z"
   },
   {
    "duration": 611,
    "start_time": "2022-12-13T10:44:15.256Z"
   },
   {
    "duration": 317,
    "start_time": "2022-12-13T10:44:15.869Z"
   },
   {
    "duration": 154,
    "start_time": "2022-12-13T10:44:16.188Z"
   },
   {
    "duration": 132,
    "start_time": "2022-12-13T10:44:16.343Z"
   },
   {
    "duration": 4,
    "start_time": "2022-12-13T10:44:16.479Z"
   },
   {
    "duration": 160,
    "start_time": "2022-12-13T10:44:16.484Z"
   },
   {
    "duration": 5,
    "start_time": "2022-12-13T10:44:16.645Z"
   },
   {
    "duration": 220,
    "start_time": "2022-12-13T10:44:16.651Z"
   },
   {
    "duration": 32,
    "start_time": "2022-12-13T10:44:16.874Z"
   },
   {
    "duration": 174,
    "start_time": "2022-12-13T10:44:16.908Z"
   },
   {
    "duration": 21,
    "start_time": "2022-12-13T10:44:17.083Z"
   },
   {
    "duration": 27,
    "start_time": "2022-12-13T10:44:17.106Z"
   },
   {
    "duration": 71,
    "start_time": "2022-12-13T10:44:17.135Z"
   },
   {
    "duration": 0,
    "start_time": "2022-12-13T10:44:17.207Z"
   },
   {
    "duration": 0,
    "start_time": "2022-12-13T10:44:17.209Z"
   },
   {
    "duration": 0,
    "start_time": "2022-12-13T10:44:17.210Z"
   },
   {
    "duration": 0,
    "start_time": "2022-12-13T10:44:17.211Z"
   },
   {
    "duration": 4,
    "start_time": "2022-12-13T10:46:08.114Z"
   },
   {
    "duration": 4,
    "start_time": "2022-12-13T10:47:12.263Z"
   },
   {
    "duration": 111,
    "start_time": "2022-12-13T10:49:02.996Z"
   },
   {
    "duration": 4,
    "start_time": "2022-12-13T10:49:54.098Z"
   },
   {
    "duration": 14,
    "start_time": "2022-12-13T10:52:10.249Z"
   },
   {
    "duration": 9,
    "start_time": "2022-12-13T11:06:48.668Z"
   },
   {
    "duration": 12,
    "start_time": "2022-12-13T11:11:09.826Z"
   },
   {
    "duration": 4,
    "start_time": "2022-12-13T11:21:22.922Z"
   },
   {
    "duration": 4,
    "start_time": "2022-12-13T11:21:24.053Z"
   },
   {
    "duration": 9,
    "start_time": "2022-12-13T11:21:49.208Z"
   },
   {
    "duration": 10,
    "start_time": "2022-12-13T11:24:18.699Z"
   },
   {
    "duration": 1144,
    "start_time": "2022-12-13T11:24:34.004Z"
   },
   {
    "duration": 26,
    "start_time": "2022-12-13T11:24:35.150Z"
   },
   {
    "duration": 4,
    "start_time": "2022-12-13T11:24:35.178Z"
   },
   {
    "duration": 15,
    "start_time": "2022-12-13T11:24:35.184Z"
   },
   {
    "duration": 12,
    "start_time": "2022-12-13T11:24:35.201Z"
   },
   {
    "duration": 2,
    "start_time": "2022-12-13T11:24:35.215Z"
   },
   {
    "duration": 24,
    "start_time": "2022-12-13T11:24:35.219Z"
   },
   {
    "duration": 11,
    "start_time": "2022-12-13T11:24:35.244Z"
   },
   {
    "duration": 40,
    "start_time": "2022-12-13T11:24:35.256Z"
   },
   {
    "duration": 10,
    "start_time": "2022-12-13T11:24:35.297Z"
   },
   {
    "duration": 48,
    "start_time": "2022-12-13T11:24:35.308Z"
   },
   {
    "duration": 32,
    "start_time": "2022-12-13T11:24:35.358Z"
   },
   {
    "duration": 14,
    "start_time": "2022-12-13T11:24:35.391Z"
   },
   {
    "duration": 64,
    "start_time": "2022-12-13T11:24:35.408Z"
   },
   {
    "duration": 17,
    "start_time": "2022-12-13T11:24:35.475Z"
   },
   {
    "duration": 22,
    "start_time": "2022-12-13T11:24:35.494Z"
   },
   {
    "duration": 22,
    "start_time": "2022-12-13T11:24:35.518Z"
   },
   {
    "duration": 28,
    "start_time": "2022-12-13T11:24:35.541Z"
   },
   {
    "duration": 31,
    "start_time": "2022-12-13T11:24:35.571Z"
   },
   {
    "duration": 34,
    "start_time": "2022-12-13T11:24:35.604Z"
   },
   {
    "duration": 20,
    "start_time": "2022-12-13T11:24:35.640Z"
   },
   {
    "duration": 18,
    "start_time": "2022-12-13T11:24:35.662Z"
   },
   {
    "duration": 34,
    "start_time": "2022-12-13T11:24:35.683Z"
   },
   {
    "duration": 36,
    "start_time": "2022-12-13T11:24:35.720Z"
   },
   {
    "duration": 30,
    "start_time": "2022-12-13T11:24:35.758Z"
   },
   {
    "duration": 320,
    "start_time": "2022-12-13T11:24:35.790Z"
   },
   {
    "duration": 14,
    "start_time": "2022-12-13T11:24:36.113Z"
   },
   {
    "duration": 314,
    "start_time": "2022-12-13T11:24:36.129Z"
   },
   {
    "duration": 9,
    "start_time": "2022-12-13T11:24:36.445Z"
   },
   {
    "duration": 24,
    "start_time": "2022-12-13T11:24:36.456Z"
   },
   {
    "duration": 50,
    "start_time": "2022-12-13T11:24:36.482Z"
   },
   {
    "duration": 16,
    "start_time": "2022-12-13T11:24:36.537Z"
   },
   {
    "duration": 221,
    "start_time": "2022-12-13T11:24:36.555Z"
   },
   {
    "duration": 15,
    "start_time": "2022-12-13T11:24:36.778Z"
   },
   {
    "duration": 38,
    "start_time": "2022-12-13T11:24:36.795Z"
   },
   {
    "duration": 346,
    "start_time": "2022-12-13T11:24:36.834Z"
   },
   {
    "duration": 247,
    "start_time": "2022-12-13T11:24:37.182Z"
   },
   {
    "duration": 317,
    "start_time": "2022-12-13T11:24:37.431Z"
   },
   {
    "duration": 136,
    "start_time": "2022-12-13T11:24:37.750Z"
   },
   {
    "duration": 282,
    "start_time": "2022-12-13T11:24:37.888Z"
   },
   {
    "duration": 8,
    "start_time": "2022-12-13T11:24:38.226Z"
   },
   {
    "duration": 10,
    "start_time": "2022-12-13T11:24:38.239Z"
   },
   {
    "duration": 10,
    "start_time": "2022-12-13T11:24:38.250Z"
   },
   {
    "duration": 401,
    "start_time": "2022-12-13T11:24:38.261Z"
   },
   {
    "duration": 6,
    "start_time": "2022-12-13T11:24:38.664Z"
   },
   {
    "duration": 465,
    "start_time": "2022-12-13T11:24:38.672Z"
   },
   {
    "duration": 28,
    "start_time": "2022-12-13T11:24:39.140Z"
   },
   {
    "duration": 316,
    "start_time": "2022-12-13T11:24:39.227Z"
   },
   {
    "duration": 22,
    "start_time": "2022-12-13T11:24:39.544Z"
   },
   {
    "duration": 63,
    "start_time": "2022-12-13T11:24:39.567Z"
   },
   {
    "duration": 12,
    "start_time": "2022-12-13T11:24:39.633Z"
   },
   {
    "duration": 7,
    "start_time": "2022-12-13T11:24:39.647Z"
   },
   {
    "duration": 73,
    "start_time": "2022-12-13T11:24:39.656Z"
   },
   {
    "duration": 18,
    "start_time": "2022-12-13T11:24:39.736Z"
   },
   {
    "duration": 1441,
    "start_time": "2022-12-13T11:30:25.447Z"
   },
   {
    "duration": 5,
    "start_time": "2022-12-13T11:30:39.580Z"
   },
   {
    "duration": 13,
    "start_time": "2022-12-13T11:31:23.510Z"
   },
   {
    "duration": 12,
    "start_time": "2022-12-13T11:31:32.747Z"
   },
   {
    "duration": 1280,
    "start_time": "2022-12-13T11:31:57.504Z"
   },
   {
    "duration": 29,
    "start_time": "2022-12-13T11:31:58.785Z"
   },
   {
    "duration": 4,
    "start_time": "2022-12-13T11:31:58.816Z"
   },
   {
    "duration": 46,
    "start_time": "2022-12-13T11:31:58.824Z"
   },
   {
    "duration": 16,
    "start_time": "2022-12-13T11:31:58.872Z"
   },
   {
    "duration": 7,
    "start_time": "2022-12-13T11:31:58.889Z"
   },
   {
    "duration": 13,
    "start_time": "2022-12-13T11:31:58.898Z"
   },
   {
    "duration": 10,
    "start_time": "2022-12-13T11:31:58.912Z"
   },
   {
    "duration": 53,
    "start_time": "2022-12-13T11:31:58.924Z"
   },
   {
    "duration": 11,
    "start_time": "2022-12-13T11:31:58.979Z"
   },
   {
    "duration": 15,
    "start_time": "2022-12-13T11:31:58.992Z"
   },
   {
    "duration": 14,
    "start_time": "2022-12-13T11:31:59.009Z"
   },
   {
    "duration": 27,
    "start_time": "2022-12-13T11:31:59.025Z"
   },
   {
    "duration": 26,
    "start_time": "2022-12-13T11:31:59.055Z"
   },
   {
    "duration": 11,
    "start_time": "2022-12-13T11:31:59.083Z"
   },
   {
    "duration": 11,
    "start_time": "2022-12-13T11:31:59.095Z"
   },
   {
    "duration": 15,
    "start_time": "2022-12-13T11:31:59.108Z"
   },
   {
    "duration": 26,
    "start_time": "2022-12-13T11:31:59.125Z"
   },
   {
    "duration": 25,
    "start_time": "2022-12-13T11:31:59.153Z"
   },
   {
    "duration": 16,
    "start_time": "2022-12-13T11:31:59.179Z"
   },
   {
    "duration": 4,
    "start_time": "2022-12-13T11:31:59.197Z"
   },
   {
    "duration": 7,
    "start_time": "2022-12-13T11:31:59.203Z"
   },
   {
    "duration": 13,
    "start_time": "2022-12-13T11:31:59.211Z"
   },
   {
    "duration": 22,
    "start_time": "2022-12-13T11:31:59.226Z"
   },
   {
    "duration": 25,
    "start_time": "2022-12-13T11:31:59.249Z"
   },
   {
    "duration": 306,
    "start_time": "2022-12-13T11:31:59.275Z"
   },
   {
    "duration": 7,
    "start_time": "2022-12-13T11:31:59.582Z"
   },
   {
    "duration": 340,
    "start_time": "2022-12-13T11:31:59.592Z"
   },
   {
    "duration": 17,
    "start_time": "2022-12-13T11:31:59.940Z"
   },
   {
    "duration": 37,
    "start_time": "2022-12-13T11:31:59.958Z"
   },
   {
    "duration": 39,
    "start_time": "2022-12-13T11:31:59.997Z"
   },
   {
    "duration": 49,
    "start_time": "2022-12-13T11:32:00.042Z"
   },
   {
    "duration": 276,
    "start_time": "2022-12-13T11:32:00.093Z"
   },
   {
    "duration": 16,
    "start_time": "2022-12-13T11:32:00.371Z"
   },
   {
    "duration": 68,
    "start_time": "2022-12-13T11:32:00.389Z"
   },
   {
    "duration": 348,
    "start_time": "2022-12-13T11:32:00.459Z"
   },
   {
    "duration": 249,
    "start_time": "2022-12-13T11:32:00.809Z"
   },
   {
    "duration": 338,
    "start_time": "2022-12-13T11:32:01.060Z"
   },
   {
    "duration": 164,
    "start_time": "2022-12-13T11:32:01.400Z"
   },
   {
    "duration": 207,
    "start_time": "2022-12-13T11:32:01.567Z"
   },
   {
    "duration": 5,
    "start_time": "2022-12-13T11:32:01.776Z"
   },
   {
    "duration": 68,
    "start_time": "2022-12-13T11:32:01.783Z"
   },
   {
    "duration": 22,
    "start_time": "2022-12-13T11:32:01.853Z"
   },
   {
    "duration": 248,
    "start_time": "2022-12-13T11:32:01.877Z"
   },
   {
    "duration": 10,
    "start_time": "2022-12-13T11:32:02.136Z"
   },
   {
    "duration": 34,
    "start_time": "2022-12-13T11:32:02.147Z"
   },
   {
    "duration": 230,
    "start_time": "2022-12-13T11:32:02.183Z"
   },
   {
    "duration": 34,
    "start_time": "2022-12-13T11:32:02.415Z"
   },
   {
    "duration": 197,
    "start_time": "2022-12-13T11:32:02.451Z"
   },
   {
    "duration": 21,
    "start_time": "2022-12-13T11:32:02.650Z"
   },
   {
    "duration": 19,
    "start_time": "2022-12-13T11:32:02.673Z"
   },
   {
    "duration": 39,
    "start_time": "2022-12-13T11:32:02.694Z"
   },
   {
    "duration": 54,
    "start_time": "2022-12-13T11:32:02.736Z"
   },
   {
    "duration": 38,
    "start_time": "2022-12-13T11:32:02.791Z"
   },
   {
    "duration": 39,
    "start_time": "2022-12-13T11:32:02.831Z"
   },
   {
    "duration": 1459,
    "start_time": "2022-12-13T13:09:05.278Z"
   },
   {
    "duration": 71,
    "start_time": "2022-12-13T13:09:06.739Z"
   },
   {
    "duration": 4,
    "start_time": "2022-12-13T13:09:06.812Z"
   },
   {
    "duration": 34,
    "start_time": "2022-12-13T13:09:06.818Z"
   },
   {
    "duration": 21,
    "start_time": "2022-12-13T13:09:06.856Z"
   },
   {
    "duration": 5,
    "start_time": "2022-12-13T13:09:06.879Z"
   },
   {
    "duration": 20,
    "start_time": "2022-12-13T13:09:06.886Z"
   },
   {
    "duration": 11,
    "start_time": "2022-12-13T13:09:06.907Z"
   },
   {
    "duration": 95,
    "start_time": "2022-12-13T13:09:06.920Z"
   },
   {
    "duration": 11,
    "start_time": "2022-12-13T13:09:07.017Z"
   },
   {
    "duration": 18,
    "start_time": "2022-12-13T13:09:07.029Z"
   },
   {
    "duration": 23,
    "start_time": "2022-12-13T13:09:07.049Z"
   },
   {
    "duration": 10,
    "start_time": "2022-12-13T13:09:07.074Z"
   },
   {
    "duration": 62,
    "start_time": "2022-12-13T13:09:07.089Z"
   },
   {
    "duration": 12,
    "start_time": "2022-12-13T13:09:07.152Z"
   },
   {
    "duration": 11,
    "start_time": "2022-12-13T13:09:07.166Z"
   },
   {
    "duration": 9,
    "start_time": "2022-12-13T13:09:07.178Z"
   },
   {
    "duration": 9,
    "start_time": "2022-12-13T13:09:07.189Z"
   },
   {
    "duration": 11,
    "start_time": "2022-12-13T13:09:07.200Z"
   },
   {
    "duration": 9,
    "start_time": "2022-12-13T13:09:07.213Z"
   },
   {
    "duration": 6,
    "start_time": "2022-12-13T13:09:07.224Z"
   },
   {
    "duration": 6,
    "start_time": "2022-12-13T13:09:07.231Z"
   },
   {
    "duration": 15,
    "start_time": "2022-12-13T13:09:07.239Z"
   },
   {
    "duration": 33,
    "start_time": "2022-12-13T13:09:07.257Z"
   },
   {
    "duration": 21,
    "start_time": "2022-12-13T13:09:07.292Z"
   },
   {
    "duration": 332,
    "start_time": "2022-12-13T13:09:07.314Z"
   },
   {
    "duration": 6,
    "start_time": "2022-12-13T13:09:07.648Z"
   },
   {
    "duration": 319,
    "start_time": "2022-12-13T13:09:07.656Z"
   },
   {
    "duration": 13,
    "start_time": "2022-12-13T13:09:07.978Z"
   },
   {
    "duration": 30,
    "start_time": "2022-12-13T13:09:07.992Z"
   },
   {
    "duration": 17,
    "start_time": "2022-12-13T13:09:08.024Z"
   },
   {
    "duration": 39,
    "start_time": "2022-12-13T13:09:08.043Z"
   },
   {
    "duration": 261,
    "start_time": "2022-12-13T13:09:08.084Z"
   },
   {
    "duration": 34,
    "start_time": "2022-12-13T13:09:08.347Z"
   },
   {
    "duration": 26,
    "start_time": "2022-12-13T13:09:08.383Z"
   },
   {
    "duration": 375,
    "start_time": "2022-12-13T13:09:08.411Z"
   },
   {
    "duration": 258,
    "start_time": "2022-12-13T13:09:08.788Z"
   },
   {
    "duration": 356,
    "start_time": "2022-12-13T13:09:09.048Z"
   },
   {
    "duration": 139,
    "start_time": "2022-12-13T13:09:09.406Z"
   },
   {
    "duration": 164,
    "start_time": "2022-12-13T13:09:09.547Z"
   },
   {
    "duration": 5,
    "start_time": "2022-12-13T13:09:09.715Z"
   },
   {
    "duration": 6,
    "start_time": "2022-12-13T13:09:09.722Z"
   },
   {
    "duration": 199,
    "start_time": "2022-12-13T13:09:09.730Z"
   },
   {
    "duration": 6,
    "start_time": "2022-12-13T13:09:09.931Z"
   },
   {
    "duration": 10,
    "start_time": "2022-12-13T13:09:09.938Z"
   },
   {
    "duration": 215,
    "start_time": "2022-12-13T13:09:09.950Z"
   },
   {
    "duration": 35,
    "start_time": "2022-12-13T13:09:10.167Z"
   },
   {
    "duration": 159,
    "start_time": "2022-12-13T13:09:10.204Z"
   },
   {
    "duration": 28,
    "start_time": "2022-12-13T13:09:10.365Z"
   },
   {
    "duration": 11,
    "start_time": "2022-12-13T13:09:10.395Z"
   },
   {
    "duration": 10,
    "start_time": "2022-12-13T13:09:10.407Z"
   },
   {
    "duration": 7,
    "start_time": "2022-12-13T13:09:10.419Z"
   },
   {
    "duration": 21,
    "start_time": "2022-12-13T13:09:10.428Z"
   },
   {
    "duration": 16,
    "start_time": "2022-12-13T13:09:10.478Z"
   },
   {
    "duration": 1205,
    "start_time": "2022-12-13T13:10:15.058Z"
   },
   {
    "duration": 35,
    "start_time": "2022-12-13T13:10:16.265Z"
   },
   {
    "duration": 4,
    "start_time": "2022-12-13T13:10:16.301Z"
   },
   {
    "duration": 30,
    "start_time": "2022-12-13T13:10:16.307Z"
   },
   {
    "duration": 27,
    "start_time": "2022-12-13T13:10:16.339Z"
   },
   {
    "duration": 18,
    "start_time": "2022-12-13T13:10:16.368Z"
   },
   {
    "duration": 21,
    "start_time": "2022-12-13T13:10:16.388Z"
   },
   {
    "duration": 11,
    "start_time": "2022-12-13T13:10:16.410Z"
   },
   {
    "duration": 74,
    "start_time": "2022-12-13T13:10:16.423Z"
   },
   {
    "duration": 11,
    "start_time": "2022-12-13T13:10:16.500Z"
   },
   {
    "duration": 30,
    "start_time": "2022-12-13T13:10:16.513Z"
   },
   {
    "duration": 18,
    "start_time": "2022-12-13T13:10:16.544Z"
   },
   {
    "duration": 22,
    "start_time": "2022-12-13T13:10:16.564Z"
   },
   {
    "duration": 41,
    "start_time": "2022-12-13T13:10:16.587Z"
   },
   {
    "duration": 25,
    "start_time": "2022-12-13T13:10:16.630Z"
   },
   {
    "duration": 22,
    "start_time": "2022-12-13T13:10:16.657Z"
   },
   {
    "duration": 36,
    "start_time": "2022-12-13T13:10:16.681Z"
   },
   {
    "duration": 18,
    "start_time": "2022-12-13T13:10:16.719Z"
   },
   {
    "duration": 42,
    "start_time": "2022-12-13T13:10:16.739Z"
   },
   {
    "duration": 25,
    "start_time": "2022-12-13T13:10:16.783Z"
   },
   {
    "duration": 24,
    "start_time": "2022-12-13T13:10:16.810Z"
   },
   {
    "duration": 15,
    "start_time": "2022-12-13T13:10:16.836Z"
   },
   {
    "duration": 29,
    "start_time": "2022-12-13T13:10:16.853Z"
   },
   {
    "duration": 25,
    "start_time": "2022-12-13T13:10:16.884Z"
   },
   {
    "duration": 29,
    "start_time": "2022-12-13T13:10:16.913Z"
   },
   {
    "duration": 335,
    "start_time": "2022-12-13T13:10:16.943Z"
   },
   {
    "duration": 7,
    "start_time": "2022-12-13T13:10:17.280Z"
   },
   {
    "duration": 329,
    "start_time": "2022-12-13T13:10:17.291Z"
   },
   {
    "duration": 10,
    "start_time": "2022-12-13T13:10:17.622Z"
   },
   {
    "duration": 29,
    "start_time": "2022-12-13T13:10:17.634Z"
   },
   {
    "duration": 41,
    "start_time": "2022-12-13T13:10:17.664Z"
   },
   {
    "duration": 39,
    "start_time": "2022-12-13T13:10:17.707Z"
   },
   {
    "duration": 229,
    "start_time": "2022-12-13T13:10:17.748Z"
   },
   {
    "duration": 17,
    "start_time": "2022-12-13T13:10:17.979Z"
   },
   {
    "duration": 23,
    "start_time": "2022-12-13T13:10:17.998Z"
   },
   {
    "duration": 350,
    "start_time": "2022-12-13T13:10:18.023Z"
   },
   {
    "duration": 287,
    "start_time": "2022-12-13T13:10:18.377Z"
   },
   {
    "duration": 351,
    "start_time": "2022-12-13T13:10:18.666Z"
   },
   {
    "duration": 152,
    "start_time": "2022-12-13T13:10:19.019Z"
   },
   {
    "duration": 166,
    "start_time": "2022-12-13T13:10:19.178Z"
   },
   {
    "duration": 5,
    "start_time": "2022-12-13T13:10:19.345Z"
   },
   {
    "duration": 25,
    "start_time": "2022-12-13T13:10:19.352Z"
   },
   {
    "duration": 198,
    "start_time": "2022-12-13T13:10:19.379Z"
   },
   {
    "duration": 4,
    "start_time": "2022-12-13T13:10:19.580Z"
   },
   {
    "duration": 23,
    "start_time": "2022-12-13T13:10:19.586Z"
   },
   {
    "duration": 210,
    "start_time": "2022-12-13T13:10:19.611Z"
   },
   {
    "duration": 81,
    "start_time": "2022-12-13T13:10:19.823Z"
   },
   {
    "duration": 283,
    "start_time": "2022-12-13T13:10:19.906Z"
   },
   {
    "duration": 24,
    "start_time": "2022-12-13T13:10:20.191Z"
   },
   {
    "duration": 12,
    "start_time": "2022-12-13T13:10:20.217Z"
   },
   {
    "duration": 29,
    "start_time": "2022-12-13T13:10:20.231Z"
   },
   {
    "duration": 33,
    "start_time": "2022-12-13T13:10:20.262Z"
   },
   {
    "duration": 35,
    "start_time": "2022-12-13T13:10:20.297Z"
   },
   {
    "duration": 26,
    "start_time": "2022-12-13T13:10:20.334Z"
   },
   {
    "duration": 1607,
    "start_time": "2022-12-13T21:06:07.117Z"
   },
   {
    "duration": 108,
    "start_time": "2022-12-13T21:06:08.726Z"
   },
   {
    "duration": 4,
    "start_time": "2022-12-13T21:06:08.837Z"
   },
   {
    "duration": 52,
    "start_time": "2022-12-13T21:06:08.843Z"
   },
   {
    "duration": 41,
    "start_time": "2022-12-13T21:06:08.897Z"
   },
   {
    "duration": 11,
    "start_time": "2022-12-13T21:06:08.940Z"
   },
   {
    "duration": 41,
    "start_time": "2022-12-13T21:06:08.953Z"
   },
   {
    "duration": 31,
    "start_time": "2022-12-13T21:06:08.996Z"
   },
   {
    "duration": 121,
    "start_time": "2022-12-13T21:06:09.029Z"
   },
   {
    "duration": 32,
    "start_time": "2022-12-13T21:06:09.161Z"
   },
   {
    "duration": 28,
    "start_time": "2022-12-13T21:06:09.196Z"
   },
   {
    "duration": 38,
    "start_time": "2022-12-13T21:06:09.227Z"
   },
   {
    "duration": 42,
    "start_time": "2022-12-13T21:06:09.268Z"
   },
   {
    "duration": 105,
    "start_time": "2022-12-13T21:06:09.312Z"
   },
   {
    "duration": 14,
    "start_time": "2022-12-13T21:06:09.419Z"
   },
   {
    "duration": 33,
    "start_time": "2022-12-13T21:06:09.435Z"
   },
   {
    "duration": 25,
    "start_time": "2022-12-13T21:06:09.470Z"
   },
   {
    "duration": 20,
    "start_time": "2022-12-13T21:06:09.498Z"
   },
   {
    "duration": 29,
    "start_time": "2022-12-13T21:06:09.521Z"
   },
   {
    "duration": 17,
    "start_time": "2022-12-13T21:06:09.552Z"
   },
   {
    "duration": 32,
    "start_time": "2022-12-13T21:06:09.572Z"
   },
   {
    "duration": 30,
    "start_time": "2022-12-13T21:06:09.606Z"
   },
   {
    "duration": 85,
    "start_time": "2022-12-13T21:06:09.640Z"
   },
   {
    "duration": 32,
    "start_time": "2022-12-13T21:06:09.727Z"
   },
   {
    "duration": 61,
    "start_time": "2022-12-13T21:06:09.762Z"
   },
   {
    "duration": 577,
    "start_time": "2022-12-13T21:06:09.825Z"
   },
   {
    "duration": 13,
    "start_time": "2022-12-13T21:06:10.405Z"
   },
   {
    "duration": 518,
    "start_time": "2022-12-13T21:06:10.424Z"
   },
   {
    "duration": 17,
    "start_time": "2022-12-13T21:06:10.950Z"
   },
   {
    "duration": 64,
    "start_time": "2022-12-13T21:06:10.969Z"
   },
   {
    "duration": 48,
    "start_time": "2022-12-13T21:06:11.035Z"
   },
   {
    "duration": 43,
    "start_time": "2022-12-13T21:06:11.085Z"
   },
   {
    "duration": 363,
    "start_time": "2022-12-13T21:06:11.130Z"
   },
   {
    "duration": 19,
    "start_time": "2022-12-13T21:06:11.495Z"
   },
   {
    "duration": 42,
    "start_time": "2022-12-13T21:06:11.518Z"
   },
   {
    "duration": 542,
    "start_time": "2022-12-13T21:06:11.562Z"
   },
   {
    "duration": 349,
    "start_time": "2022-12-13T21:06:12.106Z"
   },
   {
    "duration": 369,
    "start_time": "2022-12-13T21:06:12.463Z"
   },
   {
    "duration": 232,
    "start_time": "2022-12-13T21:06:12.834Z"
   },
   {
    "duration": 195,
    "start_time": "2022-12-13T21:06:13.068Z"
   },
   {
    "duration": 11,
    "start_time": "2022-12-13T21:06:13.266Z"
   },
   {
    "duration": 31,
    "start_time": "2022-12-13T21:06:13.280Z"
   },
   {
    "duration": 170,
    "start_time": "2022-12-13T21:06:13.317Z"
   },
   {
    "duration": 223,
    "start_time": "2022-12-13T21:06:13.496Z"
   },
   {
    "duration": 6,
    "start_time": "2022-12-13T21:06:13.721Z"
   },
   {
    "duration": 13,
    "start_time": "2022-12-13T21:06:13.730Z"
   },
   {
    "duration": 375,
    "start_time": "2022-12-13T21:06:13.750Z"
   },
   {
    "duration": 47,
    "start_time": "2022-12-13T21:06:14.128Z"
   },
   {
    "duration": 279,
    "start_time": "2022-12-13T21:06:14.177Z"
   },
   {
    "duration": 42,
    "start_time": "2022-12-13T21:06:14.459Z"
   },
   {
    "duration": 22,
    "start_time": "2022-12-13T21:06:14.503Z"
   },
   {
    "duration": 32,
    "start_time": "2022-12-13T21:06:14.527Z"
   },
   {
    "duration": 31,
    "start_time": "2022-12-13T21:06:14.562Z"
   },
   {
    "duration": 40,
    "start_time": "2022-12-13T21:06:14.595Z"
   },
   {
    "duration": 19,
    "start_time": "2022-12-13T21:06:14.637Z"
   },
   {
    "duration": 163,
    "start_time": "2022-12-13T21:06:47.166Z"
   },
   {
    "duration": 164,
    "start_time": "2022-12-13T21:06:55.128Z"
   },
   {
    "duration": 12,
    "start_time": "2022-12-13T21:31:13.900Z"
   },
   {
    "duration": 233,
    "start_time": "2022-12-13T21:32:29.080Z"
   },
   {
    "duration": 224,
    "start_time": "2022-12-13T21:36:31.622Z"
   },
   {
    "duration": 7,
    "start_time": "2022-12-13T21:38:16.790Z"
   },
   {
    "duration": 116,
    "start_time": "2022-12-13T21:38:55.089Z"
   },
   {
    "duration": 241,
    "start_time": "2022-12-13T21:39:25.903Z"
   },
   {
    "duration": 11,
    "start_time": "2022-12-13T21:40:02.522Z"
   },
   {
    "duration": 1516,
    "start_time": "2022-12-13T21:52:01.808Z"
   },
   {
    "duration": 68,
    "start_time": "2022-12-13T21:52:03.326Z"
   },
   {
    "duration": 4,
    "start_time": "2022-12-13T21:52:03.396Z"
   },
   {
    "duration": 19,
    "start_time": "2022-12-13T21:52:03.403Z"
   },
   {
    "duration": 16,
    "start_time": "2022-12-13T21:52:03.424Z"
   },
   {
    "duration": 4,
    "start_time": "2022-12-13T21:52:03.442Z"
   },
   {
    "duration": 58,
    "start_time": "2022-12-13T21:52:03.448Z"
   },
   {
    "duration": 17,
    "start_time": "2022-12-13T21:52:03.509Z"
   },
   {
    "duration": 75,
    "start_time": "2022-12-13T21:52:03.529Z"
   },
   {
    "duration": 14,
    "start_time": "2022-12-13T21:52:03.607Z"
   },
   {
    "duration": 18,
    "start_time": "2022-12-13T21:52:03.626Z"
   },
   {
    "duration": 61,
    "start_time": "2022-12-13T21:52:03.647Z"
   },
   {
    "duration": 9,
    "start_time": "2022-12-13T21:52:03.710Z"
   },
   {
    "duration": 43,
    "start_time": "2022-12-13T21:52:03.721Z"
   },
   {
    "duration": 18,
    "start_time": "2022-12-13T21:52:03.766Z"
   },
   {
    "duration": 65,
    "start_time": "2022-12-13T21:52:03.791Z"
   },
   {
    "duration": 63,
    "start_time": "2022-12-13T21:52:03.858Z"
   },
   {
    "duration": 33,
    "start_time": "2022-12-13T21:52:03.923Z"
   },
   {
    "duration": 66,
    "start_time": "2022-12-13T21:52:03.961Z"
   },
   {
    "duration": 62,
    "start_time": "2022-12-13T21:52:04.053Z"
   },
   {
    "duration": 10,
    "start_time": "2022-12-13T21:52:04.118Z"
   },
   {
    "duration": 23,
    "start_time": "2022-12-13T21:52:04.130Z"
   },
   {
    "duration": 102,
    "start_time": "2022-12-13T21:52:04.155Z"
   },
   {
    "duration": 43,
    "start_time": "2022-12-13T21:52:04.260Z"
   },
   {
    "duration": 74,
    "start_time": "2022-12-13T21:52:04.311Z"
   },
   {
    "duration": 969,
    "start_time": "2022-12-13T21:52:04.393Z"
   },
   {
    "duration": 8,
    "start_time": "2022-12-13T21:52:05.364Z"
   },
   {
    "duration": 905,
    "start_time": "2022-12-13T21:52:05.378Z"
   },
   {
    "duration": 21,
    "start_time": "2022-12-13T21:52:06.301Z"
   },
   {
    "duration": 39,
    "start_time": "2022-12-13T21:52:06.327Z"
   },
   {
    "duration": 58,
    "start_time": "2022-12-13T21:52:06.368Z"
   },
   {
    "duration": 24,
    "start_time": "2022-12-13T21:52:06.428Z"
   },
   {
    "duration": 355,
    "start_time": "2022-12-13T21:52:06.454Z"
   },
   {
    "duration": 20,
    "start_time": "2022-12-13T21:52:06.813Z"
   },
   {
    "duration": 37,
    "start_time": "2022-12-13T21:52:06.835Z"
   },
   {
    "duration": 376,
    "start_time": "2022-12-13T21:52:06.874Z"
   },
   {
    "duration": 340,
    "start_time": "2022-12-13T21:52:07.259Z"
   },
   {
    "duration": 479,
    "start_time": "2022-12-13T21:52:07.602Z"
   },
   {
    "duration": 408,
    "start_time": "2022-12-13T21:52:08.083Z"
   },
   {
    "duration": 471,
    "start_time": "2022-12-13T21:52:08.493Z"
   },
   {
    "duration": 9,
    "start_time": "2022-12-13T21:52:08.970Z"
   },
   {
    "duration": 30,
    "start_time": "2022-12-13T21:52:08.981Z"
   },
   {
    "duration": 374,
    "start_time": "2022-12-13T21:52:09.013Z"
   },
   {
    "duration": 583,
    "start_time": "2022-12-13T21:52:09.389Z"
   },
   {
    "duration": 13,
    "start_time": "2022-12-13T21:52:09.974Z"
   },
   {
    "duration": 34,
    "start_time": "2022-12-13T21:52:09.989Z"
   },
   {
    "duration": 727,
    "start_time": "2022-12-13T21:52:10.026Z"
   },
   {
    "duration": 46,
    "start_time": "2022-12-13T21:52:10.763Z"
   },
   {
    "duration": 242,
    "start_time": "2022-12-13T21:52:10.811Z"
   },
   {
    "duration": 18,
    "start_time": "2022-12-13T21:52:11.055Z"
   },
   {
    "duration": 44,
    "start_time": "2022-12-13T21:52:11.075Z"
   },
   {
    "duration": 332,
    "start_time": "2022-12-13T21:52:11.121Z"
   },
   {
    "duration": 0,
    "start_time": "2022-12-13T21:52:11.456Z"
   },
   {
    "duration": 0,
    "start_time": "2022-12-13T21:52:11.457Z"
   },
   {
    "duration": 0,
    "start_time": "2022-12-13T21:52:11.458Z"
   },
   {
    "duration": 0,
    "start_time": "2022-12-13T21:52:11.460Z"
   },
   {
    "duration": 0,
    "start_time": "2022-12-13T21:52:11.461Z"
   },
   {
    "duration": 0,
    "start_time": "2022-12-13T21:52:11.461Z"
   },
   {
    "duration": 5,
    "start_time": "2022-12-13T21:53:46.838Z"
   },
   {
    "duration": 10,
    "start_time": "2022-12-13T21:57:28.339Z"
   },
   {
    "duration": 11,
    "start_time": "2022-12-13T21:57:41.843Z"
   },
   {
    "duration": 199,
    "start_time": "2022-12-13T21:57:46.780Z"
   },
   {
    "duration": 15,
    "start_time": "2022-12-13T21:58:42.476Z"
   },
   {
    "duration": 19,
    "start_time": "2022-12-13T21:58:52.586Z"
   },
   {
    "duration": 13,
    "start_time": "2022-12-13T21:58:59.743Z"
   },
   {
    "duration": 139,
    "start_time": "2022-12-13T21:59:19.711Z"
   },
   {
    "duration": 274,
    "start_time": "2022-12-13T21:59:33.807Z"
   },
   {
    "duration": 25,
    "start_time": "2022-12-13T22:00:03.448Z"
   },
   {
    "duration": 286,
    "start_time": "2022-12-13T22:00:05.787Z"
   },
   {
    "duration": 7,
    "start_time": "2022-12-13T22:01:09.276Z"
   },
   {
    "duration": 331,
    "start_time": "2022-12-13T22:01:15.326Z"
   },
   {
    "duration": 1575,
    "start_time": "2022-12-13T22:01:32.412Z"
   },
   {
    "duration": 31,
    "start_time": "2022-12-13T22:01:33.992Z"
   },
   {
    "duration": 4,
    "start_time": "2022-12-13T22:01:34.025Z"
   },
   {
    "duration": 16,
    "start_time": "2022-12-13T22:01:34.031Z"
   },
   {
    "duration": 49,
    "start_time": "2022-12-13T22:01:34.049Z"
   },
   {
    "duration": 10,
    "start_time": "2022-12-13T22:01:34.100Z"
   },
   {
    "duration": 20,
    "start_time": "2022-12-13T22:01:34.113Z"
   },
   {
    "duration": 17,
    "start_time": "2022-12-13T22:01:34.135Z"
   },
   {
    "duration": 58,
    "start_time": "2022-12-13T22:01:34.154Z"
   },
   {
    "duration": 30,
    "start_time": "2022-12-13T22:01:34.218Z"
   },
   {
    "duration": 44,
    "start_time": "2022-12-13T22:01:34.251Z"
   },
   {
    "duration": 25,
    "start_time": "2022-12-13T22:01:34.298Z"
   },
   {
    "duration": 11,
    "start_time": "2022-12-13T22:01:34.325Z"
   },
   {
    "duration": 38,
    "start_time": "2022-12-13T22:01:34.338Z"
   },
   {
    "duration": 18,
    "start_time": "2022-12-13T22:01:34.379Z"
   },
   {
    "duration": 16,
    "start_time": "2022-12-13T22:01:34.400Z"
   },
   {
    "duration": 8,
    "start_time": "2022-12-13T22:01:34.417Z"
   },
   {
    "duration": 10,
    "start_time": "2022-12-13T22:01:34.427Z"
   },
   {
    "duration": 23,
    "start_time": "2022-12-13T22:01:34.439Z"
   },
   {
    "duration": 22,
    "start_time": "2022-12-13T22:01:34.466Z"
   },
   {
    "duration": 15,
    "start_time": "2022-12-13T22:01:34.490Z"
   },
   {
    "duration": 15,
    "start_time": "2022-12-13T22:01:34.507Z"
   },
   {
    "duration": 31,
    "start_time": "2022-12-13T22:01:34.524Z"
   },
   {
    "duration": 33,
    "start_time": "2022-12-13T22:01:34.560Z"
   },
   {
    "duration": 36,
    "start_time": "2022-12-13T22:01:34.596Z"
   },
   {
    "duration": 410,
    "start_time": "2022-12-13T22:01:34.634Z"
   },
   {
    "duration": 15,
    "start_time": "2022-12-13T22:01:35.047Z"
   },
   {
    "duration": 438,
    "start_time": "2022-12-13T22:01:35.071Z"
   },
   {
    "duration": 15,
    "start_time": "2022-12-13T22:01:35.512Z"
   },
   {
    "duration": 45,
    "start_time": "2022-12-13T22:01:35.529Z"
   },
   {
    "duration": 36,
    "start_time": "2022-12-13T22:01:35.582Z"
   },
   {
    "duration": 25,
    "start_time": "2022-12-13T22:01:35.621Z"
   },
   {
    "duration": 372,
    "start_time": "2022-12-13T22:01:35.648Z"
   },
   {
    "duration": 43,
    "start_time": "2022-12-13T22:01:36.022Z"
   },
   {
    "duration": 40,
    "start_time": "2022-12-13T22:01:36.068Z"
   },
   {
    "duration": 397,
    "start_time": "2022-12-13T22:01:36.111Z"
   },
   {
    "duration": 343,
    "start_time": "2022-12-13T22:01:36.510Z"
   },
   {
    "duration": 427,
    "start_time": "2022-12-13T22:01:36.860Z"
   },
   {
    "duration": 198,
    "start_time": "2022-12-13T22:01:37.291Z"
   },
   {
    "duration": 262,
    "start_time": "2022-12-13T22:01:37.494Z"
   },
   {
    "duration": 8,
    "start_time": "2022-12-13T22:01:37.758Z"
   },
   {
    "duration": 29,
    "start_time": "2022-12-13T22:01:37.771Z"
   },
   {
    "duration": 197,
    "start_time": "2022-12-13T22:01:37.806Z"
   },
   {
    "duration": 291,
    "start_time": "2022-12-13T22:01:38.005Z"
   },
   {
    "duration": 6,
    "start_time": "2022-12-13T22:01:38.299Z"
   },
   {
    "duration": 22,
    "start_time": "2022-12-13T22:01:38.307Z"
   },
   {
    "duration": 484,
    "start_time": "2022-12-13T22:01:38.332Z"
   },
   {
    "duration": 57,
    "start_time": "2022-12-13T22:01:38.819Z"
   },
   {
    "duration": 280,
    "start_time": "2022-12-13T22:01:38.879Z"
   },
   {
    "duration": 15,
    "start_time": "2022-12-13T22:01:39.161Z"
   },
   {
    "duration": 64,
    "start_time": "2022-12-13T22:01:39.178Z"
   },
   {
    "duration": 53,
    "start_time": "2022-12-13T22:01:39.244Z"
   },
   {
    "duration": 207,
    "start_time": "2022-12-13T22:01:39.299Z"
   },
   {
    "duration": 34,
    "start_time": "2022-12-13T22:01:39.508Z"
   },
   {
    "duration": 30,
    "start_time": "2022-12-13T22:01:39.544Z"
   },
   {
    "duration": 31,
    "start_time": "2022-12-13T22:01:39.577Z"
   },
   {
    "duration": 17,
    "start_time": "2022-12-13T22:01:39.611Z"
   },
   {
    "duration": 58,
    "start_time": "2022-12-13T22:01:39.630Z"
   },
   {
    "duration": 56,
    "start_time": "2022-12-13T22:01:39.692Z"
   },
   {
    "duration": 1345,
    "start_time": "2022-12-13T22:03:23.088Z"
   },
   {
    "duration": 35,
    "start_time": "2022-12-13T22:03:24.435Z"
   },
   {
    "duration": 4,
    "start_time": "2022-12-13T22:03:24.471Z"
   },
   {
    "duration": 23,
    "start_time": "2022-12-13T22:03:24.477Z"
   },
   {
    "duration": 16,
    "start_time": "2022-12-13T22:03:24.503Z"
   },
   {
    "duration": 7,
    "start_time": "2022-12-13T22:03:24.521Z"
   },
   {
    "duration": 16,
    "start_time": "2022-12-13T22:03:24.530Z"
   },
   {
    "duration": 27,
    "start_time": "2022-12-13T22:03:24.548Z"
   },
   {
    "duration": 48,
    "start_time": "2022-12-13T22:03:24.578Z"
   },
   {
    "duration": 12,
    "start_time": "2022-12-13T22:03:24.629Z"
   },
   {
    "duration": 15,
    "start_time": "2022-12-13T22:03:24.642Z"
   },
   {
    "duration": 37,
    "start_time": "2022-12-13T22:03:24.660Z"
   },
   {
    "duration": 10,
    "start_time": "2022-12-13T22:03:24.700Z"
   },
   {
    "duration": 17,
    "start_time": "2022-12-13T22:03:24.711Z"
   },
   {
    "duration": 11,
    "start_time": "2022-12-13T22:03:24.729Z"
   },
   {
    "duration": 25,
    "start_time": "2022-12-13T22:03:24.742Z"
   },
   {
    "duration": 12,
    "start_time": "2022-12-13T22:03:24.773Z"
   },
   {
    "duration": 13,
    "start_time": "2022-12-13T22:03:24.788Z"
   },
   {
    "duration": 16,
    "start_time": "2022-12-13T22:03:24.803Z"
   },
   {
    "duration": 8,
    "start_time": "2022-12-13T22:03:24.821Z"
   },
   {
    "duration": 5,
    "start_time": "2022-12-13T22:03:24.830Z"
   },
   {
    "duration": 6,
    "start_time": "2022-12-13T22:03:24.836Z"
   },
   {
    "duration": 13,
    "start_time": "2022-12-13T22:03:24.854Z"
   },
   {
    "duration": 23,
    "start_time": "2022-12-13T22:03:24.871Z"
   },
   {
    "duration": 25,
    "start_time": "2022-12-13T22:03:24.896Z"
   },
   {
    "duration": 415,
    "start_time": "2022-12-13T22:03:24.923Z"
   },
   {
    "duration": 33,
    "start_time": "2022-12-13T22:03:25.340Z"
   },
   {
    "duration": 608,
    "start_time": "2022-12-13T22:03:25.379Z"
   },
   {
    "duration": 68,
    "start_time": "2022-12-13T22:03:25.989Z"
   },
   {
    "duration": 48,
    "start_time": "2022-12-13T22:03:26.060Z"
   },
   {
    "duration": 22,
    "start_time": "2022-12-13T22:03:26.153Z"
   },
   {
    "duration": 83,
    "start_time": "2022-12-13T22:03:26.178Z"
   },
   {
    "duration": 627,
    "start_time": "2022-12-13T22:03:26.262Z"
   },
   {
    "duration": 84,
    "start_time": "2022-12-13T22:03:26.891Z"
   },
   {
    "duration": 80,
    "start_time": "2022-12-13T22:03:26.977Z"
   },
   {
    "duration": 636,
    "start_time": "2022-12-13T22:03:27.059Z"
   },
   {
    "duration": 664,
    "start_time": "2022-12-13T22:03:27.697Z"
   },
   {
    "duration": 449,
    "start_time": "2022-12-13T22:03:28.363Z"
   },
   {
    "duration": 217,
    "start_time": "2022-12-13T22:03:28.814Z"
   },
   {
    "duration": 200,
    "start_time": "2022-12-13T22:03:29.033Z"
   },
   {
    "duration": 20,
    "start_time": "2022-12-13T22:03:29.235Z"
   },
   {
    "duration": 36,
    "start_time": "2022-12-13T22:03:29.260Z"
   },
   {
    "duration": 211,
    "start_time": "2022-12-13T22:03:29.299Z"
   },
   {
    "duration": 234,
    "start_time": "2022-12-13T22:03:29.513Z"
   },
   {
    "duration": 6,
    "start_time": "2022-12-13T22:03:29.751Z"
   },
   {
    "duration": 31,
    "start_time": "2022-12-13T22:03:29.763Z"
   },
   {
    "duration": 542,
    "start_time": "2022-12-13T22:03:29.797Z"
   },
   {
    "duration": 0,
    "start_time": "2022-12-13T22:03:30.342Z"
   },
   {
    "duration": 0,
    "start_time": "2022-12-13T22:03:30.352Z"
   },
   {
    "duration": 0,
    "start_time": "2022-12-13T22:03:30.356Z"
   },
   {
    "duration": 0,
    "start_time": "2022-12-13T22:03:30.361Z"
   },
   {
    "duration": 0,
    "start_time": "2022-12-13T22:03:30.364Z"
   },
   {
    "duration": 0,
    "start_time": "2022-12-13T22:03:30.366Z"
   },
   {
    "duration": 0,
    "start_time": "2022-12-13T22:03:30.375Z"
   },
   {
    "duration": 0,
    "start_time": "2022-12-13T22:03:30.377Z"
   },
   {
    "duration": 0,
    "start_time": "2022-12-13T22:03:30.378Z"
   },
   {
    "duration": 0,
    "start_time": "2022-12-13T22:03:30.380Z"
   },
   {
    "duration": 1551,
    "start_time": "2022-12-13T22:05:31.479Z"
   },
   {
    "duration": 50,
    "start_time": "2022-12-13T22:05:33.033Z"
   },
   {
    "duration": 5,
    "start_time": "2022-12-13T22:05:33.086Z"
   },
   {
    "duration": 32,
    "start_time": "2022-12-13T22:05:33.095Z"
   },
   {
    "duration": 18,
    "start_time": "2022-12-13T22:05:33.129Z"
   },
   {
    "duration": 7,
    "start_time": "2022-12-13T22:05:33.149Z"
   },
   {
    "duration": 28,
    "start_time": "2022-12-13T22:05:33.158Z"
   },
   {
    "duration": 37,
    "start_time": "2022-12-13T22:05:33.189Z"
   },
   {
    "duration": 95,
    "start_time": "2022-12-13T22:05:33.228Z"
   },
   {
    "duration": 17,
    "start_time": "2022-12-13T22:05:33.328Z"
   },
   {
    "duration": 50,
    "start_time": "2022-12-13T22:05:33.347Z"
   },
   {
    "duration": 37,
    "start_time": "2022-12-13T22:05:33.399Z"
   },
   {
    "duration": 7,
    "start_time": "2022-12-13T22:05:33.438Z"
   },
   {
    "duration": 56,
    "start_time": "2022-12-13T22:05:33.447Z"
   },
   {
    "duration": 15,
    "start_time": "2022-12-13T22:05:33.506Z"
   },
   {
    "duration": 22,
    "start_time": "2022-12-13T22:05:33.524Z"
   },
   {
    "duration": 28,
    "start_time": "2022-12-13T22:05:33.549Z"
   },
   {
    "duration": 27,
    "start_time": "2022-12-13T22:05:33.581Z"
   },
   {
    "duration": 15,
    "start_time": "2022-12-13T22:05:33.613Z"
   },
   {
    "duration": 8,
    "start_time": "2022-12-13T22:05:33.630Z"
   },
   {
    "duration": 5,
    "start_time": "2022-12-13T22:05:33.640Z"
   },
   {
    "duration": 46,
    "start_time": "2022-12-13T22:05:33.647Z"
   },
   {
    "duration": 21,
    "start_time": "2022-12-13T22:05:33.698Z"
   },
   {
    "duration": 39,
    "start_time": "2022-12-13T22:05:33.721Z"
   },
   {
    "duration": 51,
    "start_time": "2022-12-13T22:05:33.763Z"
   },
   {
    "duration": 523,
    "start_time": "2022-12-13T22:05:33.817Z"
   },
   {
    "duration": 19,
    "start_time": "2022-12-13T22:05:34.342Z"
   },
   {
    "duration": 914,
    "start_time": "2022-12-13T22:05:34.366Z"
   },
   {
    "duration": 15,
    "start_time": "2022-12-13T22:05:35.282Z"
   },
   {
    "duration": 71,
    "start_time": "2022-12-13T22:05:35.299Z"
   },
   {
    "duration": 86,
    "start_time": "2022-12-13T22:05:35.375Z"
   },
   {
    "duration": 100,
    "start_time": "2022-12-13T22:05:35.464Z"
   },
   {
    "duration": 731,
    "start_time": "2022-12-13T22:05:35.566Z"
   },
   {
    "duration": 59,
    "start_time": "2022-12-13T22:05:36.300Z"
   },
   {
    "duration": 24,
    "start_time": "2022-12-13T22:05:36.361Z"
   },
   {
    "duration": 691,
    "start_time": "2022-12-13T22:05:36.396Z"
   },
   {
    "duration": 555,
    "start_time": "2022-12-13T22:05:37.089Z"
   },
   {
    "duration": 427,
    "start_time": "2022-12-13T22:05:37.650Z"
   },
   {
    "duration": 204,
    "start_time": "2022-12-13T22:05:38.085Z"
   },
   {
    "duration": 233,
    "start_time": "2022-12-13T22:05:38.294Z"
   },
   {
    "duration": 9,
    "start_time": "2022-12-13T22:05:38.531Z"
   },
   {
    "duration": 17,
    "start_time": "2022-12-13T22:05:38.542Z"
   },
   {
    "duration": 198,
    "start_time": "2022-12-13T22:05:38.567Z"
   },
   {
    "duration": 251,
    "start_time": "2022-12-13T22:05:38.767Z"
   },
   {
    "duration": 6,
    "start_time": "2022-12-13T22:05:39.021Z"
   },
   {
    "duration": 16,
    "start_time": "2022-12-13T22:05:39.028Z"
   },
   {
    "duration": 17,
    "start_time": "2022-12-13T22:05:39.046Z"
   },
   {
    "duration": 203,
    "start_time": "2022-12-13T22:05:39.065Z"
   },
   {
    "duration": 0,
    "start_time": "2022-12-13T22:05:39.281Z"
   },
   {
    "duration": 0,
    "start_time": "2022-12-13T22:05:39.283Z"
   },
   {
    "duration": 0,
    "start_time": "2022-12-13T22:05:39.291Z"
   },
   {
    "duration": 0,
    "start_time": "2022-12-13T22:05:39.292Z"
   },
   {
    "duration": 1,
    "start_time": "2022-12-13T22:05:39.298Z"
   },
   {
    "duration": 0,
    "start_time": "2022-12-13T22:05:39.302Z"
   },
   {
    "duration": 0,
    "start_time": "2022-12-13T22:05:39.303Z"
   },
   {
    "duration": 0,
    "start_time": "2022-12-13T22:05:39.306Z"
   },
   {
    "duration": 8,
    "start_time": "2022-12-13T22:06:01.686Z"
   },
   {
    "duration": 312,
    "start_time": "2022-12-13T22:06:04.866Z"
   },
   {
    "duration": 1424,
    "start_time": "2022-12-13T22:06:27.402Z"
   },
   {
    "duration": 59,
    "start_time": "2022-12-13T22:06:28.833Z"
   },
   {
    "duration": 6,
    "start_time": "2022-12-13T22:06:28.897Z"
   },
   {
    "duration": 30,
    "start_time": "2022-12-13T22:06:28.906Z"
   },
   {
    "duration": 20,
    "start_time": "2022-12-13T22:06:28.941Z"
   },
   {
    "duration": 40,
    "start_time": "2022-12-13T22:06:28.963Z"
   },
   {
    "duration": 21,
    "start_time": "2022-12-13T22:06:29.006Z"
   },
   {
    "duration": 19,
    "start_time": "2022-12-13T22:06:29.029Z"
   },
   {
    "duration": 78,
    "start_time": "2022-12-13T22:06:29.050Z"
   },
   {
    "duration": 16,
    "start_time": "2022-12-13T22:06:29.131Z"
   },
   {
    "duration": 93,
    "start_time": "2022-12-13T22:06:29.152Z"
   },
   {
    "duration": 23,
    "start_time": "2022-12-13T22:06:29.262Z"
   },
   {
    "duration": 27,
    "start_time": "2022-12-13T22:06:29.288Z"
   },
   {
    "duration": 38,
    "start_time": "2022-12-13T22:06:29.325Z"
   },
   {
    "duration": 16,
    "start_time": "2022-12-13T22:06:29.368Z"
   },
   {
    "duration": 50,
    "start_time": "2022-12-13T22:06:29.388Z"
   },
   {
    "duration": 7,
    "start_time": "2022-12-13T22:06:29.440Z"
   },
   {
    "duration": 63,
    "start_time": "2022-12-13T22:06:29.448Z"
   },
   {
    "duration": 23,
    "start_time": "2022-12-13T22:06:29.514Z"
   },
   {
    "duration": 5,
    "start_time": "2022-12-13T22:06:29.540Z"
   },
   {
    "duration": 28,
    "start_time": "2022-12-13T22:06:29.547Z"
   },
   {
    "duration": 105,
    "start_time": "2022-12-13T22:06:29.576Z"
   },
   {
    "duration": 35,
    "start_time": "2022-12-13T22:06:29.683Z"
   },
   {
    "duration": 49,
    "start_time": "2022-12-13T22:06:29.721Z"
   },
   {
    "duration": 78,
    "start_time": "2022-12-13T22:06:29.772Z"
   },
   {
    "duration": 502,
    "start_time": "2022-12-13T22:06:29.852Z"
   },
   {
    "duration": 9,
    "start_time": "2022-12-13T22:06:30.356Z"
   },
   {
    "duration": 567,
    "start_time": "2022-12-13T22:06:30.367Z"
   },
   {
    "duration": 28,
    "start_time": "2022-12-13T22:06:30.935Z"
   },
   {
    "duration": 51,
    "start_time": "2022-12-13T22:06:30.967Z"
   },
   {
    "duration": 53,
    "start_time": "2022-12-13T22:06:31.021Z"
   },
   {
    "duration": 45,
    "start_time": "2022-12-13T22:06:31.079Z"
   },
   {
    "duration": 392,
    "start_time": "2022-12-13T22:06:31.126Z"
   },
   {
    "duration": 29,
    "start_time": "2022-12-13T22:06:31.523Z"
   },
   {
    "duration": 22,
    "start_time": "2022-12-13T22:06:31.556Z"
   },
   {
    "duration": 387,
    "start_time": "2022-12-13T22:06:31.580Z"
   },
   {
    "duration": 322,
    "start_time": "2022-12-13T22:06:31.971Z"
   },
   {
    "duration": 392,
    "start_time": "2022-12-13T22:06:32.297Z"
   },
   {
    "duration": 311,
    "start_time": "2022-12-13T22:06:32.692Z"
   },
   {
    "duration": 261,
    "start_time": "2022-12-13T22:06:33.008Z"
   },
   {
    "duration": 10,
    "start_time": "2022-12-13T22:06:33.281Z"
   },
   {
    "duration": 13,
    "start_time": "2022-12-13T22:06:33.294Z"
   },
   {
    "duration": 166,
    "start_time": "2022-12-13T22:06:33.309Z"
   },
   {
    "duration": 253,
    "start_time": "2022-12-13T22:06:33.479Z"
   },
   {
    "duration": 19,
    "start_time": "2022-12-13T22:06:33.734Z"
   },
   {
    "duration": 45,
    "start_time": "2022-12-13T22:06:33.756Z"
   },
   {
    "duration": 23,
    "start_time": "2022-12-13T22:06:33.804Z"
   },
   {
    "duration": 380,
    "start_time": "2022-12-13T22:06:33.829Z"
   },
   {
    "duration": 51,
    "start_time": "2022-12-13T22:06:34.211Z"
   },
   {
    "duration": 15,
    "start_time": "2022-12-13T22:06:34.268Z"
   },
   {
    "duration": 73,
    "start_time": "2022-12-13T22:06:34.285Z"
   },
   {
    "duration": 329,
    "start_time": "2022-12-13T22:06:34.362Z"
   },
   {
    "duration": 0,
    "start_time": "2022-12-13T22:06:34.693Z"
   },
   {
    "duration": 0,
    "start_time": "2022-12-13T22:06:34.694Z"
   },
   {
    "duration": 14,
    "start_time": "2022-12-13T22:08:08.070Z"
   },
   {
    "duration": 1608,
    "start_time": "2022-12-13T22:08:15.578Z"
   },
   {
    "duration": 33,
    "start_time": "2022-12-13T22:08:17.193Z"
   },
   {
    "duration": 4,
    "start_time": "2022-12-13T22:08:17.229Z"
   },
   {
    "duration": 30,
    "start_time": "2022-12-13T22:08:17.236Z"
   },
   {
    "duration": 44,
    "start_time": "2022-12-13T22:08:17.271Z"
   },
   {
    "duration": 16,
    "start_time": "2022-12-13T22:08:17.317Z"
   },
   {
    "duration": 52,
    "start_time": "2022-12-13T22:08:17.335Z"
   },
   {
    "duration": 25,
    "start_time": "2022-12-13T22:08:17.390Z"
   },
   {
    "duration": 52,
    "start_time": "2022-12-13T22:08:17.417Z"
   },
   {
    "duration": 20,
    "start_time": "2022-12-13T22:08:17.477Z"
   },
   {
    "duration": 23,
    "start_time": "2022-12-13T22:08:17.501Z"
   },
   {
    "duration": 87,
    "start_time": "2022-12-13T22:08:17.526Z"
   },
   {
    "duration": 29,
    "start_time": "2022-12-13T22:08:17.616Z"
   },
   {
    "duration": 73,
    "start_time": "2022-12-13T22:08:17.649Z"
   },
   {
    "duration": 90,
    "start_time": "2022-12-13T22:08:17.725Z"
   },
   {
    "duration": 73,
    "start_time": "2022-12-13T22:08:17.819Z"
   },
   {
    "duration": 46,
    "start_time": "2022-12-13T22:08:17.899Z"
   },
   {
    "duration": 61,
    "start_time": "2022-12-13T22:08:17.948Z"
   },
   {
    "duration": 36,
    "start_time": "2022-12-13T22:08:18.012Z"
   },
   {
    "duration": 53,
    "start_time": "2022-12-13T22:08:18.050Z"
   },
   {
    "duration": 23,
    "start_time": "2022-12-13T22:08:18.106Z"
   },
   {
    "duration": 15,
    "start_time": "2022-12-13T22:08:18.131Z"
   },
   {
    "duration": 82,
    "start_time": "2022-12-13T22:08:18.152Z"
   },
   {
    "duration": 67,
    "start_time": "2022-12-13T22:08:18.237Z"
   },
   {
    "duration": 39,
    "start_time": "2022-12-13T22:08:18.307Z"
   },
   {
    "duration": 531,
    "start_time": "2022-12-13T22:08:18.348Z"
   },
   {
    "duration": 11,
    "start_time": "2022-12-13T22:08:18.885Z"
   },
   {
    "duration": 467,
    "start_time": "2022-12-13T22:08:18.898Z"
   },
   {
    "duration": 53,
    "start_time": "2022-12-13T22:08:19.372Z"
   },
   {
    "duration": 54,
    "start_time": "2022-12-13T22:08:19.428Z"
   },
   {
    "duration": 78,
    "start_time": "2022-12-13T22:08:19.486Z"
   },
   {
    "duration": 27,
    "start_time": "2022-12-13T22:08:19.566Z"
   },
   {
    "duration": 357,
    "start_time": "2022-12-13T22:08:19.597Z"
   },
   {
    "duration": 32,
    "start_time": "2022-12-13T22:08:19.958Z"
   },
   {
    "duration": 41,
    "start_time": "2022-12-13T22:08:19.993Z"
   },
   {
    "duration": 455,
    "start_time": "2022-12-13T22:08:20.039Z"
   },
   {
    "duration": 499,
    "start_time": "2022-12-13T22:08:20.499Z"
   },
   {
    "duration": 807,
    "start_time": "2022-12-13T22:08:21.000Z"
   },
   {
    "duration": 442,
    "start_time": "2022-12-13T22:08:21.860Z"
   },
   {
    "duration": 388,
    "start_time": "2022-12-13T22:08:22.308Z"
   },
   {
    "duration": 57,
    "start_time": "2022-12-13T22:08:22.703Z"
   },
   {
    "duration": 21,
    "start_time": "2022-12-13T22:08:22.765Z"
   },
   {
    "duration": 462,
    "start_time": "2022-12-13T22:08:22.793Z"
   },
   {
    "duration": 364,
    "start_time": "2022-12-13T22:08:23.257Z"
   },
   {
    "duration": 5,
    "start_time": "2022-12-13T22:08:23.625Z"
   },
   {
    "duration": 22,
    "start_time": "2022-12-13T22:08:23.633Z"
   },
   {
    "duration": 48,
    "start_time": "2022-12-13T22:08:23.657Z"
   },
   {
    "duration": 377,
    "start_time": "2022-12-13T22:08:23.709Z"
   },
   {
    "duration": 42,
    "start_time": "2022-12-13T22:08:24.088Z"
   },
   {
    "duration": 31,
    "start_time": "2022-12-13T22:08:24.133Z"
   },
   {
    "duration": 43,
    "start_time": "2022-12-13T22:08:24.171Z"
   },
   {
    "duration": 99,
    "start_time": "2022-12-13T22:08:24.217Z"
   },
   {
    "duration": 43,
    "start_time": "2022-12-13T22:08:24.318Z"
   },
   {
    "duration": 32,
    "start_time": "2022-12-13T22:08:24.362Z"
   },
   {
    "duration": 74,
    "start_time": "2022-12-14T09:37:32.110Z"
   }
  ],
  "kernelspec": {
   "display_name": "Python 3 (ipykernel)",
   "language": "python",
   "name": "python3"
  },
  "language_info": {
   "codemirror_mode": {
    "name": "ipython",
    "version": 3
   },
   "file_extension": ".py",
   "mimetype": "text/x-python",
   "name": "python",
   "nbconvert_exporter": "python",
   "pygments_lexer": "ipython3",
   "version": "3.9.13"
  },
  "toc": {
   "base_numbering": 1,
   "nav_menu": {},
   "number_sections": true,
   "sideBar": true,
   "skip_h1_title": true,
   "title_cell": "Table of Contents",
   "title_sidebar": "Contents",
   "toc_cell": false,
   "toc_position": {
    "height": "calc(100% - 180px)",
    "left": "10px",
    "top": "150px",
    "width": "318.075px"
   },
   "toc_section_display": true,
   "toc_window_display": true
  }
 },
 "nbformat": 4,
 "nbformat_minor": 2
}
