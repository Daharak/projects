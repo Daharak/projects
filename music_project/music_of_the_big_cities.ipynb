{
 "cells": [
  {
   "cell_type": "markdown",
   "metadata": {
    "deletable": false,
    "editable": false,
    "id": "E0vqbgi9ay0H"
   },
   "source": [
    "# Яндекс Музыка"
   ]
  },
  {
   "cell_type": "markdown",
   "metadata": {
    "deletable": false,
    "editable": false,
    "id": "VUC88oWjTJw2"
   },
   "source": [
    "Сравнение Москвы и Петербурга окружено мифами. Например:\n",
    " * Москва — мегаполис, подчинённый жёсткому ритму рабочей недели;\n",
    " * Петербург — культурная столица, со своими вкусами.\n",
    "\n",
    "На данных Яндекс Музыки вы сравните поведение пользователей двух столиц.\n",
    "\n",
    "**Цель исследования** — проверьте три гипотезы:\n",
    "1. Активность пользователей зависит от дня недели. Причём в Москве и Петербурге это проявляется по-разному.\n",
    "2. В понедельник утром в Москве преобладают одни жанры, а в Петербурге — другие. Так же и вечером пятницы преобладают разные жанры — в зависимости от города. \n",
    "3. Москва и Петербург предпочитают разные жанры музыки. В Москве чаще слушают поп-музыку, в Петербурге — русский рэп.\n",
    "\n",
    "**Ход исследования**\n",
    "\n",
    "Данные о поведении пользователей вы получите из файла `yandex_music_project.csv`. О качестве данных ничего не известно. Поэтому перед проверкой гипотез понадобится обзор данных. \n",
    "\n",
    "Вы проверите данные на ошибки и оцените их влияние на исследование. Затем, на этапе предобработки вы поищете возможность исправить самые критичные ошибки данных.\n",
    " \n",
    "Таким образом, исследование пройдёт в три этапа:\n",
    " 1. Обзор данных.\n",
    " 2. Предобработка данных.\n",
    " 3. Проверка гипотез.\n",
    "\n"
   ]
  },
  {
   "cell_type": "markdown",
   "metadata": {
    "deletable": false,
    "editable": false,
    "id": "Ml1hmfXC_Zcs"
   },
   "source": [
    "## Обзор данных\n",
    "\n",
    "Составьте первое представление о данных Яндекс Музыки.\n",
    "\n",
    "\n"
   ]
  },
  {
   "cell_type": "markdown",
   "metadata": {
    "deletable": false,
    "editable": false,
    "id": "57eAOGIz_Zcs",
    "tags": [
     "start_task"
    ]
   },
   "source": [
    "**Задание 1**\n",
    "\n",
    "Основной инструмент аналитика — `pandas`. Импортируйте эту библиотеку."
   ]
  },
  {
   "cell_type": "code",
   "execution_count": 1,
   "metadata": {
    "deletable": false,
    "id": "AXN7PHPN_Zcs"
   },
   "outputs": [],
   "source": [
    "import pandas as pd # импорт библиотеки pandas"
   ]
  },
  {
   "cell_type": "markdown",
   "metadata": {
    "deletable": false,
    "editable": false,
    "id": "SG23P8tt_Zcs",
    "tags": [
     "start_task"
    ]
   },
   "source": [
    "**Задание 2**\n",
    "\n",
    "Прочитайте файл `yandex_music_project.csv` из папки `/datasets` и сохраните его в переменной `df`:"
   ]
  },
  {
   "cell_type": "code",
   "execution_count": 2,
   "metadata": {
    "deletable": false,
    "id": "fFVu7vqh_Zct"
   },
   "outputs": [],
   "source": [
    "df = pd.read_csv('/datasets/yandex_music_project.csv') # чтение файла с данными и сохранение в df"
   ]
  },
  {
   "cell_type": "markdown",
   "metadata": {
    "deletable": false,
    "editable": false,
    "id": "rDoOMd3uTqnZ",
    "tags": [
     "start_task"
    ]
   },
   "source": [
    "**Задание 3**\n",
    "\n",
    "\n",
    "Выведите на экран первые десять строк таблицы:"
   ]
  },
  {
   "cell_type": "code",
   "execution_count": 3,
   "metadata": {
    "deletable": false,
    "id": "oWTVX3gW_Zct"
   },
   "outputs": [
    {
     "data": {
      "text/html": [
       "<div>\n",
       "<style scoped>\n",
       "    .dataframe tbody tr th:only-of-type {\n",
       "        vertical-align: middle;\n",
       "    }\n",
       "\n",
       "    .dataframe tbody tr th {\n",
       "        vertical-align: top;\n",
       "    }\n",
       "\n",
       "    .dataframe thead th {\n",
       "        text-align: right;\n",
       "    }\n",
       "</style>\n",
       "<table border=\"1\" class=\"dataframe\">\n",
       "  <thead>\n",
       "    <tr style=\"text-align: right;\">\n",
       "      <th></th>\n",
       "      <th>userID</th>\n",
       "      <th>Track</th>\n",
       "      <th>artist</th>\n",
       "      <th>genre</th>\n",
       "      <th>City</th>\n",
       "      <th>time</th>\n",
       "      <th>Day</th>\n",
       "    </tr>\n",
       "  </thead>\n",
       "  <tbody>\n",
       "    <tr>\n",
       "      <th>0</th>\n",
       "      <td>FFB692EC</td>\n",
       "      <td>Kamigata To Boots</td>\n",
       "      <td>The Mass Missile</td>\n",
       "      <td>rock</td>\n",
       "      <td>Saint-Petersburg</td>\n",
       "      <td>20:28:33</td>\n",
       "      <td>Wednesday</td>\n",
       "    </tr>\n",
       "    <tr>\n",
       "      <th>1</th>\n",
       "      <td>55204538</td>\n",
       "      <td>Delayed Because of Accident</td>\n",
       "      <td>Andreas Rönnberg</td>\n",
       "      <td>rock</td>\n",
       "      <td>Moscow</td>\n",
       "      <td>14:07:09</td>\n",
       "      <td>Friday</td>\n",
       "    </tr>\n",
       "    <tr>\n",
       "      <th>2</th>\n",
       "      <td>20EC38</td>\n",
       "      <td>Funiculì funiculà</td>\n",
       "      <td>Mario Lanza</td>\n",
       "      <td>pop</td>\n",
       "      <td>Saint-Petersburg</td>\n",
       "      <td>20:58:07</td>\n",
       "      <td>Wednesday</td>\n",
       "    </tr>\n",
       "    <tr>\n",
       "      <th>3</th>\n",
       "      <td>A3DD03C9</td>\n",
       "      <td>Dragons in the Sunset</td>\n",
       "      <td>Fire + Ice</td>\n",
       "      <td>folk</td>\n",
       "      <td>Saint-Petersburg</td>\n",
       "      <td>08:37:09</td>\n",
       "      <td>Monday</td>\n",
       "    </tr>\n",
       "    <tr>\n",
       "      <th>4</th>\n",
       "      <td>E2DC1FAE</td>\n",
       "      <td>Soul People</td>\n",
       "      <td>Space Echo</td>\n",
       "      <td>dance</td>\n",
       "      <td>Moscow</td>\n",
       "      <td>08:34:34</td>\n",
       "      <td>Monday</td>\n",
       "    </tr>\n",
       "    <tr>\n",
       "      <th>5</th>\n",
       "      <td>842029A1</td>\n",
       "      <td>Преданная</td>\n",
       "      <td>IMPERVTOR</td>\n",
       "      <td>rusrap</td>\n",
       "      <td>Saint-Petersburg</td>\n",
       "      <td>13:09:41</td>\n",
       "      <td>Friday</td>\n",
       "    </tr>\n",
       "    <tr>\n",
       "      <th>6</th>\n",
       "      <td>4CB90AA5</td>\n",
       "      <td>True</td>\n",
       "      <td>Roman Messer</td>\n",
       "      <td>dance</td>\n",
       "      <td>Moscow</td>\n",
       "      <td>13:00:07</td>\n",
       "      <td>Wednesday</td>\n",
       "    </tr>\n",
       "    <tr>\n",
       "      <th>7</th>\n",
       "      <td>F03E1C1F</td>\n",
       "      <td>Feeling This Way</td>\n",
       "      <td>Polina Griffith</td>\n",
       "      <td>dance</td>\n",
       "      <td>Moscow</td>\n",
       "      <td>20:47:49</td>\n",
       "      <td>Wednesday</td>\n",
       "    </tr>\n",
       "    <tr>\n",
       "      <th>8</th>\n",
       "      <td>8FA1D3BE</td>\n",
       "      <td>И вновь продолжается бой</td>\n",
       "      <td>NaN</td>\n",
       "      <td>ruspop</td>\n",
       "      <td>Moscow</td>\n",
       "      <td>09:17:40</td>\n",
       "      <td>Friday</td>\n",
       "    </tr>\n",
       "    <tr>\n",
       "      <th>9</th>\n",
       "      <td>E772D5C0</td>\n",
       "      <td>Pessimist</td>\n",
       "      <td>NaN</td>\n",
       "      <td>dance</td>\n",
       "      <td>Saint-Petersburg</td>\n",
       "      <td>21:20:49</td>\n",
       "      <td>Wednesday</td>\n",
       "    </tr>\n",
       "  </tbody>\n",
       "</table>\n",
       "</div>"
      ],
      "text/plain": [
       "     userID                        Track            artist   genre  \\\n",
       "0  FFB692EC            Kamigata To Boots  The Mass Missile    rock   \n",
       "1  55204538  Delayed Because of Accident  Andreas Rönnberg    rock   \n",
       "2    20EC38            Funiculì funiculà       Mario Lanza     pop   \n",
       "3  A3DD03C9        Dragons in the Sunset        Fire + Ice    folk   \n",
       "4  E2DC1FAE                  Soul People        Space Echo   dance   \n",
       "5  842029A1                    Преданная         IMPERVTOR  rusrap   \n",
       "6  4CB90AA5                         True      Roman Messer   dance   \n",
       "7  F03E1C1F             Feeling This Way   Polina Griffith   dance   \n",
       "8  8FA1D3BE     И вновь продолжается бой               NaN  ruspop   \n",
       "9  E772D5C0                    Pessimist               NaN   dance   \n",
       "\n",
       "             City        time        Day  \n",
       "0  Saint-Petersburg  20:28:33  Wednesday  \n",
       "1            Moscow  14:07:09     Friday  \n",
       "2  Saint-Petersburg  20:58:07  Wednesday  \n",
       "3  Saint-Petersburg  08:37:09     Monday  \n",
       "4            Moscow  08:34:34     Monday  \n",
       "5  Saint-Petersburg  13:09:41     Friday  \n",
       "6            Moscow  13:00:07  Wednesday  \n",
       "7            Moscow  20:47:49  Wednesday  \n",
       "8            Moscow  09:17:40     Friday  \n",
       "9  Saint-Petersburg  21:20:49  Wednesday  "
      ]
     },
     "execution_count": 3,
     "metadata": {},
     "output_type": "execute_result"
    }
   ],
   "source": [
    "df.head(10) # получение первых 10 строк таблицы df"
   ]
  },
  {
   "cell_type": "markdown",
   "metadata": {
    "deletable": false,
    "editable": false,
    "id": "EO73Kwic_Zct",
    "tags": [
     "start_task"
    ]
   },
   "source": [
    "**Задание 4**\n",
    "\n",
    "\n",
    "Одной командой получить общую информацию о таблице c помощью метода `info()`:"
   ]
  },
  {
   "cell_type": "code",
   "execution_count": 4,
   "metadata": {
    "deletable": false,
    "id": "DSf2kIb-_Zct"
   },
   "outputs": [
    {
     "name": "stdout",
     "output_type": "stream",
     "text": [
      "<class 'pandas.core.frame.DataFrame'>\n",
      "RangeIndex: 65079 entries, 0 to 65078\n",
      "Data columns (total 7 columns):\n",
      " #   Column    Non-Null Count  Dtype \n",
      "---  ------    --------------  ----- \n",
      " 0     userID  65079 non-null  object\n",
      " 1   Track     63848 non-null  object\n",
      " 2   artist    57876 non-null  object\n",
      " 3   genre     63881 non-null  object\n",
      " 4     City    65079 non-null  object\n",
      " 5   time      65079 non-null  object\n",
      " 6   Day       65079 non-null  object\n",
      "dtypes: object(7)\n",
      "memory usage: 3.5+ MB\n"
     ]
    }
   ],
   "source": [
    "df.info() # получение общей информации о данных в таблице df"
   ]
  },
  {
   "cell_type": "markdown",
   "metadata": {
    "deletable": false,
    "editable": false,
    "id": "TaQ2Iwbr_Zct"
   },
   "source": [
    "Итак, в таблице семь столбцов. Тип данных во всех столбцах — `object`.\n",
    "\n",
    "Согласно документации к данным:\n",
    "* `userID` — идентификатор пользователя;\n",
    "* `Track` — название трека;  \n",
    "* `artist` — имя исполнителя;\n",
    "* `genre` — название жанра;\n",
    "* `City` — город пользователя;\n",
    "* `time` — время начала прослушивания;\n",
    "* `Day` — день недели.\n",
    "\n",
    "Количество значений в столбцах различается. Значит, в данных есть пропущенные значения."
   ]
  },
  {
   "cell_type": "markdown",
   "metadata": {
    "deletable": false,
    "editable": false,
    "id": "rAfziTBDmf2h",
    "tags": [
     "start_task"
    ]
   },
   "source": [
    "**Задание 5**\n",
    "\n",
    "**Вопрос со свободной формой ответа**\n",
    "\n",
    "В названиях колонок видны нарушения стиля:\n",
    "* Строчные буквы сочетаются с прописными.\n",
    "* Встречаются пробелы.\n",
    "\n",
    "Какое третье нарушение?"
   ]
  },
  {
   "cell_type": "code",
   "execution_count": 5,
   "metadata": {
    "id": "jD8EXEIvmf2h"
   },
   "outputs": [],
   "source": [
    "# Название столбца userid написано без учёта змеиного регистра. "
   ]
  },
  {
   "cell_type": "markdown",
   "metadata": {
    "deletable": false,
    "editable": false,
    "id": "MCB6-dXG_Zct"
   },
   "source": [
    "**Выводы**\n",
    "\n",
    "В каждой строке таблицы — данные о прослушанном треке. Часть колонок описывает саму композицию: название, исполнителя и жанр. Остальные данные рассказывают о пользователе: из какого он города, когда он слушал музыку. \n",
    "\n",
    "Предварительно можно утверждать, что данных достаточно для проверки гипотез. Но встречаются пропуски в данных, а в названиях колонок — расхождения с хорошим стилем.\n",
    "\n",
    "Чтобы двигаться дальше, нужно устранить проблемы в данных."
   ]
  },
  {
   "cell_type": "markdown",
   "metadata": {
    "deletable": false,
    "editable": false,
    "id": "SjYF6Ub9_Zct"
   },
   "source": [
    "## Предобработка данных\n",
    "Исправьте стиль в заголовках столбцов, исключите пропуски. Затем проверьте данные на дубликаты."
   ]
  },
  {
   "cell_type": "markdown",
   "metadata": {
    "deletable": false,
    "editable": false,
    "id": "dIaKXr29_Zct",
    "tags": [
     "start_task"
    ]
   },
   "source": [
    "### Стиль заголовков\n",
    "\n",
    "**Задание 6**\n",
    "\n",
    "Выведите на экран названия столбцов:"
   ]
  },
  {
   "cell_type": "code",
   "execution_count": 6,
   "metadata": {
    "deletable": false,
    "id": "oKOTdF_Q_Zct"
   },
   "outputs": [
    {
     "data": {
      "text/plain": [
       "Index(['  userID', 'Track', 'artist', 'genre', '  City  ', 'time', 'Day'], dtype='object')"
      ]
     },
     "execution_count": 6,
     "metadata": {},
     "output_type": "execute_result"
    }
   ],
   "source": [
    "df.columns # перечень названий столбцов таблицы df"
   ]
  },
  {
   "cell_type": "markdown",
   "metadata": {
    "deletable": false,
    "editable": false,
    "id": "zj5534cv_Zct",
    "tags": [
     "start_task"
    ]
   },
   "source": [
    "**Задание 7**\n",
    "\n",
    "\n",
    "Приведите названия в соответствие с хорошим стилем:\n",
    "* несколько слов в названии запишите в «змеином_регистре»,\n",
    "* все символы сделайте строчными,\n",
    "* устраните пробелы.\n",
    "\n",
    "Для этого переименуйте колонки так:\n",
    "* `'  userID'` → `'user_id'`;\n",
    "* `'Track'` → `'track'`;\n",
    "* `'  City  '` → `'city'`;\n",
    "* `'Day'` → `'day'`."
   ]
  },
  {
   "cell_type": "code",
   "execution_count": 7,
   "metadata": {
    "deletable": false,
    "id": "ISlFqs5y_Zct"
   },
   "outputs": [],
   "source": [
    "df = df.rename(\n",
    "    columns={\n",
    "        '  userID': 'user_id',\n",
    "        'Track': 'track',\n",
    "        '  City  ': 'city',\n",
    "        'Day': 'day',\n",
    "    }\n",
    ")      \n",
    "          # переименование столбцов"
   ]
  },
  {
   "cell_type": "markdown",
   "metadata": {
    "deletable": false,
    "editable": false,
    "id": "1dqbh00J_Zct",
    "tags": [
     "start_task"
    ]
   },
   "source": [
    "**Задание 8**\n",
    "\n",
    "\n",
    "Проверьте результат. Для этого ещё раз выведите на экран названия столбцов:"
   ]
  },
  {
   "cell_type": "code",
   "execution_count": 8,
   "metadata": {
    "deletable": false,
    "id": "d4NOAmTW_Zct"
   },
   "outputs": [
    {
     "data": {
      "text/plain": [
       "Index(['user_id', 'track', 'artist', 'genre', 'city', 'time', 'day'], dtype='object')"
      ]
     },
     "execution_count": 8,
     "metadata": {},
     "output_type": "execute_result"
    }
   ],
   "source": [
    "df.columns # проверка результатов - перечень названий столбцов"
   ]
  },
  {
   "cell_type": "markdown",
   "metadata": {
    "deletable": false,
    "editable": false,
    "id": "5ISfbcfY_Zct",
    "tags": [
     "start_task"
    ]
   },
   "source": [
    "### Пропуски значений\n",
    "\n",
    "**Задание 9**\n",
    "\n",
    "Сначала посчитайте, сколько в таблице пропущенных значений. Для этого достаточно двух методов `pandas`:"
   ]
  },
  {
   "cell_type": "code",
   "execution_count": 9,
   "metadata": {
    "deletable": false,
    "id": "RskX29qr_Zct"
   },
   "outputs": [
    {
     "data": {
      "text/plain": [
       "user_id       0\n",
       "track      1231\n",
       "artist     7203\n",
       "genre      1198\n",
       "city          0\n",
       "time          0\n",
       "day           0\n",
       "dtype: int64"
      ]
     },
     "execution_count": 9,
     "metadata": {},
     "output_type": "execute_result"
    }
   ],
   "source": [
    "df.isna().sum() # подсчёт пропусков"
   ]
  },
  {
   "cell_type": "markdown",
   "metadata": {
    "deletable": false,
    "editable": false,
    "id": "qubhgnlO_Zct"
   },
   "source": [
    "Не все пропущенные значения влияют на исследование. Так в `track` и `artist` пропуски не важны для вашей работы. Достаточно заменить их явными обозначениями.\n",
    "\n",
    "Но пропуски в `genre` могут помешать сравнению музыкальных вкусов в Москве и Санкт-Петербурге. На практике было бы правильно установить причину пропусков и восстановить данные. Такой возможности нет в учебном проекте. Придётся:\n",
    "* заполнить и эти пропуски явными обозначениями;\n",
    "* оценить, насколько они повредят расчётам. "
   ]
  },
  {
   "cell_type": "markdown",
   "metadata": {
    "deletable": false,
    "editable": false,
    "id": "fSv2laPA_Zct",
    "tags": [
     "start_task"
    ]
   },
   "source": [
    "**Задание 10**\n",
    "\n",
    "Замените пропущенные значения в столбцах `track`, `artist` и `genre` на строку `'unknown'`. Для этого создайте список `columns_to_replace`, переберите его элементы циклом `for` и для каждого столбца выполните замену пропущенных значений:"
   ]
  },
  {
   "cell_type": "code",
   "execution_count": 10,
   "metadata": {
    "deletable": false,
    "id": "KplB5qWs_Zct"
   },
   "outputs": [],
   "source": [
    "columns_to_replace = ['track', 'artist', 'genre']\n",
    "for column in columns_to_replace:\n",
    "    df[column] = df[column].fillna('unknown')# перебор названий столбцов в цикле и замена пропущенных значений на 'unknown'"
   ]
  },
  {
   "cell_type": "markdown",
   "metadata": {
    "deletable": false,
    "editable": false,
    "id": "Ilsm-MZo_Zct",
    "tags": [
     "start_task"
    ]
   },
   "source": [
    "**Задание 11**\n",
    "\n",
    "Убедитесь, что в таблице не осталось пропусков. Для этого ещё раз посчитайте пропущенные значения."
   ]
  },
  {
   "cell_type": "code",
   "execution_count": 11,
   "metadata": {
    "deletable": false,
    "id": "Tq4nYRX4_Zct"
   },
   "outputs": [
    {
     "data": {
      "text/plain": [
       "user_id    0\n",
       "track      0\n",
       "artist     0\n",
       "genre      0\n",
       "city       0\n",
       "time       0\n",
       "day        0\n",
       "dtype: int64"
      ]
     },
     "execution_count": 11,
     "metadata": {},
     "output_type": "execute_result"
    }
   ],
   "source": [
    "df.isna().sum() # подсчёт пропусков"
   ]
  },
  {
   "cell_type": "markdown",
   "metadata": {
    "deletable": false,
    "editable": false,
    "id": "BWKRtBJ3_Zct",
    "tags": [
     "start_task"
    ]
   },
   "source": [
    "### Дубликаты\n",
    "\n",
    "**Задание 12**\n",
    "\n",
    "Посчитайте явные дубликаты в таблице одной командой:"
   ]
  },
  {
   "cell_type": "code",
   "execution_count": 12,
   "metadata": {
    "deletable": false,
    "id": "36eES_S0_Zct"
   },
   "outputs": [
    {
     "data": {
      "text/plain": [
       "3826"
      ]
     },
     "execution_count": 12,
     "metadata": {},
     "output_type": "execute_result"
    }
   ],
   "source": [
    "df.duplicated().sum() # подсчёт явных дубликатов"
   ]
  },
  {
   "cell_type": "markdown",
   "metadata": {
    "deletable": false,
    "editable": false,
    "id": "Ot25h6XR_Zct",
    "tags": [
     "start_task"
    ]
   },
   "source": [
    "**Задание 13**\n",
    "\n",
    "Вызовите специальный метод `pandas`, чтобы удалить явные дубликаты:"
   ]
  },
  {
   "cell_type": "code",
   "execution_count": 13,
   "metadata": {
    "deletable": false,
    "id": "exFHq6tt_Zct"
   },
   "outputs": [],
   "source": [
    "df = df.drop_duplicates().reset_index(drop=True) # удаление явных дубликатов"
   ]
  },
  {
   "cell_type": "markdown",
   "metadata": {
    "deletable": false,
    "editable": false,
    "id": "Im2YwBEG_Zct",
    "tags": [
     "start_task"
    ]
   },
   "source": [
    "**Задание 14**\n",
    "\n",
    "Ещё раз посчитайте явные дубликаты в таблице — убедитесь, что полностью от них избавились:"
   ]
  },
  {
   "cell_type": "code",
   "execution_count": 14,
   "metadata": {
    "deletable": false,
    "id": "-8PuNWQ0_Zct"
   },
   "outputs": [
    {
     "data": {
      "text/plain": [
       "0"
      ]
     },
     "execution_count": 14,
     "metadata": {},
     "output_type": "execute_result"
    }
   ],
   "source": [
    "df.duplicated().sum() # проверка на отсутствие дубликатов"
   ]
  },
  {
   "cell_type": "markdown",
   "metadata": {
    "deletable": false,
    "editable": false,
    "id": "QlFBsxAr_Zct"
   },
   "source": [
    "Теперь избавьтесь от неявных дубликатов в колонке `genre`. Например, название одного и того же жанра может быть записано немного по-разному. Такие ошибки тоже повлияют на результат исследования."
   ]
  },
  {
   "cell_type": "markdown",
   "metadata": {
    "deletable": false,
    "editable": false,
    "id": "eSjWwsOh_Zct",
    "tags": [
     "start_task"
    ]
   },
   "source": [
    "**Задание 15**\n",
    "\n",
    "Выведите на экран список уникальных названий жанров, отсортированный в алфавитном порядке. Для этого:\n",
    "1. извлеките нужный столбец датафрейма; \n",
    "2. примените к нему метод сортировки;\n",
    "3. для отсортированного столбца вызовите метод, который вернёт уникальные значения из столбца."
   ]
  },
  {
   "cell_type": "code",
   "execution_count": 15,
   "metadata": {
    "deletable": false,
    "id": "JIUcqzZN_Zct"
   },
   "outputs": [
    {
     "data": {
      "text/plain": [
       "array(['acid', 'acoustic', 'action', 'adult', 'africa', 'afrikaans',\n",
       "       'alternative', 'alternativepunk', 'ambient', 'americana',\n",
       "       'animated', 'anime', 'arabesk', 'arabic', 'arena',\n",
       "       'argentinetango', 'art', 'audiobook', 'author', 'avantgarde',\n",
       "       'axé', 'baile', 'balkan', 'beats', 'bigroom', 'black', 'bluegrass',\n",
       "       'blues', 'bollywood', 'bossa', 'brazilian', 'breakbeat', 'breaks',\n",
       "       'broadway', 'cantautori', 'cantopop', 'canzone', 'caribbean',\n",
       "       'caucasian', 'celtic', 'chamber', 'chanson', 'children', 'chill',\n",
       "       'chinese', 'choral', 'christian', 'christmas', 'classical',\n",
       "       'classicmetal', 'club', 'colombian', 'comedy', 'conjazz',\n",
       "       'contemporary', 'country', 'cuban', 'dance', 'dancehall',\n",
       "       'dancepop', 'dark', 'death', 'deep', 'deutschrock', 'deutschspr',\n",
       "       'dirty', 'disco', 'dnb', 'documentary', 'downbeat', 'downtempo',\n",
       "       'drum', 'dub', 'dubstep', 'eastern', 'easy', 'electronic',\n",
       "       'electropop', 'emo', 'entehno', 'epicmetal', 'estrada', 'ethnic',\n",
       "       'eurofolk', 'european', 'experimental', 'extrememetal', 'fado',\n",
       "       'fairytail', 'film', 'fitness', 'flamenco', 'folk', 'folklore',\n",
       "       'folkmetal', 'folkrock', 'folktronica', 'forró', 'frankreich',\n",
       "       'französisch', 'french', 'funk', 'future', 'gangsta', 'garage',\n",
       "       'german', 'ghazal', 'gitarre', 'glitch', 'gospel', 'gothic',\n",
       "       'grime', 'grunge', 'gypsy', 'handsup', \"hard'n'heavy\", 'hardcore',\n",
       "       'hardstyle', 'hardtechno', 'hip', 'hip-hop', 'hiphop',\n",
       "       'historisch', 'holiday', 'hop', 'horror', 'house', 'hymn', 'idm',\n",
       "       'independent', 'indian', 'indie', 'indipop', 'industrial',\n",
       "       'inspirational', 'instrumental', 'international', 'irish', 'jam',\n",
       "       'japanese', 'jazz', 'jewish', 'jpop', 'jungle', 'k-pop',\n",
       "       'karadeniz', 'karaoke', 'kayokyoku', 'korean', 'laiko', 'latin',\n",
       "       'latino', 'leftfield', 'local', 'lounge', 'loungeelectronic',\n",
       "       'lovers', 'malaysian', 'mandopop', 'marschmusik', 'meditative',\n",
       "       'mediterranean', 'melodic', 'metal', 'metalcore', 'mexican',\n",
       "       'middle', 'minimal', 'miscellaneous', 'modern', 'mood', 'mpb',\n",
       "       'muslim', 'native', 'neoklassik', 'neue', 'new', 'newage',\n",
       "       'newwave', 'nu', 'nujazz', 'numetal', 'oceania', 'old', 'opera',\n",
       "       'orchestral', 'other', 'piano', 'podcasts', 'pop', 'popdance',\n",
       "       'popelectronic', 'popeurodance', 'poprussian', 'post',\n",
       "       'posthardcore', 'postrock', 'power', 'progmetal', 'progressive',\n",
       "       'psychedelic', 'punjabi', 'punk', 'quebecois', 'ragga', 'ram',\n",
       "       'rancheras', 'rap', 'rave', 'reggae', 'reggaeton', 'regional',\n",
       "       'relax', 'religious', 'retro', 'rhythm', 'rnb', 'rnr', 'rock',\n",
       "       'rockabilly', 'rockalternative', 'rockindie', 'rockother',\n",
       "       'romance', 'roots', 'ruspop', 'rusrap', 'rusrock', 'russian',\n",
       "       'salsa', 'samba', 'scenic', 'schlager', 'self', 'sertanejo',\n",
       "       'shanson', 'shoegazing', 'showtunes', 'singer', 'ska', 'skarock',\n",
       "       'slow', 'smooth', 'soft', 'soul', 'soulful', 'sound', 'soundtrack',\n",
       "       'southern', 'specialty', 'speech', 'spiritual', 'sport',\n",
       "       'stonerrock', 'surf', 'swing', 'synthpop', 'synthrock',\n",
       "       'sängerportrait', 'tango', 'tanzorchester', 'taraftar', 'tatar',\n",
       "       'tech', 'techno', 'teen', 'thrash', 'top', 'traditional',\n",
       "       'tradjazz', 'trance', 'tribal', 'trip', 'triphop', 'tropical',\n",
       "       'türk', 'türkçe', 'ukrrock', 'unknown', 'urban', 'uzbek',\n",
       "       'variété', 'vi', 'videogame', 'vocal', 'western', 'world',\n",
       "       'worldbeat', 'ïîï', 'электроника'], dtype=object)"
      ]
     },
     "execution_count": 15,
     "metadata": {},
     "output_type": "execute_result"
    }
   ],
   "source": [
    "df['genre'].sort_values().unique() # Просмотр уникальных названий жанров"
   ]
  },
  {
   "cell_type": "markdown",
   "metadata": {
    "deletable": false,
    "editable": false,
    "id": "qej-Qmuo_Zct",
    "tags": [
     "start_task"
    ]
   },
   "source": [
    "**Задание 16**\n",
    "\n",
    "Просмотрите список и найдите неявные дубликаты названия `hiphop`. Это могут быть названия с ошибками или альтернативные названия того же жанра.\n",
    "\n",
    "Вы увидите следующие неявные дубликаты:\n",
    "* *hip*,\n",
    "* *hop*,\n",
    "* *hip-hop*.\n",
    "\n",
    "Чтобы очистить от них таблицу используйте метод `replace()` с двумя аргументами: списком строк-дубликатов (включащий *hip*, *hop* и *hip-hop*) и строкой с правильным значением. Вам нужно исправить колонку `genre` в таблице `df`: заменить каждое значение из списка дубликатов на верное. Вместо `hip`, `hop` и `hip-hop` в таблице должно быть значение `hiphop`:"
   ]
  },
  {
   "cell_type": "code",
   "execution_count": 16,
   "metadata": {
    "deletable": false,
    "id": "ErNDkmns_Zct"
   },
   "outputs": [],
   "source": [
    "df = df.replace(['hip','hop','hip-hop'], 'hiphop') # Устранение неявных дубликатов"
   ]
  },
  {
   "cell_type": "markdown",
   "metadata": {
    "deletable": false,
    "editable": false,
    "id": "zQKF16_RG15m",
    "tags": [
     "start_task"
    ]
   },
   "source": [
    "**Задание 17**\n",
    "\n",
    "Проверьте, что заменили неправильные названия:\n",
    "\n",
    "*   hip,\n",
    "*   hop,\n",
    "*   hip-hop.\n",
    "\n",
    "Выведите отсортированный список уникальных значений столбца `genre`:"
   ]
  },
  {
   "cell_type": "code",
   "execution_count": 17,
   "metadata": {
    "deletable": false,
    "id": "wvixALnFG15m"
   },
   "outputs": [
    {
     "data": {
      "text/plain": [
       "array(['acid', 'acoustic', 'action', 'adult', 'africa', 'afrikaans',\n",
       "       'alternative', 'alternativepunk', 'ambient', 'americana',\n",
       "       'animated', 'anime', 'arabesk', 'arabic', 'arena',\n",
       "       'argentinetango', 'art', 'audiobook', 'author', 'avantgarde',\n",
       "       'axé', 'baile', 'balkan', 'beats', 'bigroom', 'black', 'bluegrass',\n",
       "       'blues', 'bollywood', 'bossa', 'brazilian', 'breakbeat', 'breaks',\n",
       "       'broadway', 'cantautori', 'cantopop', 'canzone', 'caribbean',\n",
       "       'caucasian', 'celtic', 'chamber', 'chanson', 'children', 'chill',\n",
       "       'chinese', 'choral', 'christian', 'christmas', 'classical',\n",
       "       'classicmetal', 'club', 'colombian', 'comedy', 'conjazz',\n",
       "       'contemporary', 'country', 'cuban', 'dance', 'dancehall',\n",
       "       'dancepop', 'dark', 'death', 'deep', 'deutschrock', 'deutschspr',\n",
       "       'dirty', 'disco', 'dnb', 'documentary', 'downbeat', 'downtempo',\n",
       "       'drum', 'dub', 'dubstep', 'eastern', 'easy', 'electronic',\n",
       "       'electropop', 'emo', 'entehno', 'epicmetal', 'estrada', 'ethnic',\n",
       "       'eurofolk', 'european', 'experimental', 'extrememetal', 'fado',\n",
       "       'fairytail', 'film', 'fitness', 'flamenco', 'folk', 'folklore',\n",
       "       'folkmetal', 'folkrock', 'folktronica', 'forró', 'frankreich',\n",
       "       'französisch', 'french', 'funk', 'future', 'gangsta', 'garage',\n",
       "       'german', 'ghazal', 'gitarre', 'glitch', 'gospel', 'gothic',\n",
       "       'grime', 'grunge', 'gypsy', 'handsup', \"hard'n'heavy\", 'hardcore',\n",
       "       'hardstyle', 'hardtechno', 'hiphop', 'historisch', 'holiday',\n",
       "       'horror', 'house', 'hymn', 'idm', 'independent', 'indian', 'indie',\n",
       "       'indipop', 'industrial', 'inspirational', 'instrumental',\n",
       "       'international', 'irish', 'jam', 'japanese', 'jazz', 'jewish',\n",
       "       'jpop', 'jungle', 'k-pop', 'karadeniz', 'karaoke', 'kayokyoku',\n",
       "       'korean', 'laiko', 'latin', 'latino', 'leftfield', 'local',\n",
       "       'lounge', 'loungeelectronic', 'lovers', 'malaysian', 'mandopop',\n",
       "       'marschmusik', 'meditative', 'mediterranean', 'melodic', 'metal',\n",
       "       'metalcore', 'mexican', 'middle', 'minimal', 'miscellaneous',\n",
       "       'modern', 'mood', 'mpb', 'muslim', 'native', 'neoklassik', 'neue',\n",
       "       'new', 'newage', 'newwave', 'nu', 'nujazz', 'numetal', 'oceania',\n",
       "       'old', 'opera', 'orchestral', 'other', 'piano', 'podcasts', 'pop',\n",
       "       'popdance', 'popelectronic', 'popeurodance', 'poprussian', 'post',\n",
       "       'posthardcore', 'postrock', 'power', 'progmetal', 'progressive',\n",
       "       'psychedelic', 'punjabi', 'punk', 'quebecois', 'ragga', 'ram',\n",
       "       'rancheras', 'rap', 'rave', 'reggae', 'reggaeton', 'regional',\n",
       "       'relax', 'religious', 'retro', 'rhythm', 'rnb', 'rnr', 'rock',\n",
       "       'rockabilly', 'rockalternative', 'rockindie', 'rockother',\n",
       "       'romance', 'roots', 'ruspop', 'rusrap', 'rusrock', 'russian',\n",
       "       'salsa', 'samba', 'scenic', 'schlager', 'self', 'sertanejo',\n",
       "       'shanson', 'shoegazing', 'showtunes', 'singer', 'ska', 'skarock',\n",
       "       'slow', 'smooth', 'soft', 'soul', 'soulful', 'sound', 'soundtrack',\n",
       "       'southern', 'specialty', 'speech', 'spiritual', 'sport',\n",
       "       'stonerrock', 'surf', 'swing', 'synthpop', 'synthrock',\n",
       "       'sängerportrait', 'tango', 'tanzorchester', 'taraftar', 'tatar',\n",
       "       'tech', 'techno', 'teen', 'thrash', 'top', 'traditional',\n",
       "       'tradjazz', 'trance', 'tribal', 'trip', 'triphop', 'tropical',\n",
       "       'türk', 'türkçe', 'ukrrock', 'unknown', 'urban', 'uzbek',\n",
       "       'variété', 'vi', 'videogame', 'vocal', 'western', 'world',\n",
       "       'worldbeat', 'ïîï', 'электроника'], dtype=object)"
      ]
     },
     "execution_count": 17,
     "metadata": {},
     "output_type": "execute_result"
    }
   ],
   "source": [
    "df['genre'].sort_values().unique() # Проверка на неявные дубликаты"
   ]
  },
  {
   "cell_type": "markdown",
   "metadata": {
    "deletable": false,
    "editable": false,
    "id": "jz6a9-7HQUDd"
   },
   "source": [
    "**Выводы**\n",
    "\n",
    "Предобработка обнаружила три проблемы в данных:\n",
    "\n",
    "- нарушения в стиле заголовков,\n",
    "- пропущенные значения,\n",
    "- дубликаты — явные и неявные.\n",
    "\n",
    "Вы исправили заголовки, чтобы упростить работу с таблицей. Без дубликатов исследование станет более точным.\n",
    "\n",
    "Пропущенные значения вы заменили на `'unknown'`. Ещё предстоит увидеть, не повредят ли исследованию пропуски в колонке `genre`.\n",
    "\n",
    "Теперь можно перейти к проверке гипотез. "
   ]
  },
  {
   "cell_type": "markdown",
   "metadata": {
    "deletable": false,
    "editable": false,
    "id": "WttZHXH0SqKk"
   },
   "source": [
    "## Проверка гипотез"
   ]
  },
  {
   "cell_type": "markdown",
   "metadata": {
    "deletable": false,
    "editable": false,
    "id": "Im936VVi_Zcu"
   },
   "source": [
    "### Сравнение поведения пользователей двух столиц"
   ]
  },
  {
   "cell_type": "markdown",
   "metadata": {
    "deletable": false,
    "editable": false,
    "id": "nwt_MuaL_Zcu"
   },
   "source": [
    "Первая гипотеза утверждает, что пользователи по-разному слушают музыку в Москве и Санкт-Петербурге. Проверьте это предположение по данным о трёх днях недели — понедельнике, среде и пятнице. Для этого:\n",
    "\n",
    "* Разделите пользователей Москвы и Санкт-Петербурга.\n",
    "* Сравните, сколько треков послушала каждая группа пользователей в понедельник, среду и пятницу.\n"
   ]
  },
  {
   "cell_type": "markdown",
   "metadata": {
    "deletable": false,
    "editable": false,
    "id": "8Dw_YMmT_Zcu",
    "tags": [
     "start_task"
    ]
   },
   "source": [
    "**Задание 18**\n",
    "\n",
    "Для тренировки сначала выполните каждый из расчётов по отдельности. \n",
    "\n",
    "Оцените активность пользователей в каждом городе. Сгруппируйте данные по городу и посчитайте прослушивания в каждой группе.\n",
    "\n"
   ]
  },
  {
   "cell_type": "code",
   "execution_count": 18,
   "metadata": {
    "deletable": false,
    "id": "0_Qs96oh_Zcu"
   },
   "outputs": [
    {
     "data": {
      "text/plain": [
       "city\n",
       "Moscow              42741\n",
       "Saint-Petersburg    18512\n",
       "Name: track, dtype: int64"
      ]
     },
     "execution_count": 18,
     "metadata": {},
     "output_type": "execute_result"
    }
   ],
   "source": [
    "df.groupby('city')['track'].count()\n",
    " # Подсчёт прослушиваний в каждом городе"
   ]
  },
  {
   "cell_type": "markdown",
   "metadata": {
    "deletable": false,
    "editable": false,
    "id": "dzli3w8o_Zcu",
    "tags": [
     "start_task"
    ]
   },
   "source": [
    "В Москве прослушиваний больше, чем в Петербурге. Из этого не следует, что московские пользователи чаще слушают музыку. Просто самих пользователей в Москве больше.\n",
    "\n",
    "**Задание 19**\n",
    "\n",
    "Теперь сгруппируйте данные по дню недели и посчитайте прослушивания в понедельник, среду и пятницу. Учтите, что в данных есть информация о прослушиваниях только за эти дни.\n"
   ]
  },
  {
   "cell_type": "code",
   "execution_count": 19,
   "metadata": {
    "deletable": false,
    "id": "uZMKjiJz_Zcu"
   },
   "outputs": [
    {
     "data": {
      "text/plain": [
       "day\n",
       "Friday       21840\n",
       "Monday       21354\n",
       "Wednesday    18059\n",
       "Name: track, dtype: int64"
      ]
     },
     "execution_count": 19,
     "metadata": {},
     "output_type": "execute_result"
    }
   ],
   "source": [
    "df.groupby('day')['track'].count() # Подсчёт прослушиваний в каждый из трёх дней"
   ]
  },
  {
   "cell_type": "markdown",
   "metadata": {
    "deletable": false,
    "editable": false,
    "id": "cC2tNrlL_Zcu"
   },
   "source": [
    "В среднем пользователи из двух городов менее активны по средам. Но картина может измениться, если рассмотреть каждый город в отдельности."
   ]
  },
  {
   "cell_type": "markdown",
   "metadata": {
    "deletable": false,
    "editable": false,
    "id": "POzs8bGa_Zcu",
    "tags": [
     "start_task"
    ]
   },
   "source": [
    "**Задание 20**\n",
    "\n",
    "\n",
    "Вы видели, как работает группировка по городу и по дням недели. Теперь напишите функцию, которая объединит два эти расчёта.\n",
    "\n",
    "Создайте функцию `number_tracks()`, которая посчитает прослушивания для заданного дня и города. Ей понадобятся два параметра:\n",
    "* день недели,\n",
    "* название города.\n",
    "\n",
    "В функции сохраните в переменную строки исходной таблицы, у которых значение:\n",
    "  * в колонке `day` равно параметру `day`,\n",
    "  * в колонке `city` равно параметру `city`.\n",
    "\n",
    "Для этого примените последовательную фильтрацию с логической индексацией (или сложные логические выражения в одну строку, если вы уже знакомы с ними).\n",
    "\n",
    "Затем посчитайте значения в столбце `user_id` получившейся таблицы. Результат сохраните в новую переменную. Верните эту переменную из функции."
   ]
  },
  {
   "cell_type": "code",
   "execution_count": 20,
   "metadata": {
    "deletable": false,
    "id": "Nz3GdQB1_Zcu"
   },
   "outputs": [],
   "source": [
    "def number_tracks(day,city):\n",
    "    track_list = df[df['day'] == day]\n",
    "    track_list = track_list[track_list['city'] == city]\n",
    "    track_list_count = track_list['user_id'].count()\n",
    "    return track_list_count # <создание функции number_tracks()>\n",
    "# Объявляется функция с двумя параметрами: day, city.\n",
    "# В переменной track_list сохраняются те строки таблицы df, для которых \n",
    "# значение в столбце 'day' равно параметру day и одновременно значение\n",
    "# в столбце 'city' равно параметру city (используйте последовательную фильтрацию\n",
    "# с помощью логической индексации или сложные логические выражения в одну строку, если вы уже знакомы с ними).\n",
    "# В переменной track_list_count сохраняется число значений столбца 'user_id',\n",
    "# рассчитанное методом count() для таблицы track_list.\n",
    "# Функция возвращает число - значение track_list_count.\n",
    "\n",
    "# Функция для подсчёта прослушиваний для конкретного города и дня.\n",
    "# С помощью последовательной фильтрации с логической индексацией она \n",
    "# сначала получит из исходной таблицы строки с нужным днём,\n",
    "# затем из результата отфильтрует строки с нужным городом,\n",
    "# методом count() посчитает количество значений в колонке user_id. \n",
    "# Это количество функция вернёт в качестве результата"
   ]
  },
  {
   "cell_type": "markdown",
   "metadata": {
    "deletable": false,
    "editable": false,
    "id": "ytf7xFrFJQ2r",
    "tags": [
     "start_task"
    ]
   },
   "source": [
    "**Задание 21**\n",
    "\n",
    "Вызовите `number_tracks()` шесть раз, меняя значение параметров — так, чтобы получить данные для каждого города в каждый из трёх дней."
   ]
  },
  {
   "cell_type": "code",
   "execution_count": 21,
   "metadata": {
    "deletable": false,
    "id": "rJcRATNQ_Zcu"
   },
   "outputs": [
    {
     "data": {
      "text/plain": [
       "15740"
      ]
     },
     "execution_count": 21,
     "metadata": {},
     "output_type": "execute_result"
    }
   ],
   "source": [
    "number_tracks ('Monday', 'Moscow') # количество прослушиваний в Москве по понедельникам"
   ]
  },
  {
   "cell_type": "code",
   "execution_count": 22,
   "metadata": {
    "deletable": false,
    "id": "hq_ncZ5T_Zcu"
   },
   "outputs": [
    {
     "data": {
      "text/plain": [
       "5614"
      ]
     },
     "execution_count": 22,
     "metadata": {},
     "output_type": "execute_result"
    }
   ],
   "source": [
    "number_tracks ('Monday', 'Saint-Petersburg') # количество прослушиваний в Санкт-Петербурге по понедельникам"
   ]
  },
  {
   "cell_type": "code",
   "execution_count": 23,
   "metadata": {
    "deletable": false,
    "id": "_NTy2VPU_Zcu"
   },
   "outputs": [
    {
     "data": {
      "text/plain": [
       "11056"
      ]
     },
     "execution_count": 23,
     "metadata": {},
     "output_type": "execute_result"
    }
   ],
   "source": [
    "number_tracks ('Wednesday', 'Moscow') # количество прослушиваний в Москве по средам"
   ]
  },
  {
   "cell_type": "code",
   "execution_count": 24,
   "metadata": {
    "deletable": false,
    "id": "j2y3TAwo_Zcu"
   },
   "outputs": [
    {
     "data": {
      "text/plain": [
       "7003"
      ]
     },
     "execution_count": 24,
     "metadata": {},
     "output_type": "execute_result"
    }
   ],
   "source": [
    "number_tracks ('Wednesday', 'Saint-Petersburg') # количество прослушиваний в Санкт-Петербурге по средам"
   ]
  },
  {
   "cell_type": "code",
   "execution_count": 25,
   "metadata": {
    "deletable": false,
    "id": "vYDw5u_K_Zcu"
   },
   "outputs": [
    {
     "data": {
      "text/plain": [
       "15945"
      ]
     },
     "execution_count": 25,
     "metadata": {},
     "output_type": "execute_result"
    }
   ],
   "source": [
    "number_tracks ('Friday', 'Moscow') # количество прослушиваний в Москве по пятницам"
   ]
  },
  {
   "cell_type": "code",
   "execution_count": 26,
   "metadata": {
    "deletable": false,
    "id": "8_yzFtW3_Zcu"
   },
   "outputs": [
    {
     "data": {
      "text/plain": [
       "5895"
      ]
     },
     "execution_count": 26,
     "metadata": {},
     "output_type": "execute_result"
    }
   ],
   "source": [
    "number_tracks ('Friday', 'Saint-Petersburg') # количество прослушиваний в Санкт-Петербурге по пятницам"
   ]
  },
  {
   "cell_type": "markdown",
   "metadata": {
    "deletable": false,
    "editable": false,
    "id": "7QXffbO-_Zcu",
    "tags": [
     "start_task"
    ]
   },
   "source": [
    "**Задание 22**\n",
    "\n",
    "Создайте c помощью конструктора `pd.DataFrame` таблицу, где\n",
    "* названия колонок — `['city', 'monday', 'wednesday', 'friday']`;\n",
    "* данные — результаты, которые вы получили с помощью `number_tracks`."
   ]
  },
  {
   "cell_type": "code",
   "execution_count": 27,
   "metadata": {
    "deletable": false,
    "id": "APAcLpOr_Zcu"
   },
   "outputs": [],
   "source": [
    "import pandas as pd \n",
    "data=[['Moscow', 15740, 5614, 11056], ['Saint-Petersburg', 7003, 15945, 5895]]\n",
    "columns=['city', 'monday', 'wednesday', 'friday'] # Таблица с результатами\n",
    "result = pd.DataFrame(data=data, columns=columns)"
   ]
  },
  {
   "cell_type": "markdown",
   "metadata": {
    "deletable": false,
    "editable": false,
    "id": "-EgPIHYu_Zcu"
   },
   "source": [
    "**Выводы**\n",
    "\n",
    "Данные показывают разницу поведения пользователей:\n",
    "\n",
    "- В Москве пик прослушиваний приходится на понедельник и пятницу, а в среду заметен спад.\n",
    "- В Петербурге, наоборот, больше слушают музыку по средам. Активность в понедельник и пятницу здесь почти в равной мере уступает среде.\n",
    "\n",
    "Значит, данные говорят в пользу первой гипотезы."
   ]
  },
  {
   "cell_type": "markdown",
   "metadata": {
    "deletable": false,
    "editable": false,
    "id": "atZAxtq4_Zcu"
   },
   "source": [
    "### Музыка в начале и в конце недели"
   ]
  },
  {
   "cell_type": "markdown",
   "metadata": {
    "deletable": false,
    "editable": false,
    "id": "eXrQqXFH_Zcu"
   },
   "source": [
    "Согласно второй гипотезе, утром в понедельник в Москве преобладают одни жанры, а в Петербурге — другие. Так же и вечером пятницы преобладают разные жанры — в зависимости от города."
   ]
  },
  {
   "cell_type": "markdown",
   "metadata": {
    "deletable": false,
    "editable": false,
    "id": "S8UcW6Hw_Zcu",
    "tags": [
     "start_task"
    ]
   },
   "source": [
    "**Задание 23**\n",
    "\n",
    "Сохраните таблицы с данными в две переменные:\n",
    "* по Москве — в `moscow_general`;\n",
    "* по Санкт-Петербургу — в `spb_general`."
   ]
  },
  {
   "cell_type": "code",
   "execution_count": 28,
   "metadata": {
    "deletable": false,
    "id": "qeaFfM_P_Zcu"
   },
   "outputs": [],
   "source": [
    "moscow_general = df[df['city'] == 'Moscow'] # получение таблицы moscow_general из тех строк таблицы df, \n",
    "# для которых значение в столбце 'city' равно 'Moscow'"
   ]
  },
  {
   "cell_type": "code",
   "execution_count": 29,
   "metadata": {
    "deletable": false,
    "id": "ORaVRKto_Zcu"
   },
   "outputs": [],
   "source": [
    "spb_general = df[df['city'] == 'Saint-Petersburg'] # получение таблицы spb_general из тех строк таблицы df,\n",
    "# для которых значение в столбце 'city' равно 'Saint-Petersburg'"
   ]
  },
  {
   "cell_type": "markdown",
   "metadata": {
    "deletable": false,
    "editable": false,
    "id": "MEJV-CX2_Zcu",
    "tags": [
     "start_task"
    ]
   },
   "source": [
    "**Задание 24**\n",
    "\n",
    "Создайте функцию `genre_weekday()` с четырьмя параметрами:\n",
    "* таблица (датафрейм) с данными,\n",
    "* день недели,\n",
    "* начальная временная метка в формате 'hh:mm', \n",
    "* последняя временная метка в формате 'hh:mm'.\n",
    "\n",
    "Функция должна вернуть информацию о топ-10 жанров тех треков, которые прослушивали в указанный день, в промежутке между двумя отметками времени."
   ]
  },
  {
   "cell_type": "code",
   "execution_count": 30,
   "metadata": {
    "deletable": false,
    "id": "laJT9BYl_Zcu"
   },
   "outputs": [],
   "source": [
    "# Объявление функции genre_weekday() с параметрами table, day, time1, time2,\n",
    "# которая возвращает информацию о самых популярных жанрах в указанный день в\n",
    "# заданное время:\n",
    "# 1) в переменную genre_df сохраняются те строки переданного датафрейма table, для\n",
    "#    которых одновременно:\n",
    "#    - значение в столбце day равно значению аргумента day\n",
    "#    - значение в столбце time больше значения аргумента time1\n",
    "#    - значение в столбце time меньше значения аргумента time2\n",
    "#    Используйте последовательную фильтрацию с помощью логической индексации.\n",
    "# 2) сгруппировать датафрейм genre_df по столбцу genre, взять один из его\n",
    "#    столбцов и посчитать методом count() количество записей для каждого из\n",
    "#    присутствующих жанров, получившийся Series записать в переменную\n",
    "#    genre_df_count\n",
    "# 3) отсортировать genre_df_count по убыванию встречаемости и сохранить\n",
    "#    в переменную genre_df_sorted\n",
    "# 4) вернуть Series из 10 первых значений genre_df_sorted, это будут топ-10\n",
    "#    популярных жанров (в указанный день, в заданное время)\n",
    "\n",
    "def genre_weekday(df, day, time1 = 'hh:mm', time2 = 'hh:mm'):\n",
    "    # последовательная фильтрация\n",
    "    # оставляем в genre_df только те строки df, у которых день равен day\n",
    "    genre_df = df[df['day'] == day] # ваш код здесь\n",
    "    # оставляем в genre_df только те строки genre_df, у которых время меньше time2\n",
    "    genre_df = genre_df[genre_df['time'] > time1] # ваш код здесь\n",
    "    # оставляем в genre_df только те строки genre_df, у которых время больше time1\n",
    "    genre_df = genre_df = genre_df[genre_df['time'] < time2] # ваш код здесь\n",
    "    # сгруппируем отфильтрованный датафрейм по столбцу с названиями жанров, возьмём столбец genre и посчитаем кол-во строк для каждого жанра методом count()\n",
    "    genre_df_grouped = genre_df.groupby('genre')\n",
    "    genre_df_count = genre_df_grouped['genre'].count() # ваш код здесь\n",
    "    # отсортируем результат по убыванию (чтобы в начале Series оказались самые популярные жанры)\n",
    "    genre_df_sorted = genre_df_count.sort_values(ascending=False) # ваш код здесь\n",
    "    # вернём Series с 10 самыми популярными жанрами в указанный отрезок времени заданного дня\n",
    "    return genre_df_sorted[:10]"
   ]
  },
  {
   "cell_type": "markdown",
   "metadata": {
    "deletable": false,
    "editable": false,
    "id": "la2s2_PF_Zcu",
    "tags": [
     "start_task"
    ]
   },
   "source": [
    "**Задание 25**\n",
    "\n",
    "\n",
    "Cравните результаты функции `genre_weekday()` для Москвы и Санкт-Петербурга в понедельник утром (с 7:00 до 11:00) и в пятницу вечером (с 17:00 до 23:00):"
   ]
  },
  {
   "cell_type": "code",
   "execution_count": 31,
   "metadata": {
    "deletable": false,
    "id": "yz7itPUQ_Zcu"
   },
   "outputs": [
    {
     "data": {
      "text/plain": [
       "genre\n",
       "pop            781\n",
       "dance          549\n",
       "electronic     480\n",
       "rock           474\n",
       "hiphop         286\n",
       "ruspop         186\n",
       "world          181\n",
       "rusrap         175\n",
       "alternative    164\n",
       "unknown        161\n",
       "Name: genre, dtype: int64"
      ]
     },
     "execution_count": 31,
     "metadata": {},
     "output_type": "execute_result"
    }
   ],
   "source": [
    "genre_weekday (moscow_general, 'Monday', '07:00', '11:00')\n",
    "# вызов функции для утра понедельника в Москве (вместо df — таблица moscow_general)\n",
    "# объекты, хранящие время, являются строками и сравниваются как строки\n",
    "# пример вызова: genre_weekday(moscow_general, 'Monday', '07:00', '11:00')"
   ]
  },
  {
   "cell_type": "code",
   "execution_count": 32,
   "metadata": {
    "deletable": false,
    "id": "kwUcHPdy_Zcu"
   },
   "outputs": [
    {
     "data": {
      "text/plain": [
       "genre\n",
       "pop            218\n",
       "dance          182\n",
       "rock           162\n",
       "electronic     147\n",
       "hiphop          80\n",
       "ruspop          64\n",
       "alternative     58\n",
       "rusrap          55\n",
       "jazz            44\n",
       "classical       40\n",
       "Name: genre, dtype: int64"
      ]
     },
     "execution_count": 32,
     "metadata": {},
     "output_type": "execute_result"
    }
   ],
   "source": [
    "genre_weekday (spb_general, 'Monday', '07:00', '11:00') #вызов функции для утра понедельника в Петербурге (вместо df — таблица spb_general)"
   ]
  },
  {
   "cell_type": "code",
   "execution_count": 33,
   "metadata": {
    "deletable": false,
    "id": "EzXVRE1o_Zcu"
   },
   "outputs": [
    {
     "data": {
      "text/plain": [
       "genre\n",
       "pop            713\n",
       "rock           517\n",
       "dance          495\n",
       "electronic     482\n",
       "hiphop         273\n",
       "world          208\n",
       "ruspop         170\n",
       "alternative    163\n",
       "classical      163\n",
       "rusrap         142\n",
       "Name: genre, dtype: int64"
      ]
     },
     "execution_count": 33,
     "metadata": {},
     "output_type": "execute_result"
    }
   ],
   "source": [
    "genre_weekday (moscow_general, 'Friday', '17:00', '23:00') # вызов функции для вечера пятницы в Москве"
   ]
  },
  {
   "cell_type": "code",
   "execution_count": 34,
   "metadata": {
    "deletable": false,
    "id": "JZaEKu5v_Zcu"
   },
   "outputs": [
    {
     "data": {
      "text/plain": [
       "genre\n",
       "pop            256\n",
       "electronic     216\n",
       "rock           216\n",
       "dance          210\n",
       "hiphop          97\n",
       "alternative     63\n",
       "jazz            61\n",
       "classical       60\n",
       "rusrap          59\n",
       "world           54\n",
       "Name: genre, dtype: int64"
      ]
     },
     "execution_count": 34,
     "metadata": {},
     "output_type": "execute_result"
    }
   ],
   "source": [
    "genre_weekday (spb_general, 'Friday', '17:00', '23:00') # вызов функции для вечера пятницы в Петербурге"
   ]
  },
  {
   "cell_type": "markdown",
   "metadata": {
    "deletable": false,
    "editable": false,
    "id": "wrCe4MNX_Zcu"
   },
   "source": [
    "**Выводы**\n",
    "\n",
    "Если сравнить топ-10 жанров в понедельник утром, можно сделать такие выводы:\n",
    "\n",
    "1. В Москве и Петербурге слушают похожую музыку. Единственное отличие — в московский рейтинг вошёл жанр “world”, а в петербургский — джаз и классика.\n",
    "\n",
    "2. В Москве пропущенных значений оказалось так много, что значение `'unknown'` заняло десятое место среди самых популярных жанров. Значит, пропущенные значения занимают существенную долю в данных и угрожают достоверности исследования.\n",
    "\n",
    "Вечер пятницы не меняет эту картину. Некоторые жанры поднимаются немного выше, другие спускаются, но в целом топ-10 остаётся тем же самым.\n",
    "\n",
    "Таким образом, вторая гипотеза подтвердилась лишь частично:\n",
    "* Пользователи слушают похожую музыку в начале недели и в конце.\n",
    "* Разница между Москвой и Петербургом не слишком выражена. В Москве чаще слушают русскую популярную музыку, в Петербурге — джаз.\n",
    "\n",
    "Однако пропуски в данных ставят под сомнение этот результат. В Москве их так много, что рейтинг топ-10 мог бы выглядеть иначе, если бы не утерянные  данные о жанрах."
   ]
  },
  {
   "cell_type": "markdown",
   "metadata": {
    "deletable": false,
    "editable": false,
    "id": "JolODAqr_Zcu"
   },
   "source": [
    "### Жанровые предпочтения в Москве и Петербурге\n",
    "\n",
    "Гипотеза: Петербург — столица рэпа, музыку этого жанра там слушают чаще, чем в Москве.  А Москва — город контрастов, в котором, тем не менее, преобладает поп-музыка."
   ]
  },
  {
   "cell_type": "markdown",
   "metadata": {
    "deletable": false,
    "editable": false,
    "id": "DlegSvaT_Zcu",
    "tags": [
     "start_task"
    ]
   },
   "source": [
    "**Задание 26**\n",
    "\n",
    "Сгруппируйте таблицу `moscow_general` по жанру и посчитайте прослушивания треков каждого жанра методом `count()`. Затем отсортируйте результат в порядке убывания и сохраните его в таблице `moscow_genres`."
   ]
  },
  {
   "cell_type": "code",
   "execution_count": 35,
   "metadata": {
    "deletable": false,
    "id": "r19lIPke_Zcu"
   },
   "outputs": [],
   "source": [
    "moscow_genres = moscow_general.groupby('genre') # одной строкой: группировка таблицы moscow_general по столбцу 'genre', \n",
    "moscow_genres = moscow_genres['genre'].count() # подсчёт числа значений 'genre' в этой группировке методом count(), \n",
    "moscow_genres = moscow_genres.sort_values(ascending=False) # сортировка получившегося Series в порядке убывания и сохранение в moscow_genres"
   ]
  },
  {
   "cell_type": "markdown",
   "metadata": {
    "deletable": false,
    "editable": false,
    "id": "6kMuomxTiIr8",
    "tags": [
     "start_task"
    ]
   },
   "source": [
    "**Задание 27**\n",
    "\n",
    "Выведите на экран первые десять строк `moscow_genres`:"
   ]
  },
  {
   "cell_type": "code",
   "execution_count": 36,
   "metadata": {
    "deletable": false,
    "id": "WhCSooF8_Zcv"
   },
   "outputs": [
    {
     "data": {
      "text/plain": [
       "genre\n",
       "pop            5892\n",
       "dance          4435\n",
       "rock           3965\n",
       "electronic     3786\n",
       "hiphop         2096\n",
       "classical      1616\n",
       "world          1432\n",
       "alternative    1379\n",
       "ruspop         1372\n",
       "rusrap         1161\n",
       "Name: genre, dtype: int64"
      ]
     },
     "execution_count": 36,
     "metadata": {},
     "output_type": "execute_result"
    }
   ],
   "source": [
    "moscow_genres.head(10) # просмотр первых 10 строк moscow_genres"
   ]
  },
  {
   "cell_type": "markdown",
   "metadata": {
    "deletable": false,
    "editable": false,
    "id": "cnPG2vnN_Zcv",
    "tags": [
     "start_task"
    ]
   },
   "source": [
    "**Задание 28**\n",
    "\n",
    "\n",
    "Теперь повторите то же и для Петербурга.\n",
    "\n",
    "Сгруппируйте таблицу `spb_general` по жанру. Посчитайте прослушивания треков каждого жанра. Результат отсортируйте в порядке убывания и сохраните в таблице `spb_genres`:\n"
   ]
  },
  {
   "cell_type": "code",
   "execution_count": 37,
   "metadata": {
    "deletable": false,
    "id": "gluLIpE7_Zcv"
   },
   "outputs": [],
   "source": [
    "spb_genres = spb_general.groupby('genre') # одной строкой: группировка таблицы spb_general по столбцу 'genre', \n",
    "spb_genres = spb_genres['genre'].count() # подсчёт числа значений 'genre' в этой группировке методом count(), \n",
    "spb_genres = spb_genres.sort_values(ascending=False) # сортировка получившегося Series в порядке убывания и сохранение в spb_genres"
   ]
  },
  {
   "cell_type": "markdown",
   "metadata": {
    "deletable": false,
    "editable": false,
    "id": "5Doha_ODgyQ8",
    "tags": [
     "start_task"
    ]
   },
   "source": [
    "**Задание 29**\n",
    "\n",
    "Выведите на экран первые десять строк `spb_genres`:"
   ]
  },
  {
   "cell_type": "code",
   "execution_count": 38,
   "metadata": {
    "deletable": false,
    "id": "uaGJHjVU_Zcv"
   },
   "outputs": [
    {
     "data": {
      "text/plain": [
       "genre\n",
       "pop            2431\n",
       "dance          1932\n",
       "rock           1879\n",
       "electronic     1736\n",
       "hiphop          960\n",
       "alternative     649\n",
       "classical       646\n",
       "rusrap          564\n",
       "ruspop          538\n",
       "world           515\n",
       "Name: genre, dtype: int64"
      ]
     },
     "execution_count": 38,
     "metadata": {},
     "output_type": "execute_result"
    }
   ],
   "source": [
    "spb_genres.head(10) # просмотр первых 10 строк spb_genres"
   ]
  },
  {
   "cell_type": "markdown",
   "metadata": {
    "deletable": false,
    "editable": false,
    "id": "RY51YJYu_Zcv"
   },
   "source": [
    "**Выводы**"
   ]
  },
  {
   "cell_type": "markdown",
   "metadata": {
    "deletable": false,
    "editable": false,
    "id": "nVhnJEm__Zcv"
   },
   "source": [
    "Гипотеза частично подтвердилась:\n",
    "* Поп-музыка — самый популярный жанр в Москве, как и предполагала гипотеза. Более того, в топ-10 жанров встречается близкий жанр — русская популярная музыка.\n",
    "* Вопреки ожиданиям, рэп одинаково популярен в Москве и Петербурге. \n"
   ]
  },
  {
   "cell_type": "markdown",
   "metadata": {
    "deletable": false,
    "editable": false,
    "id": "ykKQ0N65_Zcv"
   },
   "source": [
    "## Итоги исследования"
   ]
  },
  {
   "cell_type": "markdown",
   "metadata": {
    "deletable": false,
    "editable": false,
    "id": "tjUwbHb3_Zcv"
   },
   "source": [
    "Вы проверили три гипотезы и установили:\n",
    "\n",
    "1. День недели по-разному влияет на активность пользователей в Москве и Петербурге. \n",
    "\n",
    "Первая гипотеза полностью подтвердилась.\n",
    "\n",
    "2. Музыкальные предпочтения не сильно меняются в течение недели — будь то Москва или Петербург. Небольшие различия заметны в начале недели, по понедельникам:\n",
    "* в Москве слушают музыку жанра “world”,\n",
    "* в Петербурге — джаз и классику.\n",
    "\n",
    "Таким образом, вторая гипотеза подтвердилась лишь отчасти. Этот результат мог оказаться иным, если бы не пропуски в данных.\n",
    "\n",
    "3. Во вкусах пользователей Москвы и Петербурга больше общего чем различий. Вопреки ожиданиям, предпочтения жанров в Петербурге напоминают московские.\n",
    "\n",
    "Третья гипотеза не подтвердилась. Если различия в предпочтениях и существуют, на основной массе пользователей они незаметны.\n",
    "\n",
    "**На практике исследования содержат проверки статистических гипотез.**\n",
    "Из данных одного сервиса не всегда можно сделать вывод о всех жителях города.\n",
    "Проверки статистических гипотез покажут, насколько они достоверны, исходя из имеющихся данных. \n",
    "С методами проверок гипотез вы ещё познакомитесь в следующих темах."
   ]
  }
 ],
 "metadata": {
  "ExecuteTimeLog": [
   {
    "duration": 339,
    "start_time": "2022-08-20T09:02:59.736Z"
   },
   {
    "duration": 246,
    "start_time": "2022-08-20T10:08:30.325Z"
   },
   {
    "duration": 185,
    "start_time": "2022-08-20T10:08:38.464Z"
   },
   {
    "duration": 19,
    "start_time": "2022-08-20T10:09:18.379Z"
   },
   {
    "duration": 12,
    "start_time": "2022-08-20T10:09:29.197Z"
   },
   {
    "duration": 33,
    "start_time": "2022-08-20T10:10:08.579Z"
   },
   {
    "duration": 3,
    "start_time": "2022-08-20T10:20:05.720Z"
   },
   {
    "duration": 9,
    "start_time": "2022-08-20T10:28:16.473Z"
   },
   {
    "duration": 4,
    "start_time": "2022-08-20T10:28:42.662Z"
   },
   {
    "duration": 33,
    "start_time": "2022-08-20T10:29:32.084Z"
   },
   {
    "duration": 18,
    "start_time": "2022-08-20T10:34:36.331Z"
   },
   {
    "duration": 24,
    "start_time": "2022-08-20T10:35:32.004Z"
   },
   {
    "duration": 60,
    "start_time": "2022-08-20T10:50:22.110Z"
   },
   {
    "duration": 63,
    "start_time": "2022-08-20T10:50:50.739Z"
   },
   {
    "duration": 84,
    "start_time": "2022-08-20T11:20:46.769Z"
   },
   {
    "duration": 65,
    "start_time": "2022-08-20T11:21:19.567Z"
   },
   {
    "duration": 7,
    "start_time": "2022-08-20T13:34:47.673Z"
   },
   {
    "duration": 7,
    "start_time": "2022-08-20T13:35:08.825Z"
   },
   {
    "duration": 10,
    "start_time": "2022-08-20T13:35:24.733Z"
   },
   {
    "duration": 393,
    "start_time": "2022-08-20T13:37:59.500Z"
   },
   {
    "duration": 215,
    "start_time": "2022-08-20T13:37:59.895Z"
   },
   {
    "duration": 20,
    "start_time": "2022-08-20T13:38:00.112Z"
   },
   {
    "duration": 31,
    "start_time": "2022-08-20T13:38:00.134Z"
   },
   {
    "duration": 4,
    "start_time": "2022-08-20T13:38:00.167Z"
   },
   {
    "duration": 14,
    "start_time": "2022-08-20T13:38:00.172Z"
   },
   {
    "duration": 21,
    "start_time": "2022-08-20T13:38:00.188Z"
   },
   {
    "duration": 22,
    "start_time": "2022-08-20T13:38:00.211Z"
   },
   {
    "duration": 35,
    "start_time": "2022-08-20T13:38:00.234Z"
   },
   {
    "duration": 29,
    "start_time": "2022-08-20T13:38:00.272Z"
   },
   {
    "duration": 34,
    "start_time": "2022-08-20T13:38:00.303Z"
   },
   {
    "duration": 74,
    "start_time": "2022-08-20T13:38:00.338Z"
   },
   {
    "duration": 88,
    "start_time": "2022-08-20T13:38:00.413Z"
   },
   {
    "duration": 60,
    "start_time": "2022-08-20T13:38:00.502Z"
   },
   {
    "duration": 49,
    "start_time": "2022-08-20T13:38:00.564Z"
   },
   {
    "duration": 2,
    "start_time": "2022-08-20T13:38:00.615Z"
   },
   {
    "duration": 6,
    "start_time": "2022-08-20T13:38:00.619Z"
   },
   {
    "duration": 9,
    "start_time": "2022-08-20T13:38:00.627Z"
   },
   {
    "duration": 12,
    "start_time": "2022-08-20T13:38:00.637Z"
   },
   {
    "duration": 28,
    "start_time": "2022-08-20T13:38:00.650Z"
   },
   {
    "duration": 29,
    "start_time": "2022-08-20T13:38:00.680Z"
   },
   {
    "duration": 20,
    "start_time": "2022-08-20T13:38:00.711Z"
   },
   {
    "duration": 32,
    "start_time": "2022-08-20T13:38:00.732Z"
   },
   {
    "duration": 20,
    "start_time": "2022-08-20T13:38:00.765Z"
   },
   {
    "duration": 37,
    "start_time": "2022-08-20T13:38:00.787Z"
   },
   {
    "duration": 11,
    "start_time": "2022-08-20T13:38:00.826Z"
   },
   {
    "duration": 18,
    "start_time": "2022-08-20T13:38:00.839Z"
   },
   {
    "duration": 8,
    "start_time": "2022-08-20T13:38:00.861Z"
   },
   {
    "duration": 11,
    "start_time": "2022-08-20T13:38:00.871Z"
   },
   {
    "duration": 63,
    "start_time": "2022-08-20T13:38:00.884Z"
   },
   {
    "duration": 0,
    "start_time": "2022-08-20T13:38:00.949Z"
   },
   {
    "duration": 0,
    "start_time": "2022-08-20T13:38:00.950Z"
   },
   {
    "duration": 0,
    "start_time": "2022-08-20T13:38:00.952Z"
   },
   {
    "duration": 0,
    "start_time": "2022-08-20T13:38:00.953Z"
   },
   {
    "duration": 0,
    "start_time": "2022-08-20T13:38:00.954Z"
   },
   {
    "duration": 0,
    "start_time": "2022-08-20T13:38:00.956Z"
   },
   {
    "duration": 0,
    "start_time": "2022-08-20T13:38:00.957Z"
   },
   {
    "duration": 0,
    "start_time": "2022-08-20T13:38:00.958Z"
   },
   {
    "duration": 53,
    "start_time": "2022-08-20T13:41:43.395Z"
   },
   {
    "duration": 80,
    "start_time": "2022-08-20T13:41:52.900Z"
   },
   {
    "duration": 7,
    "start_time": "2022-08-20T13:46:34.820Z"
   },
   {
    "duration": 15,
    "start_time": "2022-08-20T13:47:31.490Z"
   },
   {
    "duration": 433,
    "start_time": "2022-08-20T13:47:45.465Z"
   },
   {
    "duration": 201,
    "start_time": "2022-08-20T13:47:45.900Z"
   },
   {
    "duration": 25,
    "start_time": "2022-08-20T13:47:46.103Z"
   },
   {
    "duration": 30,
    "start_time": "2022-08-20T13:47:46.130Z"
   },
   {
    "duration": 3,
    "start_time": "2022-08-20T13:47:46.161Z"
   },
   {
    "duration": 28,
    "start_time": "2022-08-20T13:47:46.165Z"
   },
   {
    "duration": 17,
    "start_time": "2022-08-20T13:47:46.196Z"
   },
   {
    "duration": 8,
    "start_time": "2022-08-20T13:47:46.215Z"
   },
   {
    "duration": 24,
    "start_time": "2022-08-20T13:47:46.225Z"
   },
   {
    "duration": 52,
    "start_time": "2022-08-20T13:47:46.252Z"
   },
   {
    "duration": 30,
    "start_time": "2022-08-20T13:47:46.307Z"
   },
   {
    "duration": 86,
    "start_time": "2022-08-20T13:47:46.338Z"
   },
   {
    "duration": 99,
    "start_time": "2022-08-20T13:47:46.425Z"
   },
   {
    "duration": 81,
    "start_time": "2022-08-20T13:47:46.526Z"
   },
   {
    "duration": 36,
    "start_time": "2022-08-20T13:47:46.609Z"
   },
   {
    "duration": 101,
    "start_time": "2022-08-20T13:47:46.647Z"
   },
   {
    "duration": 8,
    "start_time": "2022-08-20T13:47:46.750Z"
   },
   {
    "duration": 3,
    "start_time": "2022-08-20T13:47:46.760Z"
   },
   {
    "duration": 32,
    "start_time": "2022-08-20T13:47:46.764Z"
   },
   {
    "duration": 10,
    "start_time": "2022-08-20T13:47:46.800Z"
   },
   {
    "duration": 13,
    "start_time": "2022-08-20T13:47:46.811Z"
   },
   {
    "duration": 10,
    "start_time": "2022-08-20T13:47:46.825Z"
   },
   {
    "duration": 6,
    "start_time": "2022-08-20T13:47:46.836Z"
   },
   {
    "duration": 13,
    "start_time": "2022-08-20T13:47:46.843Z"
   },
   {
    "duration": 9,
    "start_time": "2022-08-20T13:47:46.857Z"
   },
   {
    "duration": 5,
    "start_time": "2022-08-20T13:47:46.867Z"
   },
   {
    "duration": 6,
    "start_time": "2022-08-20T13:47:46.873Z"
   },
   {
    "duration": 4,
    "start_time": "2022-08-20T13:47:46.882Z"
   },
   {
    "duration": 10,
    "start_time": "2022-08-20T13:47:46.888Z"
   },
   {
    "duration": 57,
    "start_time": "2022-08-20T13:47:46.900Z"
   },
   {
    "duration": 0,
    "start_time": "2022-08-20T13:47:46.958Z"
   },
   {
    "duration": 0,
    "start_time": "2022-08-20T13:47:46.959Z"
   },
   {
    "duration": 0,
    "start_time": "2022-08-20T13:47:46.960Z"
   },
   {
    "duration": 0,
    "start_time": "2022-08-20T13:47:46.961Z"
   },
   {
    "duration": 0,
    "start_time": "2022-08-20T13:47:46.962Z"
   },
   {
    "duration": 0,
    "start_time": "2022-08-20T13:47:46.963Z"
   },
   {
    "duration": 0,
    "start_time": "2022-08-20T13:47:46.964Z"
   },
   {
    "duration": 0,
    "start_time": "2022-08-20T13:47:46.965Z"
   },
   {
    "duration": 8,
    "start_time": "2022-08-20T13:48:07.558Z"
   },
   {
    "duration": 38,
    "start_time": "2022-08-20T13:48:34.119Z"
   },
   {
    "duration": 5,
    "start_time": "2022-08-20T13:55:39.915Z"
   },
   {
    "duration": 74,
    "start_time": "2022-08-20T13:56:48.871Z"
   },
   {
    "duration": 421,
    "start_time": "2022-08-20T13:57:02.399Z"
   },
   {
    "duration": 198,
    "start_time": "2022-08-20T13:57:02.822Z"
   },
   {
    "duration": 15,
    "start_time": "2022-08-20T13:57:03.021Z"
   },
   {
    "duration": 24,
    "start_time": "2022-08-20T13:57:03.038Z"
   },
   {
    "duration": 2,
    "start_time": "2022-08-20T13:57:03.064Z"
   },
   {
    "duration": 21,
    "start_time": "2022-08-20T13:57:03.068Z"
   },
   {
    "duration": 21,
    "start_time": "2022-08-20T13:57:03.090Z"
   },
   {
    "duration": 7,
    "start_time": "2022-08-20T13:57:03.112Z"
   },
   {
    "duration": 31,
    "start_time": "2022-08-20T13:57:03.121Z"
   },
   {
    "duration": 40,
    "start_time": "2022-08-20T13:57:03.153Z"
   },
   {
    "duration": 24,
    "start_time": "2022-08-20T13:57:03.195Z"
   },
   {
    "duration": 84,
    "start_time": "2022-08-20T13:57:03.220Z"
   },
   {
    "duration": 89,
    "start_time": "2022-08-20T13:57:03.306Z"
   },
   {
    "duration": 62,
    "start_time": "2022-08-20T13:57:03.400Z"
   },
   {
    "duration": 65,
    "start_time": "2022-08-20T13:57:03.464Z"
   },
   {
    "duration": 93,
    "start_time": "2022-08-20T13:57:03.531Z"
   },
   {
    "duration": 34,
    "start_time": "2022-08-20T13:57:03.625Z"
   },
   {
    "duration": 76,
    "start_time": "2022-08-20T13:57:03.660Z"
   },
   {
    "duration": 0,
    "start_time": "2022-08-20T13:57:03.738Z"
   },
   {
    "duration": 0,
    "start_time": "2022-08-20T13:57:03.739Z"
   },
   {
    "duration": 0,
    "start_time": "2022-08-20T13:57:03.740Z"
   },
   {
    "duration": 0,
    "start_time": "2022-08-20T13:57:03.742Z"
   },
   {
    "duration": 0,
    "start_time": "2022-08-20T13:57:03.743Z"
   },
   {
    "duration": 0,
    "start_time": "2022-08-20T13:57:03.744Z"
   },
   {
    "duration": 0,
    "start_time": "2022-08-20T13:57:03.745Z"
   },
   {
    "duration": 0,
    "start_time": "2022-08-20T13:57:03.747Z"
   },
   {
    "duration": 0,
    "start_time": "2022-08-20T13:57:03.748Z"
   },
   {
    "duration": 0,
    "start_time": "2022-08-20T13:57:03.750Z"
   },
   {
    "duration": 0,
    "start_time": "2022-08-20T13:57:03.751Z"
   },
   {
    "duration": 0,
    "start_time": "2022-08-20T13:57:03.753Z"
   },
   {
    "duration": 0,
    "start_time": "2022-08-20T13:57:03.754Z"
   },
   {
    "duration": 0,
    "start_time": "2022-08-20T13:57:03.755Z"
   },
   {
    "duration": 0,
    "start_time": "2022-08-20T13:57:03.757Z"
   },
   {
    "duration": 0,
    "start_time": "2022-08-20T13:57:03.785Z"
   },
   {
    "duration": 0,
    "start_time": "2022-08-20T13:57:03.788Z"
   },
   {
    "duration": 0,
    "start_time": "2022-08-20T13:57:03.790Z"
   },
   {
    "duration": 0,
    "start_time": "2022-08-20T13:57:03.791Z"
   },
   {
    "duration": 0,
    "start_time": "2022-08-20T13:57:03.795Z"
   },
   {
    "duration": 7,
    "start_time": "2022-08-20T13:58:49.965Z"
   },
   {
    "duration": 29,
    "start_time": "2022-08-20T13:59:24.919Z"
   },
   {
    "duration": 12,
    "start_time": "2022-08-20T13:59:44.814Z"
   },
   {
    "duration": 50,
    "start_time": "2022-08-20T14:00:08.777Z"
   },
   {
    "duration": 421,
    "start_time": "2022-08-20T14:00:57.256Z"
   },
   {
    "duration": 160,
    "start_time": "2022-08-20T14:00:57.679Z"
   },
   {
    "duration": 16,
    "start_time": "2022-08-20T14:00:57.841Z"
   },
   {
    "duration": 35,
    "start_time": "2022-08-20T14:00:57.859Z"
   },
   {
    "duration": 3,
    "start_time": "2022-08-20T14:00:57.896Z"
   },
   {
    "duration": 13,
    "start_time": "2022-08-20T14:00:57.900Z"
   },
   {
    "duration": 15,
    "start_time": "2022-08-20T14:00:57.915Z"
   },
   {
    "duration": 11,
    "start_time": "2022-08-20T14:00:57.932Z"
   },
   {
    "duration": 43,
    "start_time": "2022-08-20T14:00:57.945Z"
   },
   {
    "duration": 28,
    "start_time": "2022-08-20T14:00:57.992Z"
   },
   {
    "duration": 37,
    "start_time": "2022-08-20T14:00:58.022Z"
   },
   {
    "duration": 103,
    "start_time": "2022-08-20T14:00:58.061Z"
   },
   {
    "duration": 86,
    "start_time": "2022-08-20T14:00:58.165Z"
   },
   {
    "duration": 64,
    "start_time": "2022-08-20T14:00:58.253Z"
   },
   {
    "duration": 34,
    "start_time": "2022-08-20T14:00:58.319Z"
   },
   {
    "duration": 97,
    "start_time": "2022-08-20T14:00:58.354Z"
   },
   {
    "duration": 41,
    "start_time": "2022-08-20T14:00:58.452Z"
   },
   {
    "duration": 38,
    "start_time": "2022-08-20T14:00:58.495Z"
   },
   {
    "duration": 2,
    "start_time": "2022-08-20T14:00:58.535Z"
   },
   {
    "duration": 7,
    "start_time": "2022-08-20T14:00:58.539Z"
   },
   {
    "duration": 15,
    "start_time": "2022-08-20T14:00:58.548Z"
   },
   {
    "duration": 7,
    "start_time": "2022-08-20T14:00:58.565Z"
   },
   {
    "duration": 6,
    "start_time": "2022-08-20T14:00:58.573Z"
   },
   {
    "duration": 9,
    "start_time": "2022-08-20T14:00:58.581Z"
   },
   {
    "duration": 22,
    "start_time": "2022-08-20T14:00:58.592Z"
   },
   {
    "duration": 4,
    "start_time": "2022-08-20T14:00:58.616Z"
   },
   {
    "duration": 5,
    "start_time": "2022-08-20T14:00:58.621Z"
   },
   {
    "duration": 3,
    "start_time": "2022-08-20T14:00:58.629Z"
   },
   {
    "duration": 5,
    "start_time": "2022-08-20T14:00:58.634Z"
   },
   {
    "duration": 55,
    "start_time": "2022-08-20T14:00:58.640Z"
   },
   {
    "duration": 0,
    "start_time": "2022-08-20T14:00:58.698Z"
   },
   {
    "duration": 0,
    "start_time": "2022-08-20T14:00:58.700Z"
   },
   {
    "duration": 0,
    "start_time": "2022-08-20T14:00:58.702Z"
   },
   {
    "duration": 0,
    "start_time": "2022-08-20T14:00:58.706Z"
   },
   {
    "duration": 0,
    "start_time": "2022-08-20T14:00:58.708Z"
   },
   {
    "duration": 0,
    "start_time": "2022-08-20T14:00:58.709Z"
   },
   {
    "duration": 0,
    "start_time": "2022-08-20T14:00:58.711Z"
   },
   {
    "duration": 0,
    "start_time": "2022-08-20T14:00:58.712Z"
   },
   {
    "duration": 62,
    "start_time": "2022-08-20T14:01:28.008Z"
   },
   {
    "duration": 75,
    "start_time": "2022-08-20T14:01:41.650Z"
   },
   {
    "duration": 7,
    "start_time": "2022-08-20T14:02:22.752Z"
   },
   {
    "duration": 33,
    "start_time": "2022-08-20T14:02:38.360Z"
   },
   {
    "duration": 7,
    "start_time": "2022-08-20T14:03:07.976Z"
   },
   {
    "duration": 14,
    "start_time": "2022-08-20T14:03:28.612Z"
   },
   {
    "duration": 30,
    "start_time": "2022-08-20T14:03:39.228Z"
   },
   {
    "duration": 41,
    "start_time": "2022-08-20T14:15:24.338Z"
   },
   {
    "duration": 8,
    "start_time": "2022-08-20T14:15:51.191Z"
   },
   {
    "duration": 7,
    "start_time": "2022-08-20T14:15:55.924Z"
   },
   {
    "duration": 33,
    "start_time": "2022-08-20T14:15:58.910Z"
   },
   {
    "duration": 7,
    "start_time": "2022-08-20T14:16:38.482Z"
   },
   {
    "duration": 29,
    "start_time": "2022-08-20T14:16:45.583Z"
   },
   {
    "duration": 14,
    "start_time": "2022-08-20T14:18:24.416Z"
   },
   {
    "duration": 7,
    "start_time": "2022-08-20T14:18:41.962Z"
   },
   {
    "duration": 30,
    "start_time": "2022-08-20T14:18:50.618Z"
   },
   {
    "duration": 27,
    "start_time": "2022-08-20T14:18:57.519Z"
   },
   {
    "duration": 12,
    "start_time": "2022-08-20T14:20:28.939Z"
   },
   {
    "duration": 51,
    "start_time": "2022-08-21T07:09:56.901Z"
   },
   {
    "duration": 7,
    "start_time": "2022-08-21T07:10:05.341Z"
   },
   {
    "duration": 405,
    "start_time": "2022-08-21T07:10:24.530Z"
   },
   {
    "duration": 456,
    "start_time": "2022-08-21T07:10:24.937Z"
   },
   {
    "duration": 24,
    "start_time": "2022-08-21T07:10:25.395Z"
   },
   {
    "duration": 32,
    "start_time": "2022-08-21T07:10:25.421Z"
   },
   {
    "duration": 7,
    "start_time": "2022-08-21T07:10:25.454Z"
   },
   {
    "duration": 10,
    "start_time": "2022-08-21T07:10:25.463Z"
   },
   {
    "duration": 12,
    "start_time": "2022-08-21T07:10:25.492Z"
   },
   {
    "duration": 19,
    "start_time": "2022-08-21T07:10:25.506Z"
   },
   {
    "duration": 32,
    "start_time": "2022-08-21T07:10:25.527Z"
   },
   {
    "duration": 22,
    "start_time": "2022-08-21T07:10:25.562Z"
   },
   {
    "duration": 32,
    "start_time": "2022-08-21T07:10:25.585Z"
   },
   {
    "duration": 81,
    "start_time": "2022-08-21T07:10:25.619Z"
   },
   {
    "duration": 94,
    "start_time": "2022-08-21T07:10:25.701Z"
   },
   {
    "duration": 64,
    "start_time": "2022-08-21T07:10:25.796Z"
   },
   {
    "duration": 57,
    "start_time": "2022-08-21T07:10:25.862Z"
   },
   {
    "duration": 104,
    "start_time": "2022-08-21T07:10:25.921Z"
   },
   {
    "duration": 42,
    "start_time": "2022-08-21T07:10:26.027Z"
   },
   {
    "duration": 26,
    "start_time": "2022-08-21T07:10:26.071Z"
   },
   {
    "duration": 12,
    "start_time": "2022-08-21T07:10:26.099Z"
   },
   {
    "duration": 7,
    "start_time": "2022-08-21T07:10:26.112Z"
   },
   {
    "duration": 16,
    "start_time": "2022-08-21T07:10:26.121Z"
   },
   {
    "duration": 7,
    "start_time": "2022-08-21T07:10:26.138Z"
   },
   {
    "duration": 12,
    "start_time": "2022-08-21T07:10:26.147Z"
   },
   {
    "duration": 9,
    "start_time": "2022-08-21T07:10:26.160Z"
   },
   {
    "duration": 10,
    "start_time": "2022-08-21T07:10:26.171Z"
   },
   {
    "duration": 12,
    "start_time": "2022-08-21T07:10:26.183Z"
   },
   {
    "duration": 8,
    "start_time": "2022-08-21T07:10:26.197Z"
   },
   {
    "duration": 9,
    "start_time": "2022-08-21T07:10:26.208Z"
   },
   {
    "duration": 10,
    "start_time": "2022-08-21T07:10:26.219Z"
   },
   {
    "duration": 80,
    "start_time": "2022-08-21T07:10:26.231Z"
   },
   {
    "duration": 0,
    "start_time": "2022-08-21T07:10:26.313Z"
   },
   {
    "duration": 0,
    "start_time": "2022-08-21T07:10:26.314Z"
   },
   {
    "duration": 0,
    "start_time": "2022-08-21T07:10:26.315Z"
   },
   {
    "duration": 0,
    "start_time": "2022-08-21T07:10:26.316Z"
   },
   {
    "duration": 0,
    "start_time": "2022-08-21T07:10:26.317Z"
   },
   {
    "duration": 0,
    "start_time": "2022-08-21T07:10:26.318Z"
   },
   {
    "duration": 0,
    "start_time": "2022-08-21T07:10:26.319Z"
   },
   {
    "duration": 0,
    "start_time": "2022-08-21T07:10:26.320Z"
   },
   {
    "duration": 12,
    "start_time": "2022-08-21T07:10:51.260Z"
   },
   {
    "duration": 14,
    "start_time": "2022-08-21T07:12:08.962Z"
   },
   {
    "duration": 6,
    "start_time": "2022-08-21T08:02:08.212Z"
   },
   {
    "duration": 4,
    "start_time": "2022-08-21T08:02:17.217Z"
   },
   {
    "duration": 4,
    "start_time": "2022-08-21T08:02:21.260Z"
   },
   {
    "duration": 5,
    "start_time": "2022-08-21T08:03:55.451Z"
   },
   {
    "duration": 6,
    "start_time": "2022-08-21T08:03:59.391Z"
   },
   {
    "duration": 4,
    "start_time": "2022-08-21T08:06:00.917Z"
   },
   {
    "duration": 4,
    "start_time": "2022-08-21T08:07:36.069Z"
   },
   {
    "duration": 78,
    "start_time": "2022-08-21T08:42:53.591Z"
   },
   {
    "duration": 19,
    "start_time": "2022-08-21T08:43:02.999Z"
   },
   {
    "duration": 17,
    "start_time": "2022-08-21T08:43:31.023Z"
   },
   {
    "duration": 17,
    "start_time": "2022-08-21T08:43:58.205Z"
   },
   {
    "duration": 19,
    "start_time": "2022-08-21T08:44:18.394Z"
   },
   {
    "duration": 26,
    "start_time": "2022-08-21T08:44:37.198Z"
   },
   {
    "duration": 17,
    "start_time": "2022-08-21T08:44:55.254Z"
   },
   {
    "duration": 77,
    "start_time": "2022-08-21T08:47:36.742Z"
   },
   {
    "duration": 25,
    "start_time": "2022-08-21T08:56:54.098Z"
   },
   {
    "duration": 27,
    "start_time": "2022-08-21T08:57:22.988Z"
   },
   {
    "duration": 28,
    "start_time": "2022-08-21T08:57:50.277Z"
   },
   {
    "duration": 10,
    "start_time": "2022-08-21T08:58:42.550Z"
   },
   {
    "duration": 16,
    "start_time": "2022-08-21T08:59:41.719Z"
   },
   {
    "duration": 15,
    "start_time": "2022-08-21T08:59:56.842Z"
   },
   {
    "duration": 14,
    "start_time": "2022-08-21T09:00:53.224Z"
   },
   {
    "duration": 14,
    "start_time": "2022-08-21T09:01:23.142Z"
   },
   {
    "duration": 19,
    "start_time": "2022-08-21T09:02:05.405Z"
   },
   {
    "duration": 5,
    "start_time": "2022-08-21T09:02:37.518Z"
   },
   {
    "duration": 77,
    "start_time": "2022-08-21T09:05:19.141Z"
   },
   {
    "duration": 7,
    "start_time": "2022-08-21T09:05:37.553Z"
   },
   {
    "duration": 79,
    "start_time": "2022-08-21T09:05:40.832Z"
   },
   {
    "duration": 114,
    "start_time": "2022-08-21T09:06:53.112Z"
   },
   {
    "duration": 4,
    "start_time": "2022-08-21T09:06:55.371Z"
   },
   {
    "duration": 4,
    "start_time": "2022-08-21T09:07:04.468Z"
   },
   {
    "duration": 75,
    "start_time": "2022-08-21T09:07:07.174Z"
   },
   {
    "duration": 3,
    "start_time": "2022-08-21T09:07:49.641Z"
   },
   {
    "duration": 394,
    "start_time": "2022-08-21T09:08:41.048Z"
   },
   {
    "duration": 191,
    "start_time": "2022-08-21T09:08:41.444Z"
   },
   {
    "duration": 20,
    "start_time": "2022-08-21T09:08:41.637Z"
   },
   {
    "duration": 47,
    "start_time": "2022-08-21T09:08:41.659Z"
   },
   {
    "duration": 3,
    "start_time": "2022-08-21T09:08:41.708Z"
   },
   {
    "duration": 6,
    "start_time": "2022-08-21T09:08:41.713Z"
   },
   {
    "duration": 13,
    "start_time": "2022-08-21T09:08:41.721Z"
   },
   {
    "duration": 6,
    "start_time": "2022-08-21T09:08:41.736Z"
   },
   {
    "duration": 62,
    "start_time": "2022-08-21T09:08:41.743Z"
   },
   {
    "duration": 28,
    "start_time": "2022-08-21T09:08:41.809Z"
   },
   {
    "duration": 55,
    "start_time": "2022-08-21T09:08:41.840Z"
   },
   {
    "duration": 103,
    "start_time": "2022-08-21T09:08:41.897Z"
   },
   {
    "duration": 113,
    "start_time": "2022-08-21T09:08:42.002Z"
   },
   {
    "duration": 79,
    "start_time": "2022-08-21T09:08:42.117Z"
   },
   {
    "duration": 44,
    "start_time": "2022-08-21T09:08:42.199Z"
   },
   {
    "duration": 116,
    "start_time": "2022-08-21T09:08:42.245Z"
   },
   {
    "duration": 50,
    "start_time": "2022-08-21T09:08:42.363Z"
   },
   {
    "duration": 15,
    "start_time": "2022-08-21T09:08:42.415Z"
   },
   {
    "duration": 13,
    "start_time": "2022-08-21T09:08:42.432Z"
   },
   {
    "duration": 4,
    "start_time": "2022-08-21T09:08:42.447Z"
   },
   {
    "duration": 46,
    "start_time": "2022-08-21T09:08:42.453Z"
   },
   {
    "duration": 18,
    "start_time": "2022-08-21T09:08:42.501Z"
   },
   {
    "duration": 17,
    "start_time": "2022-08-21T09:08:42.521Z"
   },
   {
    "duration": 17,
    "start_time": "2022-08-21T09:08:42.540Z"
   },
   {
    "duration": 49,
    "start_time": "2022-08-21T09:08:42.559Z"
   },
   {
    "duration": 18,
    "start_time": "2022-08-21T09:08:42.610Z"
   },
   {
    "duration": 9,
    "start_time": "2022-08-21T09:08:42.629Z"
   },
   {
    "duration": 5,
    "start_time": "2022-08-21T09:08:42.642Z"
   },
   {
    "duration": 9,
    "start_time": "2022-08-21T09:08:42.648Z"
   },
   {
    "duration": 79,
    "start_time": "2022-08-21T09:08:42.658Z"
   },
   {
    "duration": 0,
    "start_time": "2022-08-21T09:08:42.739Z"
   },
   {
    "duration": 0,
    "start_time": "2022-08-21T09:08:42.740Z"
   },
   {
    "duration": 0,
    "start_time": "2022-08-21T09:08:42.742Z"
   },
   {
    "duration": 0,
    "start_time": "2022-08-21T09:08:42.743Z"
   },
   {
    "duration": 0,
    "start_time": "2022-08-21T09:08:42.745Z"
   },
   {
    "duration": 0,
    "start_time": "2022-08-21T09:08:42.746Z"
   },
   {
    "duration": 0,
    "start_time": "2022-08-21T09:08:42.747Z"
   },
   {
    "duration": 0,
    "start_time": "2022-08-21T09:08:42.748Z"
   },
   {
    "duration": 5,
    "start_time": "2022-08-21T09:10:20.737Z"
   },
   {
    "duration": 4,
    "start_time": "2022-08-21T09:10:33.735Z"
   },
   {
    "duration": 4,
    "start_time": "2022-08-21T09:10:43.210Z"
   },
   {
    "duration": 4,
    "start_time": "2022-08-21T09:11:37.488Z"
   },
   {
    "duration": 4,
    "start_time": "2022-08-21T09:11:40.136Z"
   },
   {
    "duration": 4,
    "start_time": "2022-08-21T09:11:41.190Z"
   },
   {
    "duration": 494,
    "start_time": "2022-08-21T09:12:11.788Z"
   },
   {
    "duration": 186,
    "start_time": "2022-08-21T09:12:12.284Z"
   },
   {
    "duration": 20,
    "start_time": "2022-08-21T09:12:12.472Z"
   },
   {
    "duration": 32,
    "start_time": "2022-08-21T09:12:12.494Z"
   },
   {
    "duration": 3,
    "start_time": "2022-08-21T09:12:12.528Z"
   },
   {
    "duration": 7,
    "start_time": "2022-08-21T09:12:12.532Z"
   },
   {
    "duration": 13,
    "start_time": "2022-08-21T09:12:12.541Z"
   },
   {
    "duration": 6,
    "start_time": "2022-08-21T09:12:12.556Z"
   },
   {
    "duration": 54,
    "start_time": "2022-08-21T09:12:12.564Z"
   },
   {
    "duration": 27,
    "start_time": "2022-08-21T09:12:12.620Z"
   },
   {
    "duration": 36,
    "start_time": "2022-08-21T09:12:12.648Z"
   },
   {
    "duration": 73,
    "start_time": "2022-08-21T09:12:12.692Z"
   },
   {
    "duration": 103,
    "start_time": "2022-08-21T09:12:12.766Z"
   },
   {
    "duration": 79,
    "start_time": "2022-08-21T09:12:12.873Z"
   },
   {
    "duration": 52,
    "start_time": "2022-08-21T09:12:12.954Z"
   },
   {
    "duration": 102,
    "start_time": "2022-08-21T09:12:13.008Z"
   },
   {
    "duration": 41,
    "start_time": "2022-08-21T09:12:13.112Z"
   },
   {
    "duration": 13,
    "start_time": "2022-08-21T09:12:13.155Z"
   },
   {
    "duration": 31,
    "start_time": "2022-08-21T09:12:13.170Z"
   },
   {
    "duration": 4,
    "start_time": "2022-08-21T09:12:13.203Z"
   },
   {
    "duration": 23,
    "start_time": "2022-08-21T09:12:13.210Z"
   },
   {
    "duration": 18,
    "start_time": "2022-08-21T09:12:13.235Z"
   },
   {
    "duration": 42,
    "start_time": "2022-08-21T09:12:13.254Z"
   },
   {
    "duration": 16,
    "start_time": "2022-08-21T09:12:13.298Z"
   },
   {
    "duration": 19,
    "start_time": "2022-08-21T09:12:13.315Z"
   },
   {
    "duration": 16,
    "start_time": "2022-08-21T09:12:13.336Z"
   },
   {
    "duration": 7,
    "start_time": "2022-08-21T09:12:13.354Z"
   },
   {
    "duration": 3,
    "start_time": "2022-08-21T09:12:13.392Z"
   },
   {
    "duration": 7,
    "start_time": "2022-08-21T09:12:13.397Z"
   },
   {
    "duration": 85,
    "start_time": "2022-08-21T09:12:13.406Z"
   },
   {
    "duration": 0,
    "start_time": "2022-08-21T09:12:13.493Z"
   },
   {
    "duration": 0,
    "start_time": "2022-08-21T09:12:13.494Z"
   },
   {
    "duration": 0,
    "start_time": "2022-08-21T09:12:13.495Z"
   },
   {
    "duration": 0,
    "start_time": "2022-08-21T09:12:13.496Z"
   },
   {
    "duration": 0,
    "start_time": "2022-08-21T09:12:13.497Z"
   },
   {
    "duration": 0,
    "start_time": "2022-08-21T09:12:13.499Z"
   },
   {
    "duration": 0,
    "start_time": "2022-08-21T09:12:13.500Z"
   },
   {
    "duration": 0,
    "start_time": "2022-08-21T09:12:13.501Z"
   },
   {
    "duration": 3,
    "start_time": "2022-08-21T09:13:55.449Z"
   },
   {
    "duration": 4,
    "start_time": "2022-08-21T09:13:55.826Z"
   },
   {
    "duration": 91,
    "start_time": "2022-08-21T09:27:45.630Z"
   },
   {
    "duration": 7,
    "start_time": "2022-08-21T09:29:18.380Z"
   },
   {
    "duration": 7,
    "start_time": "2022-08-21T09:30:57.541Z"
   },
   {
    "duration": 93,
    "start_time": "2022-08-21T09:31:20.773Z"
   },
   {
    "duration": 95,
    "start_time": "2022-08-21T09:33:07.374Z"
   },
   {
    "duration": 7,
    "start_time": "2022-08-21T09:33:22.129Z"
   },
   {
    "duration": 8,
    "start_time": "2022-08-21T09:33:46.810Z"
   },
   {
    "duration": 8,
    "start_time": "2022-08-21T09:34:14.663Z"
   },
   {
    "duration": 5,
    "start_time": "2022-08-21T09:34:56.367Z"
   },
   {
    "duration": 6,
    "start_time": "2022-08-21T09:35:22.057Z"
   },
   {
    "duration": 5,
    "start_time": "2022-08-21T09:35:57.970Z"
   },
   {
    "duration": 7,
    "start_time": "2022-08-21T09:37:26.817Z"
   },
   {
    "duration": 6,
    "start_time": "2022-08-21T09:39:12.050Z"
   },
   {
    "duration": 7,
    "start_time": "2022-08-21T09:40:37.534Z"
   },
   {
    "duration": 4,
    "start_time": "2022-08-21T09:41:35.820Z"
   },
   {
    "duration": 6,
    "start_time": "2022-08-21T09:44:05.730Z"
   },
   {
    "duration": 136,
    "start_time": "2022-08-21T09:45:05.885Z"
   },
   {
    "duration": 105,
    "start_time": "2022-08-21T09:45:34.928Z"
   },
   {
    "duration": 5,
    "start_time": "2022-08-21T09:46:44.421Z"
   },
   {
    "duration": 7,
    "start_time": "2022-08-21T09:47:59.022Z"
   },
   {
    "duration": 6,
    "start_time": "2022-08-21T09:48:42.335Z"
   },
   {
    "duration": 84,
    "start_time": "2022-08-21T09:49:44.791Z"
   },
   {
    "duration": 12,
    "start_time": "2022-08-21T09:49:52.218Z"
   },
   {
    "duration": 1485,
    "start_time": "2022-08-21T09:52:08.762Z"
   },
   {
    "duration": 1759,
    "start_time": "2022-08-21T09:53:49.222Z"
   },
   {
    "duration": 130,
    "start_time": "2022-08-21T09:55:06.087Z"
   },
   {
    "duration": 519,
    "start_time": "2022-08-21T09:55:31.888Z"
   },
   {
    "duration": 223,
    "start_time": "2022-08-21T09:55:32.418Z"
   },
   {
    "duration": 21,
    "start_time": "2022-08-21T09:55:32.643Z"
   },
   {
    "duration": 45,
    "start_time": "2022-08-21T09:55:32.666Z"
   },
   {
    "duration": 16,
    "start_time": "2022-08-21T09:55:32.716Z"
   },
   {
    "duration": 8,
    "start_time": "2022-08-21T09:55:32.734Z"
   },
   {
    "duration": 39,
    "start_time": "2022-08-21T09:55:32.744Z"
   },
   {
    "duration": 25,
    "start_time": "2022-08-21T09:55:32.785Z"
   },
   {
    "duration": 41,
    "start_time": "2022-08-21T09:55:32.812Z"
   },
   {
    "duration": 31,
    "start_time": "2022-08-21T09:55:32.856Z"
   },
   {
    "duration": 55,
    "start_time": "2022-08-21T09:55:32.889Z"
   },
   {
    "duration": 92,
    "start_time": "2022-08-21T09:55:32.946Z"
   },
   {
    "duration": 108,
    "start_time": "2022-08-21T09:55:33.040Z"
   },
   {
    "duration": 88,
    "start_time": "2022-08-21T09:55:33.152Z"
   },
   {
    "duration": 56,
    "start_time": "2022-08-21T09:55:33.242Z"
   },
   {
    "duration": 128,
    "start_time": "2022-08-21T09:55:33.299Z"
   },
   {
    "duration": 44,
    "start_time": "2022-08-21T09:55:33.429Z"
   },
   {
    "duration": 46,
    "start_time": "2022-08-21T09:55:33.475Z"
   },
   {
    "duration": 14,
    "start_time": "2022-08-21T09:55:33.523Z"
   },
   {
    "duration": 4,
    "start_time": "2022-08-21T09:55:33.539Z"
   },
   {
    "duration": 24,
    "start_time": "2022-08-21T09:55:33.545Z"
   },
   {
    "duration": 50,
    "start_time": "2022-08-21T09:55:33.571Z"
   },
   {
    "duration": 18,
    "start_time": "2022-08-21T09:55:33.622Z"
   },
   {
    "duration": 20,
    "start_time": "2022-08-21T09:55:33.642Z"
   },
   {
    "duration": 21,
    "start_time": "2022-08-21T09:55:33.664Z"
   },
   {
    "duration": 25,
    "start_time": "2022-08-21T09:55:33.697Z"
   },
   {
    "duration": 5,
    "start_time": "2022-08-21T09:55:33.727Z"
   },
   {
    "duration": 15,
    "start_time": "2022-08-21T09:55:33.734Z"
   },
   {
    "duration": 10,
    "start_time": "2022-08-21T09:55:33.751Z"
   },
   {
    "duration": 5,
    "start_time": "2022-08-21T09:55:33.763Z"
   },
   {
    "duration": 50,
    "start_time": "2022-08-21T09:55:33.770Z"
   },
   {
    "duration": 121,
    "start_time": "2022-08-21T09:55:33.821Z"
   },
   {
    "duration": 0,
    "start_time": "2022-08-21T09:55:33.943Z"
   },
   {
    "duration": 0,
    "start_time": "2022-08-21T09:55:33.944Z"
   },
   {
    "duration": 0,
    "start_time": "2022-08-21T09:55:33.945Z"
   },
   {
    "duration": 0,
    "start_time": "2022-08-21T09:55:33.947Z"
   },
   {
    "duration": 0,
    "start_time": "2022-08-21T09:55:33.948Z"
   },
   {
    "duration": 0,
    "start_time": "2022-08-21T09:55:33.956Z"
   },
   {
    "duration": 7,
    "start_time": "2022-08-21T09:55:45.816Z"
   },
   {
    "duration": 21,
    "start_time": "2022-08-21T09:55:53.638Z"
   },
   {
    "duration": 101,
    "start_time": "2022-08-21T09:56:02.059Z"
   },
   {
    "duration": 19,
    "start_time": "2022-08-21T09:56:52.370Z"
   },
   {
    "duration": 79,
    "start_time": "2022-08-21T09:58:00.754Z"
   },
   {
    "duration": 19,
    "start_time": "2022-08-21T09:58:09.506Z"
   },
   {
    "duration": 27,
    "start_time": "2022-08-21T09:58:49.579Z"
   },
   {
    "duration": 5,
    "start_time": "2022-08-21T09:59:41.938Z"
   },
   {
    "duration": 481,
    "start_time": "2022-08-21T09:59:50.073Z"
   },
   {
    "duration": 202,
    "start_time": "2022-08-21T09:59:50.555Z"
   },
   {
    "duration": 19,
    "start_time": "2022-08-21T09:59:50.759Z"
   },
   {
    "duration": 47,
    "start_time": "2022-08-21T09:59:50.780Z"
   },
   {
    "duration": 14,
    "start_time": "2022-08-21T09:59:50.830Z"
   },
   {
    "duration": 9,
    "start_time": "2022-08-21T09:59:50.846Z"
   },
   {
    "duration": 14,
    "start_time": "2022-08-21T09:59:50.857Z"
   },
   {
    "duration": 24,
    "start_time": "2022-08-21T09:59:50.873Z"
   },
   {
    "duration": 48,
    "start_time": "2022-08-21T09:59:50.899Z"
   },
   {
    "duration": 27,
    "start_time": "2022-08-21T09:59:50.949Z"
   },
   {
    "duration": 45,
    "start_time": "2022-08-21T09:59:50.978Z"
   },
   {
    "duration": 94,
    "start_time": "2022-08-21T09:59:51.025Z"
   },
   {
    "duration": 105,
    "start_time": "2022-08-21T09:59:51.121Z"
   },
   {
    "duration": 73,
    "start_time": "2022-08-21T09:59:51.230Z"
   },
   {
    "duration": 45,
    "start_time": "2022-08-21T09:59:51.305Z"
   },
   {
    "duration": 116,
    "start_time": "2022-08-21T09:59:51.352Z"
   },
   {
    "duration": 61,
    "start_time": "2022-08-21T09:59:51.470Z"
   },
   {
    "duration": 14,
    "start_time": "2022-08-21T09:59:51.532Z"
   },
   {
    "duration": 13,
    "start_time": "2022-08-21T09:59:51.548Z"
   },
   {
    "duration": 4,
    "start_time": "2022-08-21T09:59:51.563Z"
   },
   {
    "duration": 25,
    "start_time": "2022-08-21T09:59:51.592Z"
   },
   {
    "duration": 28,
    "start_time": "2022-08-21T09:59:51.619Z"
   },
   {
    "duration": 32,
    "start_time": "2022-08-21T09:59:51.649Z"
   },
   {
    "duration": 25,
    "start_time": "2022-08-21T09:59:51.691Z"
   },
   {
    "duration": 20,
    "start_time": "2022-08-21T09:59:51.719Z"
   },
   {
    "duration": 20,
    "start_time": "2022-08-21T09:59:51.740Z"
   },
   {
    "duration": 37,
    "start_time": "2022-08-21T09:59:51.763Z"
   },
   {
    "duration": 20,
    "start_time": "2022-08-21T09:59:51.809Z"
   },
   {
    "duration": 15,
    "start_time": "2022-08-21T09:59:51.831Z"
   },
   {
    "duration": 10,
    "start_time": "2022-08-21T09:59:51.849Z"
   },
   {
    "duration": 45,
    "start_time": "2022-08-21T09:59:51.862Z"
   },
   {
    "duration": 26,
    "start_time": "2022-08-21T09:59:51.908Z"
   },
   {
    "duration": 32,
    "start_time": "2022-08-21T09:59:51.936Z"
   },
   {
    "duration": 32,
    "start_time": "2022-08-21T09:59:51.971Z"
   },
   {
    "duration": 18,
    "start_time": "2022-08-21T09:59:52.005Z"
   },
   {
    "duration": 22,
    "start_time": "2022-08-21T09:59:52.026Z"
   },
   {
    "duration": 9,
    "start_time": "2022-08-21T09:59:52.051Z"
   },
   {
    "duration": 9,
    "start_time": "2022-08-21T09:59:52.062Z"
   },
   {
    "duration": 5,
    "start_time": "2022-08-21T10:00:46.034Z"
   },
   {
    "duration": 6,
    "start_time": "2022-08-21T10:01:02.781Z"
   },
   {
    "duration": 73,
    "start_time": "2022-08-21T10:01:18.009Z"
   },
   {
    "duration": 5,
    "start_time": "2022-08-21T10:02:39.308Z"
   },
   {
    "duration": 500,
    "start_time": "2022-08-21T10:02:46.478Z"
   },
   {
    "duration": 222,
    "start_time": "2022-08-21T10:02:46.980Z"
   },
   {
    "duration": 20,
    "start_time": "2022-08-21T10:02:47.207Z"
   },
   {
    "duration": 34,
    "start_time": "2022-08-21T10:02:47.229Z"
   },
   {
    "duration": 14,
    "start_time": "2022-08-21T10:02:47.266Z"
   },
   {
    "duration": 14,
    "start_time": "2022-08-21T10:02:47.282Z"
   },
   {
    "duration": 31,
    "start_time": "2022-08-21T10:02:47.298Z"
   },
   {
    "duration": 21,
    "start_time": "2022-08-21T10:02:47.331Z"
   },
   {
    "duration": 50,
    "start_time": "2022-08-21T10:02:47.355Z"
   },
   {
    "duration": 49,
    "start_time": "2022-08-21T10:02:47.412Z"
   },
   {
    "duration": 55,
    "start_time": "2022-08-21T10:02:47.463Z"
   },
   {
    "duration": 116,
    "start_time": "2022-08-21T10:02:47.520Z"
   },
   {
    "duration": 113,
    "start_time": "2022-08-21T10:02:47.638Z"
   },
   {
    "duration": 87,
    "start_time": "2022-08-21T10:02:47.755Z"
   },
   {
    "duration": 74,
    "start_time": "2022-08-21T10:02:47.843Z"
   },
   {
    "duration": 112,
    "start_time": "2022-08-21T10:02:47.919Z"
   },
   {
    "duration": 49,
    "start_time": "2022-08-21T10:02:48.033Z"
   },
   {
    "duration": 24,
    "start_time": "2022-08-21T10:02:48.093Z"
   },
   {
    "duration": 15,
    "start_time": "2022-08-21T10:02:48.119Z"
   },
   {
    "duration": 4,
    "start_time": "2022-08-21T10:02:48.136Z"
   },
   {
    "duration": 25,
    "start_time": "2022-08-21T10:02:48.142Z"
   },
   {
    "duration": 45,
    "start_time": "2022-08-21T10:02:48.169Z"
   },
   {
    "duration": 21,
    "start_time": "2022-08-21T10:02:48.215Z"
   },
   {
    "duration": 16,
    "start_time": "2022-08-21T10:02:48.238Z"
   },
   {
    "duration": 50,
    "start_time": "2022-08-21T10:02:48.255Z"
   },
   {
    "duration": 18,
    "start_time": "2022-08-21T10:02:48.307Z"
   },
   {
    "duration": 5,
    "start_time": "2022-08-21T10:02:48.327Z"
   },
   {
    "duration": 15,
    "start_time": "2022-08-21T10:02:48.334Z"
   },
   {
    "duration": 48,
    "start_time": "2022-08-21T10:02:48.351Z"
   },
   {
    "duration": 5,
    "start_time": "2022-08-21T10:02:48.478Z"
   },
   {
    "duration": 96,
    "start_time": "2022-08-21T10:02:48.485Z"
   },
   {
    "duration": 0,
    "start_time": "2022-08-21T10:02:48.583Z"
   },
   {
    "duration": 0,
    "start_time": "2022-08-21T10:02:48.584Z"
   },
   {
    "duration": 0,
    "start_time": "2022-08-21T10:02:48.592Z"
   },
   {
    "duration": 3,
    "start_time": "2022-08-21T10:02:49.285Z"
   },
   {
    "duration": 27,
    "start_time": "2022-08-21T10:02:49.291Z"
   },
   {
    "duration": 7,
    "start_time": "2022-08-21T10:02:49.320Z"
   },
   {
    "duration": 9,
    "start_time": "2022-08-21T10:02:49.330Z"
   },
   {
    "duration": 7,
    "start_time": "2022-08-21T10:03:13.069Z"
   },
   {
    "duration": 6,
    "start_time": "2022-08-21T10:03:16.353Z"
   },
   {
    "duration": 32,
    "start_time": "2022-08-21T10:03:23.885Z"
   },
   {
    "duration": 12,
    "start_time": "2022-08-21T10:03:37.520Z"
   },
   {
    "duration": 12,
    "start_time": "2022-08-21T10:03:39.515Z"
   },
   {
    "duration": 6,
    "start_time": "2022-08-21T10:03:43.369Z"
   },
   {
    "duration": 29,
    "start_time": "2022-08-21T10:03:47.138Z"
   },
   {
    "duration": 19,
    "start_time": "2022-08-21T10:03:51.335Z"
   },
   {
    "duration": 30,
    "start_time": "2022-08-21T10:04:30.282Z"
   },
   {
    "duration": 23,
    "start_time": "2022-08-21T10:04:34.387Z"
   },
   {
    "duration": 438,
    "start_time": "2022-08-21T10:04:44.628Z"
   },
   {
    "duration": 222,
    "start_time": "2022-08-21T10:04:45.068Z"
   },
   {
    "duration": 28,
    "start_time": "2022-08-21T10:04:45.302Z"
   },
   {
    "duration": 65,
    "start_time": "2022-08-21T10:04:45.332Z"
   },
   {
    "duration": 7,
    "start_time": "2022-08-21T10:04:45.403Z"
   },
   {
    "duration": 10,
    "start_time": "2022-08-21T10:04:45.415Z"
   },
   {
    "duration": 13,
    "start_time": "2022-08-21T10:04:45.428Z"
   },
   {
    "duration": 7,
    "start_time": "2022-08-21T10:04:45.443Z"
   },
   {
    "duration": 60,
    "start_time": "2022-08-21T10:04:45.451Z"
   },
   {
    "duration": 31,
    "start_time": "2022-08-21T10:04:45.514Z"
   },
   {
    "duration": 47,
    "start_time": "2022-08-21T10:04:45.548Z"
   },
   {
    "duration": 114,
    "start_time": "2022-08-21T10:04:45.598Z"
   },
   {
    "duration": 99,
    "start_time": "2022-08-21T10:04:45.714Z"
   },
   {
    "duration": 67,
    "start_time": "2022-08-21T10:04:45.816Z"
   },
   {
    "duration": 55,
    "start_time": "2022-08-21T10:04:45.892Z"
   },
   {
    "duration": 130,
    "start_time": "2022-08-21T10:04:45.949Z"
   },
   {
    "duration": 61,
    "start_time": "2022-08-21T10:04:46.081Z"
   },
   {
    "duration": 18,
    "start_time": "2022-08-21T10:04:46.143Z"
   },
   {
    "duration": 45,
    "start_time": "2022-08-21T10:04:46.163Z"
   },
   {
    "duration": 4,
    "start_time": "2022-08-21T10:04:46.210Z"
   },
   {
    "duration": 33,
    "start_time": "2022-08-21T10:04:46.216Z"
   },
   {
    "duration": 17,
    "start_time": "2022-08-21T10:04:46.251Z"
   },
   {
    "duration": 36,
    "start_time": "2022-08-21T10:04:46.270Z"
   },
   {
    "duration": 23,
    "start_time": "2022-08-21T10:04:46.309Z"
   },
   {
    "duration": 19,
    "start_time": "2022-08-21T10:04:46.334Z"
   },
   {
    "duration": 44,
    "start_time": "2022-08-21T10:04:46.355Z"
   },
   {
    "duration": 7,
    "start_time": "2022-08-21T10:04:46.402Z"
   },
   {
    "duration": 19,
    "start_time": "2022-08-21T10:04:46.412Z"
   },
   {
    "duration": 11,
    "start_time": "2022-08-21T10:04:46.433Z"
   },
   {
    "duration": 10,
    "start_time": "2022-08-21T10:04:46.884Z"
   },
   {
    "duration": 118,
    "start_time": "2022-08-21T10:04:46.899Z"
   },
   {
    "duration": 0,
    "start_time": "2022-08-21T10:04:47.019Z"
   },
   {
    "duration": 0,
    "start_time": "2022-08-21T10:04:47.021Z"
   },
   {
    "duration": 0,
    "start_time": "2022-08-21T10:04:47.022Z"
   },
   {
    "duration": 0,
    "start_time": "2022-08-21T10:04:47.023Z"
   },
   {
    "duration": 0,
    "start_time": "2022-08-21T10:04:47.026Z"
   },
   {
    "duration": 0,
    "start_time": "2022-08-21T10:04:47.027Z"
   },
   {
    "duration": 0,
    "start_time": "2022-08-21T10:04:47.028Z"
   },
   {
    "duration": 6,
    "start_time": "2022-08-21T10:04:51.508Z"
   },
   {
    "duration": 6,
    "start_time": "2022-08-21T10:05:02.663Z"
   },
   {
    "duration": 29,
    "start_time": "2022-08-21T10:05:08.012Z"
   },
   {
    "duration": 5,
    "start_time": "2022-08-21T10:05:28.943Z"
   },
   {
    "duration": 39,
    "start_time": "2022-08-21T10:05:32.013Z"
   },
   {
    "duration": 6,
    "start_time": "2022-08-21T10:07:42.151Z"
   },
   {
    "duration": 26,
    "start_time": "2022-08-21T10:07:46.120Z"
   },
   {
    "duration": 6,
    "start_time": "2022-08-21T10:08:22.210Z"
   },
   {
    "duration": 42,
    "start_time": "2022-08-21T10:08:25.280Z"
   },
   {
    "duration": 14,
    "start_time": "2022-08-21T10:08:32.966Z"
   },
   {
    "duration": 20,
    "start_time": "2022-08-21T10:08:38.052Z"
   },
   {
    "duration": 14,
    "start_time": "2022-08-21T10:08:41.234Z"
   },
   {
    "duration": 50,
    "start_time": "2022-08-21T10:11:50.826Z"
   },
   {
    "duration": 42,
    "start_time": "2022-08-21T10:12:15.708Z"
   },
   {
    "duration": 34,
    "start_time": "2022-08-21T10:12:24.512Z"
   },
   {
    "duration": 11,
    "start_time": "2022-08-21T10:13:19.957Z"
   },
   {
    "duration": 2159,
    "start_time": "2022-08-21T10:14:39.955Z"
   },
   {
    "duration": 11,
    "start_time": "2022-08-21T10:18:50.431Z"
   },
   {
    "duration": 6,
    "start_time": "2022-08-21T10:19:30.759Z"
   },
   {
    "duration": 8,
    "start_time": "2022-08-21T10:21:37.564Z"
   },
   {
    "duration": 10,
    "start_time": "2022-08-21T10:21:55.724Z"
   },
   {
    "duration": 6,
    "start_time": "2022-08-21T10:22:02.270Z"
   },
   {
    "duration": 463,
    "start_time": "2022-10-19T05:30:44.705Z"
   },
   {
    "duration": 202,
    "start_time": "2022-10-19T05:30:45.170Z"
   },
   {
    "duration": 17,
    "start_time": "2022-10-19T05:30:45.374Z"
   },
   {
    "duration": 36,
    "start_time": "2022-10-19T05:30:45.393Z"
   },
   {
    "duration": 2,
    "start_time": "2022-10-19T05:30:45.432Z"
   },
   {
    "duration": 18,
    "start_time": "2022-10-19T05:30:45.436Z"
   },
   {
    "duration": 14,
    "start_time": "2022-10-19T05:30:45.456Z"
   },
   {
    "duration": 8,
    "start_time": "2022-10-19T05:30:45.471Z"
   },
   {
    "duration": 33,
    "start_time": "2022-10-19T05:30:45.481Z"
   },
   {
    "duration": 17,
    "start_time": "2022-10-19T05:30:45.517Z"
   },
   {
    "duration": 32,
    "start_time": "2022-10-19T05:30:45.536Z"
   },
   {
    "duration": 61,
    "start_time": "2022-10-19T05:30:45.569Z"
   },
   {
    "duration": 75,
    "start_time": "2022-10-19T05:30:45.631Z"
   },
   {
    "duration": 66,
    "start_time": "2022-10-19T05:30:45.708Z"
   },
   {
    "duration": 51,
    "start_time": "2022-10-19T05:30:45.775Z"
   },
   {
    "duration": 75,
    "start_time": "2022-10-19T05:30:45.828Z"
   },
   {
    "duration": 49,
    "start_time": "2022-10-19T05:30:45.905Z"
   },
   {
    "duration": 11,
    "start_time": "2022-10-19T05:30:45.956Z"
   },
   {
    "duration": 36,
    "start_time": "2022-10-19T05:30:45.968Z"
   },
   {
    "duration": 18,
    "start_time": "2022-10-19T05:30:46.006Z"
   },
   {
    "duration": 44,
    "start_time": "2022-10-19T05:30:46.026Z"
   },
   {
    "duration": 31,
    "start_time": "2022-10-19T05:30:46.071Z"
   },
   {
    "duration": 47,
    "start_time": "2022-10-19T05:30:46.103Z"
   },
   {
    "duration": 21,
    "start_time": "2022-10-19T05:30:46.152Z"
   },
   {
    "duration": 17,
    "start_time": "2022-10-19T05:30:46.175Z"
   },
   {
    "duration": 24,
    "start_time": "2022-10-19T05:30:46.194Z"
   },
   {
    "duration": 21,
    "start_time": "2022-10-19T05:30:46.220Z"
   },
   {
    "duration": 20,
    "start_time": "2022-10-19T05:30:46.244Z"
   },
   {
    "duration": 27,
    "start_time": "2022-10-19T05:30:46.265Z"
   },
   {
    "duration": 12,
    "start_time": "2022-10-19T05:30:46.293Z"
   },
   {
    "duration": 49,
    "start_time": "2022-10-19T05:30:46.306Z"
   },
   {
    "duration": 25,
    "start_time": "2022-10-19T05:30:46.358Z"
   },
   {
    "duration": 16,
    "start_time": "2022-10-19T05:30:46.385Z"
   },
   {
    "duration": 14,
    "start_time": "2022-10-19T05:30:46.403Z"
   },
   {
    "duration": 22,
    "start_time": "2022-10-19T05:30:46.419Z"
   },
   {
    "duration": 14,
    "start_time": "2022-10-19T05:30:46.443Z"
   },
   {
    "duration": 30,
    "start_time": "2022-10-19T05:30:46.459Z"
   },
   {
    "duration": 14,
    "start_time": "2022-10-19T05:30:46.491Z"
   }
  ],
  "colab": {
   "collapsed_sections": [
    "E0vqbgi9ay0H",
    "VUC88oWjTJw2"
   ],
   "name": "automatization_template_upd4.ipynb",
   "provenance": []
  },
  "kernelspec": {
   "display_name": "Python 3 (ipykernel)",
   "language": "python",
   "name": "python3"
  },
  "language_info": {
   "codemirror_mode": {
    "name": "ipython",
    "version": 3
   },
   "file_extension": ".py",
   "mimetype": "text/x-python",
   "name": "python",
   "nbconvert_exporter": "python",
   "pygments_lexer": "ipython3",
   "version": "3.9.13"
  },
  "toc": {
   "base_numbering": 1,
   "nav_menu": {
    "height": "215px",
    "width": "403px"
   },
   "number_sections": true,
   "sideBar": true,
   "skip_h1_title": true,
   "title_cell": "Table of Contents",
   "title_sidebar": "Contents",
   "toc_cell": false,
   "toc_position": {
    "height": "calc(100% - 180px)",
    "left": "10px",
    "top": "150px",
    "width": "285.825px"
   },
   "toc_section_display": true,
   "toc_window_display": false
  }
 },
 "nbformat": 4,
 "nbformat_minor": 1
}
