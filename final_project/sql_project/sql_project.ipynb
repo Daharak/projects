{
 "cells": [
  {
   "cell_type": "markdown",
   "id": "f28afc2e",
   "metadata": {
    "toc": true
   },
   "source": [
    "<h1>Table of Contents<span class=\"tocSkip\"></span></h1>\n",
    "<div class=\"toc\"><ul class=\"toc-item\"><li><span><a href=\"#Проект-по-SQL.\" data-toc-modified-id=\"Проект-по-SQL.-1\"><span class=\"toc-item-num\">1&nbsp;&nbsp;</span>Проект по SQL.</a></span></li><li><span><a href=\"#Описание-проекта.\" data-toc-modified-id=\"Описание-проекта.-2\"><span class=\"toc-item-num\">2&nbsp;&nbsp;</span>Описание проекта.</a></span></li><li><span><a href=\"#Описание-данных.\" data-toc-modified-id=\"Описание-данных.-3\"><span class=\"toc-item-num\">3&nbsp;&nbsp;</span>Описание данных.</a></span></li><li><span><a href=\"#Задания.\" data-toc-modified-id=\"Задания.-4\"><span class=\"toc-item-num\">4&nbsp;&nbsp;</span>Задания.</a></span></li><li><span><a href=\"#Подготовка-к-запросу.\" data-toc-modified-id=\"Подготовка-к-запросу.-5\"><span class=\"toc-item-num\">5&nbsp;&nbsp;</span>Подготовка к запросу.</a></span></li><li><span><a href=\"#Запросы-к-СУБД.\" data-toc-modified-id=\"Запросы-к-СУБД.-6\"><span class=\"toc-item-num\">6&nbsp;&nbsp;</span>Запросы к СУБД.</a></span><ul class=\"toc-item\"><li><span><a href=\"#Исследование-таблиц.\" data-toc-modified-id=\"Исследование-таблиц.-6.1\"><span class=\"toc-item-num\">6.1&nbsp;&nbsp;</span>Исследование таблиц.</a></span></li><li><span><a href=\"#Запрос-№1\" data-toc-modified-id=\"Запрос-№1-6.2\"><span class=\"toc-item-num\">6.2&nbsp;&nbsp;</span>Запрос №1</a></span></li><li><span><a href=\"#Запрос-№2\" data-toc-modified-id=\"Запрос-№2-6.3\"><span class=\"toc-item-num\">6.3&nbsp;&nbsp;</span>Запрос №2</a></span></li><li><span><a href=\"#Запрос-№3\" data-toc-modified-id=\"Запрос-№3-6.4\"><span class=\"toc-item-num\">6.4&nbsp;&nbsp;</span>Запрос №3</a></span></li><li><span><a href=\"#Запрос-№4\" data-toc-modified-id=\"Запрос-№4-6.5\"><span class=\"toc-item-num\">6.5&nbsp;&nbsp;</span>Запрос №4</a></span></li><li><span><a href=\"#Запрос-№5\" data-toc-modified-id=\"Запрос-№5-6.6\"><span class=\"toc-item-num\">6.6&nbsp;&nbsp;</span>Запрос №5</a></span></li></ul></li></ul></div>"
   ]
  },
  {
   "cell_type": "markdown",
   "id": "f08670ba",
   "metadata": {},
   "source": [
    "## Проект по SQL."
   ]
  },
  {
   "cell_type": "markdown",
   "id": "8327b896",
   "metadata": {},
   "source": [
    "## Описание проекта."
   ]
  },
  {
   "cell_type": "markdown",
   "id": "653cdc07",
   "metadata": {},
   "source": [
    "Коронавирус застал мир врасплох, изменив привычный порядок вещей. В свободное время жители городов больше не выходят на улицу, не посещают кафе и торговые центры. Зато стало больше времени для книг. Это заметили стартаперы — и бросились создавать приложения для тех, кто любит читать.\n",
    "\n",
    "Ваша компания решила быть на волне и купила крупный сервис для чтения книг по подписке. Ваша первая задача как аналитика — проанализировать базу данных.\n",
    "В ней — информация о книгах, издательствах, авторах, а также пользовательские обзоры книг. Эти данные помогут сформулировать ценностное предложение для нового продукта."
   ]
  },
  {
   "cell_type": "markdown",
   "id": "7c972116",
   "metadata": {},
   "source": [
    "## Описание данных."
   ]
  },
  {
   "cell_type": "markdown",
   "id": "931f8b5b",
   "metadata": {},
   "source": [
    "**Таблица `books`**\n",
    "\n",
    "Содержит данные о книгах:\n",
    "\n",
    "- `book_id` — идентификатор книги;\n",
    "- `author_id` — идентификатор автора;\n",
    "- `title` — название книги;\n",
    "- `num_pages` — количество страниц;\n",
    "- `publication_date` — дата публикации книги;\n",
    "- `publisher_id` — идентификатор издателя.\n",
    "\n",
    "**Таблица `authors`**\n",
    "\n",
    "Содержит данные об авторах:\n",
    "\n",
    "- `author_id` — идентификатор автора;\n",
    "- `author` — имя автора.\n",
    "\n",
    "**Таблица `publishers`**\n",
    "\n",
    "Содержит данные об издательствах:\n",
    "\n",
    "- `publisher_id` — идентификатор издательства;\n",
    "- `publisher` — название издательства;\n",
    "\n",
    "**Таблица `ratings`**\n",
    "\n",
    "Содержит данные о пользовательских оценках книг:\n",
    "\n",
    "- `rating_id` — идентификатор оценки;\n",
    "- `book_id` — идентификатор книги;\n",
    "- `username` — имя пользователя, оставившего оценку;\n",
    "- `rating` — оценка книги.\n",
    "\n",
    "**Таблица `reviews`**\n",
    "\n",
    "Содержит данные о пользовательских обзорах на книги:\n",
    "\n",
    "- `review_id` — идентификатор обзора;\n",
    "- `book_id` — идентификатор книги;\n",
    "- `username` — имя пользователя, написавшего обзор;\n",
    "- `text` — текст обзора."
   ]
  },
  {
   "cell_type": "markdown",
   "id": "852edd64",
   "metadata": {},
   "source": [
    "## Задания."
   ]
  },
  {
   "cell_type": "markdown",
   "id": "bd4a625e",
   "metadata": {},
   "source": [
    "*Задания*:\n",
    "\n",
    "- Посчитайте, сколько книг вышло после 1 января 2000 года;\n",
    "- Для каждой книги посчитайте количество обзоров и среднюю оценку;\n",
    "- Определите издательство, которое выпустило наибольшее число книг толще 50 страниц — так вы исключите из анализа брошюры;\n",
    "- Определите автора с самой высокой средней оценкой книг — учитывайте только книги с 50 и более оценками;\n",
    "- Посчитайте среднее количество обзоров от пользователей, которые поставили больше 50 оценок."
   ]
  },
  {
   "cell_type": "markdown",
   "id": "f45b2168",
   "metadata": {},
   "source": [
    "## Подготовка к запросу."
   ]
  },
  {
   "cell_type": "code",
   "execution_count": 1,
   "id": "916ec332",
   "metadata": {},
   "outputs": [
    {
     "name": "stdout",
     "output_type": "stream",
     "text": [
      "Requirement already satisfied: psycopg2 in c:\\users\\truel\\anaconda3\\lib\\site-packages (2.9.5)\n"
     ]
    }
   ],
   "source": [
    "# импортируем библиотеки\n",
    "!pip install psycopg2\n",
    "import pandas as pd\n",
    "from sqlalchemy import create_engine"
   ]
  },
  {
   "cell_type": "code",
   "execution_count": 2,
   "id": "a5c874ab",
   "metadata": {},
   "outputs": [],
   "source": [
    "# устанавливаем параметры\n",
    "db_config = {'user': 'praktikum_student', # имя пользователя\n",
    "'pwd': 'Sdf4$2;d-d30pp', # пароль\n",
    "'host': 'rc1b-wcoijxj3yxfsf3fs.mdb.yandexcloud.net',\n",
    "'port': 6432, # порт подключения\n",
    "'db': 'data-analyst-final-project-db'} # название базы данных"
   ]
  },
  {
   "cell_type": "code",
   "execution_count": 3,
   "id": "702e0052",
   "metadata": {},
   "outputs": [],
   "source": [
    "# устанавливаем параметры\n",
    "db_config = {'user': 'praktikum_student', # имя пользователя\n",
    "            'pwd': 'Sdf4$2;d-d30pp', # пароль\n",
    "            'host': 'rc1b-wcoijxj3yxfsf3fs.mdb.yandexcloud.net',\n",
    "            'port': 6432, # порт подключения\n",
    "            'db': 'data-analyst-final-project-db'} # название базы данных\n",
    "\n",
    "connection_string = 'postgresql://{}:{}@{}:{}/{}'.format(db_config['user'],\n",
    "                                                         db_config['pwd'],\n",
    "                                                         db_config['host'],\n",
    "                                                         db_config['port'],\n",
    "                                                         db_config['db'])\n",
    "# сохраняем коннектор\n",
    "engine = create_engine(connection_string, connect_args={'sslmode':'require'})"
   ]
  },
  {
   "cell_type": "markdown",
   "id": "96af9d5d",
   "metadata": {},
   "source": [
    "## Запросы к СУБД."
   ]
  },
  {
   "cell_type": "markdown",
   "id": "6bd09ca3",
   "metadata": {},
   "source": [
    "### Исследование таблиц."
   ]
  },
  {
   "cell_type": "markdown",
   "id": "76341b60",
   "metadata": {},
   "source": [
    "Выведем по первые 5 строк каждой из таблиц."
   ]
  },
  {
   "cell_type": "code",
   "execution_count": 4,
   "id": "0df325c6",
   "metadata": {},
   "outputs": [],
   "source": [
    "query_books_head = ''' SELECT *\n",
    "            FROM books\n",
    "            Limit 5\n",
    "        '''"
   ]
  },
  {
   "cell_type": "code",
   "execution_count": 5,
   "id": "bb9c4eee",
   "metadata": {},
   "outputs": [
    {
     "data": {
      "text/html": [
       "<div>\n",
       "<style scoped>\n",
       "    .dataframe tbody tr th:only-of-type {\n",
       "        vertical-align: middle;\n",
       "    }\n",
       "\n",
       "    .dataframe tbody tr th {\n",
       "        vertical-align: top;\n",
       "    }\n",
       "\n",
       "    .dataframe thead th {\n",
       "        text-align: right;\n",
       "    }\n",
       "</style>\n",
       "<table border=\"1\" class=\"dataframe\">\n",
       "  <thead>\n",
       "    <tr style=\"text-align: right;\">\n",
       "      <th></th>\n",
       "      <th>book_id</th>\n",
       "      <th>author_id</th>\n",
       "      <th>title</th>\n",
       "      <th>num_pages</th>\n",
       "      <th>publication_date</th>\n",
       "      <th>publisher_id</th>\n",
       "    </tr>\n",
       "  </thead>\n",
       "  <tbody>\n",
       "    <tr>\n",
       "      <th>0</th>\n",
       "      <td>1</td>\n",
       "      <td>546</td>\n",
       "      <td>'Salem's Lot</td>\n",
       "      <td>594</td>\n",
       "      <td>2005-11-01</td>\n",
       "      <td>93</td>\n",
       "    </tr>\n",
       "    <tr>\n",
       "      <th>1</th>\n",
       "      <td>2</td>\n",
       "      <td>465</td>\n",
       "      <td>1 000 Places to See Before You Die</td>\n",
       "      <td>992</td>\n",
       "      <td>2003-05-22</td>\n",
       "      <td>336</td>\n",
       "    </tr>\n",
       "    <tr>\n",
       "      <th>2</th>\n",
       "      <td>3</td>\n",
       "      <td>407</td>\n",
       "      <td>13 Little Blue Envelopes (Little Blue Envelope...</td>\n",
       "      <td>322</td>\n",
       "      <td>2010-12-21</td>\n",
       "      <td>135</td>\n",
       "    </tr>\n",
       "    <tr>\n",
       "      <th>3</th>\n",
       "      <td>4</td>\n",
       "      <td>82</td>\n",
       "      <td>1491: New Revelations of the Americas Before C...</td>\n",
       "      <td>541</td>\n",
       "      <td>2006-10-10</td>\n",
       "      <td>309</td>\n",
       "    </tr>\n",
       "    <tr>\n",
       "      <th>4</th>\n",
       "      <td>5</td>\n",
       "      <td>125</td>\n",
       "      <td>1776</td>\n",
       "      <td>386</td>\n",
       "      <td>2006-07-04</td>\n",
       "      <td>268</td>\n",
       "    </tr>\n",
       "  </tbody>\n",
       "</table>\n",
       "</div>"
      ],
      "text/plain": [
       "   book_id  author_id                                              title  \\\n",
       "0        1        546                                       'Salem's Lot   \n",
       "1        2        465                 1 000 Places to See Before You Die   \n",
       "2        3        407  13 Little Blue Envelopes (Little Blue Envelope...   \n",
       "3        4         82  1491: New Revelations of the Americas Before C...   \n",
       "4        5        125                                               1776   \n",
       "\n",
       "   num_pages publication_date  publisher_id  \n",
       "0        594       2005-11-01            93  \n",
       "1        992       2003-05-22           336  \n",
       "2        322       2010-12-21           135  \n",
       "3        541       2006-10-10           309  \n",
       "4        386       2006-07-04           268  "
      ]
     },
     "execution_count": 5,
     "metadata": {},
     "output_type": "execute_result"
    }
   ],
   "source": [
    "pd.io.sql.read_sql(query_books_head, con = engine)"
   ]
  },
  {
   "cell_type": "code",
   "execution_count": 6,
   "id": "9294f372",
   "metadata": {},
   "outputs": [],
   "source": [
    "query_authors_head = ''' SELECT *\n",
    "            FROM authors\n",
    "            Limit 5\n",
    "        '''"
   ]
  },
  {
   "cell_type": "code",
   "execution_count": 7,
   "id": "4892e74d",
   "metadata": {},
   "outputs": [
    {
     "data": {
      "text/html": [
       "<div>\n",
       "<style scoped>\n",
       "    .dataframe tbody tr th:only-of-type {\n",
       "        vertical-align: middle;\n",
       "    }\n",
       "\n",
       "    .dataframe tbody tr th {\n",
       "        vertical-align: top;\n",
       "    }\n",
       "\n",
       "    .dataframe thead th {\n",
       "        text-align: right;\n",
       "    }\n",
       "</style>\n",
       "<table border=\"1\" class=\"dataframe\">\n",
       "  <thead>\n",
       "    <tr style=\"text-align: right;\">\n",
       "      <th></th>\n",
       "      <th>author_id</th>\n",
       "      <th>author</th>\n",
       "    </tr>\n",
       "  </thead>\n",
       "  <tbody>\n",
       "    <tr>\n",
       "      <th>0</th>\n",
       "      <td>1</td>\n",
       "      <td>A.S. Byatt</td>\n",
       "    </tr>\n",
       "    <tr>\n",
       "      <th>1</th>\n",
       "      <td>2</td>\n",
       "      <td>Aesop/Laura Harris/Laura Gibbs</td>\n",
       "    </tr>\n",
       "    <tr>\n",
       "      <th>2</th>\n",
       "      <td>3</td>\n",
       "      <td>Agatha Christie</td>\n",
       "    </tr>\n",
       "    <tr>\n",
       "      <th>3</th>\n",
       "      <td>4</td>\n",
       "      <td>Alan Brennert</td>\n",
       "    </tr>\n",
       "    <tr>\n",
       "      <th>4</th>\n",
       "      <td>5</td>\n",
       "      <td>Alan Moore/David   Lloyd</td>\n",
       "    </tr>\n",
       "  </tbody>\n",
       "</table>\n",
       "</div>"
      ],
      "text/plain": [
       "   author_id                          author\n",
       "0          1                      A.S. Byatt\n",
       "1          2  Aesop/Laura Harris/Laura Gibbs\n",
       "2          3                 Agatha Christie\n",
       "3          4                   Alan Brennert\n",
       "4          5        Alan Moore/David   Lloyd"
      ]
     },
     "execution_count": 7,
     "metadata": {},
     "output_type": "execute_result"
    }
   ],
   "source": [
    "pd.io.sql.read_sql(query_authors_head, con = engine)"
   ]
  },
  {
   "cell_type": "code",
   "execution_count": 8,
   "id": "13e26149",
   "metadata": {},
   "outputs": [],
   "source": [
    "query_ratings_head = ''' SELECT *\n",
    "            FROM ratings\n",
    "            Limit 5\n",
    "        '''"
   ]
  },
  {
   "cell_type": "code",
   "execution_count": 9,
   "id": "f04004d4",
   "metadata": {},
   "outputs": [
    {
     "data": {
      "text/html": [
       "<div>\n",
       "<style scoped>\n",
       "    .dataframe tbody tr th:only-of-type {\n",
       "        vertical-align: middle;\n",
       "    }\n",
       "\n",
       "    .dataframe tbody tr th {\n",
       "        vertical-align: top;\n",
       "    }\n",
       "\n",
       "    .dataframe thead th {\n",
       "        text-align: right;\n",
       "    }\n",
       "</style>\n",
       "<table border=\"1\" class=\"dataframe\">\n",
       "  <thead>\n",
       "    <tr style=\"text-align: right;\">\n",
       "      <th></th>\n",
       "      <th>rating_id</th>\n",
       "      <th>book_id</th>\n",
       "      <th>username</th>\n",
       "      <th>rating</th>\n",
       "    </tr>\n",
       "  </thead>\n",
       "  <tbody>\n",
       "    <tr>\n",
       "      <th>0</th>\n",
       "      <td>1</td>\n",
       "      <td>1</td>\n",
       "      <td>ryanfranco</td>\n",
       "      <td>4</td>\n",
       "    </tr>\n",
       "    <tr>\n",
       "      <th>1</th>\n",
       "      <td>2</td>\n",
       "      <td>1</td>\n",
       "      <td>grantpatricia</td>\n",
       "      <td>2</td>\n",
       "    </tr>\n",
       "    <tr>\n",
       "      <th>2</th>\n",
       "      <td>3</td>\n",
       "      <td>1</td>\n",
       "      <td>brandtandrea</td>\n",
       "      <td>5</td>\n",
       "    </tr>\n",
       "    <tr>\n",
       "      <th>3</th>\n",
       "      <td>4</td>\n",
       "      <td>2</td>\n",
       "      <td>lorichen</td>\n",
       "      <td>3</td>\n",
       "    </tr>\n",
       "    <tr>\n",
       "      <th>4</th>\n",
       "      <td>5</td>\n",
       "      <td>2</td>\n",
       "      <td>mariokeller</td>\n",
       "      <td>2</td>\n",
       "    </tr>\n",
       "  </tbody>\n",
       "</table>\n",
       "</div>"
      ],
      "text/plain": [
       "   rating_id  book_id       username  rating\n",
       "0          1        1     ryanfranco       4\n",
       "1          2        1  grantpatricia       2\n",
       "2          3        1   brandtandrea       5\n",
       "3          4        2       lorichen       3\n",
       "4          5        2    mariokeller       2"
      ]
     },
     "execution_count": 9,
     "metadata": {},
     "output_type": "execute_result"
    }
   ],
   "source": [
    "pd.io.sql.read_sql(query_ratings_head, con = engine)"
   ]
  },
  {
   "cell_type": "code",
   "execution_count": 10,
   "id": "33813809",
   "metadata": {},
   "outputs": [],
   "source": [
    "query_reviews_head = ''' SELECT *\n",
    "            FROM reviews\n",
    "            Limit 5\n",
    "        '''"
   ]
  },
  {
   "cell_type": "code",
   "execution_count": 11,
   "id": "b1d74009",
   "metadata": {},
   "outputs": [
    {
     "data": {
      "text/html": [
       "<div>\n",
       "<style scoped>\n",
       "    .dataframe tbody tr th:only-of-type {\n",
       "        vertical-align: middle;\n",
       "    }\n",
       "\n",
       "    .dataframe tbody tr th {\n",
       "        vertical-align: top;\n",
       "    }\n",
       "\n",
       "    .dataframe thead th {\n",
       "        text-align: right;\n",
       "    }\n",
       "</style>\n",
       "<table border=\"1\" class=\"dataframe\">\n",
       "  <thead>\n",
       "    <tr style=\"text-align: right;\">\n",
       "      <th></th>\n",
       "      <th>review_id</th>\n",
       "      <th>book_id</th>\n",
       "      <th>username</th>\n",
       "      <th>text</th>\n",
       "    </tr>\n",
       "  </thead>\n",
       "  <tbody>\n",
       "    <tr>\n",
       "      <th>0</th>\n",
       "      <td>1</td>\n",
       "      <td>1</td>\n",
       "      <td>brandtandrea</td>\n",
       "      <td>Mention society tell send professor analysis. ...</td>\n",
       "    </tr>\n",
       "    <tr>\n",
       "      <th>1</th>\n",
       "      <td>2</td>\n",
       "      <td>1</td>\n",
       "      <td>ryanfranco</td>\n",
       "      <td>Foot glass pretty audience hit themselves. Amo...</td>\n",
       "    </tr>\n",
       "    <tr>\n",
       "      <th>2</th>\n",
       "      <td>3</td>\n",
       "      <td>2</td>\n",
       "      <td>lorichen</td>\n",
       "      <td>Listen treat keep worry. Miss husband tax but ...</td>\n",
       "    </tr>\n",
       "    <tr>\n",
       "      <th>3</th>\n",
       "      <td>4</td>\n",
       "      <td>3</td>\n",
       "      <td>johnsonamanda</td>\n",
       "      <td>Finally month interesting blue could nature cu...</td>\n",
       "    </tr>\n",
       "    <tr>\n",
       "      <th>4</th>\n",
       "      <td>5</td>\n",
       "      <td>3</td>\n",
       "      <td>scotttamara</td>\n",
       "      <td>Nation purpose heavy give wait song will. List...</td>\n",
       "    </tr>\n",
       "  </tbody>\n",
       "</table>\n",
       "</div>"
      ],
      "text/plain": [
       "   review_id  book_id       username  \\\n",
       "0          1        1   brandtandrea   \n",
       "1          2        1     ryanfranco   \n",
       "2          3        2       lorichen   \n",
       "3          4        3  johnsonamanda   \n",
       "4          5        3    scotttamara   \n",
       "\n",
       "                                                text  \n",
       "0  Mention society tell send professor analysis. ...  \n",
       "1  Foot glass pretty audience hit themselves. Amo...  \n",
       "2  Listen treat keep worry. Miss husband tax but ...  \n",
       "3  Finally month interesting blue could nature cu...  \n",
       "4  Nation purpose heavy give wait song will. List...  "
      ]
     },
     "execution_count": 11,
     "metadata": {},
     "output_type": "execute_result"
    }
   ],
   "source": [
    "pd.io.sql.read_sql(query_reviews_head, con = engine)"
   ]
  },
  {
   "cell_type": "code",
   "execution_count": 12,
   "id": "10f58223",
   "metadata": {},
   "outputs": [],
   "source": [
    "query_publishers_head = ''' SELECT *\n",
    "            FROM publishers\n",
    "            Limit 5\n",
    "        '''"
   ]
  },
  {
   "cell_type": "code",
   "execution_count": 13,
   "id": "eed4c283",
   "metadata": {},
   "outputs": [
    {
     "data": {
      "text/html": [
       "<div>\n",
       "<style scoped>\n",
       "    .dataframe tbody tr th:only-of-type {\n",
       "        vertical-align: middle;\n",
       "    }\n",
       "\n",
       "    .dataframe tbody tr th {\n",
       "        vertical-align: top;\n",
       "    }\n",
       "\n",
       "    .dataframe thead th {\n",
       "        text-align: right;\n",
       "    }\n",
       "</style>\n",
       "<table border=\"1\" class=\"dataframe\">\n",
       "  <thead>\n",
       "    <tr style=\"text-align: right;\">\n",
       "      <th></th>\n",
       "      <th>publisher_id</th>\n",
       "      <th>publisher</th>\n",
       "    </tr>\n",
       "  </thead>\n",
       "  <tbody>\n",
       "    <tr>\n",
       "      <th>0</th>\n",
       "      <td>1</td>\n",
       "      <td>Ace</td>\n",
       "    </tr>\n",
       "    <tr>\n",
       "      <th>1</th>\n",
       "      <td>2</td>\n",
       "      <td>Ace Book</td>\n",
       "    </tr>\n",
       "    <tr>\n",
       "      <th>2</th>\n",
       "      <td>3</td>\n",
       "      <td>Ace Books</td>\n",
       "    </tr>\n",
       "    <tr>\n",
       "      <th>3</th>\n",
       "      <td>4</td>\n",
       "      <td>Ace Hardcover</td>\n",
       "    </tr>\n",
       "    <tr>\n",
       "      <th>4</th>\n",
       "      <td>5</td>\n",
       "      <td>Addison Wesley Publishing Company</td>\n",
       "    </tr>\n",
       "  </tbody>\n",
       "</table>\n",
       "</div>"
      ],
      "text/plain": [
       "   publisher_id                          publisher\n",
       "0             1                                Ace\n",
       "1             2                           Ace Book\n",
       "2             3                          Ace Books\n",
       "3             4                      Ace Hardcover\n",
       "4             5  Addison Wesley Publishing Company"
      ]
     },
     "execution_count": 13,
     "metadata": {},
     "output_type": "execute_result"
    }
   ],
   "source": [
    "pd.io.sql.read_sql(query_publishers_head, con = engine)"
   ]
  },
  {
   "cell_type": "markdown",
   "id": "7f0ab7ee",
   "metadata": {},
   "source": [
    "### Запрос №1"
   ]
  },
  {
   "cell_type": "markdown",
   "id": "721a5d1b",
   "metadata": {},
   "source": [
    "Посчитайте, сколько книг вышло после 1 января 2000 года;"
   ]
  },
  {
   "cell_type": "code",
   "execution_count": 14,
   "id": "5f17904a",
   "metadata": {},
   "outputs": [],
   "source": [
    "query_1 = ''' SELECT COUNT(book_id)\n",
    "            FROM books\n",
    "            WHERE publication_date > '01.01.2000'\n",
    "        '''"
   ]
  },
  {
   "cell_type": "code",
   "execution_count": 15,
   "id": "13501ae8",
   "metadata": {},
   "outputs": [
    {
     "data": {
      "text/html": [
       "<div>\n",
       "<style scoped>\n",
       "    .dataframe tbody tr th:only-of-type {\n",
       "        vertical-align: middle;\n",
       "    }\n",
       "\n",
       "    .dataframe tbody tr th {\n",
       "        vertical-align: top;\n",
       "    }\n",
       "\n",
       "    .dataframe thead th {\n",
       "        text-align: right;\n",
       "    }\n",
       "</style>\n",
       "<table border=\"1\" class=\"dataframe\">\n",
       "  <thead>\n",
       "    <tr style=\"text-align: right;\">\n",
       "      <th></th>\n",
       "      <th>count</th>\n",
       "    </tr>\n",
       "  </thead>\n",
       "  <tbody>\n",
       "    <tr>\n",
       "      <th>0</th>\n",
       "      <td>819</td>\n",
       "    </tr>\n",
       "  </tbody>\n",
       "</table>\n",
       "</div>"
      ],
      "text/plain": [
       "   count\n",
       "0    819"
      ]
     },
     "execution_count": 15,
     "metadata": {},
     "output_type": "execute_result"
    }
   ],
   "source": [
    "pd.io.sql.read_sql(query_1, con = engine)"
   ]
  },
  {
   "cell_type": "markdown",
   "id": "daef97de",
   "metadata": {},
   "source": [
    "**После 1 января 2000 года вышло 819 книг.**"
   ]
  },
  {
   "cell_type": "markdown",
   "id": "5d8019fc",
   "metadata": {},
   "source": [
    "### Запрос №2"
   ]
  },
  {
   "cell_type": "markdown",
   "id": "ebc4a31b",
   "metadata": {},
   "source": [
    "Для каждой книги посчитайте количество обзоров и среднюю оценку;"
   ]
  },
  {
   "cell_type": "code",
   "execution_count": 16,
   "id": "a1b858ae",
   "metadata": {},
   "outputs": [],
   "source": [
    "query_2 = \"\"\"\n",
    "SELECT \n",
    "    b.title, \n",
    "    COUNT(DISTINCT rv.review_id) AS reviews_count, \n",
    "    AVG(r.rating) AS average_rating\n",
    "FROM \n",
    "    books b\n",
    "    LEFT JOIN ratings r ON b.book_id = r.book_id\n",
    "    LEFT JOIN reviews rv ON b.book_id = rv.book_id\n",
    "GROUP BY \n",
    "    b.book_id\n",
    "ORDER BY reviews_count DESC;\n",
    "\"\"\""
   ]
  },
  {
   "cell_type": "code",
   "execution_count": 17,
   "id": "67e176a4",
   "metadata": {},
   "outputs": [
    {
     "data": {
      "text/html": [
       "<div>\n",
       "<style scoped>\n",
       "    .dataframe tbody tr th:only-of-type {\n",
       "        vertical-align: middle;\n",
       "    }\n",
       "\n",
       "    .dataframe tbody tr th {\n",
       "        vertical-align: top;\n",
       "    }\n",
       "\n",
       "    .dataframe thead th {\n",
       "        text-align: right;\n",
       "    }\n",
       "</style>\n",
       "<table border=\"1\" class=\"dataframe\">\n",
       "  <thead>\n",
       "    <tr style=\"text-align: right;\">\n",
       "      <th></th>\n",
       "      <th>title</th>\n",
       "      <th>reviews_count</th>\n",
       "      <th>average_rating</th>\n",
       "    </tr>\n",
       "  </thead>\n",
       "  <tbody>\n",
       "    <tr>\n",
       "      <th>0</th>\n",
       "      <td>Twilight (Twilight  #1)</td>\n",
       "      <td>7</td>\n",
       "      <td>3.662500</td>\n",
       "    </tr>\n",
       "    <tr>\n",
       "      <th>1</th>\n",
       "      <td>Water for Elephants</td>\n",
       "      <td>6</td>\n",
       "      <td>3.977273</td>\n",
       "    </tr>\n",
       "    <tr>\n",
       "      <th>2</th>\n",
       "      <td>The Glass Castle</td>\n",
       "      <td>6</td>\n",
       "      <td>4.206897</td>\n",
       "    </tr>\n",
       "    <tr>\n",
       "      <th>3</th>\n",
       "      <td>Harry Potter and the Prisoner of Azkaban (Harr...</td>\n",
       "      <td>6</td>\n",
       "      <td>4.414634</td>\n",
       "    </tr>\n",
       "    <tr>\n",
       "      <th>4</th>\n",
       "      <td>The Curious Incident of the Dog in the Night-Time</td>\n",
       "      <td>6</td>\n",
       "      <td>4.081081</td>\n",
       "    </tr>\n",
       "    <tr>\n",
       "      <th>...</th>\n",
       "      <td>...</td>\n",
       "      <td>...</td>\n",
       "      <td>...</td>\n",
       "    </tr>\n",
       "    <tr>\n",
       "      <th>995</th>\n",
       "      <td>Anne Rice's The Vampire Lestat: A Graphic Novel</td>\n",
       "      <td>0</td>\n",
       "      <td>3.666667</td>\n",
       "    </tr>\n",
       "    <tr>\n",
       "      <th>996</th>\n",
       "      <td>The Natural Way to Draw</td>\n",
       "      <td>0</td>\n",
       "      <td>3.000000</td>\n",
       "    </tr>\n",
       "    <tr>\n",
       "      <th>997</th>\n",
       "      <td>The Cat in the Hat and Other Dr. Seuss Favorites</td>\n",
       "      <td>0</td>\n",
       "      <td>5.000000</td>\n",
       "    </tr>\n",
       "    <tr>\n",
       "      <th>998</th>\n",
       "      <td>Essential Tales and Poems</td>\n",
       "      <td>0</td>\n",
       "      <td>4.000000</td>\n",
       "    </tr>\n",
       "    <tr>\n",
       "      <th>999</th>\n",
       "      <td>Disney's Beauty and the Beast (A Little Golden...</td>\n",
       "      <td>0</td>\n",
       "      <td>4.000000</td>\n",
       "    </tr>\n",
       "  </tbody>\n",
       "</table>\n",
       "<p>1000 rows × 3 columns</p>\n",
       "</div>"
      ],
      "text/plain": [
       "                                                 title  reviews_count  \\\n",
       "0                              Twilight (Twilight  #1)              7   \n",
       "1                                  Water for Elephants              6   \n",
       "2                                     The Glass Castle              6   \n",
       "3    Harry Potter and the Prisoner of Azkaban (Harr...              6   \n",
       "4    The Curious Incident of the Dog in the Night-Time              6   \n",
       "..                                                 ...            ...   \n",
       "995    Anne Rice's The Vampire Lestat: A Graphic Novel              0   \n",
       "996                            The Natural Way to Draw              0   \n",
       "997   The Cat in the Hat and Other Dr. Seuss Favorites              0   \n",
       "998                          Essential Tales and Poems              0   \n",
       "999  Disney's Beauty and the Beast (A Little Golden...              0   \n",
       "\n",
       "     average_rating  \n",
       "0          3.662500  \n",
       "1          3.977273  \n",
       "2          4.206897  \n",
       "3          4.414634  \n",
       "4          4.081081  \n",
       "..              ...  \n",
       "995        3.666667  \n",
       "996        3.000000  \n",
       "997        5.000000  \n",
       "998        4.000000  \n",
       "999        4.000000  \n",
       "\n",
       "[1000 rows x 3 columns]"
      ]
     },
     "execution_count": 17,
     "metadata": {},
     "output_type": "execute_result"
    }
   ],
   "source": [
    "pd.io.sql.read_sql(query_2, con = engine)"
   ]
  },
  {
   "cell_type": "markdown",
   "id": "896da4ea",
   "metadata": {},
   "source": [
    "**Лидером является книга Twilight#1 на неё написано 7 обзоров, средняя оценка 3.66**"
   ]
  },
  {
   "cell_type": "markdown",
   "id": "6563414e",
   "metadata": {},
   "source": [
    "### Запрос №3"
   ]
  },
  {
   "cell_type": "markdown",
   "id": "73a3fb38",
   "metadata": {},
   "source": [
    "Определите издательство, которое выпустило наибольшее число книг толще 50 страниц — так вы исключите из анализа брошюры;"
   ]
  },
  {
   "cell_type": "code",
   "execution_count": 18,
   "id": "8c6ccff5",
   "metadata": {},
   "outputs": [],
   "source": [
    "query_3 = ''' \n",
    "SELECT \n",
    "    top.publisher_id,\n",
    "    top.publisher,\n",
    "    top.number_books\n",
    "FROM \n",
    "    (SELECT\n",
    "         b.publisher_id AS publisher_id,\n",
    "         COUNT(b.book_id) AS number_books,\n",
    "         p.publisher AS publisher\n",
    "     FROM \n",
    "         books AS b\n",
    "         LEFT JOIN publishers AS p ON b.publisher_id = p.publisher_id\n",
    "     WHERE \n",
    "         num_pages > 50\n",
    "     GROUP BY \n",
    "         b.publisher_id,\n",
    "         p.publisher\n",
    "     ORDER BY    \n",
    "             number_books DESC) AS top\n",
    "LIMIT 1\n",
    "; '''"
   ]
  },
  {
   "cell_type": "code",
   "execution_count": 19,
   "id": "41f54ed2",
   "metadata": {},
   "outputs": [
    {
     "data": {
      "text/html": [
       "<div>\n",
       "<style scoped>\n",
       "    .dataframe tbody tr th:only-of-type {\n",
       "        vertical-align: middle;\n",
       "    }\n",
       "\n",
       "    .dataframe tbody tr th {\n",
       "        vertical-align: top;\n",
       "    }\n",
       "\n",
       "    .dataframe thead th {\n",
       "        text-align: right;\n",
       "    }\n",
       "</style>\n",
       "<table border=\"1\" class=\"dataframe\">\n",
       "  <thead>\n",
       "    <tr style=\"text-align: right;\">\n",
       "      <th></th>\n",
       "      <th>publisher_id</th>\n",
       "      <th>publisher</th>\n",
       "      <th>number_books</th>\n",
       "    </tr>\n",
       "  </thead>\n",
       "  <tbody>\n",
       "    <tr>\n",
       "      <th>0</th>\n",
       "      <td>212</td>\n",
       "      <td>Penguin Books</td>\n",
       "      <td>42</td>\n",
       "    </tr>\n",
       "  </tbody>\n",
       "</table>\n",
       "</div>"
      ],
      "text/plain": [
       "   publisher_id      publisher  number_books\n",
       "0           212  Penguin Books            42"
      ]
     },
     "execution_count": 19,
     "metadata": {},
     "output_type": "execute_result"
    }
   ],
   "source": [
    "pd.io.sql.read_sql(query_3, con = engine)"
   ]
  },
  {
   "cell_type": "markdown",
   "id": "19eeddc9",
   "metadata": {},
   "source": [
    "**Издательство Penguin Books выпустило 42 книги толщиной более 50 страниц.**"
   ]
  },
  {
   "cell_type": "markdown",
   "id": "d4f1aa4d",
   "metadata": {},
   "source": [
    "### Запрос №4"
   ]
  },
  {
   "cell_type": "markdown",
   "id": "65195d3b",
   "metadata": {},
   "source": [
    "Определите автора с самой высокой средней оценкой книг — учитывайте только книги с 50 и более оценками;"
   ]
  },
  {
   "cell_type": "code",
   "execution_count": 20,
   "id": "e6ac8911",
   "metadata": {},
   "outputs": [],
   "source": [
    "query_4 = '''\n",
    "SELECT author_ratings.author,\n",
    "       AVG(author_ratings.avg_rating) AS total_rating\n",
    "FROM\n",
    "    (SELECT a.author AS author,\n",
    "            AVG(ra.rating) AS avg_rating\n",
    "     FROM books AS b\n",
    "     LEFT JOIN authors AS a ON b.author_id = a.author_id\n",
    "     LEFT JOIN ratings AS ra ON b.book_id = ra.book_id\n",
    "     GROUP BY b.book_id,\n",
    "              a.author_id\n",
    "     HAVING COUNT(ra.rating_id) > 50\n",
    "     ) AS author_ratings\n",
    "GROUP BY author_ratings.author\n",
    "ORDER BY total_rating DESC\n",
    "LIMIT 1\n",
    "; '''"
   ]
  },
  {
   "cell_type": "code",
   "execution_count": 21,
   "id": "e2a86324",
   "metadata": {},
   "outputs": [
    {
     "data": {
      "text/html": [
       "<div>\n",
       "<style scoped>\n",
       "    .dataframe tbody tr th:only-of-type {\n",
       "        vertical-align: middle;\n",
       "    }\n",
       "\n",
       "    .dataframe tbody tr th {\n",
       "        vertical-align: top;\n",
       "    }\n",
       "\n",
       "    .dataframe thead th {\n",
       "        text-align: right;\n",
       "    }\n",
       "</style>\n",
       "<table border=\"1\" class=\"dataframe\">\n",
       "  <thead>\n",
       "    <tr style=\"text-align: right;\">\n",
       "      <th></th>\n",
       "      <th>author</th>\n",
       "      <th>total_rating</th>\n",
       "    </tr>\n",
       "  </thead>\n",
       "  <tbody>\n",
       "    <tr>\n",
       "      <th>0</th>\n",
       "      <td>J.K. Rowling/Mary GrandPré</td>\n",
       "      <td>4.283844</td>\n",
       "    </tr>\n",
       "  </tbody>\n",
       "</table>\n",
       "</div>"
      ],
      "text/plain": [
       "                       author  total_rating\n",
       "0  J.K. Rowling/Mary GrandPré      4.283844"
      ]
     },
     "execution_count": 21,
     "metadata": {},
     "output_type": "execute_result"
    }
   ],
   "source": [
    "pd.io.sql.read_sql(query_4, con = engine)"
   ]
  },
  {
   "cell_type": "markdown",
   "id": "ecff8209",
   "metadata": {},
   "source": [
    "**J.K. Rowling/Mary GrandPré - автор с самой высокой средней оценкой 4.283844.**"
   ]
  },
  {
   "cell_type": "markdown",
   "id": "71343aa3",
   "metadata": {},
   "source": [
    "### Запрос №5"
   ]
  },
  {
   "cell_type": "markdown",
   "id": "e71db3ae",
   "metadata": {},
   "source": [
    "Посчитайте среднее количество обзоров от пользователей, которые поставили больше 50 оценок."
   ]
  },
  {
   "cell_type": "code",
   "execution_count": 22,
   "id": "6e79d1f1",
   "metadata": {},
   "outputs": [],
   "source": [
    "query_5 = '''\n",
    "SELECT AVG(users.total_reviews)\n",
    "\n",
    "FROM\n",
    "(SELECT username,\n",
    "        COUNT(review_id) AS total_reviews \n",
    " FROM reviews\n",
    " WHERE username IN (\n",
    "                    SELECT username\n",
    "                    FROM ratings\n",
    "                    GROUP BY username\n",
    "                    HAVING COUNT(rating_id) > 50\n",
    "                    )\n",
    " GROUP BY username\n",
    " ) AS users\n",
    "\n",
    "; '''"
   ]
  },
  {
   "cell_type": "code",
   "execution_count": 23,
   "id": "318f87f4",
   "metadata": {},
   "outputs": [
    {
     "data": {
      "text/html": [
       "<div>\n",
       "<style scoped>\n",
       "    .dataframe tbody tr th:only-of-type {\n",
       "        vertical-align: middle;\n",
       "    }\n",
       "\n",
       "    .dataframe tbody tr th {\n",
       "        vertical-align: top;\n",
       "    }\n",
       "\n",
       "    .dataframe thead th {\n",
       "        text-align: right;\n",
       "    }\n",
       "</style>\n",
       "<table border=\"1\" class=\"dataframe\">\n",
       "  <thead>\n",
       "    <tr style=\"text-align: right;\">\n",
       "      <th></th>\n",
       "      <th>avg</th>\n",
       "    </tr>\n",
       "  </thead>\n",
       "  <tbody>\n",
       "    <tr>\n",
       "      <th>0</th>\n",
       "      <td>24.333333</td>\n",
       "    </tr>\n",
       "  </tbody>\n",
       "</table>\n",
       "</div>"
      ],
      "text/plain": [
       "         avg\n",
       "0  24.333333"
      ]
     },
     "execution_count": 23,
     "metadata": {},
     "output_type": "execute_result"
    }
   ],
   "source": [
    "pd.io.sql.read_sql(query_5, con = engine)"
   ]
  },
  {
   "cell_type": "markdown",
   "id": "89ce6a09",
   "metadata": {},
   "source": [
    "**24.33 - среднее количество обзоров от пользователей, которые поставили больше 50 оценок.**"
   ]
  }
 ],
 "metadata": {
  "ExecuteTimeLog": [
   {
    "duration": 22790,
    "start_time": "2023-02-27T09:08:48.481Z"
   },
   {
    "duration": 2,
    "start_time": "2023-02-27T09:09:11.273Z"
   },
   {
    "duration": 12012,
    "start_time": "2023-02-27T09:09:11.277Z"
   },
   {
    "duration": 3,
    "start_time": "2023-02-27T09:09:23.291Z"
   },
   {
    "duration": 288,
    "start_time": "2023-02-27T09:09:23.296Z"
   },
   {
    "duration": 3,
    "start_time": "2023-02-27T09:09:23.586Z"
   },
   {
    "duration": 87,
    "start_time": "2023-02-27T09:09:23.591Z"
   },
   {
    "duration": 2,
    "start_time": "2023-02-27T09:09:23.680Z"
   },
   {
    "duration": 88,
    "start_time": "2023-02-27T09:09:23.684Z"
   },
   {
    "duration": 2,
    "start_time": "2023-02-27T09:09:23.774Z"
   },
   {
    "duration": 92,
    "start_time": "2023-02-27T09:09:23.778Z"
   },
   {
    "duration": 3,
    "start_time": "2023-02-27T09:09:23.871Z"
   },
   {
    "duration": 83,
    "start_time": "2023-02-27T09:09:23.875Z"
   },
   {
    "duration": 3,
    "start_time": "2023-02-27T09:15:10.771Z"
   },
   {
    "duration": 82,
    "start_time": "2023-02-27T09:15:11.211Z"
   },
   {
    "duration": 2,
    "start_time": "2023-02-27T09:15:13.986Z"
   },
   {
    "duration": 105,
    "start_time": "2023-02-27T09:15:15.170Z"
   },
   {
    "duration": 22925,
    "start_time": "2023-02-27T09:20:02.904Z"
   },
   {
    "duration": 3,
    "start_time": "2023-02-27T09:20:25.831Z"
   },
   {
    "duration": 8243,
    "start_time": "2023-02-27T09:20:25.836Z"
   },
   {
    "duration": 3,
    "start_time": "2023-02-27T09:20:34.082Z"
   },
   {
    "duration": 77,
    "start_time": "2023-02-27T09:20:34.087Z"
   },
   {
    "duration": 3,
    "start_time": "2023-02-27T09:20:34.165Z"
   },
   {
    "duration": 22,
    "start_time": "2023-02-27T09:20:34.169Z"
   },
   {
    "duration": 3,
    "start_time": "2023-02-27T09:20:34.193Z"
   },
   {
    "duration": 22,
    "start_time": "2023-02-27T09:20:34.198Z"
   },
   {
    "duration": 3,
    "start_time": "2023-02-27T09:20:34.223Z"
   },
   {
    "duration": 29,
    "start_time": "2023-02-27T09:20:34.229Z"
   },
   {
    "duration": 3,
    "start_time": "2023-02-27T09:20:34.260Z"
   },
   {
    "duration": 20,
    "start_time": "2023-02-27T09:20:34.265Z"
   },
   {
    "duration": 3,
    "start_time": "2023-02-27T09:26:04.060Z"
   },
   {
    "duration": 14,
    "start_time": "2023-02-27T09:26:05.307Z"
   },
   {
    "duration": 2,
    "start_time": "2023-02-27T09:27:00.672Z"
   },
   {
    "duration": 12,
    "start_time": "2023-02-27T09:27:01.737Z"
   },
   {
    "duration": 2,
    "start_time": "2023-02-27T09:27:42.573Z"
   },
   {
    "duration": 12,
    "start_time": "2023-02-27T09:27:43.828Z"
   },
   {
    "duration": 3,
    "start_time": "2023-02-27T09:30:31.420Z"
   },
   {
    "duration": 12,
    "start_time": "2023-02-27T09:30:32.575Z"
   },
   {
    "duration": 4,
    "start_time": "2023-02-27T09:31:17.715Z"
   },
   {
    "duration": 12,
    "start_time": "2023-02-27T09:31:18.899Z"
   },
   {
    "duration": 20115,
    "start_time": "2023-02-27T09:31:34.272Z"
   },
   {
    "duration": 3,
    "start_time": "2023-02-27T09:31:54.389Z"
   },
   {
    "duration": 8205,
    "start_time": "2023-02-27T09:31:54.393Z"
   },
   {
    "duration": 2,
    "start_time": "2023-02-27T09:32:02.600Z"
   },
   {
    "duration": 76,
    "start_time": "2023-02-27T09:32:02.606Z"
   },
   {
    "duration": 3,
    "start_time": "2023-02-27T09:32:02.684Z"
   },
   {
    "duration": 25,
    "start_time": "2023-02-27T09:32:02.688Z"
   },
   {
    "duration": 3,
    "start_time": "2023-02-27T09:32:02.715Z"
   },
   {
    "duration": 46,
    "start_time": "2023-02-27T09:32:02.719Z"
   },
   {
    "duration": 13,
    "start_time": "2023-02-27T09:32:02.767Z"
   },
   {
    "duration": 33,
    "start_time": "2023-02-27T09:32:02.782Z"
   },
   {
    "duration": 4,
    "start_time": "2023-02-27T09:32:02.817Z"
   },
   {
    "duration": 33,
    "start_time": "2023-02-27T09:32:02.822Z"
   },
   {
    "duration": 12,
    "start_time": "2023-02-27T09:32:02.858Z"
   },
   {
    "duration": 28,
    "start_time": "2023-02-27T09:32:02.872Z"
   },
   {
    "duration": 11,
    "start_time": "2023-02-27T09:32:02.901Z"
   },
   {
    "duration": 27,
    "start_time": "2023-02-27T09:32:02.914Z"
   },
   {
    "duration": 3,
    "start_time": "2023-02-27T09:32:02.942Z"
   },
   {
    "duration": 19,
    "start_time": "2023-02-27T09:32:02.947Z"
   },
   {
    "duration": 7,
    "start_time": "2023-02-27T09:32:02.968Z"
   },
   {
    "duration": 30,
    "start_time": "2023-02-27T09:32:02.977Z"
   },
   {
    "duration": 6,
    "start_time": "2023-02-27T09:32:03.009Z"
   },
   {
    "duration": 40,
    "start_time": "2023-02-27T09:32:03.017Z"
   },
   {
    "duration": 4,
    "start_time": "2023-02-27T09:44:42.805Z"
   },
   {
    "duration": 23,
    "start_time": "2023-02-27T09:44:43.963Z"
   },
   {
    "duration": 3,
    "start_time": "2023-02-27T09:45:19.307Z"
   },
   {
    "duration": 23,
    "start_time": "2023-02-27T09:45:20.651Z"
   },
   {
    "duration": 2,
    "start_time": "2023-02-27T09:45:28.008Z"
   },
   {
    "duration": 22,
    "start_time": "2023-02-27T09:45:31.691Z"
   },
   {
    "duration": 2,
    "start_time": "2023-02-27T09:45:43.973Z"
   },
   {
    "duration": 24,
    "start_time": "2023-02-27T09:45:45.067Z"
   },
   {
    "duration": 2,
    "start_time": "2023-02-27T09:45:57.172Z"
   },
   {
    "duration": 21126,
    "start_time": "2023-02-27T09:48:31.790Z"
   },
   {
    "duration": 3,
    "start_time": "2023-02-27T09:48:52.918Z"
   },
   {
    "duration": 8089,
    "start_time": "2023-02-27T09:48:52.923Z"
   },
   {
    "duration": 2,
    "start_time": "2023-02-27T09:49:01.015Z"
   },
   {
    "duration": 96,
    "start_time": "2023-02-27T09:49:01.018Z"
   },
   {
    "duration": 2,
    "start_time": "2023-02-27T09:49:01.116Z"
   },
   {
    "duration": 22,
    "start_time": "2023-02-27T09:49:01.120Z"
   },
   {
    "duration": 16,
    "start_time": "2023-02-27T09:49:01.144Z"
   },
   {
    "duration": 20,
    "start_time": "2023-02-27T09:49:01.162Z"
   },
   {
    "duration": 11,
    "start_time": "2023-02-27T09:49:01.185Z"
   },
   {
    "duration": 30,
    "start_time": "2023-02-27T09:49:01.198Z"
   },
   {
    "duration": 12,
    "start_time": "2023-02-27T09:49:01.230Z"
   },
   {
    "duration": 26,
    "start_time": "2023-02-27T09:49:01.244Z"
   },
   {
    "duration": 15,
    "start_time": "2023-02-27T09:49:01.271Z"
   },
   {
    "duration": 31,
    "start_time": "2023-02-27T09:49:01.288Z"
   },
   {
    "duration": 24,
    "start_time": "2023-02-27T09:49:01.321Z"
   },
   {
    "duration": 39,
    "start_time": "2023-02-27T09:49:01.348Z"
   },
   {
    "duration": 3,
    "start_time": "2023-02-27T09:49:01.389Z"
   },
   {
    "duration": 32,
    "start_time": "2023-02-27T09:49:01.394Z"
   },
   {
    "duration": 9,
    "start_time": "2023-02-27T09:49:01.428Z"
   },
   {
    "duration": 58,
    "start_time": "2023-02-27T09:49:01.439Z"
   },
   {
    "duration": 4,
    "start_time": "2023-02-27T09:49:01.499Z"
   },
   {
    "duration": 39,
    "start_time": "2023-02-27T09:49:01.505Z"
   },
   {
    "duration": 25264,
    "start_time": "2023-02-27T11:57:09.411Z"
   },
   {
    "duration": 3,
    "start_time": "2023-02-27T11:57:34.678Z"
   },
   {
    "duration": 8318,
    "start_time": "2023-02-27T11:57:34.682Z"
   },
   {
    "duration": 3,
    "start_time": "2023-02-27T11:57:43.003Z"
   },
   {
    "duration": 284,
    "start_time": "2023-02-27T11:57:43.009Z"
   },
   {
    "duration": 2,
    "start_time": "2023-02-27T11:57:43.295Z"
   },
   {
    "duration": 77,
    "start_time": "2023-02-27T11:57:43.298Z"
   },
   {
    "duration": 3,
    "start_time": "2023-02-27T11:57:43.377Z"
   },
   {
    "duration": 81,
    "start_time": "2023-02-27T11:57:43.382Z"
   },
   {
    "duration": 3,
    "start_time": "2023-02-27T11:57:43.465Z"
   },
   {
    "duration": 88,
    "start_time": "2023-02-27T11:57:43.469Z"
   },
   {
    "duration": 3,
    "start_time": "2023-02-27T11:57:43.558Z"
   },
   {
    "duration": 85,
    "start_time": "2023-02-27T11:57:43.563Z"
   },
   {
    "duration": 3,
    "start_time": "2023-02-27T11:57:43.651Z"
   },
   {
    "duration": 82,
    "start_time": "2023-02-27T11:57:43.655Z"
   },
   {
    "duration": 3,
    "start_time": "2023-02-27T11:57:43.739Z"
   },
   {
    "duration": 103,
    "start_time": "2023-02-27T11:57:43.743Z"
   },
   {
    "duration": 3,
    "start_time": "2023-02-27T11:57:43.847Z"
   },
   {
    "duration": 83,
    "start_time": "2023-02-27T11:57:43.851Z"
   },
   {
    "duration": 3,
    "start_time": "2023-02-27T11:57:43.935Z"
   },
   {
    "duration": 90,
    "start_time": "2023-02-27T11:57:43.940Z"
   },
   {
    "duration": 2,
    "start_time": "2023-02-27T11:57:44.032Z"
   },
   {
    "duration": 116,
    "start_time": "2023-02-27T11:57:44.036Z"
   },
   {
    "duration": 2,
    "start_time": "2023-02-27T11:57:52.032Z"
   },
   {
    "duration": 113,
    "start_time": "2023-02-27T11:57:53.526Z"
   },
   {
    "duration": 3,
    "start_time": "2023-02-27T11:57:56.184Z"
   },
   {
    "duration": 87,
    "start_time": "2023-02-27T11:57:57.114Z"
   }
  ],
  "kernelspec": {
   "display_name": "Python 3 (ipykernel)",
   "language": "python",
   "name": "python3"
  },
  "language_info": {
   "codemirror_mode": {
    "name": "ipython",
    "version": 3
   },
   "file_extension": ".py",
   "mimetype": "text/x-python",
   "name": "python",
   "nbconvert_exporter": "python",
   "pygments_lexer": "ipython3",
   "version": "3.9.13"
  },
  "toc": {
   "base_numbering": 1,
   "nav_menu": {},
   "number_sections": true,
   "sideBar": true,
   "skip_h1_title": true,
   "title_cell": "Table of Contents",
   "title_sidebar": "Contents",
   "toc_cell": true,
   "toc_position": {},
   "toc_section_display": true,
   "toc_window_display": true
  }
 },
 "nbformat": 4,
 "nbformat_minor": 5
}
