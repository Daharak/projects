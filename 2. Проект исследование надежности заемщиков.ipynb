{
 "cells": [
  {
   "cell_type": "markdown",
   "id": "63a883e9",
   "metadata": {
    "deletable": false,
    "editable": false,
    "id": "c81daeeb"
   },
   "source": [
    "# Исследование надежности заемщиков\n"
   ]
  },
  {
   "cell_type": "markdown",
   "id": "bf91ca05",
   "metadata": {
    "deletable": false,
    "editable": false,
    "id": "827c20bf"
   },
   "source": [
    "Во второй части проекта вы выполните шаги 3 и 4. Их вручную проверит ревьюер.\n",
    "Чтобы вам не пришлось писать код заново для шагов 1 и 2, мы добавили авторские решения в ячейки с кодом. \n",
    "\n"
   ]
  },
  {
   "cell_type": "markdown",
   "id": "80476ede",
   "metadata": {
    "deletable": false,
    "editable": false,
    "id": "744d7639"
   },
   "source": [
    "## Откройте таблицу и изучите общую информацию о данных"
   ]
  },
  {
   "cell_type": "markdown",
   "id": "c43ec4e7",
   "metadata": {
    "deletable": false,
    "editable": false,
    "id": "e7a14c31"
   },
   "source": [
    "**Задание 1. Импортируйте библиотеку pandas. Считайте данные из csv-файла в датафрейм и сохраните в переменную `data`. Путь к файлу:**\n",
    "\n",
    "`/datasets/data.csv`"
   ]
  },
  {
   "cell_type": "code",
   "execution_count": 1,
   "id": "c753939e",
   "metadata": {
    "deletable": false,
    "id": "7bcf75c9"
   },
   "outputs": [],
   "source": [
    "import pandas as pd\n",
    "\n",
    "try:\n",
    "    data = pd.read_csv('/datasets/data.csv')\n",
    "except:\n",
    "    data = pd.read_csv('https://code.s3.yandex.net/datasets/data.csv')"
   ]
  },
  {
   "cell_type": "markdown",
   "id": "6beaaac2",
   "metadata": {
    "deletable": false,
    "editable": false,
    "id": "b8038fe3"
   },
   "source": [
    "**Задание 2. Выведите первые 20 строчек датафрейма `data` на экран.**"
   ]
  },
  {
   "cell_type": "code",
   "execution_count": 2,
   "id": "4dd01d62",
   "metadata": {
    "deletable": false,
    "id": "2a7cab99",
    "outputId": "1a8f3ef2-d323-4ec2-ddf7-89670b5944c4"
   },
   "outputs": [
    {
     "data": {
      "text/html": [
       "<div>\n",
       "<style scoped>\n",
       "    .dataframe tbody tr th:only-of-type {\n",
       "        vertical-align: middle;\n",
       "    }\n",
       "\n",
       "    .dataframe tbody tr th {\n",
       "        vertical-align: top;\n",
       "    }\n",
       "\n",
       "    .dataframe thead th {\n",
       "        text-align: right;\n",
       "    }\n",
       "</style>\n",
       "<table border=\"1\" class=\"dataframe\">\n",
       "  <thead>\n",
       "    <tr style=\"text-align: right;\">\n",
       "      <th></th>\n",
       "      <th>children</th>\n",
       "      <th>days_employed</th>\n",
       "      <th>dob_years</th>\n",
       "      <th>education</th>\n",
       "      <th>education_id</th>\n",
       "      <th>family_status</th>\n",
       "      <th>family_status_id</th>\n",
       "      <th>gender</th>\n",
       "      <th>income_type</th>\n",
       "      <th>debt</th>\n",
       "      <th>total_income</th>\n",
       "      <th>purpose</th>\n",
       "    </tr>\n",
       "  </thead>\n",
       "  <tbody>\n",
       "    <tr>\n",
       "      <th>0</th>\n",
       "      <td>1</td>\n",
       "      <td>-8437.673028</td>\n",
       "      <td>42</td>\n",
       "      <td>высшее</td>\n",
       "      <td>0</td>\n",
       "      <td>женат / замужем</td>\n",
       "      <td>0</td>\n",
       "      <td>F</td>\n",
       "      <td>сотрудник</td>\n",
       "      <td>0</td>\n",
       "      <td>253875.639453</td>\n",
       "      <td>покупка жилья</td>\n",
       "    </tr>\n",
       "    <tr>\n",
       "      <th>1</th>\n",
       "      <td>1</td>\n",
       "      <td>-4024.803754</td>\n",
       "      <td>36</td>\n",
       "      <td>среднее</td>\n",
       "      <td>1</td>\n",
       "      <td>женат / замужем</td>\n",
       "      <td>0</td>\n",
       "      <td>F</td>\n",
       "      <td>сотрудник</td>\n",
       "      <td>0</td>\n",
       "      <td>112080.014102</td>\n",
       "      <td>приобретение автомобиля</td>\n",
       "    </tr>\n",
       "    <tr>\n",
       "      <th>2</th>\n",
       "      <td>0</td>\n",
       "      <td>-5623.422610</td>\n",
       "      <td>33</td>\n",
       "      <td>Среднее</td>\n",
       "      <td>1</td>\n",
       "      <td>женат / замужем</td>\n",
       "      <td>0</td>\n",
       "      <td>M</td>\n",
       "      <td>сотрудник</td>\n",
       "      <td>0</td>\n",
       "      <td>145885.952297</td>\n",
       "      <td>покупка жилья</td>\n",
       "    </tr>\n",
       "    <tr>\n",
       "      <th>3</th>\n",
       "      <td>3</td>\n",
       "      <td>-4124.747207</td>\n",
       "      <td>32</td>\n",
       "      <td>среднее</td>\n",
       "      <td>1</td>\n",
       "      <td>женат / замужем</td>\n",
       "      <td>0</td>\n",
       "      <td>M</td>\n",
       "      <td>сотрудник</td>\n",
       "      <td>0</td>\n",
       "      <td>267628.550329</td>\n",
       "      <td>дополнительное образование</td>\n",
       "    </tr>\n",
       "    <tr>\n",
       "      <th>4</th>\n",
       "      <td>0</td>\n",
       "      <td>340266.072047</td>\n",
       "      <td>53</td>\n",
       "      <td>среднее</td>\n",
       "      <td>1</td>\n",
       "      <td>гражданский брак</td>\n",
       "      <td>1</td>\n",
       "      <td>F</td>\n",
       "      <td>пенсионер</td>\n",
       "      <td>0</td>\n",
       "      <td>158616.077870</td>\n",
       "      <td>сыграть свадьбу</td>\n",
       "    </tr>\n",
       "    <tr>\n",
       "      <th>5</th>\n",
       "      <td>0</td>\n",
       "      <td>-926.185831</td>\n",
       "      <td>27</td>\n",
       "      <td>высшее</td>\n",
       "      <td>0</td>\n",
       "      <td>гражданский брак</td>\n",
       "      <td>1</td>\n",
       "      <td>M</td>\n",
       "      <td>компаньон</td>\n",
       "      <td>0</td>\n",
       "      <td>255763.565419</td>\n",
       "      <td>покупка жилья</td>\n",
       "    </tr>\n",
       "    <tr>\n",
       "      <th>6</th>\n",
       "      <td>0</td>\n",
       "      <td>-2879.202052</td>\n",
       "      <td>43</td>\n",
       "      <td>высшее</td>\n",
       "      <td>0</td>\n",
       "      <td>женат / замужем</td>\n",
       "      <td>0</td>\n",
       "      <td>F</td>\n",
       "      <td>компаньон</td>\n",
       "      <td>0</td>\n",
       "      <td>240525.971920</td>\n",
       "      <td>операции с жильем</td>\n",
       "    </tr>\n",
       "    <tr>\n",
       "      <th>7</th>\n",
       "      <td>0</td>\n",
       "      <td>-152.779569</td>\n",
       "      <td>50</td>\n",
       "      <td>СРЕДНЕЕ</td>\n",
       "      <td>1</td>\n",
       "      <td>женат / замужем</td>\n",
       "      <td>0</td>\n",
       "      <td>M</td>\n",
       "      <td>сотрудник</td>\n",
       "      <td>0</td>\n",
       "      <td>135823.934197</td>\n",
       "      <td>образование</td>\n",
       "    </tr>\n",
       "    <tr>\n",
       "      <th>8</th>\n",
       "      <td>2</td>\n",
       "      <td>-6929.865299</td>\n",
       "      <td>35</td>\n",
       "      <td>ВЫСШЕЕ</td>\n",
       "      <td>0</td>\n",
       "      <td>гражданский брак</td>\n",
       "      <td>1</td>\n",
       "      <td>F</td>\n",
       "      <td>сотрудник</td>\n",
       "      <td>0</td>\n",
       "      <td>95856.832424</td>\n",
       "      <td>на проведение свадьбы</td>\n",
       "    </tr>\n",
       "    <tr>\n",
       "      <th>9</th>\n",
       "      <td>0</td>\n",
       "      <td>-2188.756445</td>\n",
       "      <td>41</td>\n",
       "      <td>среднее</td>\n",
       "      <td>1</td>\n",
       "      <td>женат / замужем</td>\n",
       "      <td>0</td>\n",
       "      <td>M</td>\n",
       "      <td>сотрудник</td>\n",
       "      <td>0</td>\n",
       "      <td>144425.938277</td>\n",
       "      <td>покупка жилья для семьи</td>\n",
       "    </tr>\n",
       "    <tr>\n",
       "      <th>10</th>\n",
       "      <td>2</td>\n",
       "      <td>-4171.483647</td>\n",
       "      <td>36</td>\n",
       "      <td>высшее</td>\n",
       "      <td>0</td>\n",
       "      <td>женат / замужем</td>\n",
       "      <td>0</td>\n",
       "      <td>M</td>\n",
       "      <td>компаньон</td>\n",
       "      <td>0</td>\n",
       "      <td>113943.491460</td>\n",
       "      <td>покупка недвижимости</td>\n",
       "    </tr>\n",
       "    <tr>\n",
       "      <th>11</th>\n",
       "      <td>0</td>\n",
       "      <td>-792.701887</td>\n",
       "      <td>40</td>\n",
       "      <td>среднее</td>\n",
       "      <td>1</td>\n",
       "      <td>женат / замужем</td>\n",
       "      <td>0</td>\n",
       "      <td>F</td>\n",
       "      <td>сотрудник</td>\n",
       "      <td>0</td>\n",
       "      <td>77069.234271</td>\n",
       "      <td>покупка коммерческой недвижимости</td>\n",
       "    </tr>\n",
       "    <tr>\n",
       "      <th>12</th>\n",
       "      <td>0</td>\n",
       "      <td>NaN</td>\n",
       "      <td>65</td>\n",
       "      <td>среднее</td>\n",
       "      <td>1</td>\n",
       "      <td>гражданский брак</td>\n",
       "      <td>1</td>\n",
       "      <td>M</td>\n",
       "      <td>пенсионер</td>\n",
       "      <td>0</td>\n",
       "      <td>NaN</td>\n",
       "      <td>сыграть свадьбу</td>\n",
       "    </tr>\n",
       "    <tr>\n",
       "      <th>13</th>\n",
       "      <td>0</td>\n",
       "      <td>-1846.641941</td>\n",
       "      <td>54</td>\n",
       "      <td>неоконченное высшее</td>\n",
       "      <td>2</td>\n",
       "      <td>женат / замужем</td>\n",
       "      <td>0</td>\n",
       "      <td>F</td>\n",
       "      <td>сотрудник</td>\n",
       "      <td>0</td>\n",
       "      <td>130458.228857</td>\n",
       "      <td>приобретение автомобиля</td>\n",
       "    </tr>\n",
       "    <tr>\n",
       "      <th>14</th>\n",
       "      <td>0</td>\n",
       "      <td>-1844.956182</td>\n",
       "      <td>56</td>\n",
       "      <td>высшее</td>\n",
       "      <td>0</td>\n",
       "      <td>гражданский брак</td>\n",
       "      <td>1</td>\n",
       "      <td>F</td>\n",
       "      <td>компаньон</td>\n",
       "      <td>1</td>\n",
       "      <td>165127.911772</td>\n",
       "      <td>покупка жилой недвижимости</td>\n",
       "    </tr>\n",
       "    <tr>\n",
       "      <th>15</th>\n",
       "      <td>1</td>\n",
       "      <td>-972.364419</td>\n",
       "      <td>26</td>\n",
       "      <td>среднее</td>\n",
       "      <td>1</td>\n",
       "      <td>женат / замужем</td>\n",
       "      <td>0</td>\n",
       "      <td>F</td>\n",
       "      <td>сотрудник</td>\n",
       "      <td>0</td>\n",
       "      <td>116820.904450</td>\n",
       "      <td>строительство собственной недвижимости</td>\n",
       "    </tr>\n",
       "    <tr>\n",
       "      <th>16</th>\n",
       "      <td>0</td>\n",
       "      <td>-1719.934226</td>\n",
       "      <td>35</td>\n",
       "      <td>среднее</td>\n",
       "      <td>1</td>\n",
       "      <td>женат / замужем</td>\n",
       "      <td>0</td>\n",
       "      <td>F</td>\n",
       "      <td>сотрудник</td>\n",
       "      <td>0</td>\n",
       "      <td>289202.704229</td>\n",
       "      <td>недвижимость</td>\n",
       "    </tr>\n",
       "    <tr>\n",
       "      <th>17</th>\n",
       "      <td>0</td>\n",
       "      <td>-2369.999720</td>\n",
       "      <td>33</td>\n",
       "      <td>высшее</td>\n",
       "      <td>0</td>\n",
       "      <td>гражданский брак</td>\n",
       "      <td>1</td>\n",
       "      <td>M</td>\n",
       "      <td>сотрудник</td>\n",
       "      <td>0</td>\n",
       "      <td>90410.586745</td>\n",
       "      <td>строительство недвижимости</td>\n",
       "    </tr>\n",
       "    <tr>\n",
       "      <th>18</th>\n",
       "      <td>0</td>\n",
       "      <td>400281.136913</td>\n",
       "      <td>53</td>\n",
       "      <td>среднее</td>\n",
       "      <td>1</td>\n",
       "      <td>вдовец / вдова</td>\n",
       "      <td>2</td>\n",
       "      <td>F</td>\n",
       "      <td>пенсионер</td>\n",
       "      <td>0</td>\n",
       "      <td>56823.777243</td>\n",
       "      <td>на покупку подержанного автомобиля</td>\n",
       "    </tr>\n",
       "    <tr>\n",
       "      <th>19</th>\n",
       "      <td>0</td>\n",
       "      <td>-10038.818549</td>\n",
       "      <td>48</td>\n",
       "      <td>СРЕДНЕЕ</td>\n",
       "      <td>1</td>\n",
       "      <td>в разводе</td>\n",
       "      <td>3</td>\n",
       "      <td>F</td>\n",
       "      <td>сотрудник</td>\n",
       "      <td>0</td>\n",
       "      <td>242831.107982</td>\n",
       "      <td>на покупку своего автомобиля</td>\n",
       "    </tr>\n",
       "  </tbody>\n",
       "</table>\n",
       "</div>"
      ],
      "text/plain": [
       "    children  days_employed  dob_years            education  education_id  \\\n",
       "0          1   -8437.673028         42               высшее             0   \n",
       "1          1   -4024.803754         36              среднее             1   \n",
       "2          0   -5623.422610         33              Среднее             1   \n",
       "3          3   -4124.747207         32              среднее             1   \n",
       "4          0  340266.072047         53              среднее             1   \n",
       "5          0    -926.185831         27               высшее             0   \n",
       "6          0   -2879.202052         43               высшее             0   \n",
       "7          0    -152.779569         50              СРЕДНЕЕ             1   \n",
       "8          2   -6929.865299         35               ВЫСШЕЕ             0   \n",
       "9          0   -2188.756445         41              среднее             1   \n",
       "10         2   -4171.483647         36               высшее             0   \n",
       "11         0    -792.701887         40              среднее             1   \n",
       "12         0            NaN         65              среднее             1   \n",
       "13         0   -1846.641941         54  неоконченное высшее             2   \n",
       "14         0   -1844.956182         56               высшее             0   \n",
       "15         1    -972.364419         26              среднее             1   \n",
       "16         0   -1719.934226         35              среднее             1   \n",
       "17         0   -2369.999720         33               высшее             0   \n",
       "18         0  400281.136913         53              среднее             1   \n",
       "19         0  -10038.818549         48              СРЕДНЕЕ             1   \n",
       "\n",
       "       family_status  family_status_id gender income_type  debt  \\\n",
       "0    женат / замужем                 0      F   сотрудник     0   \n",
       "1    женат / замужем                 0      F   сотрудник     0   \n",
       "2    женат / замужем                 0      M   сотрудник     0   \n",
       "3    женат / замужем                 0      M   сотрудник     0   \n",
       "4   гражданский брак                 1      F   пенсионер     0   \n",
       "5   гражданский брак                 1      M   компаньон     0   \n",
       "6    женат / замужем                 0      F   компаньон     0   \n",
       "7    женат / замужем                 0      M   сотрудник     0   \n",
       "8   гражданский брак                 1      F   сотрудник     0   \n",
       "9    женат / замужем                 0      M   сотрудник     0   \n",
       "10   женат / замужем                 0      M   компаньон     0   \n",
       "11   женат / замужем                 0      F   сотрудник     0   \n",
       "12  гражданский брак                 1      M   пенсионер     0   \n",
       "13   женат / замужем                 0      F   сотрудник     0   \n",
       "14  гражданский брак                 1      F   компаньон     1   \n",
       "15   женат / замужем                 0      F   сотрудник     0   \n",
       "16   женат / замужем                 0      F   сотрудник     0   \n",
       "17  гражданский брак                 1      M   сотрудник     0   \n",
       "18    вдовец / вдова                 2      F   пенсионер     0   \n",
       "19         в разводе                 3      F   сотрудник     0   \n",
       "\n",
       "     total_income                                 purpose  \n",
       "0   253875.639453                           покупка жилья  \n",
       "1   112080.014102                 приобретение автомобиля  \n",
       "2   145885.952297                           покупка жилья  \n",
       "3   267628.550329              дополнительное образование  \n",
       "4   158616.077870                         сыграть свадьбу  \n",
       "5   255763.565419                           покупка жилья  \n",
       "6   240525.971920                       операции с жильем  \n",
       "7   135823.934197                             образование  \n",
       "8    95856.832424                   на проведение свадьбы  \n",
       "9   144425.938277                 покупка жилья для семьи  \n",
       "10  113943.491460                    покупка недвижимости  \n",
       "11   77069.234271       покупка коммерческой недвижимости  \n",
       "12            NaN                         сыграть свадьбу  \n",
       "13  130458.228857                 приобретение автомобиля  \n",
       "14  165127.911772              покупка жилой недвижимости  \n",
       "15  116820.904450  строительство собственной недвижимости  \n",
       "16  289202.704229                            недвижимость  \n",
       "17   90410.586745              строительство недвижимости  \n",
       "18   56823.777243      на покупку подержанного автомобиля  \n",
       "19  242831.107982            на покупку своего автомобиля  "
      ]
     },
     "execution_count": 2,
     "metadata": {},
     "output_type": "execute_result"
    }
   ],
   "source": [
    "data.head(20)"
   ]
  },
  {
   "cell_type": "markdown",
   "id": "20327da8",
   "metadata": {
    "deletable": false,
    "editable": false,
    "id": "1c12e233"
   },
   "source": [
    "**Задание 3. Выведите основную информацию о датафрейме с помощью метода `info()`.**"
   ]
  },
  {
   "cell_type": "code",
   "execution_count": 3,
   "id": "c505f981",
   "metadata": {
    "deletable": false,
    "id": "2b757bca",
    "outputId": "15376089-8dad-46c9-b520-c05248d43158"
   },
   "outputs": [
    {
     "name": "stdout",
     "output_type": "stream",
     "text": [
      "<class 'pandas.core.frame.DataFrame'>\n",
      "RangeIndex: 21525 entries, 0 to 21524\n",
      "Data columns (total 12 columns):\n",
      " #   Column            Non-Null Count  Dtype  \n",
      "---  ------            --------------  -----  \n",
      " 0   children          21525 non-null  int64  \n",
      " 1   days_employed     19351 non-null  float64\n",
      " 2   dob_years         21525 non-null  int64  \n",
      " 3   education         21525 non-null  object \n",
      " 4   education_id      21525 non-null  int64  \n",
      " 5   family_status     21525 non-null  object \n",
      " 6   family_status_id  21525 non-null  int64  \n",
      " 7   gender            21525 non-null  object \n",
      " 8   income_type       21525 non-null  object \n",
      " 9   debt              21525 non-null  int64  \n",
      " 10  total_income      19351 non-null  float64\n",
      " 11  purpose           21525 non-null  object \n",
      "dtypes: float64(2), int64(5), object(5)\n",
      "memory usage: 2.0+ MB\n"
     ]
    }
   ],
   "source": [
    "data.info()"
   ]
  },
  {
   "cell_type": "markdown",
   "id": "4fbac6fc",
   "metadata": {
    "deletable": false,
    "editable": false,
    "id": "333ec665"
   },
   "source": [
    "## Предобработка данных"
   ]
  },
  {
   "cell_type": "markdown",
   "id": "d0fa0389",
   "metadata": {
    "deletable": false,
    "editable": false,
    "id": "02d92d53"
   },
   "source": [
    "### Удаление пропусков"
   ]
  },
  {
   "cell_type": "markdown",
   "id": "3871613f",
   "metadata": {
    "deletable": false,
    "editable": false,
    "id": "cd84967c"
   },
   "source": [
    "**Задание 4. Выведите количество пропущенных значений для каждого столбца. Используйте комбинацию двух методов.**"
   ]
  },
  {
   "cell_type": "code",
   "execution_count": 4,
   "id": "ec379d34",
   "metadata": {
    "deletable": false,
    "id": "7f9b2309",
    "outputId": "81f4d817-781c-465c-ed15-91ce4446810d"
   },
   "outputs": [
    {
     "data": {
      "text/plain": [
       "children               0\n",
       "days_employed       2174\n",
       "dob_years              0\n",
       "education              0\n",
       "education_id           0\n",
       "family_status          0\n",
       "family_status_id       0\n",
       "gender                 0\n",
       "income_type            0\n",
       "debt                   0\n",
       "total_income        2174\n",
       "purpose                0\n",
       "dtype: int64"
      ]
     },
     "execution_count": 4,
     "metadata": {},
     "output_type": "execute_result"
    }
   ],
   "source": [
    "data.isna().sum()"
   ]
  },
  {
   "cell_type": "markdown",
   "id": "f8525432",
   "metadata": {
    "deletable": false,
    "editable": false,
    "id": "db86e27b"
   },
   "source": [
    "**Задание 5. В двух столбцах есть пропущенные значения. Один из них — `days_employed`. Пропуски в этом столбце вы обработаете на следующем этапе. Другой столбец с пропущенными значениями — `total_income` — хранит данные о доходах. На сумму дохода сильнее всего влияет тип занятости, поэтому заполнить пропуски в этом столбце нужно медианным значением по каждому типу из столбца `income_type`. Например, у человека с типом занятости `сотрудник` пропуск в столбце `total_income` должен быть заполнен медианным доходом среди всех записей с тем же типом.**"
   ]
  },
  {
   "cell_type": "code",
   "execution_count": 5,
   "id": "fedc8580",
   "metadata": {
    "deletable": false,
    "id": "42006a93"
   },
   "outputs": [],
   "source": [
    "for t in data['income_type'].unique():\n",
    "    data.loc[(data['income_type'] == t) & (data['total_income'].isna()), 'total_income'] = \\\n",
    "    data.loc[(data['income_type'] == t), 'total_income'].median()"
   ]
  },
  {
   "cell_type": "markdown",
   "id": "ed85eb23",
   "metadata": {
    "deletable": false,
    "editable": false,
    "id": "89da5ece"
   },
   "source": [
    "### Обработка аномальных значений"
   ]
  },
  {
   "cell_type": "markdown",
   "id": "f717bbc5",
   "metadata": {
    "deletable": false,
    "editable": false,
    "id": "57964554"
   },
   "source": [
    "**Задание 6. В данных могут встречаться артефакты (аномалии) — значения, которые не отражают действительность и появились по какой-то ошибке. таким артефактом будет отрицательное количество дней трудового стажа в столбце `days_employed`. Для реальных данных это нормально. Обработайте значения в этом столбце: замените все отрицательные значения положительными с помощью метода `abs()`.**"
   ]
  },
  {
   "cell_type": "code",
   "execution_count": 6,
   "id": "0e9e6f22",
   "metadata": {
    "deletable": false,
    "id": "f6f055bf"
   },
   "outputs": [],
   "source": [
    "data['days_employed'] = data['days_employed'].abs()"
   ]
  },
  {
   "cell_type": "markdown",
   "id": "c79369ca",
   "metadata": {
    "deletable": false,
    "editable": false,
    "id": "6107dd2f"
   },
   "source": [
    "**Задание 7. Для каждого типа занятости выведите медианное значение трудового стажа `days_employed` в днях.**"
   ]
  },
  {
   "cell_type": "code",
   "execution_count": 7,
   "id": "68984010",
   "metadata": {
    "deletable": false,
    "id": "85a5faf6",
    "outputId": "801ef80e-522b-4668-f34e-565af7432bcf"
   },
   "outputs": [
    {
     "data": {
      "text/plain": [
       "income_type\n",
       "безработный        366413.652744\n",
       "в декрете            3296.759962\n",
       "госслужащий          2689.368353\n",
       "компаньон            1547.382223\n",
       "пенсионер          365213.306266\n",
       "предприниматель       520.848083\n",
       "сотрудник            1574.202821\n",
       "студент               578.751554\n",
       "Name: days_employed, dtype: float64"
      ]
     },
     "execution_count": 7,
     "metadata": {},
     "output_type": "execute_result"
    }
   ],
   "source": [
    "data.groupby('income_type')['days_employed'].agg('median')"
   ]
  },
  {
   "cell_type": "markdown",
   "id": "033a5c81",
   "metadata": {
    "deletable": false,
    "editable": false,
    "id": "38d1a030"
   },
   "source": [
    "У двух типов (безработные и пенсионеры) получатся аномально большие значения. Исправить такие значения сложно, поэтому оставьте их как есть. Тем более этот столбец не понадобится вам для исследования."
   ]
  },
  {
   "cell_type": "markdown",
   "id": "b63bee1f",
   "metadata": {
    "deletable": false,
    "editable": false,
    "id": "d8a9f147"
   },
   "source": [
    "**Задание 8. Выведите перечень уникальных значений столбца `children`.**"
   ]
  },
  {
   "cell_type": "code",
   "execution_count": 8,
   "id": "5861401b",
   "metadata": {
    "deletable": false,
    "id": "ef5056eb",
    "outputId": "6975b15c-7f95-4697-d16d-a0c79b657b03"
   },
   "outputs": [
    {
     "data": {
      "text/plain": [
       "array([ 1,  0,  3,  2, -1,  4, 20,  5], dtype=int64)"
      ]
     },
     "execution_count": 8,
     "metadata": {},
     "output_type": "execute_result"
    }
   ],
   "source": [
    "data['children'].unique()"
   ]
  },
  {
   "cell_type": "markdown",
   "id": "74d2aa06",
   "metadata": {
    "deletable": false,
    "editable": false,
    "id": "40b9ebf2"
   },
   "source": [
    "**Задание 9. В столбце `children` есть два аномальных значения. Удалите строки, в которых встречаются такие аномальные значения из датафрейма `data`.**"
   ]
  },
  {
   "cell_type": "code",
   "execution_count": 9,
   "id": "1055d89b",
   "metadata": {
    "deletable": false,
    "id": "3ff9801d"
   },
   "outputs": [],
   "source": [
    "data = data[(data['children'] != -1) & (data['children'] != 20)]"
   ]
  },
  {
   "cell_type": "markdown",
   "id": "7182b8d6",
   "metadata": {
    "deletable": false,
    "editable": false,
    "id": "bbc4d0ce"
   },
   "source": [
    "**Задание 10. Ещё раз выведите перечень уникальных значений столбца `children`, чтобы убедиться, что артефакты удалены.**"
   ]
  },
  {
   "cell_type": "code",
   "execution_count": 10,
   "id": "99b1307d",
   "metadata": {
    "deletable": false,
    "id": "ad4fa8b7",
    "outputId": "b2097101-d49d-44d9-901b-32a65c9463d1"
   },
   "outputs": [
    {
     "data": {
      "text/plain": [
       "array([1, 0, 3, 2, 4, 5], dtype=int64)"
      ]
     },
     "execution_count": 10,
     "metadata": {},
     "output_type": "execute_result"
    }
   ],
   "source": [
    "data['children'].unique()"
   ]
  },
  {
   "cell_type": "markdown",
   "id": "393f0e40",
   "metadata": {
    "deletable": false,
    "editable": false,
    "id": "75440b63"
   },
   "source": [
    "### Удаление пропусков (продолжение)"
   ]
  },
  {
   "cell_type": "markdown",
   "id": "f815102b",
   "metadata": {
    "deletable": false,
    "editable": false,
    "id": "f4ea573f"
   },
   "source": [
    "**Задание 11. Заполните пропуски в столбце `days_employed` медианными значениями по каждого типа занятости `income_type`.**"
   ]
  },
  {
   "cell_type": "code",
   "execution_count": 11,
   "id": "9231b882",
   "metadata": {
    "deletable": false,
    "id": "af6b1a7e"
   },
   "outputs": [],
   "source": [
    "for t in data['income_type'].unique():\n",
    "    data.loc[(data['income_type'] == t) & (data['days_employed'].isna()), 'days_employed'] = \\\n",
    "    data.loc[(data['income_type'] == t), 'days_employed'].median()"
   ]
  },
  {
   "cell_type": "markdown",
   "id": "d68370e8",
   "metadata": {
    "deletable": false,
    "editable": false,
    "id": "2753f40d"
   },
   "source": [
    "**Задание 12. Убедитесь, что все пропуски заполнены. Проверьте себя и ещё раз выведите количество пропущенных значений для каждого столбца с помощью двух методов.**"
   ]
  },
  {
   "cell_type": "code",
   "execution_count": 12,
   "id": "a8507056",
   "metadata": {
    "deletable": false,
    "id": "55f78bc2",
    "outputId": "8da1e4e1-358e-4e87-98c9-f261bce0a7b2"
   },
   "outputs": [
    {
     "data": {
      "text/plain": [
       "children            0\n",
       "days_employed       0\n",
       "dob_years           0\n",
       "education           0\n",
       "education_id        0\n",
       "family_status       0\n",
       "family_status_id    0\n",
       "gender              0\n",
       "income_type         0\n",
       "debt                0\n",
       "total_income        0\n",
       "purpose             0\n",
       "dtype: int64"
      ]
     },
     "execution_count": 12,
     "metadata": {},
     "output_type": "execute_result"
    }
   ],
   "source": [
    "data.isna().sum()"
   ]
  },
  {
   "cell_type": "markdown",
   "id": "cc0ab38e",
   "metadata": {
    "deletable": false,
    "editable": false,
    "id": "ddc81e43"
   },
   "source": [
    "### Изменение типов данных"
   ]
  },
  {
   "cell_type": "markdown",
   "id": "4dda8d21",
   "metadata": {
    "deletable": false,
    "editable": false,
    "id": "42d19d24"
   },
   "source": [
    "**Задание 13. Замените вещественный тип данных в столбце `total_income` на целочисленный с помощью метода `astype()`.**"
   ]
  },
  {
   "cell_type": "code",
   "execution_count": 13,
   "id": "8fa2ead7",
   "metadata": {
    "deletable": false,
    "id": "920b65ad"
   },
   "outputs": [],
   "source": [
    "data['total_income'] = data['total_income'].astype(int)"
   ]
  },
  {
   "cell_type": "markdown",
   "id": "066b4535",
   "metadata": {
    "deletable": false,
    "editable": false,
    "id": "80c420ba"
   },
   "source": [
    "### Обработка дубликатов"
   ]
  },
  {
   "cell_type": "markdown",
   "id": "192521bc",
   "metadata": {
    "deletable": false,
    "editable": false
   },
   "source": [
    "**Задание 14. Обработайте неявные дубликаты в столбце `education`. В этом столбце есть одни и те же значения, но записанные по-разному: с использованием заглавных и строчных букв. Приведите их к нижнему регистру. Проверьте остальные столбцы.**"
   ]
  },
  {
   "cell_type": "code",
   "execution_count": 14,
   "id": "89cb8fdf",
   "metadata": {
    "deletable": false
   },
   "outputs": [],
   "source": [
    "data['education'] = data['education'].str.lower()"
   ]
  },
  {
   "cell_type": "markdown",
   "id": "1caf73c2",
   "metadata": {
    "deletable": false,
    "editable": false,
    "id": "dc587695"
   },
   "source": [
    "**Задание 15. Выведите на экран количество строк-дубликатов в данных. Если такие строки присутствуют, удалите их.**"
   ]
  },
  {
   "cell_type": "code",
   "execution_count": 15,
   "id": "93130ff2",
   "metadata": {
    "deletable": false,
    "id": "3ee445e4",
    "outputId": "9684deba-1934-42d1-99e1-cda61740f822"
   },
   "outputs": [
    {
     "data": {
      "text/plain": [
       "71"
      ]
     },
     "execution_count": 15,
     "metadata": {},
     "output_type": "execute_result"
    }
   ],
   "source": [
    "data.duplicated().sum()"
   ]
  },
  {
   "cell_type": "code",
   "execution_count": 16,
   "id": "3e4d27e0",
   "metadata": {
    "deletable": false,
    "id": "8575fe05"
   },
   "outputs": [],
   "source": [
    "data = data.drop_duplicates()"
   ]
  },
  {
   "cell_type": "markdown",
   "id": "83481434",
   "metadata": {
    "deletable": false,
    "editable": false,
    "id": "9904cf55"
   },
   "source": [
    "### Категоризация данных"
   ]
  },
  {
   "cell_type": "markdown",
   "id": "d70b6fbf",
   "metadata": {
    "deletable": false,
    "editable": false,
    "id": "72fcc8a2"
   },
   "source": [
    "**Задание 16. На основании диапазонов, указанных ниже, создайте в датафрейме `data` столбец `total_income_category` с категориями:**\n",
    "\n",
    "- 0–30000 — `'E'`;\n",
    "- 30001–50000 — `'D'`;\n",
    "- 50001–200000 — `'C'`;\n",
    "- 200001–1000000 — `'B'`;\n",
    "- 1000001 и выше — `'A'`.\n",
    "\n",
    "\n",
    "**Например, кредитополучателю с доходом 25000 нужно назначить категорию `'E'`, а клиенту, получающему 235000, — `'B'`. Используйте собственную функцию с именем `categorize_income()` и метод `apply()`.**"
   ]
  },
  {
   "cell_type": "code",
   "execution_count": 17,
   "id": "994c3735",
   "metadata": {
    "deletable": false,
    "id": "e1771346"
   },
   "outputs": [],
   "source": [
    "def categorize_income(income):\n",
    "    try:\n",
    "        if 0 <= income <= 30000:\n",
    "            return 'E'\n",
    "        elif 30001 <= income <= 50000:\n",
    "            return 'D'\n",
    "        elif 50001 <= income <= 200000:\n",
    "            return 'C'\n",
    "        elif 200001 <= income <= 1000000:\n",
    "            return 'B'\n",
    "        elif income >= 1000001:\n",
    "            return 'A'\n",
    "    except:\n",
    "        pass"
   ]
  },
  {
   "cell_type": "code",
   "execution_count": 18,
   "id": "567fd2d0",
   "metadata": {
    "deletable": false,
    "id": "d5f3586d"
   },
   "outputs": [],
   "source": [
    "data['total_income_category'] = data['total_income'].apply(categorize_income)"
   ]
  },
  {
   "cell_type": "markdown",
   "id": "ba72a070",
   "metadata": {
    "deletable": false,
    "editable": false,
    "id": "dde49b5c"
   },
   "source": [
    "**Задание 17. Выведите на экран перечень уникальных целей взятия кредита из столбца `purpose`.**"
   ]
  },
  {
   "cell_type": "code",
   "execution_count": 19,
   "id": "8a577c84",
   "metadata": {
    "deletable": false,
    "id": "f67ce9b3",
    "outputId": "673c12d9-7d7e-4ae0-9812-c622c89dd244"
   },
   "outputs": [
    {
     "data": {
      "text/plain": [
       "array(['покупка жилья', 'приобретение автомобиля',\n",
       "       'дополнительное образование', 'сыграть свадьбу',\n",
       "       'операции с жильем', 'образование', 'на проведение свадьбы',\n",
       "       'покупка жилья для семьи', 'покупка недвижимости',\n",
       "       'покупка коммерческой недвижимости', 'покупка жилой недвижимости',\n",
       "       'строительство собственной недвижимости', 'недвижимость',\n",
       "       'строительство недвижимости', 'на покупку подержанного автомобиля',\n",
       "       'на покупку своего автомобиля',\n",
       "       'операции с коммерческой недвижимостью',\n",
       "       'строительство жилой недвижимости', 'жилье',\n",
       "       'операции со своей недвижимостью', 'автомобили',\n",
       "       'заняться образованием', 'сделка с подержанным автомобилем',\n",
       "       'получение образования', 'автомобиль', 'свадьба',\n",
       "       'получение дополнительного образования', 'покупка своего жилья',\n",
       "       'операции с недвижимостью', 'получение высшего образования',\n",
       "       'свой автомобиль', 'сделка с автомобилем',\n",
       "       'профильное образование', 'высшее образование',\n",
       "       'покупка жилья для сдачи', 'на покупку автомобиля', 'ремонт жилью',\n",
       "       'заняться высшим образованием'], dtype=object)"
      ]
     },
     "execution_count": 19,
     "metadata": {},
     "output_type": "execute_result"
    }
   ],
   "source": [
    "data['purpose'].unique()"
   ]
  },
  {
   "cell_type": "markdown",
   "id": "461e1b7f",
   "metadata": {
    "deletable": false,
    "editable": false,
    "id": "85d0aef0"
   },
   "source": [
    "**Задание 18. Создайте функцию, которая на основании данных из столбца `purpose` сформирует новый столбец `purpose_category`, в который войдут следующие категории:**\n",
    "\n",
    "- `'операции с автомобилем'`,\n",
    "- `'операции с недвижимостью'`,\n",
    "- `'проведение свадьбы'`,\n",
    "- `'получение образования'`.\n",
    "\n",
    "**Например, если в столбце `purpose` находится подстрока `'на покупку автомобиля'`, то в столбце `purpose_category` должна появиться строка `'операции с автомобилем'`.**\n",
    "\n",
    "**Используйте собственную функцию с именем `categorize_purpose()` и метод `apply()`. Изучите данные в столбце `purpose` и определите, какие подстроки помогут вам правильно определить категорию.**"
   ]
  },
  {
   "cell_type": "code",
   "execution_count": 20,
   "id": "eb7edf94",
   "metadata": {
    "deletable": false,
    "id": "e149fab4"
   },
   "outputs": [],
   "source": [
    "def categorize_purpose(row):\n",
    "    try:\n",
    "        if 'автом' in row:\n",
    "            return 'операции с автомобилем'\n",
    "        elif 'жил' in row or 'недвиж' in row:\n",
    "            return 'операции с недвижимостью'\n",
    "        elif 'свад' in row:\n",
    "            return 'проведение свадьбы'\n",
    "        elif 'образов' in row:\n",
    "            return 'получение образования'\n",
    "    except:\n",
    "        return 'нет категории'"
   ]
  },
  {
   "cell_type": "code",
   "execution_count": 21,
   "id": "6167e1bf",
   "metadata": {
    "deletable": false,
    "id": "bf36e69b"
   },
   "outputs": [],
   "source": [
    "data['purpose_category'] = data['purpose'].apply(categorize_purpose)"
   ]
  },
  {
   "cell_type": "markdown",
   "id": "85106de5",
   "metadata": {
    "deletable": false,
    "editable": false,
    "id": "09b242bf"
   },
   "source": [
    "### Шаг 3. Исследуйте данные и ответьте на вопросы"
   ]
  },
  {
   "cell_type": "markdown",
   "id": "67243f81",
   "metadata": {
    "deletable": false,
    "editable": false,
    "id": "c5d66278"
   },
   "source": [
    "#### 3.1 Есть ли зависимость между количеством детей и возвратом кредита в срок?"
   ]
  },
  {
   "cell_type": "markdown",
   "id": "80612ff7",
   "metadata": {},
   "source": [
    "Чтобы ответить на данный вопрос произведем группировку данных по двум столбцам: 'children' и 'debt'.\n",
    "Выведем результат на экран. Для удобства умножим на 100 и получим процент клиентов с просрочкой по кредиту. "
   ]
  },
  {
   "cell_type": "code",
   "execution_count": 22,
   "id": "231059ab",
   "metadata": {
    "deletable": false,
    "id": "2cacfc4a"
   },
   "outputs": [
    {
     "data": {
      "text/plain": [
       "children\n",
       "0    14091\n",
       "1     4808\n",
       "2     2052\n",
       "3      330\n",
       "4       41\n",
       "5        9\n",
       "Name: children, dtype: int64"
      ]
     },
     "metadata": {},
     "output_type": "display_data"
    },
    {
     "data": {
      "text/plain": [
       "children\n",
       "0    7.543822\n",
       "1    9.234609\n",
       "2    9.454191\n",
       "3    8.181818\n",
       "4    9.756098\n",
       "5    0.000000\n",
       "Name: debt, dtype: float64"
      ]
     },
     "metadata": {},
     "output_type": "display_data"
    }
   ],
   "source": [
    "display(data.groupby('children')['children'].count())\n",
    "\n",
    "display(data.groupby('children')['debt'].mean()*100)"
   ]
  },
  {
   "cell_type": "markdown",
   "id": "cccfe3e6",
   "metadata": {},
   "source": [
    "Как видно из полученных данных наиболее преобладающая категория клиентов банка - это люди без детей. (14 091 чел.)\n",
    "Далее категория клиентов с одним ребенком. (4 808 чел.)\n",
    "Третья категория клиенты с двумя детьми (2 052 чел.)\n",
    "\n",
    "Людей с более чем двумя детьми можно не учитывать в расчётах (так как разница между наибольшим и наименьшим значениями в группах будет значительно отличаться, а именно: клиенты без детей - 14 081 чел, а с пятью детьми - всего 9 чел. "
   ]
  },
  {
   "cell_type": "markdown",
   "id": "9ec3e276",
   "metadata": {},
   "source": [
    "Посмотроим столбчатую диаграмму."
   ]
  },
  {
   "cell_type": "code",
   "execution_count": 23,
   "id": "e606a2bc",
   "metadata": {},
   "outputs": [
    {
     "data": {
      "image/png": "[encoded data removed]",
      "text/plain": [
       "<Figure size 1300x800 with 1 Axes>"
      ]
     },
     "metadata": {},
     "output_type": "display_data"
    }
   ],
   "source": [
    "import seaborn as sns\n",
    "import matplotlib.pyplot as plt\n",
    "\n",
    "plt.figure(figsize = (13,8))\n",
    "ax = sns.barplot(x=data['children'],y=data['debt']*100)\n",
    "ax.set_xticklabels(ax.get_xticklabels(),rotation = 0);"
   ]
  },
  {
   "cell_type": "markdown",
   "id": "a9cc8ea7",
   "metadata": {
    "deletable": false,
    "id": "3a6b99ec"
   },
   "source": [
    "**Вывод:** \n",
    "\n",
    "1) У клиентов без детей (14091 человек) процент людей с задолженностью по кредиту составляет 7,54%\n",
    "\n",
    "2) У клиентов с 1 ребёнком (4808 человек) процент людей с задолженностью по кредиту составляет 9,23%\n",
    "\n",
    "3) У клиентов с 2 детьми (2052 человека) процент людей с задолженностью по кредиту составляет 9,45%\n",
    "\n",
    "Учитывая данные факты, можно предположить, что наиболее благонадежными заемщиками для банка будут клиенты без детей(также стоит учитывать,что это наиболее многочисленная группа)"
   ]
  },
  {
   "cell_type": "markdown",
   "id": "da214757",
   "metadata": {
    "deletable": false,
    "editable": false,
    "id": "97be82ca"
   },
   "source": [
    "#### 3.2 Есть ли зависимость между семейным положением и возвратом кредита в срок?"
   ]
  },
  {
   "cell_type": "markdown",
   "id": "22d3e46e",
   "metadata": {},
   "source": [
    "Для ответа на данный вопрос, сгруппируем данные по двум столбцам: family_status и debt.\n",
    "Сразу выведем результат на экран. Для удобства умножим на 100 и получим процент клиентов с просрочкой по кредиту. "
   ]
  },
  {
   "cell_type": "code",
   "execution_count": 24,
   "id": "9d474f2d",
   "metadata": {},
   "outputs": [
    {
     "data": {
      "text/plain": [
       "family_status\n",
       "Не женат / не замужем     2796\n",
       "в разводе                 1189\n",
       "вдовец / вдова             951\n",
       "гражданский брак          4134\n",
       "женат / замужем          12261\n",
       "Name: debt, dtype: int64"
      ]
     },
     "metadata": {},
     "output_type": "display_data"
    },
    {
     "data": {
      "text/plain": [
       "family_status\n",
       "Не женат / не замужем    9.763948\n",
       "в разводе                7.064760\n",
       "вдовец / вдова           6.624606\n",
       "гражданский брак         9.313014\n",
       "женат / замужем          7.560558\n",
       "Name: debt, dtype: float64"
      ]
     },
     "metadata": {},
     "output_type": "display_data"
    }
   ],
   "source": [
    "display (data.groupby('family_status')['debt'].count())\n",
    "display (data.groupby('family_status')['debt'].mean()*100)"
   ]
  },
  {
   "cell_type": "markdown",
   "id": "4e72645d",
   "metadata": {},
   "source": [
    "Для наглядности отобразим полученные результаты с помощью столбчатой диаграммы. "
   ]
  },
  {
   "cell_type": "code",
   "execution_count": 30,
   "id": "f832548e",
   "metadata": {
    "deletable": false,
    "id": "dc3f7ee8"
   },
   "outputs": [
    {
     "data": {
      "image/png": "[encoded data removed]",
      "text/plain": [
       "<Figure size 1300x800 with 1 Axes>"
      ]
     },
     "metadata": {},
     "output_type": "display_data"
    }
   ],
   "source": [
    "import seaborn as sns\n",
    "\n",
    "plt.figure(figsize = (13,8))\n",
    "ax = sns.barplot(x=data['family_status'],y=data['debt']*100)\n",
    "ax.set_xticklabels(ax.get_xticklabels(),rotation = 30);"
   ]
  },
  {
   "cell_type": "markdown",
   "id": "fcc305b0",
   "metadata": {
    "deletable": false,
    "id": "1cef7837"
   },
   "source": [
    "**Вывод:** \n",
    "\n",
    "Процент заемщиков с задолженностью по кредиту выше у следующих категорий: \n",
    "\n",
    "1) Не женат / не замужем    9.76 %\n",
    "\n",
    "2) гражданский брак         9.31 %\n",
    "\n",
    "И ниже у следующих категорий: \n",
    "\n",
    "1) женат / замужем 7.56 % (Наиболее многичесленная группа)\n",
    "2) в разводе 7.06 % \n",
    "3) вдовец / вдова 6.62 % \n",
    "\n",
    "Наименьшее количество клиентов с просрочкой по кредиту в категории - вдовец / вдова 6.62 %. "
   ]
  },
  {
   "cell_type": "markdown",
   "id": "750a7431",
   "metadata": {
    "deletable": false,
    "editable": false,
    "id": "1e8b2fca"
   },
   "source": [
    "#### 3.3 Есть ли зависимость между уровнем дохода и возвратом кредита в срок?"
   ]
  },
  {
   "cell_type": "markdown",
   "id": "7cb174e5",
   "metadata": {},
   "source": [
    "Посчитаем количество клиентов в зависимости от категории дохода, которую мы определили ранее с помощью функции \n",
    "total_income_category. Для этого произведем группировку по столбцу total_income_category.\n",
    "Произведем подсчёт клиентов с просроченной задолженостью по кредиту и переведем значение в проценты. "
   ]
  },
  {
   "cell_type": "code",
   "execution_count": 26,
   "id": "dc91e70d",
   "metadata": {
    "deletable": false,
    "id": "cd7e3720"
   },
   "outputs": [
    {
     "data": {
      "text/plain": [
       "total_income_category\n",
       "A       25\n",
       "B     5014\n",
       "C    15921\n",
       "D      349\n",
       "E       22\n",
       "Name: total_income_category, dtype: int64"
      ]
     },
     "metadata": {},
     "output_type": "display_data"
    },
    {
     "data": {
      "text/plain": [
       "total_income_category\n",
       "A    8.000000\n",
       "B    7.060231\n",
       "C    8.498210\n",
       "D    6.017192\n",
       "E    9.090909\n",
       "Name: debt, dtype: float64"
      ]
     },
     "metadata": {},
     "output_type": "display_data"
    }
   ],
   "source": [
    "display(data.groupby('total_income_category')['total_income_category'].count())\n",
    "\n",
    "display(data.groupby('total_income_category')['debt'].mean()*100)"
   ]
  },
  {
   "cell_type": "markdown",
   "id": "0b6076ba",
   "metadata": {},
   "source": [
    "Сначала посмотрим количественные значения клиентов в каждой группе по уровню дохода.\n",
    "\n",
    "Самая многочисленная категория - C (15 921 человек). Это люди с доходом от 50 001 до 200 000.\n",
    "\n",
    "На втором месте категория - B (5014 человек). Люди с доходом от 200 000 до 1 000 000.\n",
    "Группа с самым большим расхождением по уровню дохода.\n",
    "\n",
    "Наименее значимые группы для анализа - это группы А (25 человек) и E (22 человека)\n",
    "Клиенты с самым высоким и самым низким доходом.\n",
    "\n",
    "Категории распределились следующим образом: \n",
    "\n",
    "1) Категория Е (Доход от 0 до 30 000) 9,09% имели задолженность по возврату кредита.\n",
    "\n",
    "2) Категория С (Доход от 50 001 до 200 000) 8,49% имели задолженность по возврату кредита.\n",
    "\n",
    "3) Категория А (Доход от 1 000 001) 8.00% имели задолженность по возврату кредита.\n",
    "\n",
    "4) Категория B (Доход от 200 001 до 1 000 000) 7,06% имели задолженность по возврату кредита.\n",
    "\n",
    "5) Категория D (Доход от 30 000 до 50 000) 6,01% имели задолженность по возврату кредита."
   ]
  },
  {
   "cell_type": "markdown",
   "id": "2a4a37cf",
   "metadata": {},
   "source": [
    "Для наглядности отобразим полученные данные на графике."
   ]
  },
  {
   "cell_type": "code",
   "execution_count": 31,
   "id": "1f9f4bcb",
   "metadata": {},
   "outputs": [
    {
     "data": {
      "image/png": "[encoded data removed]",
      "text/plain": [
       "<Figure size 1300x800 with 1 Axes>"
      ]
     },
     "metadata": {},
     "output_type": "display_data"
    }
   ],
   "source": [
    "plt.figure(figsize = (13,8))\n",
    "ax = sns.barplot(x=data['total_income_category'],y=data['debt']*100)\n",
    "ax.set_xticklabels(ax.get_xticklabels(),rotation = 0);"
   ]
  },
  {
   "cell_type": "markdown",
   "id": "adc809f0",
   "metadata": {
    "deletable": false,
    "id": "e8593def"
   },
   "source": [
    "**Вывод:** \n",
    "\n",
    "На основании полученных данных можно сделать следующие выводы:\n",
    "\n",
    "1) Если мы учитываем абсолютные значения (не ориентируемся на количество человек в каждой группе), то наибольший риск возникновения задолженности у людей с самым низким уровнем дохода(Категория Е). А наиболее благонадежная категория - D. \n",
    "\n",
    "2) Если ориентироваться на самые большие группы , то это группы С и B (15 921 человек и 5014 человек соответственно). Какую-то конкретную закономерность определить нельзя, особенно учитывая тот факт, что в категории B слишком большое расхождение по уровню дохода (от 200 001 до 1 000 000). \n",
    "\n",
    "3) Вероятно рост благосостояния человека не слишком влияет на вероятность возникновения задолженности по кредиту. Возможно на это влияют другие факторы. "
   ]
  },
  {
   "cell_type": "markdown",
   "id": "95888638",
   "metadata": {
    "deletable": false,
    "editable": false,
    "id": "99ecbd1f"
   },
   "source": [
    "#### 3.4 Как разные цели кредита влияют на его возврат в срок?"
   ]
  },
  {
   "cell_type": "markdown",
   "id": "5dee038c",
   "metadata": {},
   "source": [
    "Посчитаем количество клиентов в зависимости от цели кредита, которую определили ранее с помощью функции 'purpose_category'.\n",
    "Произведем группировку по столбцу 'purpose_category'. \n",
    "Далее расчитаем процент клиентов с просрочкой в зависимости от цели кредита. "
   ]
  },
  {
   "cell_type": "code",
   "execution_count": 28,
   "id": "cdc4ce6c",
   "metadata": {
    "deletable": false,
    "id": "2b687290"
   },
   "outputs": [
    {
     "data": {
      "text/plain": [
       "purpose_category\n",
       "операции с автомобилем       4279\n",
       "операции с недвижимостью    10751\n",
       "получение образования        3988\n",
       "проведение свадьбы           2313\n",
       "Name: debt, dtype: int64"
      ]
     },
     "metadata": {},
     "output_type": "display_data"
    },
    {
     "data": {
      "text/plain": [
       "purpose_category\n",
       "операции с автомобилем      9.347978\n",
       "операции с недвижимостью    7.255139\n",
       "получение образования       9.252758\n",
       "проведение свадьбы          7.911803\n",
       "Name: debt, dtype: float64"
      ]
     },
     "metadata": {},
     "output_type": "display_data"
    }
   ],
   "source": [
    "display(data.groupby('purpose_category')['debt'].count())\n",
    "\n",
    "display(data.groupby('purpose_category')['debt'].mean()*100)"
   ]
  },
  {
   "cell_type": "markdown",
   "id": "2fb267f6",
   "metadata": {},
   "source": [
    "Самая популярная цель получения кредита - операции с недвижимостью, таких клиентов у банка 10 751 человек. \n",
    "Далее операции с автомобилем - 4279 человек, получение образования - 3988 человек, проведение свадьбы - 2313 человек.\n",
    "\n",
    "Процент просрочки по кредитам распределился следующим образом:\n",
    "\n",
    "1) операции с автомобилем  9,34%\n",
    "\n",
    "2) получение образования 9,25%\n",
    "\n",
    "3) проведение свадьбы 7,91%\n",
    "\n",
    "4) операции с недвижимостью 7,25%\n",
    "\n",
    "Для наглядности посмотрим график."
   ]
  },
  {
   "cell_type": "code",
   "execution_count": 32,
   "id": "878cc1e0",
   "metadata": {},
   "outputs": [
    {
     "data": {
      "image/png": "[encoded data removed]",
      "text/plain": [
       "<Figure size 1500x800 with 1 Axes>"
      ]
     },
     "metadata": {},
     "output_type": "display_data"
    }
   ],
   "source": [
    "import pandas as pd\n",
    "import matplotlib.pyplot as plt\n",
    "import seaborn as sns\n",
    "\n",
    "plt.figure(figsize = (15,8))\n",
    "ax = sns.barplot(x=data['purpose_category'],y=data['debt']*100)\n",
    "ax.set_xticklabels(ax.get_xticklabels(),rotation = 30);"
   ]
  },
  {
   "cell_type": "markdown",
   "id": "68ee36ea",
   "metadata": {
    "deletable": false,
    "id": "b4bb2ce6"
   },
   "source": [
    "**Вывод:** \n",
    "\n",
    "Наименьший процент задолженности у кредитов связанных с недвижимостью. Вероятно здесь имеют место 'кредиты под залог недвижимости'(большинство заемщиков боятся потерять объект недвижимости и стараются недопустить просрочки по кредиту)\n",
    "Также следует учитывать тот факт,что это наиболее многочисленная группа. \n",
    "\n",
    "Интересно,что цели кредита 'покупка автомобиля' и 'получение образования' имеют практически одинаковый процент по задолженности среди заемщиков (9,34% и 9,25%) и не слишком большую разницу в количестве человек в данных группах (4279 и 3988)."
   ]
  },
  {
   "cell_type": "markdown",
   "id": "d21375e8",
   "metadata": {
    "deletable": false,
    "editable": false,
    "id": "09c3ac4c"
   },
   "source": [
    "#### 3.5 Приведите возможные причины появления пропусков в исходных данных."
   ]
  },
  {
   "cell_type": "markdown",
   "id": "05eb657f",
   "metadata": {
    "deletable": false,
    "id": "9da2ceda"
   },
   "source": [
    "*Ответ:* Существуют различные причины появления пропусков в исходным данных.\n",
    "\n",
    "Человеческий фактор(неправильный ввод(ошибки), неправильная выгрузка данных). Также стоит учитывать, тот факт, что люди могут неохотно оставлять свои личные данные(например: e-mail,номер телефона). \n",
    "\n",
    "Также причинами появления пропусков в данных могут быть проблемы технического характера(падение серверов, сбой в работе ПО)."
   ]
  },
  {
   "cell_type": "markdown",
   "id": "62394e71",
   "metadata": {
    "deletable": false,
    "editable": false,
    "id": "7b0487d6"
   },
   "source": [
    "#### 3.6 Объясните, почему заполнить пропуски медианным значением — лучшее решение для количественных переменных."
   ]
  },
  {
   "cell_type": "markdown",
   "id": "092385ee",
   "metadata": {
    "deletable": false,
    "id": "7ecf2b8e"
   },
   "source": [
    "Медианное значение более приближенно к реальным данным, т.к среднеарифтическое не всегда отражает реальную картину происходящего, особенно при слишком большой разнице в значениях. (например заемщиков с уровнем дохода\n",
    "более 1 000 001 всего 25 человека ,а с доходом 50 001 до 200 000 - 15 921 человек)"
   ]
  },
  {
   "cell_type": "markdown",
   "id": "ffd3df92",
   "metadata": {},
   "source": [
    "# Общий вывод по проекту"
   ]
  },
  {
   "cell_type": "markdown",
   "id": "a22b8e53",
   "metadata": {
    "deletable": false,
    "editable": false,
    "id": "6db5255a"
   },
   "source": [
    "### Шаг 4: общий вывод."
   ]
  },
  {
   "cell_type": "markdown",
   "id": "9a68a5db",
   "metadata": {
    "deletable": false,
    "id": "bad65432"
   },
   "source": [
    "Целью данного проекта было проанализировать и найти взаимосвязь(выявить закономерность) между несколькими факторами. \n",
    "\n",
    "```1) Есть ли зависимость между количеством детей и возвратом кредита в срок?```\n",
    "\n",
    "На основе полученных данных можно сделать вывод, что наиболее благонадежными заемщиками для банка будут клиенты без детей (самая многочисленная группа из всех клиентов банка)\n",
    "\n",
    "Логично предположить, что наличие детей увеличивает финансовую нагрузку на заемщика (не зря банки при выдаче кредита учитывают количество 'иждивенцев' у потенциального кредитополучателя). Данный факт подкрепляется цифрами.\n",
    "\n",
    "Процент клиентов с задолженностью:\n",
    "\n",
    "1) без детей - 7, 54 %\n",
    "\n",
    "2) с 1 ребёнком - 9,23 %\n",
    "\n",
    "3) с 2 детьми - 9,45 %\n",
    "\n",
    "\n",
    "\n",
    "\n",
    "```2) Есть ли зависимость между семейным положением и возвратом кредита в срок?```\n",
    "\n",
    "Анализ данных позволил выявить закономерность, что категория клиентов с официально зарегистрированным браком имеет меньший процент с задолженностью по кредиту, нежели другие категории клиентов. Также клиенты могут зачастую быть созаемщиками, что будет являться для банка дополнительной страховкой в случае прекращения платежей по кредиту. \n",
    "\n",
    "Данные факты подкреплены следующими значениями (процент клиентов с просроченной задолженностью по кредиту):\n",
    "\n",
    "1) женат / замужем 7.56 % (Наиболее многочисленная группа)\n",
    "2) гражданский брак 9.31 %\n",
    "3) не женат / не замужем 9.76 %\n",
    "\n",
    "\n",
    "```3) Есть ли зависимость между уровнем дохода и возвратом кредита в срок?```\n",
    "\n",
    "В данном проекте конкретную взаимосвязь установить не удалось. \n",
    "Рекомендуется пересмотреть подход к определению категории клиентов по уровню дохода, а именно:\n",
    "\n",
    "Группа B (5014 человек) - слишком большой 'разбег' в доходах (от 200 001 до 1 000 000). Возможно, имеет смысл произвести сегментацию (например, от 200 000 до 500 000 и от 500 001 до 1 000 000). \n",
    "\n",
    "Также стоит обратить внимание на самую многочисленную группу С (15 921 человек), у которых уровень дохода от 50 001 до 200 000.\n",
    "Возможно, если пересмотреть градацию по доходу клиентов, то 'картина' будет совсем иной, например: от 50 001 до 100 000 \n",
    "и от 100 001 до 200 000). \n",
    "\n",
    "На основе полученных данных мы видим, что рост уровня дохода не влияет положительным образом на возврат кредита в срок.\n",
    "\n",
    "\n",
    "```4) Как разные цели кредита влияют на его возврат в срок?```\n",
    "\n",
    "Наименьший процент задолженности у кредитов, связанных с недвижимостью. Вероятно, здесь имеют место 'кредиты под залог недвижимости'(большинство заемщиков боится потерять объект недвижимости и старается не допустить просрочки по кредиту).\n",
    "Также следует учитывать тот факт, что это наиболее многочисленная группа. \n",
    "\n",
    "Процент клиентов с 'просрочкой' кредитов в категории 'операции с недвижимостью' составляет 7.25 %. \n",
    "\n",
    "\n",
    "\n",
    "\n",
    "\n",
    "\n",
    "Учитывая ответы на предыдущие вопросы, можно попробовать составить картину наиболее надежного заемщика для банка.\n",
    "\n",
    "Это человек с официально зарегистрированным браком, без детей, цель кредита - приобретение недвижимости. \n",
    "\n",
    "\n",
    "Также банку стоит более тщательно проверять лиц, подающих заявку на кредит, при наличии следующих критериев: официально незарегистрированный брак, наличие детей, цель кредита, отличная от операций с недвижимостью. "
   ]
  }
 ],
 "metadata": {
  "ExecuteTimeLog": [
   {
    "duration": 461,
    "start_time": "2022-08-29T14:47:18.433Z"
   },
   {
    "duration": 42,
    "start_time": "2022-08-30T02:56:46.445Z"
   },
   {
    "duration": 3,
    "start_time": "2022-08-30T02:56:54.049Z"
   },
   {
    "duration": 6,
    "start_time": "2022-08-30T02:56:55.697Z"
   },
   {
    "duration": 7,
    "start_time": "2022-08-30T02:57:16.130Z"
   },
   {
    "duration": 6,
    "start_time": "2022-08-30T02:57:22.385Z"
   },
   {
    "duration": 5,
    "start_time": "2022-08-30T02:57:32.226Z"
   },
   {
    "duration": 6,
    "start_time": "2022-08-30T02:57:49.025Z"
   },
   {
    "duration": 7,
    "start_time": "2022-08-30T03:04:44.541Z"
   },
   {
    "duration": 673,
    "start_time": "2022-08-30T03:04:59.181Z"
   },
   {
    "duration": 41,
    "start_time": "2022-08-30T03:05:02.282Z"
   },
   {
    "duration": 51,
    "start_time": "2022-09-01T12:05:38.865Z"
   },
   {
    "duration": 5,
    "start_time": "2022-09-01T12:05:48.418Z"
   },
   {
    "duration": 523,
    "start_time": "2022-09-01T12:06:03.582Z"
   },
   {
    "duration": 26,
    "start_time": "2022-09-01T12:06:04.107Z"
   },
   {
    "duration": 14,
    "start_time": "2022-09-01T12:06:04.134Z"
   },
   {
    "duration": 9,
    "start_time": "2022-09-01T12:06:04.149Z"
   },
   {
    "duration": 51,
    "start_time": "2022-09-01T12:06:04.160Z"
   },
   {
    "duration": 3,
    "start_time": "2022-09-01T12:06:04.212Z"
   },
   {
    "duration": 11,
    "start_time": "2022-09-01T12:06:04.216Z"
   },
   {
    "duration": 4,
    "start_time": "2022-09-01T12:06:04.229Z"
   },
   {
    "duration": 8,
    "start_time": "2022-09-01T12:06:04.234Z"
   },
   {
    "duration": 4,
    "start_time": "2022-09-01T12:06:04.245Z"
   },
   {
    "duration": 58,
    "start_time": "2022-09-01T12:06:04.250Z"
   },
   {
    "duration": 8,
    "start_time": "2022-09-01T12:06:04.310Z"
   },
   {
    "duration": 5,
    "start_time": "2022-09-01T12:06:04.320Z"
   },
   {
    "duration": 11,
    "start_time": "2022-09-01T12:06:04.327Z"
   },
   {
    "duration": 18,
    "start_time": "2022-09-01T12:06:04.340Z"
   },
   {
    "duration": 15,
    "start_time": "2022-09-01T12:06:04.359Z"
   },
   {
    "duration": 3,
    "start_time": "2022-09-01T12:06:04.376Z"
   },
   {
    "duration": 36,
    "start_time": "2022-09-01T12:06:04.381Z"
   },
   {
    "duration": 8,
    "start_time": "2022-09-01T12:06:04.418Z"
   },
   {
    "duration": 3,
    "start_time": "2022-09-01T12:06:04.427Z"
   },
   {
    "duration": 11,
    "start_time": "2022-09-01T12:06:04.432Z"
   },
   {
    "duration": 248,
    "start_time": "2022-09-01T12:06:04.445Z"
   },
   {
    "duration": 0,
    "start_time": "2022-09-01T12:06:04.695Z"
   },
   {
    "duration": 0,
    "start_time": "2022-09-01T12:06:04.696Z"
   },
   {
    "duration": 0,
    "start_time": "2022-09-01T12:06:04.697Z"
   },
   {
    "duration": 15,
    "start_time": "2022-09-01T12:06:15.057Z"
   },
   {
    "duration": 14,
    "start_time": "2022-09-01T12:06:20.295Z"
   },
   {
    "duration": 10,
    "start_time": "2022-09-01T12:08:40.209Z"
   },
   {
    "duration": 4,
    "start_time": "2022-09-01T12:08:48.141Z"
   },
   {
    "duration": 8,
    "start_time": "2022-09-01T12:08:49.589Z"
   },
   {
    "duration": 8,
    "start_time": "2022-09-01T12:09:11.800Z"
   },
   {
    "duration": 4,
    "start_time": "2022-09-01T12:10:10.860Z"
   },
   {
    "duration": 4,
    "start_time": "2022-09-01T12:16:04.560Z"
   },
   {
    "duration": 4,
    "start_time": "2022-09-01T12:17:18.384Z"
   },
   {
    "duration": 18,
    "start_time": "2022-09-01T12:20:44.059Z"
   },
   {
    "duration": 5,
    "start_time": "2022-09-01T12:25:09.047Z"
   },
   {
    "duration": 59,
    "start_time": "2022-09-01T12:25:48.053Z"
   },
   {
    "duration": 5,
    "start_time": "2022-09-01T12:28:08.656Z"
   },
   {
    "duration": 8,
    "start_time": "2022-09-01T12:40:13.164Z"
   },
   {
    "duration": 14,
    "start_time": "2022-09-01T12:41:00.785Z"
   },
   {
    "duration": 15,
    "start_time": "2022-09-01T12:41:56.201Z"
   },
   {
    "duration": 4,
    "start_time": "2022-09-01T12:44:35.984Z"
   },
   {
    "duration": 97,
    "start_time": "2022-09-01T12:49:55.889Z"
   },
   {
    "duration": 5,
    "start_time": "2022-09-01T12:50:07.452Z"
   },
   {
    "duration": 10,
    "start_time": "2022-09-01T13:02:10.567Z"
   },
   {
    "duration": 12,
    "start_time": "2022-09-01T13:02:25.258Z"
   },
   {
    "duration": 20,
    "start_time": "2022-09-01T13:02:39.251Z"
   },
   {
    "duration": 18,
    "start_time": "2022-09-01T13:16:47.824Z"
   },
   {
    "duration": 17,
    "start_time": "2022-09-01T13:17:02.195Z"
   },
   {
    "duration": 14,
    "start_time": "2022-09-01T13:17:53.387Z"
   },
   {
    "duration": 14,
    "start_time": "2022-09-01T13:18:19.477Z"
   },
   {
    "duration": 14,
    "start_time": "2022-09-01T13:19:47.906Z"
   },
   {
    "duration": 16,
    "start_time": "2022-09-01T13:20:05.375Z"
   },
   {
    "duration": 14,
    "start_time": "2022-09-01T13:20:15.681Z"
   },
   {
    "duration": 7,
    "start_time": "2022-09-01T13:20:55.224Z"
   },
   {
    "duration": 7,
    "start_time": "2022-09-01T13:21:15.986Z"
   },
   {
    "duration": 13,
    "start_time": "2022-09-01T13:21:24.300Z"
   },
   {
    "duration": 15,
    "start_time": "2022-09-01T13:21:53.040Z"
   },
   {
    "duration": 82,
    "start_time": "2022-09-01T13:23:03.767Z"
   },
   {
    "duration": 70,
    "start_time": "2022-09-01T13:23:12.188Z"
   },
   {
    "duration": 26,
    "start_time": "2022-09-01T13:23:19.141Z"
   },
   {
    "duration": 166,
    "start_time": "2022-09-01T13:24:50.677Z"
   },
   {
    "duration": 13,
    "start_time": "2022-09-01T13:31:04.239Z"
   },
   {
    "duration": 20,
    "start_time": "2022-09-01T13:31:17.276Z"
   },
   {
    "duration": 16,
    "start_time": "2022-09-01T13:33:22.286Z"
   },
   {
    "duration": 151,
    "start_time": "2022-09-01T13:34:20.301Z"
   },
   {
    "duration": 5,
    "start_time": "2022-09-01T13:34:31.406Z"
   },
   {
    "duration": 5,
    "start_time": "2022-09-01T13:42:22.616Z"
   },
   {
    "duration": 29,
    "start_time": "2022-09-01T13:42:40.634Z"
   },
   {
    "duration": 3,
    "start_time": "2022-09-01T14:28:03.189Z"
   },
   {
    "duration": 8,
    "start_time": "2022-09-01T14:28:05.541Z"
   },
   {
    "duration": 9,
    "start_time": "2022-09-01T14:31:34.692Z"
   },
   {
    "duration": 10,
    "start_time": "2022-09-01T14:31:46.292Z"
   },
   {
    "duration": 20,
    "start_time": "2022-09-01T14:32:10.072Z"
   },
   {
    "duration": 88,
    "start_time": "2022-09-01T14:33:19.475Z"
   },
   {
    "duration": 21,
    "start_time": "2022-09-01T14:33:29.344Z"
   },
   {
    "duration": 26,
    "start_time": "2022-09-01T14:37:26.116Z"
   },
   {
    "duration": 7,
    "start_time": "2022-09-01T14:54:20.741Z"
   },
   {
    "duration": 17,
    "start_time": "2022-09-01T14:54:44.665Z"
   },
   {
    "duration": 411,
    "start_time": "2022-09-01T15:09:51.640Z"
   },
   {
    "duration": 559,
    "start_time": "2022-09-01T15:10:16.901Z"
   },
   {
    "duration": 315,
    "start_time": "2022-09-01T15:17:08.661Z"
   },
   {
    "duration": 464,
    "start_time": "2022-09-01T15:17:16.094Z"
   },
   {
    "duration": 21,
    "start_time": "2022-09-01T15:17:16.560Z"
   },
   {
    "duration": 14,
    "start_time": "2022-09-01T15:17:16.584Z"
   },
   {
    "duration": 8,
    "start_time": "2022-09-01T15:17:16.606Z"
   },
   {
    "duration": 31,
    "start_time": "2022-09-01T15:17:16.616Z"
   },
   {
    "duration": 4,
    "start_time": "2022-09-01T15:17:16.648Z"
   },
   {
    "duration": 9,
    "start_time": "2022-09-01T15:17:16.653Z"
   },
   {
    "duration": 5,
    "start_time": "2022-09-01T15:17:16.664Z"
   },
   {
    "duration": 9,
    "start_time": "2022-09-01T15:17:16.671Z"
   },
   {
    "duration": 5,
    "start_time": "2022-09-01T15:17:16.705Z"
   },
   {
    "duration": 31,
    "start_time": "2022-09-01T15:17:16.711Z"
   },
   {
    "duration": 8,
    "start_time": "2022-09-01T15:17:16.744Z"
   },
   {
    "duration": 3,
    "start_time": "2022-09-01T15:17:16.755Z"
   },
   {
    "duration": 10,
    "start_time": "2022-09-01T15:17:16.760Z"
   },
   {
    "duration": 40,
    "start_time": "2022-09-01T15:17:16.771Z"
   },
   {
    "duration": 16,
    "start_time": "2022-09-01T15:17:16.813Z"
   },
   {
    "duration": 4,
    "start_time": "2022-09-01T15:17:16.830Z"
   },
   {
    "duration": 13,
    "start_time": "2022-09-01T15:17:16.835Z"
   },
   {
    "duration": 5,
    "start_time": "2022-09-01T15:17:16.849Z"
   },
   {
    "duration": 5,
    "start_time": "2022-09-01T15:17:16.856Z"
   },
   {
    "duration": 11,
    "start_time": "2022-09-01T15:17:16.862Z"
   },
   {
    "duration": 39,
    "start_time": "2022-09-01T15:17:16.874Z"
   },
   {
    "duration": 338,
    "start_time": "2022-09-01T15:17:16.915Z"
   },
   {
    "duration": 0,
    "start_time": "2022-09-01T15:17:17.255Z"
   },
   {
    "duration": 0,
    "start_time": "2022-09-01T15:17:17.256Z"
   },
   {
    "duration": 0,
    "start_time": "2022-09-01T15:17:17.256Z"
   },
   {
    "duration": 0,
    "start_time": "2022-09-01T15:17:17.257Z"
   },
   {
    "duration": 357,
    "start_time": "2022-09-01T15:17:22.930Z"
   },
   {
    "duration": 334,
    "start_time": "2022-09-01T15:17:41.064Z"
   },
   {
    "duration": 415,
    "start_time": "2022-09-01T15:30:40.221Z"
   },
   {
    "duration": 881,
    "start_time": "2022-09-01T15:31:33.874Z"
   },
   {
    "duration": 930,
    "start_time": "2022-09-01T15:31:48.318Z"
   },
   {
    "duration": 331,
    "start_time": "2022-09-01T15:31:56.993Z"
   },
   {
    "duration": 346,
    "start_time": "2022-09-01T15:32:58.639Z"
   },
   {
    "duration": 380,
    "start_time": "2022-09-01T15:33:49.878Z"
   },
   {
    "duration": 8,
    "start_time": "2022-09-01T15:34:08.801Z"
   },
   {
    "duration": 1394,
    "start_time": "2022-09-01T15:34:30.218Z"
   },
   {
    "duration": 307,
    "start_time": "2022-09-01T15:34:43.939Z"
   },
   {
    "duration": 21,
    "start_time": "2022-09-01T15:35:03.797Z"
   },
   {
    "duration": 17,
    "start_time": "2022-09-01T15:35:48.791Z"
   },
   {
    "duration": 813,
    "start_time": "2022-09-01T15:36:01.425Z"
   },
   {
    "duration": 13,
    "start_time": "2022-09-01T15:36:08.412Z"
   },
   {
    "duration": 10,
    "start_time": "2022-09-01T15:36:20.300Z"
   },
   {
    "duration": 12,
    "start_time": "2022-09-01T15:36:56.737Z"
   },
   {
    "duration": 22,
    "start_time": "2022-09-01T15:37:17.496Z"
   },
   {
    "duration": 13,
    "start_time": "2022-09-01T15:39:05.925Z"
   },
   {
    "duration": 20,
    "start_time": "2022-09-01T15:39:37.167Z"
   },
   {
    "duration": 21,
    "start_time": "2022-09-01T15:39:53.986Z"
   },
   {
    "duration": 6,
    "start_time": "2022-09-01T15:40:09.100Z"
   },
   {
    "duration": 24,
    "start_time": "2022-09-01T15:40:40.504Z"
   },
   {
    "duration": 6,
    "start_time": "2022-09-01T15:40:47.281Z"
   },
   {
    "duration": 22,
    "start_time": "2022-09-01T15:41:10.058Z"
   },
   {
    "duration": 361,
    "start_time": "2022-09-01T15:41:36.109Z"
   },
   {
    "duration": 7,
    "start_time": "2022-09-01T15:47:01.711Z"
   },
   {
    "duration": 6,
    "start_time": "2022-09-01T15:47:19.518Z"
   },
   {
    "duration": 18,
    "start_time": "2022-09-01T15:49:35.415Z"
   },
   {
    "duration": 19,
    "start_time": "2022-09-01T15:50:00.460Z"
   },
   {
    "duration": 19,
    "start_time": "2022-09-01T15:52:21.810Z"
   },
   {
    "duration": 23,
    "start_time": "2022-09-01T15:52:42.542Z"
   },
   {
    "duration": 7,
    "start_time": "2022-09-01T15:56:24.517Z"
   },
   {
    "duration": 15,
    "start_time": "2022-09-01T16:02:28.856Z"
   },
   {
    "duration": 19,
    "start_time": "2022-09-01T16:02:45.578Z"
   },
   {
    "duration": 7,
    "start_time": "2022-09-01T16:03:31.750Z"
   },
   {
    "duration": 7,
    "start_time": "2022-09-01T16:03:57.432Z"
   },
   {
    "duration": 45,
    "start_time": "2022-09-02T13:19:50.144Z"
   },
   {
    "duration": 8,
    "start_time": "2022-09-02T13:19:59.852Z"
   },
   {
    "duration": 7,
    "start_time": "2022-09-02T13:20:22.469Z"
   },
   {
    "duration": 6,
    "start_time": "2022-09-02T13:32:04.194Z"
   },
   {
    "duration": 6,
    "start_time": "2022-09-02T13:32:54.002Z"
   },
   {
    "duration": 6,
    "start_time": "2022-09-02T13:33:12.506Z"
   },
   {
    "duration": 671,
    "start_time": "2022-09-02T13:33:18.746Z"
   },
   {
    "duration": 21,
    "start_time": "2022-09-02T13:33:19.419Z"
   },
   {
    "duration": 14,
    "start_time": "2022-09-02T13:33:19.441Z"
   },
   {
    "duration": 8,
    "start_time": "2022-09-02T13:33:19.457Z"
   },
   {
    "duration": 42,
    "start_time": "2022-09-02T13:33:19.467Z"
   },
   {
    "duration": 3,
    "start_time": "2022-09-02T13:33:19.511Z"
   },
   {
    "duration": 12,
    "start_time": "2022-09-02T13:33:19.516Z"
   },
   {
    "duration": 4,
    "start_time": "2022-09-02T13:33:19.530Z"
   },
   {
    "duration": 10,
    "start_time": "2022-09-02T13:33:19.535Z"
   },
   {
    "duration": 4,
    "start_time": "2022-09-02T13:33:19.547Z"
   },
   {
    "duration": 35,
    "start_time": "2022-09-02T13:33:19.552Z"
   },
   {
    "duration": 9,
    "start_time": "2022-09-02T13:33:19.609Z"
   },
   {
    "duration": 4,
    "start_time": "2022-09-02T13:33:19.620Z"
   },
   {
    "duration": 12,
    "start_time": "2022-09-02T13:33:19.625Z"
   },
   {
    "duration": 18,
    "start_time": "2022-09-02T13:33:19.639Z"
   },
   {
    "duration": 16,
    "start_time": "2022-09-02T13:33:19.659Z"
   },
   {
    "duration": 33,
    "start_time": "2022-09-02T13:33:19.677Z"
   },
   {
    "duration": 18,
    "start_time": "2022-09-02T13:33:19.711Z"
   },
   {
    "duration": 5,
    "start_time": "2022-09-02T13:33:19.730Z"
   },
   {
    "duration": 4,
    "start_time": "2022-09-02T13:33:19.737Z"
   },
   {
    "duration": 19,
    "start_time": "2022-09-02T13:33:19.742Z"
   },
   {
    "duration": 5,
    "start_time": "2022-09-02T13:33:19.763Z"
   },
   {
    "duration": 270,
    "start_time": "2022-09-02T13:33:19.770Z"
   },
   {
    "duration": 0,
    "start_time": "2022-09-02T13:33:20.041Z"
   },
   {
    "duration": 0,
    "start_time": "2022-09-02T13:33:20.043Z"
   },
   {
    "duration": 0,
    "start_time": "2022-09-02T13:33:20.044Z"
   },
   {
    "duration": 0,
    "start_time": "2022-09-02T13:33:20.045Z"
   },
   {
    "duration": 8,
    "start_time": "2022-09-02T13:33:46.006Z"
   },
   {
    "duration": 213,
    "start_time": "2022-09-02T13:33:51.407Z"
   },
   {
    "duration": 8,
    "start_time": "2022-09-02T13:34:25.170Z"
   },
   {
    "duration": 7,
    "start_time": "2022-09-02T13:34:29.025Z"
   },
   {
    "duration": 9,
    "start_time": "2022-09-02T13:34:45.171Z"
   },
   {
    "duration": 1245,
    "start_time": "2022-09-02T13:52:59.976Z"
   },
   {
    "duration": 8,
    "start_time": "2022-09-02T13:58:05.213Z"
   },
   {
    "duration": 8,
    "start_time": "2022-09-02T13:58:13.652Z"
   },
   {
    "duration": 44,
    "start_time": "2022-09-02T13:58:25.329Z"
   },
   {
    "duration": 8,
    "start_time": "2022-09-02T13:58:32.482Z"
   },
   {
    "duration": 796,
    "start_time": "2022-09-02T13:58:55.772Z"
   },
   {
    "duration": 18,
    "start_time": "2022-09-02T13:59:08.218Z"
   },
   {
    "duration": 12,
    "start_time": "2022-09-02T13:59:13.840Z"
   },
   {
    "duration": 112,
    "start_time": "2022-09-02T13:59:18.252Z"
   },
   {
    "duration": 10,
    "start_time": "2022-09-02T13:59:38.571Z"
   },
   {
    "duration": 12,
    "start_time": "2022-09-02T13:59:46.290Z"
   },
   {
    "duration": 114,
    "start_time": "2022-09-02T13:59:54.515Z"
   },
   {
    "duration": 9,
    "start_time": "2022-09-02T14:09:15.526Z"
   },
   {
    "duration": 353,
    "start_time": "2022-09-02T14:09:41.021Z"
   },
   {
    "duration": 21,
    "start_time": "2022-09-02T14:32:59.847Z"
   },
   {
    "duration": 10,
    "start_time": "2022-09-02T14:33:21.091Z"
   },
   {
    "duration": 18,
    "start_time": "2022-09-02T14:34:21.872Z"
   },
   {
    "duration": 331,
    "start_time": "2022-09-02T14:34:39.621Z"
   },
   {
    "duration": 50,
    "start_time": "2022-09-02T14:34:49.773Z"
   },
   {
    "duration": 371,
    "start_time": "2022-09-02T14:34:57.525Z"
   },
   {
    "duration": 9,
    "start_time": "2022-09-02T15:28:51.886Z"
   },
   {
    "duration": 9,
    "start_time": "2022-09-02T15:28:57.868Z"
   },
   {
    "duration": 9,
    "start_time": "2022-09-02T15:29:33.369Z"
   },
   {
    "duration": 9,
    "start_time": "2022-09-02T15:29:39.085Z"
   },
   {
    "duration": 8,
    "start_time": "2022-09-02T15:29:47.158Z"
   },
   {
    "duration": 312,
    "start_time": "2022-09-02T15:29:50.858Z"
   },
   {
    "duration": 10,
    "start_time": "2022-09-02T15:34:32.332Z"
   },
   {
    "duration": 365,
    "start_time": "2022-09-02T15:34:42.267Z"
   },
   {
    "duration": 10,
    "start_time": "2022-09-02T15:35:11.840Z"
   },
   {
    "duration": 11,
    "start_time": "2022-09-02T15:35:30.078Z"
   },
   {
    "duration": 10,
    "start_time": "2022-09-02T15:35:47.186Z"
   },
   {
    "duration": 300,
    "start_time": "2022-09-02T15:37:14.577Z"
   },
   {
    "duration": 321,
    "start_time": "2022-09-02T15:43:09.308Z"
   },
   {
    "duration": 88,
    "start_time": "2022-09-02T15:43:58.618Z"
   },
   {
    "duration": 317,
    "start_time": "2022-09-02T15:50:38.192Z"
   },
   {
    "duration": 380,
    "start_time": "2022-09-02T15:50:47.088Z"
   },
   {
    "duration": 320,
    "start_time": "2022-09-02T15:52:50.890Z"
   },
   {
    "duration": 77,
    "start_time": "2022-09-02T16:00:33.478Z"
   },
   {
    "duration": 63,
    "start_time": "2022-09-02T16:00:50.853Z"
   },
   {
    "duration": 8,
    "start_time": "2022-09-02T16:00:56.806Z"
   },
   {
    "duration": 8,
    "start_time": "2022-09-02T16:01:49.859Z"
   },
   {
    "duration": 326,
    "start_time": "2022-09-02T16:04:07.545Z"
   },
   {
    "duration": 4,
    "start_time": "2022-09-02T16:06:23.701Z"
   },
   {
    "duration": 8,
    "start_time": "2022-09-02T16:06:26.474Z"
   },
   {
    "duration": 6,
    "start_time": "2022-09-02T16:06:30.839Z"
   },
   {
    "duration": 258,
    "start_time": "2022-09-02T16:06:35.444Z"
   },
   {
    "duration": 1486,
    "start_time": "2022-09-03T06:32:50.248Z"
   },
   {
    "duration": 552,
    "start_time": "2022-09-03T06:33:09.596Z"
   },
   {
    "duration": 25,
    "start_time": "2022-09-03T06:33:10.150Z"
   },
   {
    "duration": 23,
    "start_time": "2022-09-03T06:33:10.177Z"
   },
   {
    "duration": 11,
    "start_time": "2022-09-03T06:33:10.202Z"
   },
   {
    "duration": 36,
    "start_time": "2022-09-03T06:33:10.215Z"
   },
   {
    "duration": 5,
    "start_time": "2022-09-03T06:33:10.253Z"
   },
   {
    "duration": 39,
    "start_time": "2022-09-03T06:33:10.259Z"
   },
   {
    "duration": 7,
    "start_time": "2022-09-03T06:33:10.299Z"
   },
   {
    "duration": 13,
    "start_time": "2022-09-03T06:33:10.308Z"
   },
   {
    "duration": 6,
    "start_time": "2022-09-03T06:33:10.324Z"
   },
   {
    "duration": 61,
    "start_time": "2022-09-03T06:33:10.331Z"
   },
   {
    "duration": 12,
    "start_time": "2022-09-03T06:33:10.394Z"
   },
   {
    "duration": 4,
    "start_time": "2022-09-03T06:33:10.409Z"
   },
   {
    "duration": 15,
    "start_time": "2022-09-03T06:33:10.415Z"
   },
   {
    "duration": 27,
    "start_time": "2022-09-03T06:33:10.432Z"
   },
   {
    "duration": 46,
    "start_time": "2022-09-03T06:33:10.460Z"
   },
   {
    "duration": 4,
    "start_time": "2022-09-03T06:33:10.508Z"
   },
   {
    "duration": 15,
    "start_time": "2022-09-03T06:33:10.514Z"
   },
   {
    "duration": 7,
    "start_time": "2022-09-03T06:33:10.531Z"
   },
   {
    "duration": 8,
    "start_time": "2022-09-03T06:33:10.539Z"
   },
   {
    "duration": 34,
    "start_time": "2022-09-03T06:33:10.549Z"
   },
   {
    "duration": 10,
    "start_time": "2022-09-03T06:33:10.585Z"
   },
   {
    "duration": 435,
    "start_time": "2022-09-03T06:33:10.597Z"
   },
   {
    "duration": 0,
    "start_time": "2022-09-03T06:33:11.033Z"
   },
   {
    "duration": 0,
    "start_time": "2022-09-03T06:33:11.034Z"
   },
   {
    "duration": 0,
    "start_time": "2022-09-03T06:33:11.036Z"
   },
   {
    "duration": 0,
    "start_time": "2022-09-03T06:33:11.037Z"
   },
   {
    "duration": 0,
    "start_time": "2022-09-03T06:33:11.038Z"
   },
   {
    "duration": 9,
    "start_time": "2022-09-03T06:33:13.989Z"
   },
   {
    "duration": 1137,
    "start_time": "2022-09-03T06:33:24.293Z"
   },
   {
    "duration": 10,
    "start_time": "2022-09-03T06:33:51.018Z"
   },
   {
    "duration": 20,
    "start_time": "2022-09-03T06:35:19.057Z"
   },
   {
    "duration": 7,
    "start_time": "2022-09-03T06:36:27.439Z"
   },
   {
    "duration": 81,
    "start_time": "2022-09-03T06:37:15.594Z"
   },
   {
    "duration": 11,
    "start_time": "2022-09-03T06:37:23.753Z"
   },
   {
    "duration": 17,
    "start_time": "2022-09-03T06:37:41.847Z"
   },
   {
    "duration": 347,
    "start_time": "2022-09-03T06:38:53.840Z"
   },
   {
    "duration": 49,
    "start_time": "2022-09-03T06:50:04.389Z"
   },
   {
    "duration": 27,
    "start_time": "2022-09-03T06:50:17.237Z"
   },
   {
    "duration": 50,
    "start_time": "2022-09-03T06:56:00.295Z"
   },
   {
    "duration": 21,
    "start_time": "2022-09-03T06:56:12.184Z"
   },
   {
    "duration": 33,
    "start_time": "2022-09-03T06:59:01.316Z"
   },
   {
    "duration": 25,
    "start_time": "2022-09-03T07:02:47.524Z"
   },
   {
    "duration": 16,
    "start_time": "2022-09-03T07:12:56.223Z"
   },
   {
    "duration": 19,
    "start_time": "2022-09-03T07:13:20.058Z"
   },
   {
    "duration": 16,
    "start_time": "2022-09-03T07:19:08.443Z"
   },
   {
    "duration": 32,
    "start_time": "2022-09-03T07:21:03.834Z"
   },
   {
    "duration": 21,
    "start_time": "2022-09-03T07:21:06.975Z"
   },
   {
    "duration": 55,
    "start_time": "2022-09-03T07:21:23.728Z"
   },
   {
    "duration": 22,
    "start_time": "2022-09-03T07:25:35.890Z"
   },
   {
    "duration": 80,
    "start_time": "2022-09-03T07:33:10.961Z"
   },
   {
    "duration": 21,
    "start_time": "2022-09-03T07:33:31.475Z"
   },
   {
    "duration": 34,
    "start_time": "2022-09-03T07:34:26.734Z"
   },
   {
    "duration": 387,
    "start_time": "2022-09-03T07:46:19.966Z"
   },
   {
    "duration": 189,
    "start_time": "2022-09-03T07:54:20.540Z"
   },
   {
    "duration": 223,
    "start_time": "2022-09-03T07:54:31.944Z"
   },
   {
    "duration": 346,
    "start_time": "2022-09-03T07:54:42.133Z"
   },
   {
    "duration": 15,
    "start_time": "2022-09-03T08:26:05.234Z"
   },
   {
    "duration": 378,
    "start_time": "2022-09-03T08:26:30.592Z"
   },
   {
    "duration": 455,
    "start_time": "2022-09-03T08:32:41.404Z"
   },
   {
    "duration": 464,
    "start_time": "2022-09-03T08:32:59.349Z"
   },
   {
    "duration": 417,
    "start_time": "2022-09-03T08:33:06.168Z"
   },
   {
    "duration": 382,
    "start_time": "2022-09-03T08:33:13.322Z"
   },
   {
    "duration": 495,
    "start_time": "2022-09-03T08:33:21.941Z"
   },
   {
    "duration": 525,
    "start_time": "2022-09-03T08:33:27.854Z"
   },
   {
    "duration": 459,
    "start_time": "2022-09-03T08:33:34.147Z"
   },
   {
    "duration": 423,
    "start_time": "2022-09-03T09:04:19.713Z"
   },
   {
    "duration": 33,
    "start_time": "2022-09-03T09:05:05.519Z"
   },
   {
    "duration": 400,
    "start_time": "2022-09-03T09:10:37.143Z"
   },
   {
    "duration": 391,
    "start_time": "2022-09-03T09:10:43.124Z"
   },
   {
    "duration": 383,
    "start_time": "2022-09-03T09:10:52.244Z"
   },
   {
    "duration": 441,
    "start_time": "2022-09-03T09:10:59.065Z"
   },
   {
    "duration": 398,
    "start_time": "2022-09-03T09:11:22.425Z"
   },
   {
    "duration": 420,
    "start_time": "2022-09-03T09:11:27.125Z"
   },
   {
    "duration": 409,
    "start_time": "2022-09-03T09:11:33.838Z"
   },
   {
    "duration": 500,
    "start_time": "2022-09-03T09:13:48.070Z"
   },
   {
    "duration": 370,
    "start_time": "2022-09-03T09:14:03.680Z"
   },
   {
    "duration": 341,
    "start_time": "2022-09-03T09:14:30.141Z"
   },
   {
    "duration": 325,
    "start_time": "2022-09-03T09:14:52.952Z"
   },
   {
    "duration": 348,
    "start_time": "2022-09-03T09:15:00.217Z"
   },
   {
    "duration": 383,
    "start_time": "2022-09-03T09:22:58.647Z"
   },
   {
    "duration": 400,
    "start_time": "2022-09-03T09:23:15.623Z"
   },
   {
    "duration": 358,
    "start_time": "2022-09-03T09:23:23.379Z"
   },
   {
    "duration": 372,
    "start_time": "2022-09-03T09:23:31.077Z"
   },
   {
    "duration": 370,
    "start_time": "2022-09-03T09:23:38.841Z"
   },
   {
    "duration": 355,
    "start_time": "2022-09-03T09:23:45.298Z"
   },
   {
    "duration": 361,
    "start_time": "2022-09-03T09:24:08.161Z"
   },
   {
    "duration": 404,
    "start_time": "2022-09-03T09:24:18.699Z"
   },
   {
    "duration": 21,
    "start_time": "2022-09-03T09:28:59.555Z"
   },
   {
    "duration": 511,
    "start_time": "2022-09-03T09:33:37.897Z"
   },
   {
    "duration": 408,
    "start_time": "2022-09-03T09:33:45.296Z"
   },
   {
    "duration": 394,
    "start_time": "2022-09-03T09:33:55.298Z"
   },
   {
    "duration": 604,
    "start_time": "2022-09-03T09:34:04.801Z"
   },
   {
    "duration": 440,
    "start_time": "2022-09-03T09:34:19.055Z"
   },
   {
    "duration": 18,
    "start_time": "2022-09-03T10:32:23.322Z"
   },
   {
    "duration": 12,
    "start_time": "2022-09-03T10:34:16.308Z"
   },
   {
    "duration": 11,
    "start_time": "2022-09-03T11:01:50.281Z"
   },
   {
    "duration": 392,
    "start_time": "2022-09-03T11:03:09.002Z"
   },
   {
    "duration": 398,
    "start_time": "2022-09-03T11:03:18.709Z"
   },
   {
    "duration": 380,
    "start_time": "2022-09-03T11:05:52.885Z"
   },
   {
    "duration": 442,
    "start_time": "2022-09-03T12:33:25.006Z"
   },
   {
    "duration": 35,
    "start_time": "2022-09-03T12:33:25.450Z"
   },
   {
    "duration": 17,
    "start_time": "2022-09-03T12:33:25.488Z"
   },
   {
    "duration": 10,
    "start_time": "2022-09-03T12:33:25.507Z"
   },
   {
    "duration": 39,
    "start_time": "2022-09-03T12:33:25.518Z"
   },
   {
    "duration": 13,
    "start_time": "2022-09-03T12:33:25.559Z"
   },
   {
    "duration": 19,
    "start_time": "2022-09-03T12:33:25.573Z"
   },
   {
    "duration": 7,
    "start_time": "2022-09-03T12:33:25.593Z"
   },
   {
    "duration": 10,
    "start_time": "2022-09-03T12:33:25.602Z"
   },
   {
    "duration": 4,
    "start_time": "2022-09-03T12:33:25.615Z"
   },
   {
    "duration": 48,
    "start_time": "2022-09-03T12:33:25.621Z"
   },
   {
    "duration": 14,
    "start_time": "2022-09-03T12:33:25.672Z"
   },
   {
    "duration": 7,
    "start_time": "2022-09-03T12:33:25.688Z"
   },
   {
    "duration": 12,
    "start_time": "2022-09-03T12:33:25.697Z"
   },
   {
    "duration": 24,
    "start_time": "2022-09-03T12:33:25.711Z"
   },
   {
    "duration": 16,
    "start_time": "2022-09-03T12:33:25.737Z"
   },
   {
    "duration": 12,
    "start_time": "2022-09-03T12:33:25.769Z"
   },
   {
    "duration": 14,
    "start_time": "2022-09-03T12:33:25.785Z"
   },
   {
    "duration": 9,
    "start_time": "2022-09-03T12:33:25.800Z"
   },
   {
    "duration": 4,
    "start_time": "2022-09-03T12:33:25.811Z"
   },
   {
    "duration": 10,
    "start_time": "2022-09-03T12:33:25.817Z"
   },
   {
    "duration": 11,
    "start_time": "2022-09-03T12:33:25.828Z"
   },
   {
    "duration": 146,
    "start_time": "2022-09-03T12:33:25.840Z"
   },
   {
    "duration": 0,
    "start_time": "2022-09-03T12:33:25.988Z"
   },
   {
    "duration": 0,
    "start_time": "2022-09-03T12:33:25.990Z"
   },
   {
    "duration": 0,
    "start_time": "2022-09-03T12:33:25.991Z"
   },
   {
    "duration": 0,
    "start_time": "2022-09-03T12:33:25.992Z"
   },
   {
    "duration": 0,
    "start_time": "2022-09-03T12:33:25.993Z"
   },
   {
    "duration": 0,
    "start_time": "2022-09-03T12:33:25.994Z"
   },
   {
    "duration": 0,
    "start_time": "2022-09-03T12:33:25.996Z"
   },
   {
    "duration": 1,
    "start_time": "2022-09-03T12:33:25.996Z"
   },
   {
    "duration": 422,
    "start_time": "2022-09-03T12:34:29.527Z"
   },
   {
    "duration": 30,
    "start_time": "2022-09-03T12:34:29.951Z"
   },
   {
    "duration": 14,
    "start_time": "2022-09-03T12:34:29.983Z"
   },
   {
    "duration": 9,
    "start_time": "2022-09-03T12:34:29.999Z"
   },
   {
    "duration": 36,
    "start_time": "2022-09-03T12:34:30.009Z"
   },
   {
    "duration": 3,
    "start_time": "2022-09-03T12:34:30.047Z"
   },
   {
    "duration": 11,
    "start_time": "2022-09-03T12:34:30.072Z"
   },
   {
    "duration": 11,
    "start_time": "2022-09-03T12:34:30.085Z"
   },
   {
    "duration": 15,
    "start_time": "2022-09-03T12:34:30.097Z"
   },
   {
    "duration": 4,
    "start_time": "2022-09-03T12:34:30.115Z"
   },
   {
    "duration": 55,
    "start_time": "2022-09-03T12:34:30.121Z"
   },
   {
    "duration": 10,
    "start_time": "2022-09-03T12:34:30.181Z"
   },
   {
    "duration": 6,
    "start_time": "2022-09-03T12:34:30.193Z"
   },
   {
    "duration": 12,
    "start_time": "2022-09-03T12:34:30.200Z"
   },
   {
    "duration": 24,
    "start_time": "2022-09-03T12:34:30.213Z"
   },
   {
    "duration": 18,
    "start_time": "2022-09-03T12:34:30.239Z"
   },
   {
    "duration": 7,
    "start_time": "2022-09-03T12:34:30.272Z"
   },
   {
    "duration": 25,
    "start_time": "2022-09-03T12:34:30.281Z"
   },
   {
    "duration": 22,
    "start_time": "2022-09-03T12:34:30.307Z"
   },
   {
    "duration": 3,
    "start_time": "2022-09-03T12:34:30.331Z"
   },
   {
    "duration": 18,
    "start_time": "2022-09-03T12:34:30.335Z"
   },
   {
    "duration": 34,
    "start_time": "2022-09-03T12:34:30.355Z"
   },
   {
    "duration": 830,
    "start_time": "2022-09-03T12:34:30.391Z"
   },
   {
    "duration": 0,
    "start_time": "2022-09-03T12:34:31.223Z"
   },
   {
    "duration": 0,
    "start_time": "2022-09-03T12:34:31.224Z"
   },
   {
    "duration": 0,
    "start_time": "2022-09-03T12:34:31.226Z"
   },
   {
    "duration": 0,
    "start_time": "2022-09-03T12:34:31.227Z"
   },
   {
    "duration": 0,
    "start_time": "2022-09-03T12:34:31.228Z"
   },
   {
    "duration": 0,
    "start_time": "2022-09-03T12:34:31.230Z"
   },
   {
    "duration": 0,
    "start_time": "2022-09-03T12:34:31.231Z"
   },
   {
    "duration": 23,
    "start_time": "2022-09-03T12:34:54.161Z"
   },
   {
    "duration": 90,
    "start_time": "2022-09-03T12:34:56.239Z"
   },
   {
    "duration": 14,
    "start_time": "2022-09-03T12:35:02.224Z"
   },
   {
    "duration": 12,
    "start_time": "2022-09-03T12:35:03.382Z"
   },
   {
    "duration": 451,
    "start_time": "2022-09-03T12:35:12.645Z"
   },
   {
    "duration": 12,
    "start_time": "2022-09-03T12:35:15.952Z"
   },
   {
    "duration": 343,
    "start_time": "2022-09-03T12:35:17.660Z"
   },
   {
    "duration": 12,
    "start_time": "2022-09-03T12:35:20.532Z"
   },
   {
    "duration": 340,
    "start_time": "2022-09-03T12:35:22.082Z"
   },
   {
    "duration": 519,
    "start_time": "2022-09-03T12:35:36.197Z"
   },
   {
    "duration": 29,
    "start_time": "2022-09-03T12:35:36.719Z"
   },
   {
    "duration": 35,
    "start_time": "2022-09-03T12:35:36.750Z"
   },
   {
    "duration": 83,
    "start_time": "2022-09-03T12:35:36.789Z"
   },
   {
    "duration": 77,
    "start_time": "2022-09-03T12:35:36.875Z"
   },
   {
    "duration": 5,
    "start_time": "2022-09-03T12:35:36.955Z"
   },
   {
    "duration": 44,
    "start_time": "2022-09-03T12:35:36.963Z"
   },
   {
    "duration": 19,
    "start_time": "2022-09-03T12:35:37.010Z"
   },
   {
    "duration": 23,
    "start_time": "2022-09-03T12:35:37.031Z"
   },
   {
    "duration": 10,
    "start_time": "2022-09-03T12:35:37.056Z"
   },
   {
    "duration": 72,
    "start_time": "2022-09-03T12:35:37.068Z"
   },
   {
    "duration": 12,
    "start_time": "2022-09-03T12:35:37.143Z"
   },
   {
    "duration": 27,
    "start_time": "2022-09-03T12:35:37.157Z"
   },
   {
    "duration": 21,
    "start_time": "2022-09-03T12:35:37.192Z"
   },
   {
    "duration": 31,
    "start_time": "2022-09-03T12:35:37.215Z"
   },
   {
    "duration": 22,
    "start_time": "2022-09-03T12:35:37.248Z"
   },
   {
    "duration": 4,
    "start_time": "2022-09-03T12:35:37.272Z"
   },
   {
    "duration": 34,
    "start_time": "2022-09-03T12:35:37.287Z"
   },
   {
    "duration": 11,
    "start_time": "2022-09-03T12:35:37.324Z"
   },
   {
    "duration": 14,
    "start_time": "2022-09-03T12:35:37.337Z"
   },
   {
    "duration": 82,
    "start_time": "2022-09-03T12:35:37.353Z"
   },
   {
    "duration": 31,
    "start_time": "2022-09-03T12:35:37.437Z"
   },
   {
    "duration": 966,
    "start_time": "2022-09-03T12:35:37.470Z"
   },
   {
    "duration": 0,
    "start_time": "2022-09-03T12:35:38.438Z"
   },
   {
    "duration": 0,
    "start_time": "2022-09-03T12:35:38.440Z"
   },
   {
    "duration": 0,
    "start_time": "2022-09-03T12:35:38.441Z"
   },
   {
    "duration": 0,
    "start_time": "2022-09-03T12:35:38.442Z"
   },
   {
    "duration": 0,
    "start_time": "2022-09-03T12:35:38.442Z"
   },
   {
    "duration": 0,
    "start_time": "2022-09-03T12:35:38.443Z"
   },
   {
    "duration": 425,
    "start_time": "2022-09-03T12:35:55.258Z"
   },
   {
    "duration": 497,
    "start_time": "2022-09-03T12:36:02.090Z"
   },
   {
    "duration": 33,
    "start_time": "2022-09-03T12:36:02.589Z"
   },
   {
    "duration": 18,
    "start_time": "2022-09-03T12:36:02.624Z"
   },
   {
    "duration": 36,
    "start_time": "2022-09-03T12:36:02.644Z"
   },
   {
    "duration": 47,
    "start_time": "2022-09-03T12:36:02.687Z"
   },
   {
    "duration": 4,
    "start_time": "2022-09-03T12:36:02.736Z"
   },
   {
    "duration": 17,
    "start_time": "2022-09-03T12:36:02.742Z"
   },
   {
    "duration": 5,
    "start_time": "2022-09-03T12:36:02.760Z"
   },
   {
    "duration": 27,
    "start_time": "2022-09-03T12:36:02.766Z"
   },
   {
    "duration": 5,
    "start_time": "2022-09-03T12:36:02.797Z"
   },
   {
    "duration": 43,
    "start_time": "2022-09-03T12:36:02.803Z"
   },
   {
    "duration": 11,
    "start_time": "2022-09-03T12:36:02.848Z"
   },
   {
    "duration": 33,
    "start_time": "2022-09-03T12:36:02.861Z"
   },
   {
    "duration": 19,
    "start_time": "2022-09-03T12:36:02.896Z"
   },
   {
    "duration": 25,
    "start_time": "2022-09-03T12:36:02.917Z"
   },
   {
    "duration": 17,
    "start_time": "2022-09-03T12:36:02.944Z"
   },
   {
    "duration": 9,
    "start_time": "2022-09-03T12:36:02.963Z"
   },
   {
    "duration": 26,
    "start_time": "2022-09-03T12:36:02.973Z"
   },
   {
    "duration": 9,
    "start_time": "2022-09-03T12:36:03.001Z"
   },
   {
    "duration": 4,
    "start_time": "2022-09-03T12:36:03.012Z"
   },
   {
    "duration": 10,
    "start_time": "2022-09-03T12:36:03.018Z"
   },
   {
    "duration": 10,
    "start_time": "2022-09-03T12:36:03.029Z"
   },
   {
    "duration": 1440,
    "start_time": "2022-09-03T12:36:03.040Z"
   },
   {
    "duration": 17,
    "start_time": "2022-09-03T12:36:04.482Z"
   },
   {
    "duration": 816,
    "start_time": "2022-09-03T12:36:04.500Z"
   },
   {
    "duration": 73,
    "start_time": "2022-09-03T12:36:05.317Z"
   },
   {
    "duration": 887,
    "start_time": "2022-09-03T12:36:05.391Z"
   },
   {
    "duration": 15,
    "start_time": "2022-09-03T12:36:06.282Z"
   },
   {
    "duration": 452,
    "start_time": "2022-09-03T12:36:06.299Z"
   },
   {
    "duration": 95,
    "start_time": "2022-09-04T14:54:23.147Z"
   },
   {
    "duration": 70,
    "start_time": "2022-09-04T15:00:06.291Z"
   },
   {
    "duration": 78,
    "start_time": "2022-09-04T15:00:10.293Z"
   },
   {
    "duration": 97,
    "start_time": "2022-09-04T15:16:45.759Z"
   },
   {
    "duration": 75,
    "start_time": "2022-09-04T15:18:37.008Z"
   },
   {
    "duration": 39,
    "start_time": "2022-09-04T15:18:46.763Z"
   },
   {
    "duration": 1237,
    "start_time": "2022-09-04T15:19:10.758Z"
   },
   {
    "duration": 113,
    "start_time": "2022-09-04T15:20:36.847Z"
   },
   {
    "duration": 108,
    "start_time": "2022-09-04T15:20:48.936Z"
   },
   {
    "duration": 439,
    "start_time": "2022-09-04T15:21:17.565Z"
   },
   {
    "duration": 20,
    "start_time": "2022-09-04T15:21:18.006Z"
   },
   {
    "duration": 14,
    "start_time": "2022-09-04T15:21:18.028Z"
   },
   {
    "duration": 9,
    "start_time": "2022-09-04T15:21:18.044Z"
   },
   {
    "duration": 56,
    "start_time": "2022-09-04T15:21:18.055Z"
   },
   {
    "duration": 4,
    "start_time": "2022-09-04T15:21:18.112Z"
   },
   {
    "duration": 14,
    "start_time": "2022-09-04T15:21:18.117Z"
   },
   {
    "duration": 4,
    "start_time": "2022-09-04T15:21:18.133Z"
   },
   {
    "duration": 9,
    "start_time": "2022-09-04T15:21:18.139Z"
   },
   {
    "duration": 5,
    "start_time": "2022-09-04T15:21:18.151Z"
   },
   {
    "duration": 49,
    "start_time": "2022-09-04T15:21:18.157Z"
   },
   {
    "duration": 8,
    "start_time": "2022-09-04T15:21:18.208Z"
   },
   {
    "duration": 8,
    "start_time": "2022-09-04T15:21:18.217Z"
   },
   {
    "duration": 13,
    "start_time": "2022-09-04T15:21:18.226Z"
   },
   {
    "duration": 20,
    "start_time": "2022-09-04T15:21:18.240Z"
   },
   {
    "duration": 14,
    "start_time": "2022-09-04T15:21:18.261Z"
   },
   {
    "duration": 4,
    "start_time": "2022-09-04T15:21:18.276Z"
   },
   {
    "duration": 26,
    "start_time": "2022-09-04T15:21:18.281Z"
   },
   {
    "duration": 5,
    "start_time": "2022-09-04T15:21:18.309Z"
   },
   {
    "duration": 8,
    "start_time": "2022-09-04T15:21:18.315Z"
   },
   {
    "duration": 10,
    "start_time": "2022-09-04T15:21:18.325Z"
   },
   {
    "duration": 10,
    "start_time": "2022-09-04T15:21:18.336Z"
   },
   {
    "duration": 1060,
    "start_time": "2022-09-04T15:21:18.347Z"
   },
   {
    "duration": 12,
    "start_time": "2022-09-04T15:21:19.409Z"
   },
   {
    "duration": 357,
    "start_time": "2022-09-04T15:21:19.422Z"
   },
   {
    "duration": 17,
    "start_time": "2022-09-04T15:21:19.781Z"
   },
   {
    "duration": 366,
    "start_time": "2022-09-04T15:21:19.807Z"
   },
   {
    "duration": 12,
    "start_time": "2022-09-04T15:21:20.175Z"
   },
   {
    "duration": 349,
    "start_time": "2022-09-04T15:21:20.189Z"
   },
   {
    "duration": 199,
    "start_time": "2022-09-04T15:21:20.539Z"
   },
   {
    "duration": 0,
    "start_time": "2022-09-04T15:21:20.740Z"
   },
   {
    "duration": 76,
    "start_time": "2022-09-04T15:22:16.407Z"
   },
   {
    "duration": 55,
    "start_time": "2022-09-04T15:22:54.397Z"
   },
   {
    "duration": 63,
    "start_time": "2022-09-04T15:37:26.631Z"
   },
   {
    "duration": 106,
    "start_time": "2022-09-04T15:37:48.311Z"
   },
   {
    "duration": 111,
    "start_time": "2022-09-04T15:37:58.567Z"
   },
   {
    "duration": 48,
    "start_time": "2022-09-04T15:38:09.565Z"
   },
   {
    "duration": 74,
    "start_time": "2022-09-04T15:38:22.193Z"
   },
   {
    "duration": 46,
    "start_time": "2022-09-04T15:38:27.604Z"
   },
   {
    "duration": 51,
    "start_time": "2022-09-04T15:38:29.885Z"
   },
   {
    "duration": 62,
    "start_time": "2022-09-04T15:38:36.781Z"
   },
   {
    "duration": 113,
    "start_time": "2022-09-04T15:39:51.959Z"
   },
   {
    "duration": 92,
    "start_time": "2022-09-04T15:40:00.852Z"
   },
   {
    "duration": 48,
    "start_time": "2022-09-04T15:40:12.916Z"
   },
   {
    "duration": 46,
    "start_time": "2022-09-04T15:40:23.228Z"
   },
   {
    "duration": 71,
    "start_time": "2022-09-04T15:41:06.201Z"
   },
   {
    "duration": 46,
    "start_time": "2022-09-04T15:41:09.959Z"
   },
   {
    "duration": 46,
    "start_time": "2022-09-04T15:41:17.241Z"
   },
   {
    "duration": 48,
    "start_time": "2022-09-04T15:41:22.776Z"
   },
   {
    "duration": 55,
    "start_time": "2022-09-04T15:41:49.628Z"
   },
   {
    "duration": 56,
    "start_time": "2022-09-04T15:42:06.436Z"
   },
   {
    "duration": 49,
    "start_time": "2022-09-04T15:42:15.707Z"
   },
   {
    "duration": 141,
    "start_time": "2022-09-04T15:45:36.830Z"
   }
  ],
  "colab": {
   "name": "dpp_template_part2.ipynb",
   "provenance": []
  },
  "kernelspec": {
   "display_name": "Python 3 (ipykernel)",
   "language": "python",
   "name": "python3"
  },
  "language_info": {
   "codemirror_mode": {
    "name": "ipython",
    "version": 3
   },
   "file_extension": ".py",
   "mimetype": "text/x-python",
   "name": "python",
   "nbconvert_exporter": "python",
   "pygments_lexer": "ipython3",
   "version": "3.9.13"
  },
  "toc": {
   "base_numbering": 1,
   "nav_menu": {},
   "number_sections": true,
   "sideBar": true,
   "skip_h1_title": true,
   "title_cell": "Table of Contents",
   "title_sidebar": "Contents",
   "toc_cell": false,
   "toc_position": {},
   "toc_section_display": true,
   "toc_window_display": true
  }
 },
 "nbformat": 4,
 "nbformat_minor": 5
}
