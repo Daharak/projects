{
 "cells": [
  {
   "cell_type": "markdown",
   "metadata": {},
   "source": [
    "# Сборный проект"
   ]
  },
  {
   "cell_type": "markdown",
   "metadata": {},
   "source": [
    "Целью данного исследования является изучение продажи"
   ]
  },
  {
   "cell_type": "markdown",
   "metadata": {},
   "source": [
    "Импортируем библиотеки для начала работы."
   ]
  },
  {
   "cell_type": "code",
   "execution_count": 1,
   "metadata": {},
   "outputs": [],
   "source": [
    "import pandas as pd\n",
    "import seaborn as sns\n",
    "import matplotlib.pyplot as plt\n",
    "import numpy as np"
   ]
  },
  {
   "cell_type": "code",
   "execution_count": 2,
   "metadata": {},
   "outputs": [
    {
     "name": "stdout",
     "output_type": "stream",
     "text": [
      "<class 'pandas.core.frame.DataFrame'>\n",
      "RangeIndex: 16715 entries, 0 to 16714\n",
      "Data columns (total 11 columns):\n",
      " #   Column           Non-Null Count  Dtype  \n",
      "---  ------           --------------  -----  \n",
      " 0   Name             16713 non-null  object \n",
      " 1   Platform         16715 non-null  object \n",
      " 2   Year_of_Release  16446 non-null  float64\n",
      " 3   Genre            16713 non-null  object \n",
      " 4   NA_sales         16715 non-null  float64\n",
      " 5   EU_sales         16715 non-null  float64\n",
      " 6   JP_sales         16715 non-null  float64\n",
      " 7   Other_sales      16715 non-null  float64\n",
      " 8   Critic_Score     8137 non-null   float64\n",
      " 9   User_Score       10014 non-null  object \n",
      " 10  Rating           9949 non-null   object \n",
      "dtypes: float64(6), object(5)\n",
      "memory usage: 1.4+ MB\n"
     ]
    }
   ],
   "source": [
    "data = pd.read_csv('/datasets/games.csv')\n",
    "pd.set_option('display.max_columns', None)\n",
    "data.info()"
   ]
  },
  {
   "cell_type": "markdown",
   "metadata": {},
   "source": [
    "Сохраним в переменную old_data копию оригинала датасета."
   ]
  },
  {
   "cell_type": "code",
   "execution_count": 3,
   "metadata": {},
   "outputs": [],
   "source": [
    "old_data = data.copy()"
   ]
  },
  {
   "cell_type": "markdown",
   "metadata": {},
   "source": [
    "Выведем на экран первые пять строк датасета и изучим особенности данных."
   ]
  },
  {
   "cell_type": "code",
   "execution_count": 4,
   "metadata": {},
   "outputs": [
    {
     "data": {
      "text/html": [
       "<div>\n",
       "<style scoped>\n",
       "    .dataframe tbody tr th:only-of-type {\n",
       "        vertical-align: middle;\n",
       "    }\n",
       "\n",
       "    .dataframe tbody tr th {\n",
       "        vertical-align: top;\n",
       "    }\n",
       "\n",
       "    .dataframe thead th {\n",
       "        text-align: right;\n",
       "    }\n",
       "</style>\n",
       "<table border=\"1\" class=\"dataframe\">\n",
       "  <thead>\n",
       "    <tr style=\"text-align: right;\">\n",
       "      <th></th>\n",
       "      <th>Name</th>\n",
       "      <th>Platform</th>\n",
       "      <th>Year_of_Release</th>\n",
       "      <th>Genre</th>\n",
       "      <th>NA_sales</th>\n",
       "      <th>EU_sales</th>\n",
       "      <th>JP_sales</th>\n",
       "      <th>Other_sales</th>\n",
       "      <th>Critic_Score</th>\n",
       "      <th>User_Score</th>\n",
       "      <th>Rating</th>\n",
       "    </tr>\n",
       "  </thead>\n",
       "  <tbody>\n",
       "    <tr>\n",
       "      <th>0</th>\n",
       "      <td>Wii Sports</td>\n",
       "      <td>Wii</td>\n",
       "      <td>2006.0</td>\n",
       "      <td>Sports</td>\n",
       "      <td>41.36</td>\n",
       "      <td>28.96</td>\n",
       "      <td>3.77</td>\n",
       "      <td>8.45</td>\n",
       "      <td>76.0</td>\n",
       "      <td>8</td>\n",
       "      <td>E</td>\n",
       "    </tr>\n",
       "    <tr>\n",
       "      <th>1</th>\n",
       "      <td>Super Mario Bros.</td>\n",
       "      <td>NES</td>\n",
       "      <td>1985.0</td>\n",
       "      <td>Platform</td>\n",
       "      <td>29.08</td>\n",
       "      <td>3.58</td>\n",
       "      <td>6.81</td>\n",
       "      <td>0.77</td>\n",
       "      <td>NaN</td>\n",
       "      <td>NaN</td>\n",
       "      <td>NaN</td>\n",
       "    </tr>\n",
       "    <tr>\n",
       "      <th>2</th>\n",
       "      <td>Mario Kart Wii</td>\n",
       "      <td>Wii</td>\n",
       "      <td>2008.0</td>\n",
       "      <td>Racing</td>\n",
       "      <td>15.68</td>\n",
       "      <td>12.76</td>\n",
       "      <td>3.79</td>\n",
       "      <td>3.29</td>\n",
       "      <td>82.0</td>\n",
       "      <td>8.3</td>\n",
       "      <td>E</td>\n",
       "    </tr>\n",
       "    <tr>\n",
       "      <th>3</th>\n",
       "      <td>Wii Sports Resort</td>\n",
       "      <td>Wii</td>\n",
       "      <td>2009.0</td>\n",
       "      <td>Sports</td>\n",
       "      <td>15.61</td>\n",
       "      <td>10.93</td>\n",
       "      <td>3.28</td>\n",
       "      <td>2.95</td>\n",
       "      <td>80.0</td>\n",
       "      <td>8</td>\n",
       "      <td>E</td>\n",
       "    </tr>\n",
       "    <tr>\n",
       "      <th>4</th>\n",
       "      <td>Pokemon Red/Pokemon Blue</td>\n",
       "      <td>GB</td>\n",
       "      <td>1996.0</td>\n",
       "      <td>Role-Playing</td>\n",
       "      <td>11.27</td>\n",
       "      <td>8.89</td>\n",
       "      <td>10.22</td>\n",
       "      <td>1.00</td>\n",
       "      <td>NaN</td>\n",
       "      <td>NaN</td>\n",
       "      <td>NaN</td>\n",
       "    </tr>\n",
       "  </tbody>\n",
       "</table>\n",
       "</div>"
      ],
      "text/plain": [
       "                       Name Platform  Year_of_Release         Genre  NA_sales  \\\n",
       "0                Wii Sports      Wii           2006.0        Sports     41.36   \n",
       "1         Super Mario Bros.      NES           1985.0      Platform     29.08   \n",
       "2            Mario Kart Wii      Wii           2008.0        Racing     15.68   \n",
       "3         Wii Sports Resort      Wii           2009.0        Sports     15.61   \n",
       "4  Pokemon Red/Pokemon Blue       GB           1996.0  Role-Playing     11.27   \n",
       "\n",
       "   EU_sales  JP_sales  Other_sales  Critic_Score User_Score Rating  \n",
       "0     28.96      3.77         8.45          76.0          8      E  \n",
       "1      3.58      6.81         0.77           NaN        NaN    NaN  \n",
       "2     12.76      3.79         3.29          82.0        8.3      E  \n",
       "3     10.93      3.28         2.95          80.0          8      E  \n",
       "4      8.89     10.22         1.00           NaN        NaN    NaN  "
      ]
     },
     "metadata": {},
     "output_type": "display_data"
    }
   ],
   "source": [
    "display(data.head())"
   ]
  },
  {
   "cell_type": "markdown",
   "metadata": {},
   "source": [
    "Построим гистограммы для столбцов датасета методом .hist()"
   ]
  },
  {
   "cell_type": "code",
   "execution_count": 5,
   "metadata": {},
   "outputs": [
    {
     "data": {
      "image/png": "[encoded data removed]",
      "text/plain": [
       "<Figure size 1080x1440 with 6 Axes>"
      ]
     },
     "metadata": {
      "needs_background": "light"
     },
     "output_type": "display_data"
    }
   ],
   "source": [
    "data.hist(figsize=(15, 20));"
   ]
  },
  {
   "cell_type": "markdown",
   "metadata": {},
   "source": [
    "# Предообработка данных."
   ]
  },
  {
   "cell_type": "markdown",
   "metadata": {},
   "source": [
    "Выполним предообработку данных. Для начала приведем столбцы к нижнему регистру с помощью метода str.lower()."
   ]
  },
  {
   "cell_type": "code",
   "execution_count": 6,
   "metadata": {},
   "outputs": [],
   "source": [
    "data.columns = data.columns.str.lower()"
   ]
  },
  {
   "cell_type": "code",
   "execution_count": 7,
   "metadata": {},
   "outputs": [
    {
     "data": {
      "text/html": [
       "<div>\n",
       "<style scoped>\n",
       "    .dataframe tbody tr th:only-of-type {\n",
       "        vertical-align: middle;\n",
       "    }\n",
       "\n",
       "    .dataframe tbody tr th {\n",
       "        vertical-align: top;\n",
       "    }\n",
       "\n",
       "    .dataframe thead th {\n",
       "        text-align: right;\n",
       "    }\n",
       "</style>\n",
       "<table border=\"1\" class=\"dataframe\">\n",
       "  <thead>\n",
       "    <tr style=\"text-align: right;\">\n",
       "      <th></th>\n",
       "      <th>name</th>\n",
       "      <th>platform</th>\n",
       "      <th>year_of_release</th>\n",
       "      <th>genre</th>\n",
       "      <th>na_sales</th>\n",
       "      <th>eu_sales</th>\n",
       "      <th>jp_sales</th>\n",
       "      <th>other_sales</th>\n",
       "      <th>critic_score</th>\n",
       "      <th>user_score</th>\n",
       "      <th>rating</th>\n",
       "    </tr>\n",
       "  </thead>\n",
       "  <tbody>\n",
       "    <tr>\n",
       "      <th>0</th>\n",
       "      <td>Wii Sports</td>\n",
       "      <td>Wii</td>\n",
       "      <td>2006.0</td>\n",
       "      <td>Sports</td>\n",
       "      <td>41.36</td>\n",
       "      <td>28.96</td>\n",
       "      <td>3.77</td>\n",
       "      <td>8.45</td>\n",
       "      <td>76.0</td>\n",
       "      <td>8</td>\n",
       "      <td>E</td>\n",
       "    </tr>\n",
       "    <tr>\n",
       "      <th>1</th>\n",
       "      <td>Super Mario Bros.</td>\n",
       "      <td>NES</td>\n",
       "      <td>1985.0</td>\n",
       "      <td>Platform</td>\n",
       "      <td>29.08</td>\n",
       "      <td>3.58</td>\n",
       "      <td>6.81</td>\n",
       "      <td>0.77</td>\n",
       "      <td>NaN</td>\n",
       "      <td>NaN</td>\n",
       "      <td>NaN</td>\n",
       "    </tr>\n",
       "    <tr>\n",
       "      <th>2</th>\n",
       "      <td>Mario Kart Wii</td>\n",
       "      <td>Wii</td>\n",
       "      <td>2008.0</td>\n",
       "      <td>Racing</td>\n",
       "      <td>15.68</td>\n",
       "      <td>12.76</td>\n",
       "      <td>3.79</td>\n",
       "      <td>3.29</td>\n",
       "      <td>82.0</td>\n",
       "      <td>8.3</td>\n",
       "      <td>E</td>\n",
       "    </tr>\n",
       "    <tr>\n",
       "      <th>3</th>\n",
       "      <td>Wii Sports Resort</td>\n",
       "      <td>Wii</td>\n",
       "      <td>2009.0</td>\n",
       "      <td>Sports</td>\n",
       "      <td>15.61</td>\n",
       "      <td>10.93</td>\n",
       "      <td>3.28</td>\n",
       "      <td>2.95</td>\n",
       "      <td>80.0</td>\n",
       "      <td>8</td>\n",
       "      <td>E</td>\n",
       "    </tr>\n",
       "    <tr>\n",
       "      <th>4</th>\n",
       "      <td>Pokemon Red/Pokemon Blue</td>\n",
       "      <td>GB</td>\n",
       "      <td>1996.0</td>\n",
       "      <td>Role-Playing</td>\n",
       "      <td>11.27</td>\n",
       "      <td>8.89</td>\n",
       "      <td>10.22</td>\n",
       "      <td>1.00</td>\n",
       "      <td>NaN</td>\n",
       "      <td>NaN</td>\n",
       "      <td>NaN</td>\n",
       "    </tr>\n",
       "    <tr>\n",
       "      <th>...</th>\n",
       "      <td>...</td>\n",
       "      <td>...</td>\n",
       "      <td>...</td>\n",
       "      <td>...</td>\n",
       "      <td>...</td>\n",
       "      <td>...</td>\n",
       "      <td>...</td>\n",
       "      <td>...</td>\n",
       "      <td>...</td>\n",
       "      <td>...</td>\n",
       "      <td>...</td>\n",
       "    </tr>\n",
       "    <tr>\n",
       "      <th>95</th>\n",
       "      <td>Crash Bandicoot 2: Cortex Strikes Back</td>\n",
       "      <td>PS</td>\n",
       "      <td>1997.0</td>\n",
       "      <td>Platform</td>\n",
       "      <td>3.78</td>\n",
       "      <td>2.17</td>\n",
       "      <td>1.31</td>\n",
       "      <td>0.31</td>\n",
       "      <td>NaN</td>\n",
       "      <td>NaN</td>\n",
       "      <td>NaN</td>\n",
       "    </tr>\n",
       "    <tr>\n",
       "      <th>96</th>\n",
       "      <td>Super Smash Bros. for Wii U and 3DS</td>\n",
       "      <td>3DS</td>\n",
       "      <td>2014.0</td>\n",
       "      <td>Fighting</td>\n",
       "      <td>3.27</td>\n",
       "      <td>1.37</td>\n",
       "      <td>2.43</td>\n",
       "      <td>0.48</td>\n",
       "      <td>NaN</td>\n",
       "      <td>NaN</td>\n",
       "      <td>NaN</td>\n",
       "    </tr>\n",
       "    <tr>\n",
       "      <th>97</th>\n",
       "      <td>Super Mario Galaxy 2</td>\n",
       "      <td>Wii</td>\n",
       "      <td>2010.0</td>\n",
       "      <td>Platform</td>\n",
       "      <td>3.56</td>\n",
       "      <td>2.35</td>\n",
       "      <td>0.98</td>\n",
       "      <td>0.62</td>\n",
       "      <td>97.0</td>\n",
       "      <td>9.1</td>\n",
       "      <td>E</td>\n",
       "    </tr>\n",
       "    <tr>\n",
       "      <th>98</th>\n",
       "      <td>Super Mario Bros. 2</td>\n",
       "      <td>NES</td>\n",
       "      <td>1988.0</td>\n",
       "      <td>Platform</td>\n",
       "      <td>5.39</td>\n",
       "      <td>1.18</td>\n",
       "      <td>0.70</td>\n",
       "      <td>0.19</td>\n",
       "      <td>NaN</td>\n",
       "      <td>NaN</td>\n",
       "      <td>NaN</td>\n",
       "    </tr>\n",
       "    <tr>\n",
       "      <th>99</th>\n",
       "      <td>Call of Duty: Black Ops 3</td>\n",
       "      <td>XOne</td>\n",
       "      <td>2015.0</td>\n",
       "      <td>Shooter</td>\n",
       "      <td>4.59</td>\n",
       "      <td>2.11</td>\n",
       "      <td>0.01</td>\n",
       "      <td>0.68</td>\n",
       "      <td>NaN</td>\n",
       "      <td>NaN</td>\n",
       "      <td>NaN</td>\n",
       "    </tr>\n",
       "  </tbody>\n",
       "</table>\n",
       "<p>100 rows × 11 columns</p>\n",
       "</div>"
      ],
      "text/plain": [
       "                                      name platform  year_of_release  \\\n",
       "0                               Wii Sports      Wii           2006.0   \n",
       "1                        Super Mario Bros.      NES           1985.0   \n",
       "2                           Mario Kart Wii      Wii           2008.0   \n",
       "3                        Wii Sports Resort      Wii           2009.0   \n",
       "4                 Pokemon Red/Pokemon Blue       GB           1996.0   \n",
       "..                                     ...      ...              ...   \n",
       "95  Crash Bandicoot 2: Cortex Strikes Back       PS           1997.0   \n",
       "96     Super Smash Bros. for Wii U and 3DS      3DS           2014.0   \n",
       "97                    Super Mario Galaxy 2      Wii           2010.0   \n",
       "98                     Super Mario Bros. 2      NES           1988.0   \n",
       "99               Call of Duty: Black Ops 3     XOne           2015.0   \n",
       "\n",
       "           genre  na_sales  eu_sales  jp_sales  other_sales  critic_score  \\\n",
       "0         Sports     41.36     28.96      3.77         8.45          76.0   \n",
       "1       Platform     29.08      3.58      6.81         0.77           NaN   \n",
       "2         Racing     15.68     12.76      3.79         3.29          82.0   \n",
       "3         Sports     15.61     10.93      3.28         2.95          80.0   \n",
       "4   Role-Playing     11.27      8.89     10.22         1.00           NaN   \n",
       "..           ...       ...       ...       ...          ...           ...   \n",
       "95      Platform      3.78      2.17      1.31         0.31           NaN   \n",
       "96      Fighting      3.27      1.37      2.43         0.48           NaN   \n",
       "97      Platform      3.56      2.35      0.98         0.62          97.0   \n",
       "98      Platform      5.39      1.18      0.70         0.19           NaN   \n",
       "99       Shooter      4.59      2.11      0.01         0.68           NaN   \n",
       "\n",
       "   user_score rating  \n",
       "0           8      E  \n",
       "1         NaN    NaN  \n",
       "2         8.3      E  \n",
       "3           8      E  \n",
       "4         NaN    NaN  \n",
       "..        ...    ...  \n",
       "95        NaN    NaN  \n",
       "96        NaN    NaN  \n",
       "97        9.1      E  \n",
       "98        NaN    NaN  \n",
       "99        NaN    NaN  \n",
       "\n",
       "[100 rows x 11 columns]"
      ]
     },
     "metadata": {},
     "output_type": "display_data"
    }
   ],
   "source": [
    "display(data.head(100))"
   ]
  },
  {
   "cell_type": "markdown",
   "metadata": {},
   "source": [
    "Обработайте пропуски при необходимости:\n",
    "Объясните, почему заполнили пропуски определённым образом или почему не стали это делать;\n",
    "Опишите причины, которые могли привести к пропускам;\n",
    "Обратите внимание на аббревиатуру 'tbd' в столбце с оценкой пользователей. Отдельно разберите это значение и опишите, как его обработать;\n",
    "Посчитайте суммарные продажи во всех регионах и запишите их в отдельный столбец."
   ]
  },
  {
   "cell_type": "markdown",
   "metadata": {},
   "source": [
    "Преобразуем данные в столбце year_of_release в формат Int64. "
   ]
  },
  {
   "cell_type": "code",
   "execution_count": 8,
   "metadata": {},
   "outputs": [],
   "source": [
    "data['year_of_release'] = data['year_of_release'].astype('Int64')"
   ]
  },
  {
   "cell_type": "markdown",
   "metadata": {},
   "source": [
    "Воспользуемся методом duplicated().sum() и проверим присутствуют ли в датасете строки дубликаты."
   ]
  },
  {
   "cell_type": "code",
   "execution_count": 9,
   "metadata": {},
   "outputs": [
    {
     "data": {
      "text/plain": [
       "0"
      ]
     },
     "execution_count": 9,
     "metadata": {},
     "output_type": "execute_result"
    }
   ],
   "source": [
    "data.duplicated().sum()"
   ]
  },
  {
   "cell_type": "markdown",
   "metadata": {},
   "source": [
    "В датасете дубликаты не зафиксированы. Продолжаем обработку дальше."
   ]
  },
  {
   "cell_type": "markdown",
   "metadata": {},
   "source": [
    "Воспользуемся методом isna().sum() и определим количество пропусков в каждом из столбцов датасета. "
   ]
  },
  {
   "cell_type": "code",
   "execution_count": 10,
   "metadata": {},
   "outputs": [
    {
     "data": {
      "text/plain": [
       "name                  2\n",
       "platform              0\n",
       "year_of_release     269\n",
       "genre                 2\n",
       "na_sales              0\n",
       "eu_sales              0\n",
       "jp_sales              0\n",
       "other_sales           0\n",
       "critic_score       8578\n",
       "user_score         6701\n",
       "rating             6766\n",
       "dtype: int64"
      ]
     },
     "execution_count": 10,
     "metadata": {},
     "output_type": "execute_result"
    }
   ],
   "source": [
    "data.isna().sum()"
   ]
  },
  {
   "cell_type": "markdown",
   "metadata": {},
   "source": [
    "Видим,что в датасете в некоторых столбцах присутствуют пропущенные значения. \n",
    "Существуют различные причины появления пропусков в исходных данных.\n",
    "Человеческий фактор(неправильный ввод(ошибки), неправильная выгрузка данных).\n",
    "Также причинами появления пропусков в данных могут быть проблемы технического характера(падение серверов, сбой в работе ПО).\n",
    "Стоит помнить, что в нашем случае пропуски также могут иметь естественный характер. Например в столбце rating. Есть ряд игр, которым комиссия не провела процедуру присвоения рейтинга."
   ]
  },
  {
   "cell_type": "markdown",
   "metadata": {},
   "source": [
    "Далее изучим пропущенные значения в каждом столбце более детально и решим заполнять пропуски или нет.\n",
    "\n",
    "1) Количество пропусков в столбцах name и genre незначительное, пропуски не заполняем.\n",
    "\n",
    "2) Для стобца year_of_release количество пропусков равно 269. В данном столбце указан год выхода игры, заполнять данные пропуски средним/медианным значениями не стоит, так как на выходе можем получить недостоверные данные.\n",
    "\n",
    "3) Столбец critic_score отражает оценку поставленную критиками. Данный столбец можно заполнить.\n",
    "\n",
    "4) Столбец user_score отражает оценку поставленную пользователями. Данный столбец также можем заполнить.\n",
    "\n",
    "5) В столбце rating содержатся данные о возрастном ограничении конкретной игры. С пропусками в данном столбце стоит быть аккуратнее, можем заполнить пропущенные значения - 'unknown'. "
   ]
  },
  {
   "cell_type": "markdown",
   "metadata": {},
   "source": [
    "Перед заполнением пропусков воспользуемся методом describe() и проверим присутствуют ли в столбце critic_score аномальные значения."
   ]
  },
  {
   "cell_type": "code",
   "execution_count": 11,
   "metadata": {},
   "outputs": [
    {
     "data": {
      "text/plain": [
       "count    8137.000000\n",
       "mean       68.967679\n",
       "std        13.938165\n",
       "min        13.000000\n",
       "25%        60.000000\n",
       "50%        71.000000\n",
       "75%        79.000000\n",
       "max        98.000000\n",
       "Name: critic_score, dtype: float64"
      ]
     },
     "execution_count": 11,
     "metadata": {},
     "output_type": "execute_result"
    }
   ],
   "source": [
    "data['critic_score'].describe()"
   ]
  },
  {
   "cell_type": "markdown",
   "metadata": {},
   "source": [
    "Минимальный рейтинг - 13.00 , а максимальный 98.00. Данные значения вполне корректны, аномалий не выявленно."
   ]
  },
  {
   "cell_type": "markdown",
   "metadata": {},
   "source": [
    "Чтобы заполнить пропуски в столбце critic_score создадим функцию, которая будет присваивать медианное значение рейтинга пропущенному значению в зависимости от жанра игры."
   ]
  },
  {
   "cell_type": "code",
   "execution_count": 12,
   "metadata": {},
   "outputs": [
    {
     "data": {
      "text/plain": [
       "69.0    2340\n",
       "68.0    1698\n",
       "75.0    1399\n",
       "66.0    1183\n",
       "70.0    1133\n",
       "        ... \n",
       "29.0       3\n",
       "13.0       1\n",
       "17.0       1\n",
       "22.0       1\n",
       "21.0       1\n",
       "Name: critic_score, Length: 82, dtype: int64"
      ]
     },
     "execution_count": 12,
     "metadata": {},
     "output_type": "execute_result"
    }
   ],
   "source": [
    "for i in data['genre']:\n",
    "    critic_score_rate = data.loc[data['genre']== i]['critic_score'].median()\n",
    "    try:\n",
    "        data.loc[data['genre'] == i, 'critic_score'] = data.loc[data['genre'] == i]['critic_score'].fillna(critic_score_rate)\n",
    "    except:\n",
    "        pass\n",
    "data['critic_score'].value_counts()"
   ]
  },
  {
   "cell_type": "code",
   "execution_count": 13,
   "metadata": {},
   "outputs": [
    {
     "data": {
      "text/plain": [
       "count    16713.000000\n",
       "mean        69.675163\n",
       "std          9.969003\n",
       "min         13.000000\n",
       "25%         67.000000\n",
       "50%         70.000000\n",
       "75%         75.000000\n",
       "max         98.000000\n",
       "Name: critic_score, dtype: float64"
      ]
     },
     "execution_count": 13,
     "metadata": {},
     "output_type": "execute_result"
    }
   ],
   "source": [
    "data['critic_score'].describe()"
   ]
  },
  {
   "cell_type": "markdown",
   "metadata": {},
   "source": [
    "Приступим к заполнению пропусков в столбце user_score. Применим метод unique() и изучим все уникальные значения."
   ]
  },
  {
   "cell_type": "code",
   "execution_count": 14,
   "metadata": {},
   "outputs": [
    {
     "data": {
      "text/plain": [
       "array(['8', nan, '8.3', '8.5', '6.6', '8.4', '8.6', '7.7', '6.3', '7.4',\n",
       "       '8.2', '9', '7.9', '8.1', '8.7', '7.1', '3.4', '5.3', '4.8', '3.2',\n",
       "       '8.9', '6.4', '7.8', '7.5', '2.6', '7.2', '9.2', '7', '7.3', '4.3',\n",
       "       '7.6', '5.7', '5', '9.1', '6.5', 'tbd', '8.8', '6.9', '9.4', '6.8',\n",
       "       '6.1', '6.7', '5.4', '4', '4.9', '4.5', '9.3', '6.2', '4.2', '6',\n",
       "       '3.7', '4.1', '5.8', '5.6', '5.5', '4.4', '4.6', '5.9', '3.9',\n",
       "       '3.1', '2.9', '5.2', '3.3', '4.7', '5.1', '3.5', '2.5', '1.9', '3',\n",
       "       '2.7', '2.2', '2', '9.5', '2.1', '3.6', '2.8', '1.8', '3.8', '0',\n",
       "       '1.6', '9.6', '2.4', '1.7', '1.1', '0.3', '1.5', '0.7', '1.2',\n",
       "       '2.3', '0.5', '1.3', '0.2', '0.6', '1.4', '0.9', '1', '9.7'],\n",
       "      dtype=object)"
      ]
     },
     "execution_count": 14,
     "metadata": {},
     "output_type": "execute_result"
    }
   ],
   "source": [
    "data['user_score'].unique()"
   ]
  },
  {
   "cell_type": "markdown",
   "metadata": {},
   "source": [
    "В столбце присутствует значения TBD (to be determined = будет определено). Используется, если какая-то информация еще не определена или решение по вопросу не принято. Акроним служит для отметки неясностей или пропусков, которые надо заполнить, в информации требований. "
   ]
  },
  {
   "cell_type": "markdown",
   "metadata": {},
   "source": [
    "Заменим значения TBD на NaN с помощью метода str.replace"
   ]
  },
  {
   "cell_type": "code",
   "execution_count": 15,
   "metadata": {},
   "outputs": [],
   "source": [
    "data['user_score'] = data['user_score'].str.replace('tbd','NaN')"
   ]
  },
  {
   "cell_type": "markdown",
   "metadata": {},
   "source": [
    "Изменим тип столбца user_score c object на float64 с помощью метода to_numeric."
   ]
  },
  {
   "cell_type": "code",
   "execution_count": 16,
   "metadata": {},
   "outputs": [
    {
     "data": {
      "text/plain": [
       "0        8.0\n",
       "1        NaN\n",
       "2        8.3\n",
       "3        8.0\n",
       "4        NaN\n",
       "        ... \n",
       "16710    NaN\n",
       "16711    NaN\n",
       "16712    NaN\n",
       "16713    NaN\n",
       "16714    NaN\n",
       "Name: user_score, Length: 16715, dtype: float64"
      ]
     },
     "execution_count": 16,
     "metadata": {},
     "output_type": "execute_result"
    }
   ],
   "source": [
    "pd.to_numeric(data['user_score'], errors='coerce')"
   ]
  },
  {
   "cell_type": "markdown",
   "metadata": {},
   "source": [
    "Напишем функцию по аналогии со столбцом critic_score."
   ]
  },
  {
   "cell_type": "code",
   "execution_count": 17,
   "metadata": {},
   "outputs": [
    {
     "data": {
      "text/plain": [
       "7.4    2670\n",
       "NaN    2424\n",
       "7.6    1255\n",
       "7.8    1058\n",
       "7.1     862\n",
       "       ... \n",
       "0.6       2\n",
       "0.3       2\n",
       "2.3       2\n",
       "9.7       1\n",
       "0         1\n",
       "Name: user_score, Length: 102, dtype: int64"
      ]
     },
     "execution_count": 17,
     "metadata": {},
     "output_type": "execute_result"
    }
   ],
   "source": [
    "for i in data['genre']:\n",
    "    user_score_rate = data.loc[data['genre']== i]['user_score'].median()\n",
    "    try:\n",
    "        data.loc[data['genre'] == i, 'user_score'] = data.loc[data['genre'] == i]['user_score'].fillna(user_score_rate)\n",
    "    except:\n",
    "        pass\n",
    "data['user_score'].value_counts()"
   ]
  },
  {
   "cell_type": "markdown",
   "metadata": {},
   "source": [
    "Воспользуемся методом unique() и изучим значения в столбце rating."
   ]
  },
  {
   "cell_type": "code",
   "execution_count": 18,
   "metadata": {},
   "outputs": [
    {
     "data": {
      "text/plain": [
       "array(['E', nan, 'M', 'T', 'E10+', 'K-A', 'AO', 'EC', 'RP'], dtype=object)"
      ]
     },
     "execution_count": 18,
     "metadata": {},
     "output_type": "execute_result"
    }
   ],
   "source": [
    "data['rating'].unique()"
   ]
  },
  {
   "cell_type": "markdown",
   "metadata": {},
   "source": [
    "В столбце присутствуют пропущенные значения. Заполним пропуски методом fillna на значение 'unknown'."
   ]
  },
  {
   "cell_type": "code",
   "execution_count": 19,
   "metadata": {},
   "outputs": [],
   "source": [
    "data['rating'] = data['rating'].fillna('unknown')"
   ]
  },
  {
   "cell_type": "markdown",
   "metadata": {},
   "source": [
    "Воспользуемся методом isna().sum() и убедимся что выбранные нами пропущенные значения заполнены."
   ]
  },
  {
   "cell_type": "code",
   "execution_count": 20,
   "metadata": {},
   "outputs": [
    {
     "data": {
      "text/plain": [
       "name                 2\n",
       "platform             0\n",
       "year_of_release    269\n",
       "genre                2\n",
       "na_sales             0\n",
       "eu_sales             0\n",
       "jp_sales             0\n",
       "other_sales          0\n",
       "critic_score         2\n",
       "user_score           2\n",
       "rating               0\n",
       "dtype: int64"
      ]
     },
     "execution_count": 20,
     "metadata": {},
     "output_type": "execute_result"
    }
   ],
   "source": [
    "data.isna().sum()"
   ]
  },
  {
   "cell_type": "markdown",
   "metadata": {},
   "source": [
    "Воспользуемся методом shape и посмотрим были ли потеряны данные в результате предообработки."
   ]
  },
  {
   "cell_type": "code",
   "execution_count": 21,
   "metadata": {},
   "outputs": [
    {
     "data": {
      "text/plain": [
       "1.0"
      ]
     },
     "execution_count": 21,
     "metadata": {},
     "output_type": "execute_result"
    }
   ],
   "source": [
    "data.shape[0] / old_data.shape[0]"
   ]
  },
  {
   "cell_type": "markdown",
   "metadata": {},
   "source": [
    "Данные сохранены в полном объеме. "
   ]
  },
  {
   "cell_type": "markdown",
   "metadata": {},
   "source": [
    "Далее посчитаем суммарные продажи во всех регионах и запишем их в отдельный столбец (total_sales)"
   ]
  },
  {
   "cell_type": "code",
   "execution_count": 22,
   "metadata": {},
   "outputs": [
    {
     "data": {
      "text/html": [
       "<div>\n",
       "<style scoped>\n",
       "    .dataframe tbody tr th:only-of-type {\n",
       "        vertical-align: middle;\n",
       "    }\n",
       "\n",
       "    .dataframe tbody tr th {\n",
       "        vertical-align: top;\n",
       "    }\n",
       "\n",
       "    .dataframe thead th {\n",
       "        text-align: right;\n",
       "    }\n",
       "</style>\n",
       "<table border=\"1\" class=\"dataframe\">\n",
       "  <thead>\n",
       "    <tr style=\"text-align: right;\">\n",
       "      <th></th>\n",
       "      <th>name</th>\n",
       "      <th>platform</th>\n",
       "      <th>year_of_release</th>\n",
       "      <th>genre</th>\n",
       "      <th>na_sales</th>\n",
       "      <th>eu_sales</th>\n",
       "      <th>jp_sales</th>\n",
       "      <th>other_sales</th>\n",
       "      <th>critic_score</th>\n",
       "      <th>user_score</th>\n",
       "      <th>rating</th>\n",
       "    </tr>\n",
       "  </thead>\n",
       "  <tbody>\n",
       "    <tr>\n",
       "      <th>0</th>\n",
       "      <td>Wii Sports</td>\n",
       "      <td>Wii</td>\n",
       "      <td>2006</td>\n",
       "      <td>Sports</td>\n",
       "      <td>41.36</td>\n",
       "      <td>28.96</td>\n",
       "      <td>3.77</td>\n",
       "      <td>8.45</td>\n",
       "      <td>76.0</td>\n",
       "      <td>8</td>\n",
       "      <td>E</td>\n",
       "    </tr>\n",
       "    <tr>\n",
       "      <th>1</th>\n",
       "      <td>Super Mario Bros.</td>\n",
       "      <td>NES</td>\n",
       "      <td>1985</td>\n",
       "      <td>Platform</td>\n",
       "      <td>29.08</td>\n",
       "      <td>3.58</td>\n",
       "      <td>6.81</td>\n",
       "      <td>0.77</td>\n",
       "      <td>69.0</td>\n",
       "      <td>7.7</td>\n",
       "      <td>unknown</td>\n",
       "    </tr>\n",
       "    <tr>\n",
       "      <th>2</th>\n",
       "      <td>Mario Kart Wii</td>\n",
       "      <td>Wii</td>\n",
       "      <td>2008</td>\n",
       "      <td>Racing</td>\n",
       "      <td>15.68</td>\n",
       "      <td>12.76</td>\n",
       "      <td>3.79</td>\n",
       "      <td>3.29</td>\n",
       "      <td>82.0</td>\n",
       "      <td>8.3</td>\n",
       "      <td>E</td>\n",
       "    </tr>\n",
       "    <tr>\n",
       "      <th>3</th>\n",
       "      <td>Wii Sports Resort</td>\n",
       "      <td>Wii</td>\n",
       "      <td>2009</td>\n",
       "      <td>Sports</td>\n",
       "      <td>15.61</td>\n",
       "      <td>10.93</td>\n",
       "      <td>3.28</td>\n",
       "      <td>2.95</td>\n",
       "      <td>80.0</td>\n",
       "      <td>8</td>\n",
       "      <td>E</td>\n",
       "    </tr>\n",
       "    <tr>\n",
       "      <th>4</th>\n",
       "      <td>Pokemon Red/Pokemon Blue</td>\n",
       "      <td>GB</td>\n",
       "      <td>1996</td>\n",
       "      <td>Role-Playing</td>\n",
       "      <td>11.27</td>\n",
       "      <td>8.89</td>\n",
       "      <td>10.22</td>\n",
       "      <td>1.00</td>\n",
       "      <td>74.0</td>\n",
       "      <td>7.8</td>\n",
       "      <td>unknown</td>\n",
       "    </tr>\n",
       "  </tbody>\n",
       "</table>\n",
       "</div>"
      ],
      "text/plain": [
       "                       name platform  year_of_release         genre  na_sales  \\\n",
       "0                Wii Sports      Wii             2006        Sports     41.36   \n",
       "1         Super Mario Bros.      NES             1985      Platform     29.08   \n",
       "2            Mario Kart Wii      Wii             2008        Racing     15.68   \n",
       "3         Wii Sports Resort      Wii             2009        Sports     15.61   \n",
       "4  Pokemon Red/Pokemon Blue       GB             1996  Role-Playing     11.27   \n",
       "\n",
       "   eu_sales  jp_sales  other_sales  critic_score user_score   rating  \n",
       "0     28.96      3.77         8.45          76.0          8        E  \n",
       "1      3.58      6.81         0.77          69.0        7.7  unknown  \n",
       "2     12.76      3.79         3.29          82.0        8.3        E  \n",
       "3     10.93      3.28         2.95          80.0          8        E  \n",
       "4      8.89     10.22         1.00          74.0        7.8  unknown  "
      ]
     },
     "execution_count": 22,
     "metadata": {},
     "output_type": "execute_result"
    }
   ],
   "source": [
    "data.head(5)"
   ]
  },
  {
   "cell_type": "code",
   "execution_count": 23,
   "metadata": {},
   "outputs": [],
   "source": [
    "data['total_sales'] = data[['na_sales','eu_sales','jp_sales', 'other_sales']].sum(axis=1)"
   ]
  },
  {
   "cell_type": "markdown",
   "metadata": {},
   "source": [
    "# Исследовательский анализ данных."
   ]
  },
  {
   "cell_type": "markdown",
   "metadata": {},
   "source": [
    "Проведем исследовательский анализ данных. Начнем с анализа количества выпущенных игр в разные годы. Воспользуемся методом .groupby() и count() и подсчитаем количество игр по годам."
   ]
  },
  {
   "cell_type": "code",
   "execution_count": 24,
   "metadata": {},
   "outputs": [
    {
     "data": {
      "text/plain": [
       "year_of_release\n",
       "1980       9\n",
       "1981      46\n",
       "1982      36\n",
       "1983      17\n",
       "1984      14\n",
       "1985      14\n",
       "1986      21\n",
       "1987      16\n",
       "1988      15\n",
       "1989      17\n",
       "1990      16\n",
       "1991      41\n",
       "1992      43\n",
       "1993      62\n",
       "1994     121\n",
       "1995     219\n",
       "1996     263\n",
       "1997     289\n",
       "1998     379\n",
       "1999     338\n",
       "2000     350\n",
       "2001     482\n",
       "2002     829\n",
       "2003     775\n",
       "2004     762\n",
       "2005     939\n",
       "2006    1006\n",
       "2007    1197\n",
       "2008    1427\n",
       "2009    1426\n",
       "2010    1255\n",
       "2011    1136\n",
       "2012     653\n",
       "2013     544\n",
       "2014     581\n",
       "2015     606\n",
       "2016     502\n",
       "Name: year_of_release, dtype: int64"
      ]
     },
     "metadata": {},
     "output_type": "display_data"
    }
   ],
   "source": [
    "display(data.groupby('year_of_release')['year_of_release'].count())"
   ]
  },
  {
   "cell_type": "markdown",
   "metadata": {},
   "source": [
    "Построим гистограмму для столбца year_of_release."
   ]
  },
  {
   "cell_type": "code",
   "execution_count": 25,
   "metadata": {},
   "outputs": [
    {
     "data": {
      "image/png": "[encoded data removed]",
      "text/plain": [
       "<Figure size 504x504 with 1 Axes>"
      ]
     },
     "metadata": {
      "needs_background": "light"
     },
     "output_type": "display_data"
    }
   ],
   "source": [
    "data['year_of_release'].hist(figsize=(7, 7));"
   ]
  },
  {
   "cell_type": "markdown",
   "metadata": {},
   "source": [
    "Как видно на гистограмме индустрия разработки компьютерных игр начала ускоренный рост в конце 90х годов и достигла своего пика в 2010-2012. Далее произошел спад в два раза."
   ]
  },
  {
   "cell_type": "markdown",
   "metadata": {},
   "source": [
    "Попробуем определить топ 10 платформ и количество игр выпущенных на них в разные года. Для этого создадим переменную top_10_platforms куда запишем сводную таблицу. Отсортируем значения по убыванию. Далее напишем функцию, которая будет производить срез данных по платформе и сформирует сводную таблицу с годом выпуска и итоговыми продажами. Затем построим столбчатую диаграмму на основе получившейся таблицы. "
   ]
  },
  {
   "cell_type": "code",
   "execution_count": 26,
   "metadata": {},
   "outputs": [
    {
     "data": {
      "image/png": "[encoded data removed]",
      "text/plain": [
       "<Figure size 720x216 with 1 Axes>"
      ]
     },
     "metadata": {
      "needs_background": "light"
     },
     "output_type": "display_data"
    },
    {
     "data": {
      "image/png": "[encoded data removed]",
      "text/plain": [
       "<Figure size 720x216 with 1 Axes>"
      ]
     },
     "metadata": {
      "needs_background": "light"
     },
     "output_type": "display_data"
    },
    {
     "data": {
      "image/png": "[encoded data removed]",
      "text/plain": [
       "<Figure size 720x216 with 1 Axes>"
      ]
     },
     "metadata": {
      "needs_background": "light"
     },
     "output_type": "display_data"
    },
    {
     "data": {
      "image/png": "[encoded data removed]",
      "text/plain": [
       "<Figure size 720x216 with 1 Axes>"
      ]
     },
     "metadata": {
      "needs_background": "light"
     },
     "output_type": "display_data"
    },
    {
     "data": {
      "image/png": "[encoded data removed]",
      "text/plain": [
       "<Figure size 720x216 with 1 Axes>"
      ]
     },
     "metadata": {
      "needs_background": "light"
     },
     "output_type": "display_data"
    },
    {
     "data": {
      "image/png": "[encoded data removed]",
      "text/plain": [
       "<Figure size 720x216 with 1 Axes>"
      ]
     },
     "metadata": {
      "needs_background": "light"
     },
     "output_type": "display_data"
    },
    {
     "data": {
      "image/png": "[encoded data removed]",
      "text/plain": [
       "<Figure size 720x216 with 1 Axes>"
      ]
     },
     "metadata": {
      "needs_background": "light"
     },
     "output_type": "display_data"
    },
    {
     "data": {
      "image/png": "[encoded data removed]",
      "text/plain": [
       "<Figure size 720x216 with 1 Axes>"
      ]
     },
     "metadata": {
      "needs_background": "light"
     },
     "output_type": "display_data"
    },
    {
     "data": {
      "image/png": "[encoded data removed]",
      "text/plain": [
       "<Figure size 720x216 with 1 Axes>"
      ]
     },
     "metadata": {
      "needs_background": "light"
     },
     "output_type": "display_data"
    },
    {
     "data": {
      "image/png": "[encoded data removed]",
      "text/plain": [
       "<Figure size 720x216 with 1 Axes>"
      ]
     },
     "metadata": {
      "needs_background": "light"
     },
     "output_type": "display_data"
    }
   ],
   "source": [
    "top_10_platforms = data.pivot_table(index='platform', values='total_sales', aggfunc='sum')\n",
    "top_10_platforms.columns=['sum']\n",
    "top_10_platforms = top_10_platforms.sort_values('sum', ascending = False).head(10)\n",
    "top_10_platforms = top_10_platforms.reset_index() \n",
    "for i in top_10_platforms['platform']:\n",
    "    data.query('platform ==@i').pivot_table(index='year_of_release', values='total_sales', aggfunc='sum').plot(kind='bar', grid=True, figsize=(10, 3))\n",
    "    plt.title(i)"
   ]
  },
  {
   "cell_type": "markdown",
   "metadata": {},
   "source": [
    "Исходя из полученных данных можно сделать вывод, что средний срок жизни платформы составляет ~ 10 лет. Основная особенность что пика продаж платформа достигает в первые 5 лет, далее идёт спад и завершение цикла жизни платформы. \n",
    "Исключением является PC, так как это не только платформа для игр , но и универсальный инструмент для работы и мультимедиа."
   ]
  },
  {
   "cell_type": "markdown",
   "metadata": {},
   "source": [
    "Определим актуальный период для исследования. Так как целью задания является построить прогноз на 2017 год, то возьмем данные за пятилетний период с 2012 по 2016 год. Основной критерий на основании чего выбран данный период: \n",
    "\n",
    "Данные не слишком старые. Нет смысла использовать данные 80х,90х и 00х годов, так как сменилось несколько поколений консолей и в целом индустрия игр значительно выросла за несколько десятилетий."
   ]
  },
  {
   "cell_type": "markdown",
   "metadata": {},
   "source": [
    "Сделаем срез данных с помощью метода query с 2012 года. Посчитаем суммарные продажи по платформам и отсортируем значения по убыванию. Далее построим столбчатую диаграмму."
   ]
  },
  {
   "cell_type": "code",
   "execution_count": 27,
   "metadata": {},
   "outputs": [
    {
     "data": {
      "image/png": "[encoded data removed]",
      "text/plain": [
       "<Figure size 792x360 with 1 Axes>"
      ]
     },
     "metadata": {
      "needs_background": "light"
     },
     "output_type": "display_data"
    }
   ],
   "source": [
    "actual_period = data.query('year_of_release>=2012')\n",
    "actual_period.groupby('platform')['total_sales'].sum().sort_values(ascending=False).plot(figsize=(11,5),kind=\"bar\",title='Суммарные продажи по платформам с 2012');"
   ]
  },
  {
   "cell_type": "markdown",
   "metadata": {},
   "source": [
    "Топ 3 самых прибыльных платформ за период с 2012 по 2016 год: PS4, PS3, X360."
   ]
  },
  {
   "cell_type": "code",
   "execution_count": 28,
   "metadata": {},
   "outputs": [
    {
     "data": {
      "text/plain": [
       "array(['Wii', 'NES', 'GB', 'DS', 'X360', 'PS3', 'PS2', 'SNES', 'GBA',\n",
       "       'PS4', '3DS', 'N64', 'PS', 'XB', 'PC', '2600', 'PSP', 'XOne',\n",
       "       'WiiU', 'GC', 'GEN', 'DC', 'PSV', 'SAT', 'SCD', 'WS', 'NG', 'TG16',\n",
       "       '3DO', 'GG', 'PCFX'], dtype=object)"
      ]
     },
     "execution_count": 28,
     "metadata": {},
     "output_type": "execute_result"
    }
   ],
   "source": [
    "data['platform'].unique()"
   ]
  },
  {
   "cell_type": "code",
   "execution_count": 29,
   "metadata": {},
   "outputs": [
    {
     "data": {
      "image/png": "[encoded data removed]",
      "text/plain": [
       "<Figure size 1224x1440 with 1 Axes>"
      ]
     },
     "metadata": {
      "needs_background": "light"
     },
     "output_type": "display_data"
    }
   ],
   "source": [
    "data.boxplot(by='platform', column='total_sales', figsize=(17,20))\n",
    "\n",
    "plt.xlim(0, 35)\n",
    "plt.ylim(0, 10)\n",
    "plt.show();"
   ]
  },
  {
   "cell_type": "markdown",
   "metadata": {},
   "source": [
    "На графике можно выявить платформы с высокими продажами в рамках их \"цикла жизни\", например консоли GB, GEN, NES, PS4 и другие."
   ]
  },
  {
   "cell_type": "markdown",
   "metadata": {},
   "source": [
    "Возьмем для примера консоль PS4 и построим диаграмму рассеяния и выявим взаимосвязь оценки пользователей и итоговых продаж. "
   ]
  },
  {
   "cell_type": "code",
   "execution_count": 30,
   "metadata": {},
   "outputs": [
    {
     "data": {
      "image/png": "[encoded data removed]",
      "text/plain": [
       "<Figure size 1080x576 with 1 Axes>"
      ]
     },
     "metadata": {
      "needs_background": "light"
     },
     "output_type": "display_data"
    }
   ],
   "source": [
    "data[data['platform']=='PS4'].plot(kind='scatter',\n",
    "        y='user_score' , x='total_sales', alpha=0.5, subplots=True, figsize=(15,8), c = 'b', s = 4)\n",
    "plt.title('Диаграмма рассеяния — Зависимость между отзывами пользователей и продажами');"
   ]
  },
  {
   "cell_type": "markdown",
   "metadata": {},
   "source": [
    "Как видно на диаграмме, высокая оценка пользователей еще не является гарантией высоких продаж. Есть некоторые игры с рейтингом ниже 4 и 5 но с хорошими продажами и наоборот. "
   ]
  },
  {
   "cell_type": "markdown",
   "metadata": {},
   "source": [
    "Теперь построим аналогичную диаграмму, но уже с оценками критиков. "
   ]
  },
  {
   "cell_type": "code",
   "execution_count": 31,
   "metadata": {},
   "outputs": [
    {
     "data": {
      "image/png": "[encoded data removed]",
      "text/plain": [
       "<Figure size 1080x576 with 1 Axes>"
      ]
     },
     "metadata": {
      "needs_background": "light"
     },
     "output_type": "display_data"
    }
   ],
   "source": [
    "data[data['platform']=='PS4'].plot(kind='scatter',\n",
    "        y='critic_score' , x='total_sales', alpha=0.5, subplots=True, figsize=(15,8), c = 'b', s = 4)\n",
    "plt.title('Диаграмма рассеяния — Зависимость между отзывами критиков и продажами');"
   ]
  },
  {
   "cell_type": "markdown",
   "metadata": {},
   "source": [
    "Ситуация аналогична предыдущей диаграмме. Вероятно оценки не оказывают существенного влияния на продажи игр на платформе PS4. "
   ]
  },
  {
   "cell_type": "markdown",
   "metadata": {},
   "source": [
    "Попробуем проверить закономерность на платформе Xone. Построим аналогичную диаграмму. "
   ]
  },
  {
   "cell_type": "code",
   "execution_count": 32,
   "metadata": {},
   "outputs": [
    {
     "data": {
      "image/png": "[encoded data removed]",
      "text/plain": [
       "<Figure size 1080x576 with 1 Axes>"
      ]
     },
     "metadata": {
      "needs_background": "light"
     },
     "output_type": "display_data"
    }
   ],
   "source": [
    "data[data['platform']=='XOne'].plot(kind='scatter',\n",
    "        y='user_score' , x='total_sales', alpha=0.5, subplots=True, figsize=(15,8), c = 'b', s = 4)\n",
    "plt.title('Диаграмма рассеяния — Зависимость между отзывами пользователей и продажами');"
   ]
  },
  {
   "cell_type": "code",
   "execution_count": 33,
   "metadata": {},
   "outputs": [
    {
     "data": {
      "image/png": "[encoded data removed]",
      "text/plain": [
       "<Figure size 1080x576 with 1 Axes>"
      ]
     },
     "metadata": {
      "needs_background": "light"
     },
     "output_type": "display_data"
    }
   ],
   "source": [
    "data[data['platform']=='XOne'].plot(kind='scatter',\n",
    "        y='critic_score' , x='total_sales', alpha=0.5, subplots=True, figsize=(15,8), c = 'b', s = 4)\n",
    "plt.title('Диаграмма рассеяния — Зависимость между отзывами критиков и продажами');"
   ]
  },
  {
   "cell_type": "markdown",
   "metadata": {},
   "source": [
    "Диаграмма очень похожа на предыдущие. Вероятно оценки критиков и пользователей не зависят от платформы и не оказывают существенного влияния на продажи."
   ]
  },
  {
   "cell_type": "markdown",
   "metadata": {},
   "source": [
    "Построим гистограмму для столбца genre. Проанализируем игр каких жанров было больше всего выпущено. "
   ]
  },
  {
   "cell_type": "code",
   "execution_count": 34,
   "metadata": {},
   "outputs": [
    {
     "data": {
      "image/png": "[encoded data removed]",
      "text/plain": [
       "<Figure size 1008x720 with 1 Axes>"
      ]
     },
     "metadata": {
      "needs_background": "light"
     },
     "output_type": "display_data"
    }
   ],
   "source": [
    "data['genre'].hist(figsize=(14, 10));"
   ]
  },
  {
   "cell_type": "markdown",
   "metadata": {},
   "source": [
    "На гистограмме наблюдаем топ 3 самых популярных жанров: Action, sports и strategy."
   ]
  },
  {
   "cell_type": "markdown",
   "metadata": {},
   "source": [
    "Используем метод groupby и выявим жанры игр, которые лучше всего продавались. "
   ]
  },
  {
   "cell_type": "code",
   "execution_count": 35,
   "metadata": {},
   "outputs": [
    {
     "data": {
      "image/png": "[encoded data removed]",
      "text/plain": [
       "<Figure size 792x360 with 1 Axes>"
      ]
     },
     "metadata": {
      "needs_background": "light"
     },
     "output_type": "display_data"
    }
   ],
   "source": [
    "data.groupby('genre')['total_sales'].sum().sort_values(ascending=False).plot(figsize=(11,5),kind=\"bar\",title='Самые прибыльные жанры игр');"
   ]
  },
  {
   "cell_type": "markdown",
   "metadata": {},
   "source": [
    "ТОП самых прибыльных жанров: Action, Sports, Shooter. ТОП самых не прибыльных жанров: Strategy, Adventure, Puzzle.\n",
    "Интересно,что жанр strategy входит в ТОП 3 по количеству выпущенных игр, но занимает последнее место по продажам. "
   ]
  },
  {
   "cell_type": "markdown",
   "metadata": {},
   "source": [
    "# Портрет пользователя каждого региона."
   ]
  },
  {
   "cell_type": "markdown",
   "metadata": {},
   "source": [
    "Попробуем составить портрет пользователя каждого региона. Для этого воспользуемся методом groupby и построим круговую диаграмму для пользователя из Северной Америки. "
   ]
  },
  {
   "cell_type": "code",
   "execution_count": 36,
   "metadata": {},
   "outputs": [
    {
     "name": "stderr",
     "output_type": "stream",
     "text": [
      "/tmp/ipykernel_368/140598235.py:2: FutureWarning: Indexing with multiple keys (implicitly converted to a tuple of keys) will be deprecated, use a list instead.\n",
      "  data_portraits = data.groupby('genre')['na_sales', 'eu_sales', 'jp_sales'].sum()\n"
     ]
    },
    {
     "data": {
      "image/png": "[encoded data removed]",
      "text/plain": [
       "<Figure size 720x720 with 1 Axes>"
      ]
     },
     "metadata": {},
     "output_type": "display_data"
    }
   ],
   "source": [
    "import matplotlib.pyplot as plt\n",
    "data_portraits = data.groupby('genre')['na_sales', 'eu_sales', 'jp_sales'].sum()\n",
    " \n",
    "\n",
    "fig = plt.figure()\n",
    "fig.set_size_inches(10,10)\n",
    "data = data_portraits['na_sales']\n",
    "my_labels = list(data_portraits.index)\n",
    "plt.pie(data,labels=my_labels,autopct='%1.1f%%')\n",
    "plt.show()"
   ]
  },
  {
   "cell_type": "markdown",
   "metadata": {},
   "source": [
    "На диаграмме видны предпочтения игрока из Северной Америки. ТОП 5 жанров: Action - 20,0%, Sports- 15,6%, Shooter - 13,5%, Platform - 10,1%, Misc - 9,3%."
   ]
  },
  {
   "cell_type": "markdown",
   "metadata": {},
   "source": [
    "Повторим алгоритм для игрока из Европы. "
   ]
  },
  {
   "cell_type": "code",
   "execution_count": 37,
   "metadata": {},
   "outputs": [
    {
     "data": {
      "image/png": "[encoded data removed]",
      "text/plain": [
       "<Figure size 720x720 with 1 Axes>"
      ]
     },
     "metadata": {},
     "output_type": "display_data"
    }
   ],
   "source": [
    "fig = plt.figure()\n",
    "fig.set_size_inches(10,10)\n",
    "data = data_portraits['eu_sales']\n",
    "my_labels = list(data_portraits.index)\n",
    "plt.pie(data,labels=my_labels,autopct='%1.1f%%')\n",
    "plt.show()"
   ]
  },
  {
   "cell_type": "markdown",
   "metadata": {},
   "source": [
    "Основное отличие у Европейского игрока - это наличие в топе жанра racing: Action - 21,4%, Sports - 15,5%, Shooter - 13,1% , Racing - 9,8%, Misc - 8,8 % Повторим тоже самое для игрока из Японии."
   ]
  },
  {
   "cell_type": "code",
   "execution_count": 38,
   "metadata": {},
   "outputs": [
    {
     "data": {
      "image/png": "[encoded data removed]",
      "text/plain": [
       "<Figure size 720x720 with 1 Axes>"
      ]
     },
     "metadata": {},
     "output_type": "display_data"
    }
   ],
   "source": [
    "fig = plt.figure()\n",
    "fig.set_size_inches(10,10)\n",
    "data = data_portraits['jp_sales']\n",
    "my_labels = list(data_portraits.index)\n",
    "plt.pie(data,labels=my_labels,autopct='%1.1f%%')\n",
    "plt.show()"
   ]
  },
  {
   "cell_type": "markdown",
   "metadata": {},
   "source": [
    "Здесь уже кардинальные отличия: Role-Playing - 27,4%, Action - 12,4%, Sports - 10,4%, Platform - 10,1%, Misc - 8,3%.  "
   ]
  },
  {
   "cell_type": "code",
   "execution_count": 39,
   "metadata": {},
   "outputs": [
    {
     "ename": "AttributeError",
     "evalue": "'Series' object has no attribute 'query'",
     "output_type": "error",
     "traceback": [
      "\u001b[0;31m---------------------------------------------------------------------------\u001b[0m",
      "\u001b[0;31mAttributeError\u001b[0m                            Traceback (most recent call last)",
      "\u001b[0;32m/tmp/ipykernel_368/3888303711.py\u001b[0m in \u001b[0;36m<module>\u001b[0;34m\u001b[0m\n\u001b[0;32m----> 1\u001b[0;31m \u001b[0mactual_rate\u001b[0m \u001b[0;34m=\u001b[0m \u001b[0mdata\u001b[0m\u001b[0;34m.\u001b[0m\u001b[0mquery\u001b[0m\u001b[0;34m(\u001b[0m\u001b[0;34m'year_of_release>=2012'\u001b[0m\u001b[0;34m)\u001b[0m\u001b[0;34m\u001b[0m\u001b[0;34m\u001b[0m\u001b[0m\n\u001b[0m\u001b[1;32m      2\u001b[0m \u001b[0mactual_rate\u001b[0m\u001b[0;34m.\u001b[0m\u001b[0mgroupby\u001b[0m\u001b[0;34m(\u001b[0m\u001b[0;34m'rating'\u001b[0m\u001b[0;34m)\u001b[0m\u001b[0;34m[\u001b[0m\u001b[0;34m'eu_sales'\u001b[0m\u001b[0;34m]\u001b[0m\u001b[0;34m.\u001b[0m\u001b[0msum\u001b[0m\u001b[0;34m(\u001b[0m\u001b[0;34m)\u001b[0m\u001b[0;34m.\u001b[0m\u001b[0msort_values\u001b[0m\u001b[0;34m(\u001b[0m\u001b[0mascending\u001b[0m\u001b[0;34m=\u001b[0m\u001b[0;32mFalse\u001b[0m\u001b[0;34m)\u001b[0m\u001b[0;34m.\u001b[0m\u001b[0mplot\u001b[0m\u001b[0;34m(\u001b[0m\u001b[0mfigsize\u001b[0m\u001b[0;34m=\u001b[0m\u001b[0;34m(\u001b[0m\u001b[0;36m11\u001b[0m\u001b[0;34m,\u001b[0m\u001b[0;36m5\u001b[0m\u001b[0;34m)\u001b[0m\u001b[0;34m,\u001b[0m\u001b[0mkind\u001b[0m\u001b[0;34m=\u001b[0m\u001b[0;34m\"bar\"\u001b[0m\u001b[0;34m,\u001b[0m\u001b[0mtitle\u001b[0m\u001b[0;34m=\u001b[0m\u001b[0;34m'Суммарные продажи по платформам с 2012'\u001b[0m\u001b[0;34m)\u001b[0m\u001b[0;34m;\u001b[0m\u001b[0;34m\u001b[0m\u001b[0;34m\u001b[0m\u001b[0m\n",
      "\u001b[0;32m/opt/conda/lib/python3.9/site-packages/pandas/core/generic.py\u001b[0m in \u001b[0;36m__getattr__\u001b[0;34m(self, name)\u001b[0m\n\u001b[1;32m   5463\u001b[0m             \u001b[0;32mif\u001b[0m \u001b[0mself\u001b[0m\u001b[0;34m.\u001b[0m\u001b[0m_info_axis\u001b[0m\u001b[0;34m.\u001b[0m\u001b[0m_can_hold_identifiers_and_holds_name\u001b[0m\u001b[0;34m(\u001b[0m\u001b[0mname\u001b[0m\u001b[0;34m)\u001b[0m\u001b[0;34m:\u001b[0m\u001b[0;34m\u001b[0m\u001b[0;34m\u001b[0m\u001b[0m\n\u001b[1;32m   5464\u001b[0m                 \u001b[0;32mreturn\u001b[0m \u001b[0mself\u001b[0m\u001b[0;34m[\u001b[0m\u001b[0mname\u001b[0m\u001b[0;34m]\u001b[0m\u001b[0;34m\u001b[0m\u001b[0;34m\u001b[0m\u001b[0m\n\u001b[0;32m-> 5465\u001b[0;31m             \u001b[0;32mreturn\u001b[0m \u001b[0mobject\u001b[0m\u001b[0;34m.\u001b[0m\u001b[0m__getattribute__\u001b[0m\u001b[0;34m(\u001b[0m\u001b[0mself\u001b[0m\u001b[0;34m,\u001b[0m \u001b[0mname\u001b[0m\u001b[0;34m)\u001b[0m\u001b[0;34m\u001b[0m\u001b[0;34m\u001b[0m\u001b[0m\n\u001b[0m\u001b[1;32m   5466\u001b[0m \u001b[0;34m\u001b[0m\u001b[0m\n\u001b[1;32m   5467\u001b[0m     \u001b[0;32mdef\u001b[0m \u001b[0m__setattr__\u001b[0m\u001b[0;34m(\u001b[0m\u001b[0mself\u001b[0m\u001b[0;34m,\u001b[0m \u001b[0mname\u001b[0m\u001b[0;34m:\u001b[0m \u001b[0mstr\u001b[0m\u001b[0;34m,\u001b[0m \u001b[0mvalue\u001b[0m\u001b[0;34m)\u001b[0m \u001b[0;34m->\u001b[0m \u001b[0;32mNone\u001b[0m\u001b[0;34m:\u001b[0m\u001b[0;34m\u001b[0m\u001b[0;34m\u001b[0m\u001b[0m\n",
      "\u001b[0;31mAttributeError\u001b[0m: 'Series' object has no attribute 'query'"
     ]
    }
   ],
   "source": [
    "actual_rate = data.query('year_of_release>=2012')\n",
    "actual_rate.groupby('rating')['eu_sales'].sum().sort_values(ascending=False).plot(figsize=(11,5),kind=\"bar\",title='Суммарные продажи по платформам с 2012');"
   ]
  },
  {
   "cell_type": "code",
   "execution_count": 40,
   "metadata": {},
   "outputs": [
    {
     "ename": "KeyError",
     "evalue": "'rating'",
     "output_type": "error",
     "traceback": [
      "\u001b[0;31m---------------------------------------------------------------------------\u001b[0m",
      "\u001b[0;31mKeyError\u001b[0m                                  Traceback (most recent call last)",
      "\u001b[0;32m/tmp/ipykernel_368/700848910.py\u001b[0m in \u001b[0;36m<module>\u001b[0;34m\u001b[0m\n\u001b[1;32m      1\u001b[0m \u001b[0;32mimport\u001b[0m \u001b[0mmatplotlib\u001b[0m\u001b[0;34m.\u001b[0m\u001b[0mpyplot\u001b[0m \u001b[0;32mas\u001b[0m \u001b[0mplt\u001b[0m\u001b[0;34m\u001b[0m\u001b[0;34m\u001b[0m\u001b[0m\n\u001b[0;32m----> 2\u001b[0;31m \u001b[0mdata_rating\u001b[0m \u001b[0;34m=\u001b[0m \u001b[0mdata\u001b[0m\u001b[0;34m.\u001b[0m\u001b[0mgroupby\u001b[0m\u001b[0;34m(\u001b[0m\u001b[0;34m'rating'\u001b[0m\u001b[0;34m)\u001b[0m\u001b[0;34m[\u001b[0m\u001b[0;34m'na_sales'\u001b[0m\u001b[0;34m,\u001b[0m \u001b[0;34m'eu_sales'\u001b[0m\u001b[0;34m,\u001b[0m \u001b[0;34m'jp_sales'\u001b[0m\u001b[0;34m]\u001b[0m\u001b[0;34m.\u001b[0m\u001b[0msum\u001b[0m\u001b[0;34m(\u001b[0m\u001b[0;34m)\u001b[0m\u001b[0;34m\u001b[0m\u001b[0;34m\u001b[0m\u001b[0m\n\u001b[0m\u001b[1;32m      3\u001b[0m \u001b[0;34m\u001b[0m\u001b[0m\n\u001b[1;32m      4\u001b[0m \u001b[0;34m\u001b[0m\u001b[0m\n\u001b[1;32m      5\u001b[0m \u001b[0mfig\u001b[0m \u001b[0;34m=\u001b[0m \u001b[0mplt\u001b[0m\u001b[0;34m.\u001b[0m\u001b[0mfigure\u001b[0m\u001b[0;34m(\u001b[0m\u001b[0;34m)\u001b[0m\u001b[0;34m\u001b[0m\u001b[0;34m\u001b[0m\u001b[0m\n",
      "\u001b[0;32m/opt/conda/lib/python3.9/site-packages/pandas/core/series.py\u001b[0m in \u001b[0;36mgroupby\u001b[0;34m(self, by, axis, level, as_index, sort, group_keys, squeeze, observed, dropna)\u001b[0m\n\u001b[1;32m   1718\u001b[0m         \u001b[0maxis\u001b[0m \u001b[0;34m=\u001b[0m \u001b[0mself\u001b[0m\u001b[0;34m.\u001b[0m\u001b[0m_get_axis_number\u001b[0m\u001b[0;34m(\u001b[0m\u001b[0maxis\u001b[0m\u001b[0;34m)\u001b[0m\u001b[0;34m\u001b[0m\u001b[0;34m\u001b[0m\u001b[0m\n\u001b[1;32m   1719\u001b[0m \u001b[0;34m\u001b[0m\u001b[0m\n\u001b[0;32m-> 1720\u001b[0;31m         return SeriesGroupBy(\n\u001b[0m\u001b[1;32m   1721\u001b[0m             \u001b[0mobj\u001b[0m\u001b[0;34m=\u001b[0m\u001b[0mself\u001b[0m\u001b[0;34m,\u001b[0m\u001b[0;34m\u001b[0m\u001b[0;34m\u001b[0m\u001b[0m\n\u001b[1;32m   1722\u001b[0m             \u001b[0mkeys\u001b[0m\u001b[0;34m=\u001b[0m\u001b[0mby\u001b[0m\u001b[0;34m,\u001b[0m\u001b[0;34m\u001b[0m\u001b[0;34m\u001b[0m\u001b[0m\n",
      "\u001b[0;32m/opt/conda/lib/python3.9/site-packages/pandas/core/groupby/groupby.py\u001b[0m in \u001b[0;36m__init__\u001b[0;34m(self, obj, keys, axis, level, grouper, exclusions, selection, as_index, sort, group_keys, squeeze, observed, mutated, dropna)\u001b[0m\n\u001b[1;32m    558\u001b[0m             \u001b[0;32mfrom\u001b[0m \u001b[0mpandas\u001b[0m\u001b[0;34m.\u001b[0m\u001b[0mcore\u001b[0m\u001b[0;34m.\u001b[0m\u001b[0mgroupby\u001b[0m\u001b[0;34m.\u001b[0m\u001b[0mgrouper\u001b[0m \u001b[0;32mimport\u001b[0m \u001b[0mget_grouper\u001b[0m\u001b[0;34m\u001b[0m\u001b[0;34m\u001b[0m\u001b[0m\n\u001b[1;32m    559\u001b[0m \u001b[0;34m\u001b[0m\u001b[0m\n\u001b[0;32m--> 560\u001b[0;31m             grouper, exclusions, obj = get_grouper(\n\u001b[0m\u001b[1;32m    561\u001b[0m                 \u001b[0mobj\u001b[0m\u001b[0;34m,\u001b[0m\u001b[0;34m\u001b[0m\u001b[0;34m\u001b[0m\u001b[0m\n\u001b[1;32m    562\u001b[0m                 \u001b[0mkeys\u001b[0m\u001b[0;34m,\u001b[0m\u001b[0;34m\u001b[0m\u001b[0;34m\u001b[0m\u001b[0m\n",
      "\u001b[0;32m/opt/conda/lib/python3.9/site-packages/pandas/core/groupby/grouper.py\u001b[0m in \u001b[0;36mget_grouper\u001b[0;34m(obj, key, axis, level, sort, observed, mutated, validate, dropna)\u001b[0m\n\u001b[1;32m    809\u001b[0m                 \u001b[0min_axis\u001b[0m\u001b[0;34m,\u001b[0m \u001b[0mname\u001b[0m\u001b[0;34m,\u001b[0m \u001b[0mlevel\u001b[0m\u001b[0;34m,\u001b[0m \u001b[0mgpr\u001b[0m \u001b[0;34m=\u001b[0m \u001b[0;32mFalse\u001b[0m\u001b[0;34m,\u001b[0m \u001b[0;32mNone\u001b[0m\u001b[0;34m,\u001b[0m \u001b[0mgpr\u001b[0m\u001b[0;34m,\u001b[0m \u001b[0;32mNone\u001b[0m\u001b[0;34m\u001b[0m\u001b[0;34m\u001b[0m\u001b[0m\n\u001b[1;32m    810\u001b[0m             \u001b[0;32melse\u001b[0m\u001b[0;34m:\u001b[0m\u001b[0;34m\u001b[0m\u001b[0;34m\u001b[0m\u001b[0m\n\u001b[0;32m--> 811\u001b[0;31m                 \u001b[0;32mraise\u001b[0m \u001b[0mKeyError\u001b[0m\u001b[0;34m(\u001b[0m\u001b[0mgpr\u001b[0m\u001b[0;34m)\u001b[0m\u001b[0;34m\u001b[0m\u001b[0;34m\u001b[0m\u001b[0m\n\u001b[0m\u001b[1;32m    812\u001b[0m         \u001b[0;32melif\u001b[0m \u001b[0misinstance\u001b[0m\u001b[0;34m(\u001b[0m\u001b[0mgpr\u001b[0m\u001b[0;34m,\u001b[0m \u001b[0mGrouper\u001b[0m\u001b[0;34m)\u001b[0m \u001b[0;32mand\u001b[0m \u001b[0mgpr\u001b[0m\u001b[0;34m.\u001b[0m\u001b[0mkey\u001b[0m \u001b[0;32mis\u001b[0m \u001b[0;32mnot\u001b[0m \u001b[0;32mNone\u001b[0m\u001b[0;34m:\u001b[0m\u001b[0;34m\u001b[0m\u001b[0;34m\u001b[0m\u001b[0m\n\u001b[1;32m    813\u001b[0m             \u001b[0;31m# Add key to exclusions\u001b[0m\u001b[0;34m\u001b[0m\u001b[0;34m\u001b[0m\u001b[0;34m\u001b[0m\u001b[0m\n",
      "\u001b[0;31mKeyError\u001b[0m: 'rating'"
     ]
    }
   ],
   "source": [
    "import matplotlib.pyplot as plt\n",
    "data_rating = data.groupby('rating')['na_sales', 'eu_sales', 'jp_sales'].sum()\n",
    " \n",
    "\n",
    "fig = plt.figure()\n",
    "fig.set_size_inches(10,10)\n",
    "data = data_rating['na_sales']\n",
    "my_labels = list(data_rating.index)\n",
    "plt.pie(data,labels=my_labels,autopct='%1.1f%%')\n",
    "plt.show()"
   ]
  },
  {
   "cell_type": "code",
   "execution_count": null,
   "metadata": {},
   "outputs": [],
   "source": []
  },
  {
   "cell_type": "code",
   "execution_count": null,
   "metadata": {},
   "outputs": [],
   "source": []
  },
  {
   "cell_type": "code",
   "execution_count": null,
   "metadata": {},
   "outputs": [],
   "source": []
  },
  {
   "cell_type": "code",
   "execution_count": null,
   "metadata": {},
   "outputs": [],
   "source": [
    "xbox_one = data[(data['platform'] == 'XOne') &  (data['user_score'] > 0)]['user_score']\n",
    "pc = data[(data['platform'] == 'PC') &  (data['user_score'] > 0)]['user_score']\n",
    " \n",
    "print('Средний пользовательский рейтинг платформы Xbox One:', xbox_one.mean())\n",
    "print('Средний пользовательский рейтинг платформы PC', pc.mean())\n",
    " \n",
    "alpha = .05\n",
    " \n",
    "results = st.ttest_ind(xbox_one, pc)\n",
    " \n",
    "print('p-значение:', results.pvalue)\n",
    " \n",
    "if results.pvalue < alpha:\n",
    "    print(\"Отвергаем нулевую гипотезу\")\n",
    "else:\n",
    "    print(\"Не получилось отвергнуть нулевую гипотезу\")"
   ]
  },
  {
   "cell_type": "code",
   "execution_count": null,
   "metadata": {},
   "outputs": [],
   "source": []
  },
  {
   "cell_type": "code",
   "execution_count": null,
   "metadata": {},
   "outputs": [],
   "source": []
  }
 ],
 "metadata": {
  "ExecuteTimeLog": [
   {
    "duration": 1249,
    "start_time": "2022-10-08T08:27:23.915Z"
   },
   {
    "duration": 3,
    "start_time": "2022-10-08T08:34:45.315Z"
   },
   {
    "duration": 1105,
    "start_time": "2022-10-08T08:34:52.184Z"
   },
   {
    "duration": 175,
    "start_time": "2022-10-08T08:34:53.291Z"
   },
   {
    "duration": 3,
    "start_time": "2022-10-08T08:34:53.468Z"
   },
   {
    "duration": 20,
    "start_time": "2022-10-08T08:34:53.473Z"
   },
   {
    "duration": 54,
    "start_time": "2022-10-08T08:35:26.467Z"
   },
   {
    "duration": 1179,
    "start_time": "2022-10-08T08:35:35.080Z"
   },
   {
    "duration": 58,
    "start_time": "2022-10-08T08:35:36.261Z"
   },
   {
    "duration": 3,
    "start_time": "2022-10-08T08:35:36.321Z"
   },
   {
    "duration": 24,
    "start_time": "2022-10-08T08:35:36.326Z"
   },
   {
    "duration": 87,
    "start_time": "2022-10-08T08:53:20.025Z"
   },
   {
    "duration": 3,
    "start_time": "2022-10-08T08:54:26.653Z"
   },
   {
    "duration": 13,
    "start_time": "2022-10-08T08:54:28.860Z"
   },
   {
    "duration": 73,
    "start_time": "2022-10-08T09:14:20.042Z"
   },
   {
    "duration": 8,
    "start_time": "2022-10-08T09:14:26.222Z"
   },
   {
    "duration": 18,
    "start_time": "2022-10-08T09:16:56.225Z"
   },
   {
    "duration": 13,
    "start_time": "2022-10-08T09:17:14.118Z"
   },
   {
    "duration": 5,
    "start_time": "2022-10-08T10:22:38.335Z"
   },
   {
    "duration": 14,
    "start_time": "2022-10-08T10:22:56.889Z"
   },
   {
    "duration": 1085,
    "start_time": "2022-10-08T10:26:37.421Z"
   },
   {
    "duration": 56,
    "start_time": "2022-10-08T10:26:38.508Z"
   },
   {
    "duration": 3,
    "start_time": "2022-10-08T10:26:38.566Z"
   },
   {
    "duration": 20,
    "start_time": "2022-10-08T10:26:38.571Z"
   },
   {
    "duration": 2,
    "start_time": "2022-10-08T10:26:38.592Z"
   },
   {
    "duration": 14,
    "start_time": "2022-10-08T10:26:38.596Z"
   },
   {
    "duration": 13,
    "start_time": "2022-10-08T10:26:38.611Z"
   },
   {
    "duration": 4,
    "start_time": "2022-10-08T10:26:38.625Z"
   },
   {
    "duration": 14,
    "start_time": "2022-10-08T10:26:38.631Z"
   },
   {
    "duration": 83,
    "start_time": "2022-10-08T10:26:38.647Z"
   },
   {
    "duration": 655,
    "start_time": "2022-10-08T10:27:44.380Z"
   },
   {
    "duration": 1041,
    "start_time": "2022-10-08T10:28:43.344Z"
   },
   {
    "duration": 58,
    "start_time": "2022-10-08T10:28:44.386Z"
   },
   {
    "duration": 482,
    "start_time": "2022-10-08T10:28:44.446Z"
   },
   {
    "duration": 175,
    "start_time": "2022-10-08T10:28:44.930Z"
   },
   {
    "duration": 724,
    "start_time": "2022-10-08T10:28:45.107Z"
   },
   {
    "duration": 3,
    "start_time": "2022-10-08T10:28:45.832Z"
   },
   {
    "duration": 32,
    "start_time": "2022-10-08T10:28:45.837Z"
   },
   {
    "duration": 10,
    "start_time": "2022-10-08T10:28:45.871Z"
   },
   {
    "duration": 117,
    "start_time": "2022-10-08T10:28:45.883Z"
   },
   {
    "duration": 56,
    "start_time": "2022-10-08T10:28:46.002Z"
   },
   {
    "duration": 151,
    "start_time": "2022-10-08T10:28:46.060Z"
   },
   {
    "duration": 25,
    "start_time": "2022-10-08T10:43:45.819Z"
   },
   {
    "duration": 19,
    "start_time": "2022-10-08T10:43:59.093Z"
   },
   {
    "duration": 9,
    "start_time": "2022-10-08T10:44:35.372Z"
   },
   {
    "duration": 6,
    "start_time": "2022-10-08T10:44:45.268Z"
   },
   {
    "duration": 49,
    "start_time": "2022-10-09T03:30:37.702Z"
   },
   {
    "duration": 1309,
    "start_time": "2022-10-09T03:30:44.304Z"
   },
   {
    "duration": 116,
    "start_time": "2022-10-09T03:30:45.615Z"
   },
   {
    "duration": 5,
    "start_time": "2022-10-09T03:30:45.733Z"
   },
   {
    "duration": 22,
    "start_time": "2022-10-09T03:30:45.740Z"
   },
   {
    "duration": 755,
    "start_time": "2022-10-09T03:30:45.765Z"
   },
   {
    "duration": 4,
    "start_time": "2022-10-09T03:30:46.522Z"
   },
   {
    "duration": 41,
    "start_time": "2022-10-09T03:30:46.528Z"
   },
   {
    "duration": 6,
    "start_time": "2022-10-09T03:30:46.571Z"
   },
   {
    "duration": 11,
    "start_time": "2022-10-09T03:30:46.578Z"
   },
   {
    "duration": 14,
    "start_time": "2022-10-09T03:30:46.590Z"
   },
   {
    "duration": 6,
    "start_time": "2022-10-09T03:30:46.605Z"
   },
   {
    "duration": 50,
    "start_time": "2022-10-09T03:30:46.612Z"
   },
   {
    "duration": 104,
    "start_time": "2022-10-09T03:30:46.664Z"
   },
   {
    "duration": 5,
    "start_time": "2022-10-09T03:37:59.256Z"
   },
   {
    "duration": 21,
    "start_time": "2022-10-09T03:40:45.409Z"
   },
   {
    "duration": 7,
    "start_time": "2022-10-09T03:49:03.413Z"
   },
   {
    "duration": 80,
    "start_time": "2022-10-09T03:49:29.098Z"
   },
   {
    "duration": 59,
    "start_time": "2022-10-09T03:50:21.225Z"
   },
   {
    "duration": 19,
    "start_time": "2022-10-09T03:50:43.909Z"
   },
   {
    "duration": 14,
    "start_time": "2022-10-09T03:51:18.164Z"
   },
   {
    "duration": 15,
    "start_time": "2022-10-09T03:51:53.271Z"
   },
   {
    "duration": 18,
    "start_time": "2022-10-09T03:53:04.411Z"
   },
   {
    "duration": 81713,
    "start_time": "2022-10-09T03:54:22.144Z"
   },
   {
    "duration": 9,
    "start_time": "2022-10-09T03:56:23.978Z"
   },
   {
    "duration": 63,
    "start_time": "2022-10-09T04:02:18.034Z"
   },
   {
    "duration": 10,
    "start_time": "2022-10-09T04:06:10.475Z"
   },
   {
    "duration": 11,
    "start_time": "2022-10-09T04:06:27.547Z"
   },
   {
    "duration": 1225,
    "start_time": "2022-10-09T04:06:37.754Z"
   },
   {
    "duration": 68,
    "start_time": "2022-10-09T04:06:38.981Z"
   },
   {
    "duration": 3,
    "start_time": "2022-10-09T04:06:39.051Z"
   },
   {
    "duration": 22,
    "start_time": "2022-10-09T04:06:39.056Z"
   },
   {
    "duration": 766,
    "start_time": "2022-10-09T04:06:39.080Z"
   },
   {
    "duration": 3,
    "start_time": "2022-10-09T04:06:39.854Z"
   },
   {
    "duration": 24,
    "start_time": "2022-10-09T04:06:39.859Z"
   },
   {
    "duration": 13,
    "start_time": "2022-10-09T04:06:39.884Z"
   },
   {
    "duration": 15,
    "start_time": "2022-10-09T04:06:39.898Z"
   },
   {
    "duration": 17,
    "start_time": "2022-10-09T04:06:39.915Z"
   },
   {
    "duration": 23,
    "start_time": "2022-10-09T04:06:39.933Z"
   },
   {
    "duration": 7,
    "start_time": "2022-10-09T04:06:39.958Z"
   },
   {
    "duration": 13,
    "start_time": "2022-10-09T04:06:39.966Z"
   },
   {
    "duration": 18,
    "start_time": "2022-10-09T04:06:39.981Z"
   },
   {
    "duration": 82311,
    "start_time": "2022-10-09T04:06:40.000Z"
   },
   {
    "duration": 14,
    "start_time": "2022-10-09T04:08:02.313Z"
   },
   {
    "duration": 26,
    "start_time": "2022-10-09T04:08:02.328Z"
   },
   {
    "duration": 121,
    "start_time": "2022-10-09T04:08:02.356Z"
   },
   {
    "duration": 0,
    "start_time": "2022-10-09T04:08:02.479Z"
   },
   {
    "duration": 0,
    "start_time": "2022-10-09T04:08:02.480Z"
   },
   {
    "duration": 6,
    "start_time": "2022-10-09T04:31:14.111Z"
   },
   {
    "duration": 10,
    "start_time": "2022-10-09T04:37:56.850Z"
   },
   {
    "duration": 6,
    "start_time": "2022-10-09T04:38:05.584Z"
   },
   {
    "duration": 10,
    "start_time": "2022-10-09T04:38:29.992Z"
   },
   {
    "duration": 5,
    "start_time": "2022-10-09T04:38:31.365Z"
   },
   {
    "duration": 13,
    "start_time": "2022-10-09T04:38:53.313Z"
   },
   {
    "duration": 16,
    "start_time": "2022-10-09T04:39:31.738Z"
   },
   {
    "duration": 87091,
    "start_time": "2022-10-09T04:39:47.024Z"
   },
   {
    "duration": 10,
    "start_time": "2022-10-09T04:44:58.442Z"
   },
   {
    "duration": 5,
    "start_time": "2022-10-09T04:46:01.088Z"
   },
   {
    "duration": 5,
    "start_time": "2022-10-09T04:47:02.471Z"
   },
   {
    "duration": 10,
    "start_time": "2022-10-09T04:47:34.074Z"
   },
   {
    "duration": 4,
    "start_time": "2022-10-09T04:49:24.815Z"
   },
   {
    "duration": 15,
    "start_time": "2022-10-09T05:51:35.278Z"
   },
   {
    "duration": 6,
    "start_time": "2022-10-09T05:52:51.847Z"
   },
   {
    "duration": 6,
    "start_time": "2022-10-09T05:53:10.076Z"
   },
   {
    "duration": 8,
    "start_time": "2022-10-09T05:53:23.101Z"
   },
   {
    "duration": 26,
    "start_time": "2022-10-09T05:55:20.875Z"
   },
   {
    "duration": 7,
    "start_time": "2022-10-09T06:06:01.318Z"
   },
   {
    "duration": 5,
    "start_time": "2022-10-09T06:06:54.639Z"
   },
   {
    "duration": 10,
    "start_time": "2022-10-09T06:07:16.608Z"
   },
   {
    "duration": 8,
    "start_time": "2022-10-09T06:07:25.270Z"
   },
   {
    "duration": 8,
    "start_time": "2022-10-09T06:09:40.194Z"
   },
   {
    "duration": 6,
    "start_time": "2022-10-09T06:09:53.878Z"
   },
   {
    "duration": 1265,
    "start_time": "2022-10-09T06:10:03.250Z"
   },
   {
    "duration": 67,
    "start_time": "2022-10-09T06:10:04.517Z"
   },
   {
    "duration": 4,
    "start_time": "2022-10-09T06:10:04.586Z"
   },
   {
    "duration": 29,
    "start_time": "2022-10-09T06:10:04.591Z"
   },
   {
    "duration": 797,
    "start_time": "2022-10-09T06:10:04.622Z"
   },
   {
    "duration": 3,
    "start_time": "2022-10-09T06:10:05.421Z"
   },
   {
    "duration": 34,
    "start_time": "2022-10-09T06:10:05.426Z"
   },
   {
    "duration": 7,
    "start_time": "2022-10-09T06:10:05.462Z"
   },
   {
    "duration": 32,
    "start_time": "2022-10-09T06:10:05.471Z"
   },
   {
    "duration": 11,
    "start_time": "2022-10-09T06:10:05.505Z"
   },
   {
    "duration": 13,
    "start_time": "2022-10-09T06:10:05.518Z"
   },
   {
    "duration": 83122,
    "start_time": "2022-10-09T06:10:05.533Z"
   },
   {
    "duration": 10,
    "start_time": "2022-10-09T06:11:28.656Z"
   },
   {
    "duration": 9,
    "start_time": "2022-10-09T06:11:28.669Z"
   },
   {
    "duration": 12,
    "start_time": "2022-10-09T06:11:28.680Z"
   },
   {
    "duration": 13,
    "start_time": "2022-10-09T06:11:28.694Z"
   },
   {
    "duration": 89606,
    "start_time": "2022-10-09T06:11:28.709Z"
   },
   {
    "duration": 7,
    "start_time": "2022-10-09T06:12:58.317Z"
   },
   {
    "duration": 9,
    "start_time": "2022-10-09T06:12:58.325Z"
   },
   {
    "duration": 29,
    "start_time": "2022-10-09T06:12:58.336Z"
   },
   {
    "duration": 7,
    "start_time": "2022-10-09T06:12:58.367Z"
   },
   {
    "duration": 22,
    "start_time": "2022-10-09T06:12:58.377Z"
   },
   {
    "duration": 8,
    "start_time": "2022-10-09T06:12:58.401Z"
   },
   {
    "duration": 10,
    "start_time": "2022-10-09T06:12:58.411Z"
   },
   {
    "duration": 7,
    "start_time": "2022-10-09T06:12:58.423Z"
   },
   {
    "duration": 218,
    "start_time": "2022-10-09T06:14:59.788Z"
   },
   {
    "duration": 140,
    "start_time": "2022-10-09T06:15:18.621Z"
   },
   {
    "duration": 154,
    "start_time": "2022-10-09T06:15:29.337Z"
   },
   {
    "duration": 147,
    "start_time": "2022-10-09T06:15:40.316Z"
   },
   {
    "duration": 102,
    "start_time": "2022-10-09T06:28:01.828Z"
   },
   {
    "duration": 15,
    "start_time": "2022-10-09T06:35:31.049Z"
   },
   {
    "duration": 12,
    "start_time": "2022-10-09T06:36:08.895Z"
   },
   {
    "duration": 35,
    "start_time": "2022-10-09T06:36:21.893Z"
   },
   {
    "duration": 20,
    "start_time": "2022-10-09T06:38:35.937Z"
   },
   {
    "duration": 1870,
    "start_time": "2022-10-09T06:38:48.252Z"
   },
   {
    "duration": 46,
    "start_time": "2022-10-09T11:34:21.836Z"
   },
   {
    "duration": 1311,
    "start_time": "2022-10-09T11:35:38.935Z"
   },
   {
    "duration": 108,
    "start_time": "2022-10-09T11:35:40.248Z"
   },
   {
    "duration": 4,
    "start_time": "2022-10-09T11:35:40.357Z"
   },
   {
    "duration": 18,
    "start_time": "2022-10-09T11:35:40.363Z"
   },
   {
    "duration": 721,
    "start_time": "2022-10-09T11:35:40.382Z"
   },
   {
    "duration": 3,
    "start_time": "2022-10-09T11:35:41.105Z"
   },
   {
    "duration": 32,
    "start_time": "2022-10-09T11:35:41.110Z"
   },
   {
    "duration": 15,
    "start_time": "2022-10-09T11:35:41.144Z"
   },
   {
    "duration": 18,
    "start_time": "2022-10-09T11:35:41.160Z"
   },
   {
    "duration": 8,
    "start_time": "2022-10-09T11:35:41.181Z"
   },
   {
    "duration": 10,
    "start_time": "2022-10-09T11:35:41.191Z"
   },
   {
    "duration": 80960,
    "start_time": "2022-10-09T11:35:41.202Z"
   },
   {
    "duration": 8,
    "start_time": "2022-10-09T11:37:02.164Z"
   },
   {
    "duration": 4,
    "start_time": "2022-10-09T11:37:02.174Z"
   },
   {
    "duration": 22,
    "start_time": "2022-10-09T11:37:02.180Z"
   },
   {
    "duration": 13,
    "start_time": "2022-10-09T11:37:02.204Z"
   },
   {
    "duration": 88498,
    "start_time": "2022-10-09T11:37:02.219Z"
   },
   {
    "duration": 5,
    "start_time": "2022-10-09T11:38:30.718Z"
   },
   {
    "duration": 17,
    "start_time": "2022-10-09T11:38:30.734Z"
   },
   {
    "duration": 23,
    "start_time": "2022-10-09T11:38:30.753Z"
   },
   {
    "duration": 7,
    "start_time": "2022-10-09T11:38:30.778Z"
   },
   {
    "duration": 27,
    "start_time": "2022-10-09T11:38:30.787Z"
   },
   {
    "duration": 8,
    "start_time": "2022-10-09T11:38:30.816Z"
   },
   {
    "duration": 28,
    "start_time": "2022-10-09T11:38:30.825Z"
   },
   {
    "duration": 143,
    "start_time": "2022-10-09T11:38:30.855Z"
   },
   {
    "duration": 1825,
    "start_time": "2022-10-09T11:38:30.999Z"
   },
   {
    "duration": 163,
    "start_time": "2022-10-09T11:38:32.826Z"
   },
   {
    "duration": 157,
    "start_time": "2022-10-09T11:48:47.806Z"
   },
   {
    "duration": 126,
    "start_time": "2022-10-09T12:16:11.189Z"
   },
   {
    "duration": 141,
    "start_time": "2022-10-09T12:21:02.115Z"
   },
   {
    "duration": 127,
    "start_time": "2022-10-09T12:21:22.081Z"
   },
   {
    "duration": 137,
    "start_time": "2022-10-09T13:01:05.346Z"
   },
   {
    "duration": 2265,
    "start_time": "2022-10-09T13:08:30.951Z"
   },
   {
    "duration": 793,
    "start_time": "2022-10-09T13:13:22.909Z"
   },
   {
    "duration": 699,
    "start_time": "2022-10-09T13:13:58.593Z"
   },
   {
    "duration": 2092,
    "start_time": "2022-10-09T13:15:00.764Z"
   },
   {
    "duration": 47,
    "start_time": "2022-10-09T13:15:22.818Z"
   },
   {
    "duration": 14,
    "start_time": "2022-10-09T13:15:30.984Z"
   },
   {
    "duration": 13,
    "start_time": "2022-10-09T13:16:22.283Z"
   },
   {
    "duration": 804,
    "start_time": "2022-10-09T13:16:54.279Z"
   },
   {
    "duration": 10,
    "start_time": "2022-10-09T13:17:09.415Z"
   },
   {
    "duration": 10,
    "start_time": "2022-10-09T13:17:34.922Z"
   },
   {
    "duration": 1151,
    "start_time": "2022-10-09T13:17:50.233Z"
   },
   {
    "duration": 65,
    "start_time": "2022-10-09T13:17:51.386Z"
   },
   {
    "duration": 3,
    "start_time": "2022-10-09T13:17:51.453Z"
   },
   {
    "duration": 20,
    "start_time": "2022-10-09T13:17:51.457Z"
   },
   {
    "duration": 746,
    "start_time": "2022-10-09T13:17:51.478Z"
   },
   {
    "duration": 8,
    "start_time": "2022-10-09T13:17:52.225Z"
   },
   {
    "duration": 20,
    "start_time": "2022-10-09T13:17:52.235Z"
   },
   {
    "duration": 6,
    "start_time": "2022-10-09T13:17:52.257Z"
   },
   {
    "duration": 18,
    "start_time": "2022-10-09T13:17:52.264Z"
   },
   {
    "duration": 9,
    "start_time": "2022-10-09T13:17:52.284Z"
   },
   {
    "duration": 8,
    "start_time": "2022-10-09T13:17:52.294Z"
   },
   {
    "duration": 80711,
    "start_time": "2022-10-09T13:17:52.334Z"
   },
   {
    "duration": 7,
    "start_time": "2022-10-09T13:19:13.047Z"
   },
   {
    "duration": 5,
    "start_time": "2022-10-09T13:19:13.056Z"
   },
   {
    "duration": 11,
    "start_time": "2022-10-09T13:19:13.062Z"
   },
   {
    "duration": 9,
    "start_time": "2022-10-09T13:19:13.074Z"
   },
   {
    "duration": 87968,
    "start_time": "2022-10-09T13:19:13.085Z"
   },
   {
    "duration": 5,
    "start_time": "2022-10-09T13:20:41.054Z"
   },
   {
    "duration": 8,
    "start_time": "2022-10-09T13:20:41.060Z"
   },
   {
    "duration": 11,
    "start_time": "2022-10-09T13:20:41.070Z"
   },
   {
    "duration": 4,
    "start_time": "2022-10-09T13:20:41.083Z"
   },
   {
    "duration": 17,
    "start_time": "2022-10-09T13:20:41.089Z"
   },
   {
    "duration": 29,
    "start_time": "2022-10-09T13:20:41.108Z"
   },
   {
    "duration": 8,
    "start_time": "2022-10-09T13:20:41.139Z"
   },
   {
    "duration": 145,
    "start_time": "2022-10-09T13:20:41.149Z"
   },
   {
    "duration": 1833,
    "start_time": "2022-10-09T13:20:41.296Z"
   },
   {
    "duration": 156,
    "start_time": "2022-10-09T13:20:43.133Z"
   },
   {
    "duration": 109,
    "start_time": "2022-10-09T13:20:43.292Z"
   },
   {
    "duration": 16,
    "start_time": "2022-10-09T13:39:06.790Z"
   },
   {
    "duration": 5,
    "start_time": "2022-10-09T13:40:06.981Z"
   },
   {
    "duration": 450,
    "start_time": "2022-10-09T13:41:31.347Z"
   },
   {
    "duration": 114,
    "start_time": "2022-10-09T13:41:49.142Z"
   },
   {
    "duration": 1428,
    "start_time": "2022-10-09T13:42:17.178Z"
   },
   {
    "duration": 116,
    "start_time": "2022-10-09T13:42:45.273Z"
   },
   {
    "duration": 114,
    "start_time": "2022-10-09T13:42:55.912Z"
   },
   {
    "duration": 432,
    "start_time": "2022-10-09T13:43:06.737Z"
   },
   {
    "duration": 546,
    "start_time": "2022-10-09T13:43:28.308Z"
   },
   {
    "duration": 433,
    "start_time": "2022-10-09T13:44:03.215Z"
   },
   {
    "duration": 77,
    "start_time": "2022-10-09T13:50:30.905Z"
   },
   {
    "duration": 100,
    "start_time": "2022-10-09T13:50:44.883Z"
   },
   {
    "duration": 60,
    "start_time": "2022-10-09T13:51:03.083Z"
   },
   {
    "duration": 54,
    "start_time": "2022-10-09T13:51:14.078Z"
   },
   {
    "duration": 115,
    "start_time": "2022-10-09T13:51:27.555Z"
   },
   {
    "duration": 593,
    "start_time": "2022-10-09T13:53:55.083Z"
   },
   {
    "duration": 57,
    "start_time": "2022-10-09T14:01:13.527Z"
   },
   {
    "duration": 105,
    "start_time": "2022-10-09T14:01:26.497Z"
   },
   {
    "duration": 141,
    "start_time": "2022-10-09T14:03:00.364Z"
   },
   {
    "duration": 114,
    "start_time": "2022-10-09T14:03:26.067Z"
   },
   {
    "duration": 72,
    "start_time": "2022-10-09T14:04:00.266Z"
   },
   {
    "duration": 51,
    "start_time": "2022-10-09T14:04:18.186Z"
   },
   {
    "duration": 121,
    "start_time": "2022-10-09T14:04:25.787Z"
   },
   {
    "duration": 142,
    "start_time": "2022-10-09T14:05:30.614Z"
   },
   {
    "duration": 141,
    "start_time": "2022-10-09T14:05:54.175Z"
   },
   {
    "duration": 139,
    "start_time": "2022-10-09T14:06:04.638Z"
   },
   {
    "duration": 141,
    "start_time": "2022-10-09T14:06:23.270Z"
   },
   {
    "duration": 432,
    "start_time": "2022-10-09T14:06:52.694Z"
   },
   {
    "duration": 652,
    "start_time": "2022-10-09T14:14:52.759Z"
   },
   {
    "duration": 439,
    "start_time": "2022-10-09T14:20:07.083Z"
   },
   {
    "duration": 437,
    "start_time": "2022-10-09T14:20:15.754Z"
   },
   {
    "duration": 527,
    "start_time": "2022-10-09T14:20:31.314Z"
   },
   {
    "duration": 478,
    "start_time": "2022-10-09T14:20:39.520Z"
   },
   {
    "duration": 521,
    "start_time": "2022-10-09T14:21:10.162Z"
   },
   {
    "duration": 358,
    "start_time": "2022-10-09T14:21:17.276Z"
   },
   {
    "duration": 379,
    "start_time": "2022-10-09T14:21:47.729Z"
   },
   {
    "duration": 445,
    "start_time": "2022-10-09T14:21:54.478Z"
   },
   {
    "duration": 378,
    "start_time": "2022-10-09T14:22:05.270Z"
   },
   {
    "duration": 371,
    "start_time": "2022-10-09T14:22:13.777Z"
   },
   {
    "duration": 466,
    "start_time": "2022-10-09T14:22:22.238Z"
   },
   {
    "duration": 375,
    "start_time": "2022-10-09T14:22:31.509Z"
   },
   {
    "duration": 450,
    "start_time": "2022-10-09T14:22:45.116Z"
   },
   {
    "duration": 545,
    "start_time": "2022-10-09T14:22:57.258Z"
   },
   {
    "duration": 4008,
    "start_time": "2022-10-09T14:23:08.681Z"
   },
   {
    "duration": 1386,
    "start_time": "2022-10-09T14:23:28.289Z"
   },
   {
    "duration": 783,
    "start_time": "2022-10-09T14:23:41.581Z"
   },
   {
    "duration": 868,
    "start_time": "2022-10-09T14:23:59.917Z"
   },
   {
    "duration": 1094,
    "start_time": "2022-10-09T14:24:16.113Z"
   },
   {
    "duration": 646,
    "start_time": "2022-10-09T14:24:26.435Z"
   },
   {
    "duration": 640,
    "start_time": "2022-10-09T14:24:48.437Z"
   },
   {
    "duration": 10,
    "start_time": "2022-10-09T14:25:33.346Z"
   },
   {
    "duration": 861,
    "start_time": "2022-10-09T14:26:18.392Z"
   },
   {
    "duration": 763,
    "start_time": "2022-10-09T14:26:41.334Z"
   },
   {
    "duration": 845,
    "start_time": "2022-10-09T14:27:01.006Z"
   },
   {
    "duration": 1108,
    "start_time": "2022-10-09T14:27:16.465Z"
   },
   {
    "duration": 747,
    "start_time": "2022-10-09T14:27:30.650Z"
   },
   {
    "duration": 652,
    "start_time": "2022-10-09T14:27:43.199Z"
   },
   {
    "duration": 523,
    "start_time": "2022-10-09T14:28:02.050Z"
   },
   {
    "duration": 494,
    "start_time": "2022-10-09T14:28:15.313Z"
   },
   {
    "duration": 583,
    "start_time": "2022-10-09T14:28:24.914Z"
   },
   {
    "duration": 528,
    "start_time": "2022-10-09T14:28:33.813Z"
   },
   {
    "duration": 571,
    "start_time": "2022-10-09T14:28:51.161Z"
   },
   {
    "duration": 607,
    "start_time": "2022-10-09T14:28:59.503Z"
   },
   {
    "duration": 588,
    "start_time": "2022-10-09T14:29:11.493Z"
   },
   {
    "duration": 546,
    "start_time": "2022-10-09T14:29:24.361Z"
   },
   {
    "duration": 676,
    "start_time": "2022-10-09T14:29:53.277Z"
   },
   {
    "duration": 551,
    "start_time": "2022-10-09T14:30:05.045Z"
   },
   {
    "duration": 620,
    "start_time": "2022-10-09T14:30:51.952Z"
   },
   {
    "duration": 539,
    "start_time": "2022-10-09T14:31:02.386Z"
   },
   {
    "duration": 561,
    "start_time": "2022-10-09T14:31:12.679Z"
   },
   {
    "duration": 10,
    "start_time": "2022-10-09T14:36:03.477Z"
   },
   {
    "duration": 568,
    "start_time": "2022-10-09T14:36:12.582Z"
   },
   {
    "duration": 139,
    "start_time": "2022-10-09T14:37:18.283Z"
   },
   {
    "duration": 452,
    "start_time": "2022-10-09T14:37:29.930Z"
   },
   {
    "duration": 593,
    "start_time": "2022-10-09T14:39:51.783Z"
   },
   {
    "duration": 639,
    "start_time": "2022-10-09T14:40:06.474Z"
   },
   {
    "duration": 509,
    "start_time": "2022-10-09T14:40:19.456Z"
   },
   {
    "duration": 1173,
    "start_time": "2022-10-09T14:40:30.623Z"
   },
   {
    "duration": 618,
    "start_time": "2022-10-09T14:40:49.313Z"
   },
   {
    "duration": 644,
    "start_time": "2022-10-09T14:40:58.172Z"
   },
   {
    "duration": 545,
    "start_time": "2022-10-09T14:42:00.141Z"
   },
   {
    "duration": 476,
    "start_time": "2022-10-09T14:42:11.062Z"
   },
   {
    "duration": 850,
    "start_time": "2022-10-09T14:42:20.537Z"
   },
   {
    "duration": 547,
    "start_time": "2022-10-09T14:42:37.413Z"
   },
   {
    "duration": 628,
    "start_time": "2022-10-09T14:42:45.622Z"
   },
   {
    "duration": 475,
    "start_time": "2022-10-09T14:42:53.085Z"
   },
   {
    "duration": 648,
    "start_time": "2022-10-09T14:43:01.926Z"
   },
   {
    "duration": 523,
    "start_time": "2022-10-09T14:43:15.630Z"
   },
   {
    "duration": 571,
    "start_time": "2022-10-09T14:53:48.735Z"
   },
   {
    "duration": 613,
    "start_time": "2022-10-09T14:54:10.007Z"
   },
   {
    "duration": 607,
    "start_time": "2022-10-09T14:54:30.926Z"
   },
   {
    "duration": 798,
    "start_time": "2022-10-09T14:54:46.933Z"
   },
   {
    "duration": 556,
    "start_time": "2022-10-09T14:55:02.738Z"
   },
   {
    "duration": 552,
    "start_time": "2022-10-09T14:55:16.595Z"
   },
   {
    "duration": 528,
    "start_time": "2022-10-09T14:55:34.298Z"
   },
   {
    "duration": 561,
    "start_time": "2022-10-09T14:55:48.835Z"
   },
   {
    "duration": 763,
    "start_time": "2022-10-09T14:56:01.924Z"
   },
   {
    "duration": 574,
    "start_time": "2022-10-09T14:56:17.472Z"
   },
   {
    "duration": 551,
    "start_time": "2022-10-09T14:56:31.040Z"
   },
   {
    "duration": 172,
    "start_time": "2022-10-09T15:12:10.485Z"
   },
   {
    "duration": 164,
    "start_time": "2022-10-09T15:12:41.106Z"
   },
   {
    "duration": 131,
    "start_time": "2022-10-09T15:18:48.493Z"
   },
   {
    "duration": 135,
    "start_time": "2022-10-09T15:19:43.681Z"
   },
   {
    "duration": 135,
    "start_time": "2022-10-09T15:20:07.916Z"
   },
   {
    "duration": 121,
    "start_time": "2022-10-09T15:20:43.122Z"
   },
   {
    "duration": 128,
    "start_time": "2022-10-09T15:20:58.098Z"
   },
   {
    "duration": 138,
    "start_time": "2022-10-09T15:21:18.732Z"
   },
   {
    "duration": 157,
    "start_time": "2022-10-09T15:21:46.983Z"
   },
   {
    "duration": 172,
    "start_time": "2022-10-09T15:22:21.866Z"
   },
   {
    "duration": 166,
    "start_time": "2022-10-09T15:37:52.044Z"
   },
   {
    "duration": 146,
    "start_time": "2022-10-09T15:38:16.768Z"
   },
   {
    "duration": 135,
    "start_time": "2022-10-09T15:38:57.537Z"
   },
   {
    "duration": 126,
    "start_time": "2022-10-09T15:39:26.547Z"
   },
   {
    "duration": 155,
    "start_time": "2022-10-09T15:41:04.522Z"
   },
   {
    "duration": 158,
    "start_time": "2022-10-09T15:44:55.203Z"
   },
   {
    "duration": 176,
    "start_time": "2022-10-09T15:45:17.373Z"
   },
   {
    "duration": 171,
    "start_time": "2022-10-09T15:45:27.388Z"
   },
   {
    "duration": 176,
    "start_time": "2022-10-09T15:47:49.765Z"
   },
   {
    "duration": 175,
    "start_time": "2022-10-09T15:48:00.233Z"
   },
   {
    "duration": 206,
    "start_time": "2022-10-09T15:49:16.198Z"
   },
   {
    "duration": 181,
    "start_time": "2022-10-09T15:49:37.699Z"
   },
   {
    "duration": 155,
    "start_time": "2022-10-09T15:50:04.853Z"
   },
   {
    "duration": 187,
    "start_time": "2022-10-09T15:50:53.330Z"
   },
   {
    "duration": 144,
    "start_time": "2022-10-09T15:51:13.208Z"
   },
   {
    "duration": 394,
    "start_time": "2022-10-09T15:52:02.027Z"
   },
   {
    "duration": 142,
    "start_time": "2022-10-09T15:52:33.723Z"
   },
   {
    "duration": 158,
    "start_time": "2022-10-09T15:52:48.473Z"
   },
   {
    "duration": 136,
    "start_time": "2022-10-09T15:52:58.209Z"
   },
   {
    "duration": 137,
    "start_time": "2022-10-09T15:58:25.212Z"
   },
   {
    "duration": 190,
    "start_time": "2022-10-09T15:59:00.655Z"
   },
   {
    "duration": 194,
    "start_time": "2022-10-09T15:59:08.208Z"
   },
   {
    "duration": 138,
    "start_time": "2022-10-09T15:59:25.905Z"
   },
   {
    "duration": 142,
    "start_time": "2022-10-09T15:59:35.419Z"
   },
   {
    "duration": 196,
    "start_time": "2022-10-09T15:59:46.043Z"
   },
   {
    "duration": 183,
    "start_time": "2022-10-09T16:05:28.039Z"
   },
   {
    "duration": 184,
    "start_time": "2022-10-09T16:05:38.570Z"
   },
   {
    "duration": 203,
    "start_time": "2022-10-09T16:06:59.732Z"
   },
   {
    "duration": 228,
    "start_time": "2022-10-09T16:07:10.530Z"
   },
   {
    "duration": 184,
    "start_time": "2022-10-09T16:07:23.737Z"
   },
   {
    "duration": 170,
    "start_time": "2022-10-09T16:07:32.315Z"
   },
   {
    "duration": 211,
    "start_time": "2022-10-09T16:07:42.638Z"
   },
   {
    "duration": 167,
    "start_time": "2022-10-09T16:07:50.892Z"
   },
   {
    "duration": 189,
    "start_time": "2022-10-09T16:08:10.191Z"
   },
   {
    "duration": 188,
    "start_time": "2022-10-09T16:08:38.531Z"
   },
   {
    "duration": 180,
    "start_time": "2022-10-09T16:10:40.597Z"
   },
   {
    "duration": 188,
    "start_time": "2022-10-09T16:18:38.615Z"
   },
   {
    "duration": 10,
    "start_time": "2022-10-09T16:35:53.696Z"
   },
   {
    "duration": 16,
    "start_time": "2022-10-09T16:36:13.576Z"
   },
   {
    "duration": 13,
    "start_time": "2022-10-09T16:36:27.023Z"
   },
   {
    "duration": 23,
    "start_time": "2022-10-09T16:36:53.565Z"
   },
   {
    "duration": 195,
    "start_time": "2022-10-09T16:37:33.745Z"
   },
   {
    "duration": 11,
    "start_time": "2022-10-09T16:37:58.004Z"
   },
   {
    "duration": 16,
    "start_time": "2022-10-09T16:38:19.903Z"
   },
   {
    "duration": 11,
    "start_time": "2022-10-09T16:38:28.627Z"
   },
   {
    "duration": 11,
    "start_time": "2022-10-09T16:38:57.129Z"
   },
   {
    "duration": 87,
    "start_time": "2022-10-09T16:39:17.256Z"
   },
   {
    "duration": 11,
    "start_time": "2022-10-09T16:39:39.854Z"
   },
   {
    "duration": 11,
    "start_time": "2022-10-09T16:40:07.548Z"
   },
   {
    "duration": 1186,
    "start_time": "2022-10-09T16:40:20.926Z"
   },
   {
    "duration": 71,
    "start_time": "2022-10-09T16:40:22.114Z"
   },
   {
    "duration": 4,
    "start_time": "2022-10-09T16:40:22.187Z"
   },
   {
    "duration": 25,
    "start_time": "2022-10-09T16:40:22.193Z"
   },
   {
    "duration": 745,
    "start_time": "2022-10-09T16:40:22.219Z"
   },
   {
    "duration": 3,
    "start_time": "2022-10-09T16:40:22.966Z"
   },
   {
    "duration": 24,
    "start_time": "2022-10-09T16:40:22.970Z"
   },
   {
    "duration": 7,
    "start_time": "2022-10-09T16:40:22.995Z"
   },
   {
    "duration": 31,
    "start_time": "2022-10-09T16:40:23.003Z"
   },
   {
    "duration": 9,
    "start_time": "2022-10-09T16:40:23.038Z"
   },
   {
    "duration": 10,
    "start_time": "2022-10-09T16:40:23.048Z"
   },
   {
    "duration": 85052,
    "start_time": "2022-10-09T16:40:23.059Z"
   },
   {
    "duration": 20,
    "start_time": "2022-10-09T16:41:48.113Z"
   },
   {
    "duration": 6,
    "start_time": "2022-10-09T16:41:48.135Z"
   },
   {
    "duration": 16,
    "start_time": "2022-10-09T16:41:48.143Z"
   },
   {
    "duration": 33,
    "start_time": "2022-10-09T16:41:48.161Z"
   },
   {
    "duration": 94991,
    "start_time": "2022-10-09T16:41:48.196Z"
   },
   {
    "duration": 5,
    "start_time": "2022-10-09T16:43:23.189Z"
   },
   {
    "duration": 12,
    "start_time": "2022-10-09T16:43:23.196Z"
   },
   {
    "duration": 24,
    "start_time": "2022-10-09T16:43:23.210Z"
   },
   {
    "duration": 5,
    "start_time": "2022-10-09T16:43:23.236Z"
   },
   {
    "duration": 24,
    "start_time": "2022-10-09T16:43:23.243Z"
   },
   {
    "duration": 8,
    "start_time": "2022-10-09T16:43:23.269Z"
   },
   {
    "duration": 10,
    "start_time": "2022-10-09T16:43:23.280Z"
   },
   {
    "duration": 194,
    "start_time": "2022-10-09T16:43:23.292Z"
   },
   {
    "duration": 1901,
    "start_time": "2022-10-09T16:43:23.487Z"
   },
   {
    "duration": 216,
    "start_time": "2022-10-09T16:43:25.389Z"
   },
   {
    "duration": 6,
    "start_time": "2022-10-09T16:43:25.609Z"
   },
   {
    "duration": 688,
    "start_time": "2022-10-09T16:43:25.617Z"
   },
   {
    "duration": 273,
    "start_time": "2022-10-09T16:43:26.307Z"
   },
   {
    "duration": 298,
    "start_time": "2022-10-09T16:43:26.582Z"
   },
   {
    "duration": 186,
    "start_time": "2022-10-09T16:43:26.882Z"
   },
   {
    "duration": 298,
    "start_time": "2022-10-09T16:43:27.070Z"
   },
   {
    "duration": 194,
    "start_time": "2022-10-09T16:43:27.369Z"
   },
   {
    "duration": 185,
    "start_time": "2022-10-09T16:43:27.565Z"
   },
   {
    "duration": 203,
    "start_time": "2022-10-09T16:43:27.752Z"
   },
   {
    "duration": 7,
    "start_time": "2022-10-09T16:43:27.957Z"
   },
   {
    "duration": 182,
    "start_time": "2022-10-09T16:47:00.547Z"
   },
   {
    "duration": 231,
    "start_time": "2022-10-09T16:47:57.222Z"
   },
   {
    "duration": 126,
    "start_time": "2022-10-09T16:54:15.054Z"
   },
   {
    "duration": 6,
    "start_time": "2022-10-09T16:54:31.950Z"
   },
   {
    "duration": 12,
    "start_time": "2022-10-09T16:55:02.598Z"
   },
   {
    "duration": 1143,
    "start_time": "2022-10-09T16:55:19.359Z"
   },
   {
    "duration": 76,
    "start_time": "2022-10-09T16:55:20.504Z"
   },
   {
    "duration": 4,
    "start_time": "2022-10-09T16:55:20.583Z"
   },
   {
    "duration": 24,
    "start_time": "2022-10-09T16:55:20.589Z"
   },
   {
    "duration": 858,
    "start_time": "2022-10-09T16:55:20.616Z"
   },
   {
    "duration": 4,
    "start_time": "2022-10-09T16:55:21.476Z"
   },
   {
    "duration": 30,
    "start_time": "2022-10-09T16:55:21.482Z"
   },
   {
    "duration": 8,
    "start_time": "2022-10-09T16:55:21.513Z"
   },
   {
    "duration": 35,
    "start_time": "2022-10-09T16:55:21.523Z"
   },
   {
    "duration": 10,
    "start_time": "2022-10-09T16:55:21.560Z"
   },
   {
    "duration": 8,
    "start_time": "2022-10-09T16:55:21.572Z"
   },
   {
    "duration": 93650,
    "start_time": "2022-10-09T16:55:21.582Z"
   },
   {
    "duration": 10,
    "start_time": "2022-10-09T16:56:55.234Z"
   },
   {
    "duration": 24,
    "start_time": "2022-10-09T16:56:55.248Z"
   },
   {
    "duration": 17,
    "start_time": "2022-10-09T16:56:55.273Z"
   },
   {
    "duration": 18,
    "start_time": "2022-10-09T16:56:55.291Z"
   },
   {
    "duration": 101990,
    "start_time": "2022-10-09T16:56:55.311Z"
   },
   {
    "duration": 5,
    "start_time": "2022-10-09T16:58:37.303Z"
   },
   {
    "duration": 8,
    "start_time": "2022-10-09T16:58:37.310Z"
   },
   {
    "duration": 26,
    "start_time": "2022-10-09T16:58:37.319Z"
   },
   {
    "duration": 12,
    "start_time": "2022-10-09T16:58:37.347Z"
   },
   {
    "duration": 20,
    "start_time": "2022-10-09T16:58:37.360Z"
   },
   {
    "duration": 8,
    "start_time": "2022-10-09T16:58:37.382Z"
   },
   {
    "duration": 11,
    "start_time": "2022-10-09T16:58:37.391Z"
   },
   {
    "duration": 169,
    "start_time": "2022-10-09T16:58:37.404Z"
   },
   {
    "duration": 2129,
    "start_time": "2022-10-09T16:58:37.575Z"
   },
   {
    "duration": 187,
    "start_time": "2022-10-09T16:58:39.706Z"
   },
   {
    "duration": 6,
    "start_time": "2022-10-09T16:58:39.895Z"
   },
   {
    "duration": 694,
    "start_time": "2022-10-09T16:58:39.903Z"
   },
   {
    "duration": 192,
    "start_time": "2022-10-09T16:58:40.599Z"
   },
   {
    "duration": 204,
    "start_time": "2022-10-09T16:58:40.792Z"
   },
   {
    "duration": 208,
    "start_time": "2022-10-09T16:58:40.997Z"
   },
   {
    "duration": 316,
    "start_time": "2022-10-09T16:58:41.207Z"
   },
   {
    "duration": 256,
    "start_time": "2022-10-09T16:58:41.533Z"
   },
   {
    "duration": 239,
    "start_time": "2022-10-09T16:58:41.791Z"
   },
   {
    "duration": 498,
    "start_time": "2022-10-09T16:58:42.032Z"
   },
   {
    "duration": 7,
    "start_time": "2022-10-09T16:58:42.534Z"
   },
   {
    "duration": 129,
    "start_time": "2022-10-09T16:58:42.543Z"
   },
   {
    "duration": 0,
    "start_time": "2022-10-09T16:58:42.673Z"
   },
   {
    "duration": 0,
    "start_time": "2022-10-09T16:58:42.675Z"
   },
   {
    "duration": 13,
    "start_time": "2022-10-09T17:01:04.286Z"
   },
   {
    "duration": 13,
    "start_time": "2022-10-09T17:01:13.374Z"
   },
   {
    "duration": 11,
    "start_time": "2022-10-09T17:01:20.969Z"
   },
   {
    "duration": 12,
    "start_time": "2022-10-09T17:01:55.219Z"
   },
   {
    "duration": 13,
    "start_time": "2022-10-09T17:02:00.752Z"
   },
   {
    "duration": 16,
    "start_time": "2022-10-09T17:02:06.322Z"
   },
   {
    "duration": 12,
    "start_time": "2022-10-09T17:02:20.078Z"
   },
   {
    "duration": 1267,
    "start_time": "2022-10-10T04:43:53.228Z"
   },
   {
    "duration": 121,
    "start_time": "2022-10-10T04:43:54.497Z"
   },
   {
    "duration": 4,
    "start_time": "2022-10-10T04:43:54.619Z"
   },
   {
    "duration": 42,
    "start_time": "2022-10-10T04:43:54.625Z"
   },
   {
    "duration": 841,
    "start_time": "2022-10-10T04:43:54.669Z"
   },
   {
    "duration": 4,
    "start_time": "2022-10-10T04:43:55.511Z"
   },
   {
    "duration": 43,
    "start_time": "2022-10-10T04:43:55.517Z"
   },
   {
    "duration": 49,
    "start_time": "2022-10-10T04:43:55.562Z"
   },
   {
    "duration": 39,
    "start_time": "2022-10-10T04:43:55.613Z"
   },
   {
    "duration": 10,
    "start_time": "2022-10-10T04:43:55.655Z"
   },
   {
    "duration": 37,
    "start_time": "2022-10-10T04:43:55.667Z"
   },
   {
    "duration": 88787,
    "start_time": "2022-10-10T04:43:55.706Z"
   },
   {
    "duration": 9,
    "start_time": "2022-10-10T04:45:24.495Z"
   },
   {
    "duration": 10,
    "start_time": "2022-10-10T04:45:24.506Z"
   },
   {
    "duration": 12,
    "start_time": "2022-10-10T04:45:24.517Z"
   },
   {
    "duration": 10,
    "start_time": "2022-10-10T04:45:24.530Z"
   },
   {
    "duration": 97367,
    "start_time": "2022-10-10T04:45:24.541Z"
   },
   {
    "duration": 7,
    "start_time": "2022-10-10T04:47:01.910Z"
   },
   {
    "duration": 23,
    "start_time": "2022-10-10T04:47:01.918Z"
   },
   {
    "duration": 73,
    "start_time": "2022-10-10T04:47:01.942Z"
   },
   {
    "duration": 39,
    "start_time": "2022-10-10T04:47:02.016Z"
   },
   {
    "duration": 83,
    "start_time": "2022-10-10T04:47:02.057Z"
   },
   {
    "duration": 69,
    "start_time": "2022-10-10T04:47:02.142Z"
   },
   {
    "duration": 36,
    "start_time": "2022-10-10T04:47:02.213Z"
   },
   {
    "duration": 225,
    "start_time": "2022-10-10T04:47:02.251Z"
   },
   {
    "duration": 1977,
    "start_time": "2022-10-10T04:47:02.477Z"
   },
   {
    "duration": 183,
    "start_time": "2022-10-10T04:47:04.455Z"
   },
   {
    "duration": 5,
    "start_time": "2022-10-10T04:47:04.641Z"
   },
   {
    "duration": 705,
    "start_time": "2022-10-10T04:47:04.647Z"
   },
   {
    "duration": 244,
    "start_time": "2022-10-10T04:47:05.355Z"
   },
   {
    "duration": 214,
    "start_time": "2022-10-10T04:47:05.606Z"
   },
   {
    "duration": 210,
    "start_time": "2022-10-10T04:47:05.822Z"
   },
   {
    "duration": 315,
    "start_time": "2022-10-10T04:47:06.034Z"
   },
   {
    "duration": 219,
    "start_time": "2022-10-10T04:47:06.351Z"
   },
   {
    "duration": 186,
    "start_time": "2022-10-10T04:47:06.580Z"
   },
   {
    "duration": 526,
    "start_time": "2022-10-10T04:47:06.768Z"
   },
   {
    "duration": 118,
    "start_time": "2022-10-10T04:47:07.295Z"
   },
   {
    "duration": 0,
    "start_time": "2022-10-10T04:47:07.415Z"
   },
   {
    "duration": 0,
    "start_time": "2022-10-10T04:47:07.416Z"
   },
   {
    "duration": 0,
    "start_time": "2022-10-10T04:47:07.417Z"
   },
   {
    "duration": 0,
    "start_time": "2022-10-10T04:47:07.418Z"
   },
   {
    "duration": 0,
    "start_time": "2022-10-10T04:47:07.418Z"
   },
   {
    "duration": 17,
    "start_time": "2022-10-10T04:47:50.374Z"
   },
   {
    "duration": 16,
    "start_time": "2022-10-10T04:47:57.988Z"
   },
   {
    "duration": 12,
    "start_time": "2022-10-10T04:48:33.448Z"
   },
   {
    "duration": 91,
    "start_time": "2022-10-10T04:48:44.264Z"
   },
   {
    "duration": 151,
    "start_time": "2022-10-10T04:49:16.075Z"
   },
   {
    "duration": 15,
    "start_time": "2022-10-10T04:50:31.565Z"
   },
   {
    "duration": 1099,
    "start_time": "2022-10-10T04:50:43.329Z"
   },
   {
    "duration": 68,
    "start_time": "2022-10-10T04:50:44.429Z"
   },
   {
    "duration": 3,
    "start_time": "2022-10-10T04:50:44.499Z"
   },
   {
    "duration": 20,
    "start_time": "2022-10-10T04:50:44.504Z"
   },
   {
    "duration": 807,
    "start_time": "2022-10-10T04:50:44.526Z"
   },
   {
    "duration": 4,
    "start_time": "2022-10-10T04:50:45.335Z"
   },
   {
    "duration": 55,
    "start_time": "2022-10-10T04:50:45.341Z"
   },
   {
    "duration": 26,
    "start_time": "2022-10-10T04:50:45.398Z"
   },
   {
    "duration": 36,
    "start_time": "2022-10-10T04:50:45.428Z"
   },
   {
    "duration": 19,
    "start_time": "2022-10-10T04:50:45.468Z"
   },
   {
    "duration": 37,
    "start_time": "2022-10-10T04:50:45.488Z"
   },
   {
    "duration": 83575,
    "start_time": "2022-10-10T04:50:45.527Z"
   },
   {
    "duration": 7,
    "start_time": "2022-10-10T04:52:09.105Z"
   },
   {
    "duration": 4,
    "start_time": "2022-10-10T04:52:09.114Z"
   },
   {
    "duration": 14,
    "start_time": "2022-10-10T04:52:09.120Z"
   },
   {
    "duration": 10,
    "start_time": "2022-10-10T04:52:09.135Z"
   },
   {
    "duration": 94118,
    "start_time": "2022-10-10T04:52:09.146Z"
   },
   {
    "duration": 5,
    "start_time": "2022-10-10T04:53:43.266Z"
   },
   {
    "duration": 9,
    "start_time": "2022-10-10T04:53:43.280Z"
   },
   {
    "duration": 13,
    "start_time": "2022-10-10T04:53:43.293Z"
   },
   {
    "duration": 5,
    "start_time": "2022-10-10T04:53:43.308Z"
   },
   {
    "duration": 19,
    "start_time": "2022-10-10T04:53:43.315Z"
   },
   {
    "duration": 8,
    "start_time": "2022-10-10T04:53:43.335Z"
   },
   {
    "duration": 7,
    "start_time": "2022-10-10T04:53:43.345Z"
   },
   {
    "duration": 161,
    "start_time": "2022-10-10T04:53:43.353Z"
   },
   {
    "duration": 2019,
    "start_time": "2022-10-10T04:53:43.516Z"
   },
   {
    "duration": 194,
    "start_time": "2022-10-10T04:53:45.537Z"
   },
   {
    "duration": 6,
    "start_time": "2022-10-10T04:53:45.735Z"
   },
   {
    "duration": 730,
    "start_time": "2022-10-10T04:53:45.743Z"
   },
   {
    "duration": 219,
    "start_time": "2022-10-10T04:53:46.475Z"
   },
   {
    "duration": 206,
    "start_time": "2022-10-10T04:53:46.696Z"
   },
   {
    "duration": 242,
    "start_time": "2022-10-10T04:53:46.903Z"
   },
   {
    "duration": 329,
    "start_time": "2022-10-10T04:53:47.147Z"
   },
   {
    "duration": 221,
    "start_time": "2022-10-10T04:53:47.482Z"
   },
   {
    "duration": 224,
    "start_time": "2022-10-10T04:53:47.705Z"
   },
   {
    "duration": 253,
    "start_time": "2022-10-10T04:53:47.932Z"
   },
   {
    "duration": 190,
    "start_time": "2022-10-10T04:53:48.186Z"
   },
   {
    "duration": 198,
    "start_time": "2022-10-10T04:53:48.378Z"
   },
   {
    "duration": 212,
    "start_time": "2022-10-10T04:53:48.578Z"
   },
   {
    "duration": 0,
    "start_time": "2022-10-10T04:53:48.793Z"
   },
   {
    "duration": 0,
    "start_time": "2022-10-10T04:53:48.794Z"
   },
   {
    "duration": 101,
    "start_time": "2022-10-10T04:58:39.807Z"
   },
   {
    "duration": 228,
    "start_time": "2022-10-10T05:01:02.097Z"
   },
   {
    "duration": 3343,
    "start_time": "2022-10-10T05:01:19.582Z"
   },
   {
    "duration": 200,
    "start_time": "2022-10-10T05:01:34.936Z"
   },
   {
    "duration": 194,
    "start_time": "2022-10-10T05:01:59.530Z"
   },
   {
    "duration": 292,
    "start_time": "2022-10-10T05:02:15.219Z"
   },
   {
    "duration": 188,
    "start_time": "2022-10-10T05:02:25.630Z"
   },
   {
    "duration": 146,
    "start_time": "2022-10-10T05:02:54.575Z"
   },
   {
    "duration": 184,
    "start_time": "2022-10-10T05:03:07.164Z"
   },
   {
    "duration": 11,
    "start_time": "2022-10-10T05:03:23.336Z"
   },
   {
    "duration": 77,
    "start_time": "2022-10-10T05:03:34.449Z"
   },
   {
    "duration": 13,
    "start_time": "2022-10-10T05:03:47.240Z"
   },
   {
    "duration": 53,
    "start_time": "2022-10-10T05:03:53.165Z"
   },
   {
    "duration": 200,
    "start_time": "2022-10-10T05:03:58.896Z"
   },
   {
    "duration": 43,
    "start_time": "2022-10-10T05:04:35.196Z"
   },
   {
    "duration": 14,
    "start_time": "2022-10-10T05:04:49.069Z"
   },
   {
    "duration": 10,
    "start_time": "2022-10-10T05:04:59.047Z"
   },
   {
    "duration": 12,
    "start_time": "2022-10-10T05:05:13.628Z"
   },
   {
    "duration": 12,
    "start_time": "2022-10-10T05:06:00.028Z"
   },
   {
    "duration": 1475,
    "start_time": "2022-10-10T05:06:09.247Z"
   },
   {
    "duration": 79,
    "start_time": "2022-10-10T05:06:10.724Z"
   },
   {
    "duration": 4,
    "start_time": "2022-10-10T05:06:10.804Z"
   },
   {
    "duration": 22,
    "start_time": "2022-10-10T05:06:10.810Z"
   },
   {
    "duration": 876,
    "start_time": "2022-10-10T05:06:10.834Z"
   },
   {
    "duration": 3,
    "start_time": "2022-10-10T05:06:11.713Z"
   },
   {
    "duration": 34,
    "start_time": "2022-10-10T05:06:11.718Z"
   },
   {
    "duration": 11,
    "start_time": "2022-10-10T05:06:11.754Z"
   },
   {
    "duration": 55,
    "start_time": "2022-10-10T05:06:11.766Z"
   },
   {
    "duration": 9,
    "start_time": "2022-10-10T05:06:11.824Z"
   },
   {
    "duration": 10,
    "start_time": "2022-10-10T05:06:11.835Z"
   },
   {
    "duration": 89907,
    "start_time": "2022-10-10T05:06:11.847Z"
   },
   {
    "duration": 9,
    "start_time": "2022-10-10T05:07:41.756Z"
   },
   {
    "duration": 10,
    "start_time": "2022-10-10T05:07:41.784Z"
   },
   {
    "duration": 38,
    "start_time": "2022-10-10T05:07:41.797Z"
   },
   {
    "duration": 15,
    "start_time": "2022-10-10T05:07:41.838Z"
   },
   {
    "duration": 99102,
    "start_time": "2022-10-10T05:07:41.854Z"
   },
   {
    "duration": 5,
    "start_time": "2022-10-10T05:09:20.957Z"
   },
   {
    "duration": 45,
    "start_time": "2022-10-10T05:09:20.963Z"
   },
   {
    "duration": 26,
    "start_time": "2022-10-10T05:09:21.009Z"
   },
   {
    "duration": 20,
    "start_time": "2022-10-10T05:09:21.037Z"
   },
   {
    "duration": 56,
    "start_time": "2022-10-10T05:09:21.059Z"
   },
   {
    "duration": 9,
    "start_time": "2022-10-10T05:09:21.116Z"
   },
   {
    "duration": 17,
    "start_time": "2022-10-10T05:09:21.126Z"
   },
   {
    "duration": 164,
    "start_time": "2022-10-10T05:09:21.144Z"
   },
   {
    "duration": 2011,
    "start_time": "2022-10-10T05:09:21.310Z"
   },
   {
    "duration": 182,
    "start_time": "2022-10-10T05:09:23.322Z"
   },
   {
    "duration": 5,
    "start_time": "2022-10-10T05:09:23.507Z"
   },
   {
    "duration": 685,
    "start_time": "2022-10-10T05:09:23.514Z"
   },
   {
    "duration": 206,
    "start_time": "2022-10-10T05:09:24.202Z"
   },
   {
    "duration": 207,
    "start_time": "2022-10-10T05:09:24.410Z"
   },
   {
    "duration": 204,
    "start_time": "2022-10-10T05:09:24.619Z"
   },
   {
    "duration": 311,
    "start_time": "2022-10-10T05:09:24.825Z"
   },
   {
    "duration": 277,
    "start_time": "2022-10-10T05:09:25.138Z"
   },
   {
    "duration": 237,
    "start_time": "2022-10-10T05:09:25.418Z"
   },
   {
    "duration": 155,
    "start_time": "2022-10-10T05:09:25.657Z"
   },
   {
    "duration": 133,
    "start_time": "2022-10-10T05:09:25.813Z"
   },
   {
    "duration": 136,
    "start_time": "2022-10-10T05:09:25.948Z"
   },
   {
    "duration": 224,
    "start_time": "2022-10-10T05:09:26.086Z"
   },
   {
    "duration": 0,
    "start_time": "2022-10-10T05:09:26.312Z"
   },
   {
    "duration": 0,
    "start_time": "2022-10-10T05:09:26.314Z"
   },
   {
    "duration": 18,
    "start_time": "2022-10-10T05:24:10.995Z"
   },
   {
    "duration": 1138,
    "start_time": "2022-10-10T05:24:28.928Z"
   },
   {
    "duration": 78,
    "start_time": "2022-10-10T05:24:30.068Z"
   },
   {
    "duration": 4,
    "start_time": "2022-10-10T05:24:30.148Z"
   },
   {
    "duration": 38,
    "start_time": "2022-10-10T05:24:30.154Z"
   },
   {
    "duration": 855,
    "start_time": "2022-10-10T05:24:30.194Z"
   },
   {
    "duration": 3,
    "start_time": "2022-10-10T05:24:31.051Z"
   },
   {
    "duration": 48,
    "start_time": "2022-10-10T05:24:31.056Z"
   },
   {
    "duration": 24,
    "start_time": "2022-10-10T05:24:31.106Z"
   },
   {
    "duration": 41,
    "start_time": "2022-10-10T05:24:31.132Z"
   },
   {
    "duration": 31,
    "start_time": "2022-10-10T05:24:31.175Z"
   },
   {
    "duration": 24,
    "start_time": "2022-10-10T05:24:31.208Z"
   },
   {
    "duration": 90186,
    "start_time": "2022-10-10T05:24:31.234Z"
   },
   {
    "duration": 9,
    "start_time": "2022-10-10T05:26:01.421Z"
   },
   {
    "duration": 20,
    "start_time": "2022-10-10T05:26:01.431Z"
   },
   {
    "duration": 34,
    "start_time": "2022-10-10T05:26:01.452Z"
   },
   {
    "duration": 33,
    "start_time": "2022-10-10T05:26:01.487Z"
   },
   {
    "duration": 97126,
    "start_time": "2022-10-10T05:26:01.521Z"
   },
   {
    "duration": 5,
    "start_time": "2022-10-10T05:27:38.649Z"
   },
   {
    "duration": 5,
    "start_time": "2022-10-10T05:27:38.656Z"
   },
   {
    "duration": 22,
    "start_time": "2022-10-10T05:27:38.663Z"
   },
   {
    "duration": 27,
    "start_time": "2022-10-10T05:27:38.686Z"
   },
   {
    "duration": 16,
    "start_time": "2022-10-10T05:27:38.714Z"
   },
   {
    "duration": 10,
    "start_time": "2022-10-10T05:27:38.731Z"
   },
   {
    "duration": 7,
    "start_time": "2022-10-10T05:27:38.742Z"
   },
   {
    "duration": 153,
    "start_time": "2022-10-10T05:27:38.751Z"
   },
   {
    "duration": 2007,
    "start_time": "2022-10-10T05:27:38.905Z"
   },
   {
    "duration": 173,
    "start_time": "2022-10-10T05:27:40.913Z"
   },
   {
    "duration": 8,
    "start_time": "2022-10-10T05:27:41.089Z"
   },
   {
    "duration": 694,
    "start_time": "2022-10-10T05:27:41.104Z"
   },
   {
    "duration": 199,
    "start_time": "2022-10-10T05:27:41.804Z"
   },
   {
    "duration": 202,
    "start_time": "2022-10-10T05:27:42.005Z"
   },
   {
    "duration": 201,
    "start_time": "2022-10-10T05:27:42.208Z"
   },
   {
    "duration": 326,
    "start_time": "2022-10-10T05:27:42.412Z"
   },
   {
    "duration": 216,
    "start_time": "2022-10-10T05:27:42.740Z"
   },
   {
    "duration": 195,
    "start_time": "2022-10-10T05:27:42.958Z"
   },
   {
    "duration": 205,
    "start_time": "2022-10-10T05:27:43.154Z"
   },
   {
    "duration": 194,
    "start_time": "2022-10-10T05:27:43.361Z"
   },
   {
    "duration": 197,
    "start_time": "2022-10-10T05:27:43.557Z"
   },
   {
    "duration": 201,
    "start_time": "2022-10-10T05:27:43.756Z"
   },
   {
    "duration": 0,
    "start_time": "2022-10-10T05:27:43.958Z"
   },
   {
    "duration": 0,
    "start_time": "2022-10-10T05:27:43.960Z"
   },
   {
    "duration": 154,
    "start_time": "2022-10-10T06:00:30.992Z"
   },
   {
    "duration": 95,
    "start_time": "2022-10-10T06:04:52.761Z"
   },
   {
    "duration": 142,
    "start_time": "2022-10-10T06:05:45.217Z"
   },
   {
    "duration": 1793,
    "start_time": "2022-10-10T06:05:52.432Z"
   },
   {
    "duration": 1125,
    "start_time": "2022-10-10T06:06:41.907Z"
   },
   {
    "duration": 70,
    "start_time": "2022-10-10T06:06:43.035Z"
   },
   {
    "duration": 3,
    "start_time": "2022-10-10T06:06:43.107Z"
   },
   {
    "duration": 26,
    "start_time": "2022-10-10T06:06:43.112Z"
   },
   {
    "duration": 796,
    "start_time": "2022-10-10T06:06:43.140Z"
   },
   {
    "duration": 3,
    "start_time": "2022-10-10T06:06:43.938Z"
   },
   {
    "duration": 46,
    "start_time": "2022-10-10T06:06:43.942Z"
   },
   {
    "duration": 30,
    "start_time": "2022-10-10T06:06:43.989Z"
   },
   {
    "duration": 22,
    "start_time": "2022-10-10T06:06:44.021Z"
   },
   {
    "duration": 11,
    "start_time": "2022-10-10T06:06:44.046Z"
   },
   {
    "duration": 11,
    "start_time": "2022-10-10T06:06:44.059Z"
   },
   {
    "duration": 93504,
    "start_time": "2022-10-10T06:06:44.071Z"
   },
   {
    "duration": 21,
    "start_time": "2022-10-10T06:08:17.581Z"
   },
   {
    "duration": 19,
    "start_time": "2022-10-10T06:08:17.604Z"
   },
   {
    "duration": 17,
    "start_time": "2022-10-10T06:08:17.625Z"
   },
   {
    "duration": 21,
    "start_time": "2022-10-10T06:08:17.645Z"
   },
   {
    "duration": 102836,
    "start_time": "2022-10-10T06:08:17.667Z"
   },
   {
    "duration": 8,
    "start_time": "2022-10-10T06:10:00.505Z"
   },
   {
    "duration": 26,
    "start_time": "2022-10-10T06:10:00.515Z"
   },
   {
    "duration": 32,
    "start_time": "2022-10-10T06:10:00.543Z"
   },
   {
    "duration": 48,
    "start_time": "2022-10-10T06:10:00.584Z"
   },
   {
    "duration": 33,
    "start_time": "2022-10-10T06:10:00.634Z"
   },
   {
    "duration": 62,
    "start_time": "2022-10-10T06:10:00.668Z"
   },
   {
    "duration": 15,
    "start_time": "2022-10-10T06:10:00.732Z"
   },
   {
    "duration": 205,
    "start_time": "2022-10-10T06:10:00.749Z"
   },
   {
    "duration": 2110,
    "start_time": "2022-10-10T06:10:00.955Z"
   },
   {
    "duration": 189,
    "start_time": "2022-10-10T06:10:03.067Z"
   },
   {
    "duration": 23,
    "start_time": "2022-10-10T06:10:03.260Z"
   },
   {
    "duration": 676,
    "start_time": "2022-10-10T06:10:03.288Z"
   },
   {
    "duration": 197,
    "start_time": "2022-10-10T06:10:03.966Z"
   },
   {
    "duration": 208,
    "start_time": "2022-10-10T06:10:04.165Z"
   },
   {
    "duration": 207,
    "start_time": "2022-10-10T06:10:04.375Z"
   },
   {
    "duration": 318,
    "start_time": "2022-10-10T06:10:04.584Z"
   },
   {
    "duration": 209,
    "start_time": "2022-10-10T06:10:04.904Z"
   },
   {
    "duration": 228,
    "start_time": "2022-10-10T06:10:05.114Z"
   },
   {
    "duration": 255,
    "start_time": "2022-10-10T06:10:05.344Z"
   },
   {
    "duration": 208,
    "start_time": "2022-10-10T06:10:05.601Z"
   },
   {
    "duration": 208,
    "start_time": "2022-10-10T06:10:05.810Z"
   },
   {
    "duration": 1437,
    "start_time": "2022-10-10T06:10:06.020Z"
   },
   {
    "duration": 0,
    "start_time": "2022-10-10T06:10:07.459Z"
   },
   {
    "duration": 1199,
    "start_time": "2022-10-10T06:11:58.995Z"
   },
   {
    "duration": 1095,
    "start_time": "2022-10-10T06:12:20.042Z"
   },
   {
    "duration": 13,
    "start_time": "2022-10-10T06:21:49.304Z"
   },
   {
    "duration": 1095,
    "start_time": "2022-10-10T06:22:43.747Z"
   },
   {
    "duration": 72,
    "start_time": "2022-10-10T06:22:44.844Z"
   },
   {
    "duration": 4,
    "start_time": "2022-10-10T06:22:44.918Z"
   },
   {
    "duration": 21,
    "start_time": "2022-10-10T06:22:44.924Z"
   },
   {
    "duration": 929,
    "start_time": "2022-10-10T06:22:44.946Z"
   },
   {
    "duration": 3,
    "start_time": "2022-10-10T06:22:45.877Z"
   },
   {
    "duration": 45,
    "start_time": "2022-10-10T06:22:45.886Z"
   },
   {
    "duration": 18,
    "start_time": "2022-10-10T06:22:45.933Z"
   },
   {
    "duration": 18,
    "start_time": "2022-10-10T06:22:45.953Z"
   },
   {
    "duration": 14,
    "start_time": "2022-10-10T06:22:45.974Z"
   },
   {
    "duration": 31,
    "start_time": "2022-10-10T06:22:45.990Z"
   },
   {
    "duration": 93634,
    "start_time": "2022-10-10T06:22:46.023Z"
   },
   {
    "duration": 17,
    "start_time": "2022-10-10T06:24:19.659Z"
   },
   {
    "duration": 14,
    "start_time": "2022-10-10T06:24:19.684Z"
   },
   {
    "duration": 21,
    "start_time": "2022-10-10T06:24:19.700Z"
   },
   {
    "duration": 15,
    "start_time": "2022-10-10T06:24:19.723Z"
   },
   {
    "duration": 102628,
    "start_time": "2022-10-10T06:24:19.740Z"
   },
   {
    "duration": 13,
    "start_time": "2022-10-10T06:26:02.370Z"
   },
   {
    "duration": 44,
    "start_time": "2022-10-10T06:26:02.385Z"
   },
   {
    "duration": 29,
    "start_time": "2022-10-10T06:26:02.431Z"
   },
   {
    "duration": 42,
    "start_time": "2022-10-10T06:26:02.462Z"
   },
   {
    "duration": 30,
    "start_time": "2022-10-10T06:26:02.506Z"
   },
   {
    "duration": 14,
    "start_time": "2022-10-10T06:26:02.538Z"
   },
   {
    "duration": 18,
    "start_time": "2022-10-10T06:26:02.554Z"
   },
   {
    "duration": 173,
    "start_time": "2022-10-10T06:26:02.573Z"
   },
   {
    "duration": 2070,
    "start_time": "2022-10-10T06:26:02.748Z"
   },
   {
    "duration": 192,
    "start_time": "2022-10-10T06:26:04.820Z"
   },
   {
    "duration": 5,
    "start_time": "2022-10-10T06:26:05.016Z"
   },
   {
    "duration": 780,
    "start_time": "2022-10-10T06:26:05.023Z"
   },
   {
    "duration": 198,
    "start_time": "2022-10-10T06:26:05.805Z"
   },
   {
    "duration": 205,
    "start_time": "2022-10-10T06:26:06.005Z"
   },
   {
    "duration": 222,
    "start_time": "2022-10-10T06:26:06.212Z"
   },
   {
    "duration": 334,
    "start_time": "2022-10-10T06:26:06.435Z"
   },
   {
    "duration": 232,
    "start_time": "2022-10-10T06:26:06.771Z"
   },
   {
    "duration": 213,
    "start_time": "2022-10-10T06:26:07.006Z"
   },
   {
    "duration": 207,
    "start_time": "2022-10-10T06:26:07.221Z"
   },
   {
    "duration": 212,
    "start_time": "2022-10-10T06:26:07.430Z"
   },
   {
    "duration": 204,
    "start_time": "2022-10-10T06:26:07.644Z"
   },
   {
    "duration": 123,
    "start_time": "2022-10-10T06:26:07.850Z"
   },
   {
    "duration": 0,
    "start_time": "2022-10-10T06:26:07.975Z"
   },
   {
    "duration": 0,
    "start_time": "2022-10-10T06:26:07.976Z"
   },
   {
    "duration": 12,
    "start_time": "2022-10-10T06:28:53.905Z"
   },
   {
    "duration": 13,
    "start_time": "2022-10-10T06:29:03.126Z"
   },
   {
    "duration": 1268,
    "start_time": "2022-10-10T06:29:17.416Z"
   },
   {
    "duration": 77,
    "start_time": "2022-10-10T06:29:18.686Z"
   },
   {
    "duration": 4,
    "start_time": "2022-10-10T06:29:18.765Z"
   },
   {
    "duration": 54,
    "start_time": "2022-10-10T06:29:18.771Z"
   },
   {
    "duration": 903,
    "start_time": "2022-10-10T06:29:18.827Z"
   },
   {
    "duration": 5,
    "start_time": "2022-10-10T06:29:19.732Z"
   },
   {
    "duration": 42,
    "start_time": "2022-10-10T06:29:19.739Z"
   },
   {
    "duration": 23,
    "start_time": "2022-10-10T06:29:19.789Z"
   },
   {
    "duration": 18,
    "start_time": "2022-10-10T06:29:19.814Z"
   },
   {
    "duration": 8,
    "start_time": "2022-10-10T06:29:19.835Z"
   },
   {
    "duration": 10,
    "start_time": "2022-10-10T06:29:19.845Z"
   },
   {
    "duration": 94632,
    "start_time": "2022-10-10T06:29:19.857Z"
   },
   {
    "duration": 15,
    "start_time": "2022-10-10T06:30:54.490Z"
   },
   {
    "duration": 6,
    "start_time": "2022-10-10T06:30:54.508Z"
   },
   {
    "duration": 11,
    "start_time": "2022-10-10T06:30:54.516Z"
   },
   {
    "duration": 12,
    "start_time": "2022-10-10T06:30:54.529Z"
   },
   {
    "duration": 102721,
    "start_time": "2022-10-10T06:30:54.542Z"
   },
   {
    "duration": 6,
    "start_time": "2022-10-10T06:32:37.265Z"
   },
   {
    "duration": 43,
    "start_time": "2022-10-10T06:32:37.273Z"
   },
   {
    "duration": 15,
    "start_time": "2022-10-10T06:32:37.318Z"
   },
   {
    "duration": 21,
    "start_time": "2022-10-10T06:32:37.335Z"
   },
   {
    "duration": 36,
    "start_time": "2022-10-10T06:32:37.358Z"
   },
   {
    "duration": 41,
    "start_time": "2022-10-10T06:32:37.395Z"
   },
   {
    "duration": 48,
    "start_time": "2022-10-10T06:32:37.438Z"
   },
   {
    "duration": 199,
    "start_time": "2022-10-10T06:32:37.488Z"
   },
   {
    "duration": 2321,
    "start_time": "2022-10-10T06:32:37.689Z"
   },
   {
    "duration": 190,
    "start_time": "2022-10-10T06:32:40.013Z"
   },
   {
    "duration": 7,
    "start_time": "2022-10-10T06:32:40.207Z"
   },
   {
    "duration": 752,
    "start_time": "2022-10-10T06:32:40.216Z"
   },
   {
    "duration": 214,
    "start_time": "2022-10-10T06:32:40.970Z"
   },
   {
    "duration": 233,
    "start_time": "2022-10-10T06:32:41.186Z"
   },
   {
    "duration": 248,
    "start_time": "2022-10-10T06:32:41.421Z"
   },
   {
    "duration": 342,
    "start_time": "2022-10-10T06:32:41.671Z"
   },
   {
    "duration": 221,
    "start_time": "2022-10-10T06:32:42.014Z"
   },
   {
    "duration": 236,
    "start_time": "2022-10-10T06:32:42.237Z"
   },
   {
    "duration": 223,
    "start_time": "2022-10-10T06:32:42.483Z"
   },
   {
    "duration": 210,
    "start_time": "2022-10-10T06:32:42.709Z"
   },
   {
    "duration": 216,
    "start_time": "2022-10-10T06:32:42.921Z"
   },
   {
    "duration": 124,
    "start_time": "2022-10-10T06:32:43.138Z"
   },
   {
    "duration": 0,
    "start_time": "2022-10-10T06:32:43.264Z"
   },
   {
    "duration": 0,
    "start_time": "2022-10-10T06:32:43.266Z"
   },
   {
    "duration": 0,
    "start_time": "2022-10-10T06:32:43.267Z"
   },
   {
    "duration": 16,
    "start_time": "2022-10-10T06:33:34.421Z"
   },
   {
    "duration": 2106,
    "start_time": "2022-10-10T07:28:10.216Z"
   },
   {
    "duration": 14,
    "start_time": "2022-10-10T07:28:29.392Z"
   },
   {
    "duration": 233,
    "start_time": "2022-10-10T07:29:46.171Z"
   },
   {
    "duration": 310,
    "start_time": "2022-10-10T07:48:27.576Z"
   },
   {
    "duration": 1224,
    "start_time": "2022-10-10T07:48:37.043Z"
   },
   {
    "duration": 88,
    "start_time": "2022-10-10T07:48:38.269Z"
   },
   {
    "duration": 6,
    "start_time": "2022-10-10T07:48:38.359Z"
   },
   {
    "duration": 32,
    "start_time": "2022-10-10T07:48:38.366Z"
   },
   {
    "duration": 833,
    "start_time": "2022-10-10T07:48:38.401Z"
   },
   {
    "duration": 4,
    "start_time": "2022-10-10T07:48:39.236Z"
   },
   {
    "duration": 45,
    "start_time": "2022-10-10T07:48:39.242Z"
   },
   {
    "duration": 6,
    "start_time": "2022-10-10T07:48:39.289Z"
   },
   {
    "duration": 29,
    "start_time": "2022-10-10T07:48:39.297Z"
   },
   {
    "duration": 12,
    "start_time": "2022-10-10T07:48:39.328Z"
   },
   {
    "duration": 36,
    "start_time": "2022-10-10T07:48:39.342Z"
   },
   {
    "duration": 105578,
    "start_time": "2022-10-10T07:48:39.380Z"
   },
   {
    "duration": 22,
    "start_time": "2022-10-10T07:50:24.960Z"
   },
   {
    "duration": 8,
    "start_time": "2022-10-10T07:50:24.986Z"
   },
   {
    "duration": 25,
    "start_time": "2022-10-10T07:50:24.995Z"
   },
   {
    "duration": 17,
    "start_time": "2022-10-10T07:50:25.022Z"
   },
   {
    "duration": 109449,
    "start_time": "2022-10-10T07:50:25.041Z"
   },
   {
    "duration": 6,
    "start_time": "2022-10-10T07:52:14.492Z"
   },
   {
    "duration": 24,
    "start_time": "2022-10-10T07:52:14.500Z"
   },
   {
    "duration": 41,
    "start_time": "2022-10-10T07:52:14.525Z"
   },
   {
    "duration": 47,
    "start_time": "2022-10-10T07:52:14.568Z"
   },
   {
    "duration": 44,
    "start_time": "2022-10-10T07:52:14.617Z"
   },
   {
    "duration": 40,
    "start_time": "2022-10-10T07:52:14.663Z"
   },
   {
    "duration": 24,
    "start_time": "2022-10-10T07:52:14.705Z"
   },
   {
    "duration": 212,
    "start_time": "2022-10-10T07:52:14.732Z"
   },
   {
    "duration": 2369,
    "start_time": "2022-10-10T07:52:14.946Z"
   },
   {
    "duration": 186,
    "start_time": "2022-10-10T07:52:17.317Z"
   },
   {
    "duration": 6,
    "start_time": "2022-10-10T07:52:17.505Z"
   },
   {
    "duration": 776,
    "start_time": "2022-10-10T07:52:17.513Z"
   },
   {
    "duration": 207,
    "start_time": "2022-10-10T07:52:18.290Z"
   },
   {
    "duration": 233,
    "start_time": "2022-10-10T07:52:18.499Z"
   },
   {
    "duration": 216,
    "start_time": "2022-10-10T07:52:18.734Z"
   },
   {
    "duration": 323,
    "start_time": "2022-10-10T07:52:18.952Z"
   },
   {
    "duration": 233,
    "start_time": "2022-10-10T07:52:19.279Z"
   },
   {
    "duration": 206,
    "start_time": "2022-10-10T07:52:19.514Z"
   },
   {
    "duration": 220,
    "start_time": "2022-10-10T07:52:19.722Z"
   },
   {
    "duration": 221,
    "start_time": "2022-10-10T07:52:19.944Z"
   },
   {
    "duration": 203,
    "start_time": "2022-10-10T07:52:20.166Z"
   },
   {
    "duration": 126,
    "start_time": "2022-10-10T07:52:20.371Z"
   },
   {
    "duration": 0,
    "start_time": "2022-10-10T07:52:20.499Z"
   },
   {
    "duration": 0,
    "start_time": "2022-10-10T07:52:20.501Z"
   },
   {
    "duration": 23,
    "start_time": "2022-10-10T07:56:42.761Z"
   },
   {
    "duration": 334,
    "start_time": "2022-10-10T07:56:48.932Z"
   },
   {
    "duration": 982,
    "start_time": "2022-10-10T07:57:45.462Z"
   },
   {
    "duration": 1118,
    "start_time": "2022-10-10T07:58:46.467Z"
   },
   {
    "duration": 13,
    "start_time": "2022-10-10T08:01:51.170Z"
   },
   {
    "duration": 16,
    "start_time": "2022-10-10T08:03:24.165Z"
   },
   {
    "duration": 1588,
    "start_time": "2022-10-10T08:03:51.204Z"
   },
   {
    "duration": 82,
    "start_time": "2022-10-10T08:03:52.794Z"
   },
   {
    "duration": 5,
    "start_time": "2022-10-10T08:03:52.879Z"
   },
   {
    "duration": 30,
    "start_time": "2022-10-10T08:03:52.888Z"
   },
   {
    "duration": 1298,
    "start_time": "2022-10-10T08:03:52.921Z"
   },
   {
    "duration": 4,
    "start_time": "2022-10-10T08:03:54.222Z"
   },
   {
    "duration": 50,
    "start_time": "2022-10-10T08:03:54.229Z"
   },
   {
    "duration": 9,
    "start_time": "2022-10-10T08:03:54.281Z"
   },
   {
    "duration": 36,
    "start_time": "2022-10-10T08:03:54.292Z"
   },
   {
    "duration": 17,
    "start_time": "2022-10-10T08:03:54.332Z"
   },
   {
    "duration": 35,
    "start_time": "2022-10-10T08:03:54.351Z"
   },
   {
    "duration": 114076,
    "start_time": "2022-10-10T08:03:54.388Z"
   },
   {
    "duration": 18,
    "start_time": "2022-10-10T08:05:48.466Z"
   },
   {
    "duration": 16,
    "start_time": "2022-10-10T08:05:48.486Z"
   },
   {
    "duration": 24,
    "start_time": "2022-10-10T08:05:48.504Z"
   },
   {
    "duration": 28,
    "start_time": "2022-10-10T08:05:48.530Z"
   },
   {
    "duration": 108996,
    "start_time": "2022-10-10T08:05:48.561Z"
   },
   {
    "duration": 6,
    "start_time": "2022-10-10T08:07:37.559Z"
   },
   {
    "duration": 5,
    "start_time": "2022-10-10T08:07:37.576Z"
   },
   {
    "duration": 21,
    "start_time": "2022-10-10T08:07:37.583Z"
   },
   {
    "duration": 5,
    "start_time": "2022-10-10T08:07:37.606Z"
   },
   {
    "duration": 21,
    "start_time": "2022-10-10T08:07:37.612Z"
   },
   {
    "duration": 24,
    "start_time": "2022-10-10T08:07:37.634Z"
   },
   {
    "duration": 9,
    "start_time": "2022-10-10T08:07:37.660Z"
   },
   {
    "duration": 152,
    "start_time": "2022-10-10T08:07:37.672Z"
   },
   {
    "duration": 2065,
    "start_time": "2022-10-10T08:07:37.826Z"
   },
   {
    "duration": 189,
    "start_time": "2022-10-10T08:07:39.893Z"
   },
   {
    "duration": 7,
    "start_time": "2022-10-10T08:07:40.086Z"
   },
   {
    "duration": 722,
    "start_time": "2022-10-10T08:07:40.095Z"
   },
   {
    "duration": 202,
    "start_time": "2022-10-10T08:07:40.819Z"
   },
   {
    "duration": 222,
    "start_time": "2022-10-10T08:07:41.023Z"
   },
   {
    "duration": 201,
    "start_time": "2022-10-10T08:07:41.247Z"
   },
   {
    "duration": 408,
    "start_time": "2022-10-10T08:07:41.451Z"
   },
   {
    "duration": 222,
    "start_time": "2022-10-10T08:07:41.861Z"
   },
   {
    "duration": 273,
    "start_time": "2022-10-10T08:07:42.085Z"
   },
   {
    "duration": 231,
    "start_time": "2022-10-10T08:07:42.360Z"
   },
   {
    "duration": 205,
    "start_time": "2022-10-10T08:07:42.593Z"
   },
   {
    "duration": 210,
    "start_time": "2022-10-10T08:07:42.800Z"
   },
   {
    "duration": 180,
    "start_time": "2022-10-10T08:07:43.012Z"
   },
   {
    "duration": 0,
    "start_time": "2022-10-10T08:07:43.195Z"
   },
   {
    "duration": 0,
    "start_time": "2022-10-10T08:07:43.196Z"
   },
   {
    "duration": 0,
    "start_time": "2022-10-10T08:07:43.197Z"
   },
   {
    "duration": 17,
    "start_time": "2022-10-10T08:25:37.719Z"
   },
   {
    "duration": 903,
    "start_time": "2022-10-10T08:26:27.243Z"
   },
   {
    "duration": 1154,
    "start_time": "2022-10-10T08:26:37.371Z"
   },
   {
    "duration": 67,
    "start_time": "2022-10-10T08:26:38.527Z"
   },
   {
    "duration": 3,
    "start_time": "2022-10-10T08:26:38.596Z"
   },
   {
    "duration": 28,
    "start_time": "2022-10-10T08:26:38.602Z"
   },
   {
    "duration": 780,
    "start_time": "2022-10-10T08:26:38.632Z"
   },
   {
    "duration": 4,
    "start_time": "2022-10-10T08:26:39.414Z"
   },
   {
    "duration": 44,
    "start_time": "2022-10-10T08:26:39.420Z"
   },
   {
    "duration": 10,
    "start_time": "2022-10-10T08:26:39.466Z"
   },
   {
    "duration": 17,
    "start_time": "2022-10-10T08:26:39.478Z"
   },
   {
    "duration": 9,
    "start_time": "2022-10-10T08:26:39.498Z"
   },
   {
    "duration": 12,
    "start_time": "2022-10-10T08:26:39.508Z"
   },
   {
    "duration": 82431,
    "start_time": "2022-10-10T08:26:39.522Z"
   },
   {
    "duration": 11,
    "start_time": "2022-10-10T08:28:01.955Z"
   },
   {
    "duration": 88,
    "start_time": "2022-10-10T08:28:01.978Z"
   },
   {
    "duration": 48,
    "start_time": "2022-10-10T08:28:02.068Z"
   },
   {
    "duration": 89,
    "start_time": "2022-10-10T08:28:02.118Z"
   },
   {
    "duration": 89780,
    "start_time": "2022-10-10T08:28:02.209Z"
   },
   {
    "duration": 6,
    "start_time": "2022-10-10T08:29:31.991Z"
   },
   {
    "duration": 23,
    "start_time": "2022-10-10T08:29:31.999Z"
   },
   {
    "duration": 35,
    "start_time": "2022-10-10T08:29:32.024Z"
   },
   {
    "duration": 17,
    "start_time": "2022-10-10T08:29:32.061Z"
   },
   {
    "duration": 31,
    "start_time": "2022-10-10T08:29:32.080Z"
   },
   {
    "duration": 16,
    "start_time": "2022-10-10T08:29:32.112Z"
   },
   {
    "duration": 20,
    "start_time": "2022-10-10T08:29:32.130Z"
   },
   {
    "duration": 172,
    "start_time": "2022-10-10T08:29:32.152Z"
   },
   {
    "duration": 1970,
    "start_time": "2022-10-10T08:29:32.325Z"
   },
   {
    "duration": 189,
    "start_time": "2022-10-10T08:29:34.296Z"
   },
   {
    "duration": 5,
    "start_time": "2022-10-10T08:29:34.488Z"
   },
   {
    "duration": 643,
    "start_time": "2022-10-10T08:29:34.494Z"
   },
   {
    "duration": 253,
    "start_time": "2022-10-10T08:29:35.138Z"
   },
   {
    "duration": 224,
    "start_time": "2022-10-10T08:29:35.393Z"
   },
   {
    "duration": 206,
    "start_time": "2022-10-10T08:29:35.618Z"
   },
   {
    "duration": 316,
    "start_time": "2022-10-10T08:29:35.826Z"
   },
   {
    "duration": 205,
    "start_time": "2022-10-10T08:29:36.144Z"
   },
   {
    "duration": 186,
    "start_time": "2022-10-10T08:29:36.351Z"
   },
   {
    "duration": 201,
    "start_time": "2022-10-10T08:29:36.538Z"
   },
   {
    "duration": 202,
    "start_time": "2022-10-10T08:29:36.742Z"
   },
   {
    "duration": 227,
    "start_time": "2022-10-10T08:29:36.946Z"
   },
   {
    "duration": 141,
    "start_time": "2022-10-10T08:29:37.176Z"
   },
   {
    "duration": 0,
    "start_time": "2022-10-10T08:29:37.319Z"
   },
   {
    "duration": 0,
    "start_time": "2022-10-10T08:29:37.320Z"
   },
   {
    "duration": 19,
    "start_time": "2022-10-10T08:37:33.575Z"
   }
  ],
  "kernelspec": {
   "display_name": "Python 3 (ipykernel)",
   "language": "python",
   "name": "python3"
  },
  "language_info": {
   "codemirror_mode": {
    "name": "ipython",
    "version": 3
   },
   "file_extension": ".py",
   "mimetype": "text/x-python",
   "name": "python",
   "nbconvert_exporter": "python",
   "pygments_lexer": "ipython3",
   "version": "3.9.5"
  },
  "toc": {
   "base_numbering": 1,
   "nav_menu": {},
   "number_sections": true,
   "sideBar": true,
   "skip_h1_title": true,
   "title_cell": "Table of Contents",
   "title_sidebar": "Contents",
   "toc_cell": false,
   "toc_position": {},
   "toc_section_display": true,
   "toc_window_display": false
  }
 },
 "nbformat": 4,
 "nbformat_minor": 2
}
