{
 "cells": [
  {
   "cell_type": "markdown",
   "id": "e4bac3e3",
   "metadata": {},
   "source": [
    "# Работа с базой данных*."
   ]
  },
  {
   "cell_type": "markdown",
   "id": "effb2e4a",
   "metadata": {},
   "source": [
    "*В данных, которые использованы в проекте, упоминаются сервисы и компании, запрещённые в РФ."
   ]
  },
  {
   "cell_type": "markdown",
   "id": "395c1f0f",
   "metadata": {},
   "source": [
    "1.\n",
    "Посчитайте, сколько компаний закрылось."
   ]
  },
  {
   "cell_type": "markdown",
   "id": "6a82002f",
   "metadata": {},
   "source": [
    "<div class=\"alert alert-info\">\n",
    "<b>SQL запрос:</b>\n",
    "<br> SELECT COUNT(status)\n",
    "    \n",
    "FROM company\n",
    "    \n",
    "WHERE status = 'closed'\n",
    "</div>"
   ]
  },
  {
   "cell_type": "markdown",
   "id": "6ebf9bc3",
   "metadata": {},
   "source": [
    "2.\n",
    "Отобразите количество привлечённых средств для новостных компаний США. Используйте данные из таблицы company. Отсортируйте таблицу по убыванию значений в поле funding_total ."
   ]
  },
  {
   "cell_type": "markdown",
   "id": "f984d755",
   "metadata": {},
   "source": [
    "<div class=\"alert alert-info\">\n",
    "<b>SQL запрос:</b>\n",
    "<br> SELECT funding_total\n",
    "    \n",
    "FROM company\n",
    "    \n",
    "WHERE category_code = 'news' AND country_code = 'USA'\n",
    "    \n",
    "ORDER BY funding_total DESC;\n",
    "</div>"
   ]
  },
  {
   "cell_type": "markdown",
   "id": "3cee4f10",
   "metadata": {},
   "source": [
    "3.\n",
    "Найдите общую сумму сделок по покупке одних компаний другими в долларах. Отберите сделки, которые осуществлялись только за наличные с 2011 по 2013 год включительно."
   ]
  },
  {
   "cell_type": "markdown",
   "id": "db800ad5",
   "metadata": {},
   "source": [
    "<div class=\"alert alert-info\">\n",
    "<b>SQL запрос:</b>\n",
    "<br> SELECT SUM(price_amount)\n",
    "    \n",
    "FROM acquisition\n",
    "    \n",
    "WHERE (term_code = 'cash') AND (acquired_at BETWEEN '2011-01-01' AND '2013-12-31')\n",
    "\n",
    "</div>"
   ]
  },
  {
   "cell_type": "markdown",
   "id": "e20ff793",
   "metadata": {},
   "source": [
    "4.\n",
    "Отобразите имя, фамилию и названия аккаунтов людей в твиттере, у которых названия аккаунтов начинаются на 'Silver'."
   ]
  },
  {
   "cell_type": "markdown",
   "id": "789a0c0f",
   "metadata": {},
   "source": [
    "<div class=\"alert alert-info\">\n",
    "<b>SQL запрос:</b>\n",
    "<br> SELECT first_name,\n",
    "    \n",
    "last_name,\n",
    "    \n",
    "twitter_username\n",
    "    \n",
    "FROM people\n",
    "    \n",
    "WHERE twitter_username LIKE 'Silver%';\n",
    "</div>"
   ]
  },
  {
   "cell_type": "markdown",
   "id": "3c9d3f6d",
   "metadata": {},
   "source": [
    "5.\n",
    "Выведите на экран всю информацию о людях, у которых названия аккаунтов в твиттере содержат подстроку 'money', а фамилия начинается на 'K'."
   ]
  },
  {
   "cell_type": "markdown",
   "id": "2f613056",
   "metadata": {},
   "source": [
    "<div class=\"alert alert-info\">\n",
    "<b>SQL запрос:</b>\n",
    "<br> SELECT *\n",
    "\n",
    "FROM people\n",
    "\n",
    "WHERE (twitter_username LIKE '%money%') AND (last_name LIKE 'K%');\n",
    "</div>"
   ]
  },
  {
   "cell_type": "markdown",
   "id": "f713a067",
   "metadata": {},
   "source": [
    "6.\n",
    "Для каждой страны отобразите общую сумму привлечённых инвестиций, которые получили компании, зарегистрированные в этой стране. Страну, в которой зарегистрирована компания, можно определить по коду страны. Отсортируйте данные по убыванию суммы."
   ]
  },
  {
   "cell_type": "markdown",
   "id": "9763c08a",
   "metadata": {},
   "source": [
    "<div class=\"alert alert-info\">\n",
    "<b>SQL запрос:</b>\n",
    "<br> SELECT country_code,\n",
    "    \n",
    "SUM(funding_total)\n",
    "    \n",
    "FROM company\n",
    "    \n",
    "GROUP BY country_code\n",
    "    \n",
    "ORDER BY SUM(funding_total) DESC;\n",
    "</div>"
   ]
  },
  {
   "cell_type": "markdown",
   "id": "6c5170b5",
   "metadata": {},
   "source": [
    "7.\n",
    "Составьте таблицу, в которую войдёт дата проведения раунда, а также минимальное и максимальное значения суммы инвестиций, привлечённых в эту дату.\n",
    "Оставьте в итоговой таблице только те записи, в которых минимальное значение суммы инвестиций не равно нулю и не равно максимальному значению."
   ]
  },
  {
   "cell_type": "markdown",
   "id": "b813f2b5",
   "metadata": {},
   "source": [
    "<div class=\"alert alert-info\">\n",
    "<b>SQL запрос:</b>\n",
    "<br> SELECT funded_at,\n",
    "    \n",
    "MIN(raised_amount),\n",
    "    \n",
    "MAX(raised_amount)\n",
    "    \n",
    "FROM funding_round\n",
    "    \n",
    "GROUP BY funded_at\n",
    "    \n",
    "HAVING MIN(raised_amount) != 0\n",
    "    \n",
    "AND MIN(raised_amount) != MAX(raised_amount);\n",
    "</div>"
   ]
  },
  {
   "cell_type": "markdown",
   "id": "715f7a7a",
   "metadata": {},
   "source": [
    "8.\n",
    "Создайте поле с категориями:\n",
    "Для фондов, которые инвестируют в 100 и более компаний, назначьте категорию high_activity.\n",
    "Для фондов, которые инвестируют в 20 и более компаний до 100, назначьте категорию middle_activity.\n",
    "Если количество инвестируемых компаний фонда не достигает 20, назначьте категорию low_activity.\n",
    "Отобразите все поля таблицы fund и новое поле с категориями."
   ]
  },
  {
   "cell_type": "markdown",
   "id": "9ca88472",
   "metadata": {},
   "source": [
    "<div class=\"alert alert-info\">\n",
    "<b>SQL запрос:</b>\n",
    "<br> SELECT *,\n",
    "    \n",
    "CASE \n",
    "    \n",
    "WHEN invested_companies>=100 THEN 'high_activity'\n",
    "    \n",
    "WHEN invested_companies BETWEEN 20 AND 99 THEN 'middle_activity'\n",
    "    \n",
    "WHEN invested_companies <20 THEN 'low_activity'\n",
    "                            \n",
    "END category\n",
    "                            \n",
    "FROM fund;\n",
    "</div>"
   ]
  },
  {
   "cell_type": "markdown",
   "id": "b6b77218",
   "metadata": {},
   "source": [
    "9.\n",
    "Для каждой из категорий, назначенных в предыдущем задании, посчитайте округлённое до ближайшего целого числа среднее количество инвестиционных раундов, в которых фонд принимал участие. Выведите на экран категории и среднее число инвестиционных раундов. Отсортируйте таблицу по возрастанию среднего."
   ]
  },
  {
   "cell_type": "markdown",
   "id": "4e044bc4",
   "metadata": {},
   "source": [
    "<div class=\"alert alert-info\">\n",
    "<b>SQL запрос:</b>\n",
    "<br> SELECT ROUND(AVG(investment_rounds)) AS investment_rounds,\n",
    "    \n",
    "CASE\n",
    "WHEN invested_companies>=100 THEN 'high_activity'\n",
    "    \n",
    "WHEN invested_companies>=20 THEN 'middle_activity'\n",
    "    \n",
    "ELSE 'low_activity'\n",
    "    \n",
    "END AS activity\n",
    "    \n",
    "FROM fund\n",
    "    \n",
    "GROUP BY activity\n",
    "    \n",
    "ORDER BY investment_rounds ASC;\n",
    "</div>"
   ]
  },
  {
   "cell_type": "markdown",
   "id": "e148e22a",
   "metadata": {},
   "source": [
    "10.\n",
    "Проанализируйте, в каких странах находятся фонды, которые чаще всего инвестируют в стартапы.\n",
    "Для каждой страны посчитайте минимальное, максимальное и среднее число компаний, в которые инвестировали фонды этой страны, основанные с 2010 по 2012 год включительно. Исключите страны с фондами, у которых минимальное число компаний, получивших инвестиции, равно нулю. Выгрузите десять самых активных стран-инвесторов.\n",
    "Отсортируйте таблицу по среднему количеству компаний от большего к меньшему, а затем по коду страны в лексикографическом порядке."
   ]
  },
  {
   "cell_type": "markdown",
   "id": "1ee330c0",
   "metadata": {},
   "source": [
    "<div class=\"alert alert-info\">\n",
    "<b>SQL запрос:</b>\n",
    "<br> SELECT country_code,\n",
    "    \n",
    "MIN(invested_companies),\n",
    "    \n",
    "MAX(invested_companies),\n",
    "    \n",
    "AVG(invested_companies)\n",
    "    \n",
    "FROM fund\n",
    "    \n",
    "WHERE founded_at BETWEEN '2010-01-01' AND '2012-12-31'\n",
    "    \n",
    "GROUP BY country_code\n",
    "    \n",
    "HAVING MIN(invested_companies) !=0\n",
    "    \n",
    "ORDER BY AVG(invested_companies) DESC, country_code ASC\n",
    "    \n",
    "LIMIT 10;\n",
    "</div>"
   ]
  },
  {
   "cell_type": "markdown",
   "id": "ffaca8ca",
   "metadata": {},
   "source": [
    "11.\n",
    "Отобразите имя и фамилию всех сотрудников стартапов. Добавьте поле с названием учебного заведения, которое окончил сотрудник, если эта информация известна."
   ]
  },
  {
   "cell_type": "markdown",
   "id": "1923c869",
   "metadata": {},
   "source": [
    "<div class=\"alert alert-info\">\n",
    "<b>SQL запрос:</b>\n",
    "<br> SELECT p.first_name,\n",
    "    \n",
    "p.last_name,\n",
    "    \n",
    "e.instituition\n",
    "    \n",
    "FROM people AS p\n",
    "    \n",
    "LEFT JOIN education AS e ON p.id=e.person_id;\n",
    "</div>"
   ]
  },
  {
   "cell_type": "markdown",
   "id": "b2cb5407",
   "metadata": {},
   "source": [
    "12.\n",
    "Для каждой компании найдите количество учебных заведений, которые окончили её сотрудники. Выведите название компании и число уникальных названий учебных заведений. Составьте топ-5 компаний по количеству университетов."
   ]
  },
  {
   "cell_type": "markdown",
   "id": "2913ea88",
   "metadata": {},
   "source": [
    "<div class=\"alert alert-info\">\n",
    "<b>SQL запрос:</b>\n",
    "<br> SELECT c.name,\n",
    "COUNT(DISTINCT e.instituition)\n",
    "    \n",
    "FROM company AS c\n",
    "    \n",
    "INNER JOIN people AS p ON c.id=p.company_id\n",
    "    \n",
    "LEFT JOIN education AS e ON e.person_id=p.id\n",
    "    \n",
    "GROUP BY c.name\n",
    "    \n",
    "ORDER BY COUNT(DISTINCT e.instituition) DESC\n",
    "    \n",
    "LIMIT 5;\n",
    "</div>"
   ]
  },
  {
   "cell_type": "markdown",
   "id": "766e31d4",
   "metadata": {},
   "source": [
    "13.\n",
    "Составьте список с уникальными названиями закрытых компаний, для которых первый раунд финансирования оказался последним."
   ]
  },
  {
   "cell_type": "markdown",
   "id": "58667209",
   "metadata": {},
   "source": [
    "<div class=\"alert alert-info\">\n",
    "<b>SQL запрос:</b>\n",
    "<br> SELECT DISTINCT c.name\n",
    "    \n",
    "FROM company AS c\n",
    "    \n",
    "LEFT OUTER JOIN funding_round AS fr ON fr.company_id=c.id\n",
    "    \n",
    "WHERE status = 'closed' AND is_first_round=1 AND is_last_round=1\n",
    "\n",
    "</div>"
   ]
  },
  {
   "cell_type": "markdown",
   "id": "278375b5",
   "metadata": {},
   "source": [
    "14.\n",
    "Составьте список уникальных номеров сотрудников, которые работают в компаниях, отобранных в предыдущем задании."
   ]
  },
  {
   "cell_type": "markdown",
   "id": "33812cfa",
   "metadata": {},
   "source": [
    "<div class=\"alert alert-info\">\n",
    "<b>SQL запрос:</b>\n",
    "<br> SELECT DISTINCT p.id\n",
    "    \n",
    "FROM company AS c\n",
    "    \n",
    "LEFT OUTER JOIN funding_round AS fr ON fr.company_id=c.id\n",
    "    \n",
    "LEFT OUTER JOIN people AS p ON p.company_id=c.id\n",
    "    \n",
    "WHERE status = 'closed' AND is_first_round=1 AND is_last_round=1 AND p.id IS NOT NULL;\n",
    "</div>"
   ]
  },
  {
   "cell_type": "markdown",
   "id": "2960eee4",
   "metadata": {},
   "source": [
    "15.\n",
    "Составьте таблицу, куда войдут уникальные пары с номерами сотрудников из предыдущей задачи и учебным заведением, которое окончил сотрудник."
   ]
  },
  {
   "cell_type": "markdown",
   "id": "1a933651",
   "metadata": {},
   "source": [
    "<div class=\"alert alert-info\">\n",
    "<b>SQL запрос:</b>\n",
    "<br> SELECT DISTINCT p.id,\n",
    "    \n",
    "e.instituition\n",
    "    \n",
    "FROM company AS c\n",
    "    \n",
    "LEFT OUTER JOIN funding_round AS fr ON fr.company_id=c.id\n",
    "    \n",
    "LEFT OUTER JOIN people AS p ON p.company_id=c.id\n",
    "    \n",
    "LEFT OUTER JOIN education AS e ON e.person_id=p.id\n",
    "    \n",
    "WHERE status = 'closed' AND is_first_round=1 AND is_last_round=1 AND p.id IS NOT NULL AND e.instituition IS NOT NULL;\n",
    "</div>"
   ]
  },
  {
   "cell_type": "markdown",
   "id": "7b909157",
   "metadata": {},
   "source": [
    "16.\n",
    "Посчитайте количество учебных заведений для каждого сотрудника из предыдущего задания. При подсчёте учитывайте, что некоторые сотрудники могли окончить одно и то же заведение дважды."
   ]
  },
  {
   "cell_type": "markdown",
   "id": "b20c04cb",
   "metadata": {},
   "source": [
    "<div class=\"alert alert-info\">\n",
    "<b>SQL запрос:</b>\n",
    "<br> SELECT p.id,\n",
    "    \n",
    "COUNT(e.instituition)\n",
    "    \n",
    "FROM education AS e\n",
    "    \n",
    "LEFT OUTER JOIN people AS p ON e.person_id=p.id\n",
    "    \n",
    "WHERE company_id IN\n",
    "    \n",
    "(SELECT c.id\n",
    "    \n",
    "FROM company AS c\n",
    "    \n",
    "LEFT OUTER JOIN funding_round as fr ON fr.company_id=c.id\n",
    "    \n",
    "WHERE c.status = 'closed' AND is_first_round=1 AND is_last_round = 1) \n",
    "    \n",
    "GROUP BY p.id;\n",
    "</div>"
   ]
  },
  {
   "cell_type": "markdown",
   "id": "666ecae6",
   "metadata": {},
   "source": [
    "17.\n",
    "Дополните предыдущий запрос и выведите среднее число учебных заведений (всех, не только уникальных), которые окончили сотрудники разных компаний. Нужно вывести только одну запись, группировка здесь не понадобится."
   ]
  },
  {
   "cell_type": "markdown",
   "id": "36eb6ee3",
   "metadata": {},
   "source": [
    "<div class=\"alert alert-info\">\n",
    "<b>SQL запрос:</b>\n",
    "<br> WITH count_institute AS(\n",
    "    \n",
    "SELECT p.id,\n",
    "    \n",
    "COUNT(e.instituition)\n",
    "    \n",
    "FROM people AS p\n",
    "    \n",
    "INNER JOIN education AS e\n",
    "    \n",
    "ON p.id=e.person_id\n",
    "    \n",
    "WHERE p.company_id IN \n",
    " \n",
    "(SELECT id\n",
    "    \n",
    "FROM company\n",
    "    \n",
    "WHERE status = 'closed'\n",
    "    \n",
    "AND id IN (SELECT company_id\n",
    "    \n",
    "FROM funding_round\n",
    "    \n",
    "WHERE is_first_round =1 and is_last_round =1)\n",
    "    \n",
    ")\n",
    "\n",
    "GROUP BY p.id)\n",
    "\n",
    "SELECT AVG(count)\n",
    "    \n",
    "FROM (SELECT count FROM count_institute) AS avg_count;\n",
    "</div>"
   ]
  },
  {
   "cell_type": "markdown",
   "id": "0cf5085e",
   "metadata": {},
   "source": [
    "18.\n",
    "Напишите похожий запрос: выведите среднее число учебных заведений (всех, не только уникальных), которые окончили сотрудники Facebook*.\n",
    "*(сервис, запрещённый на территории РФ)"
   ]
  },
  {
   "cell_type": "markdown",
   "id": "37b6636f",
   "metadata": {},
   "source": [
    "<div class=\"alert alert-info\">\n",
    "<b>SQL запрос:</b>\n",
    "<br> WITH count_facebook AS(\n",
    "    \n",
    "SELECT p.id,\n",
    "    \n",
    "COUNT(e.instituition)\n",
    "    \n",
    "FROM people AS p\n",
    "    \n",
    "INNER JOIN education AS e \n",
    "    \n",
    "ON p.id=e.person_id\n",
    "    \n",
    "WHERE p.company_id IN \n",
    " \n",
    "(SELECT id\n",
    "    \n",
    "FROM company\n",
    "    \n",
    "WHERE name = 'Facebook')\n",
    "    \n",
    "GROUP BY p.id)\n",
    "\n",
    "SELECT AVG(count)\n",
    "    \n",
    "FROM (SELECT count FROM count_facebook) AS avg_count;\n",
    "</div>"
   ]
  },
  {
   "cell_type": "markdown",
   "id": "d8f6b756",
   "metadata": {},
   "source": [
    "19.\n",
    "Составьте таблицу из полей:\n",
    "name_of_fund — название фонда;\n",
    "name_of_company — название компании;\n",
    "amount — сумма инвестиций, которую привлекла компания в раунде.\n",
    "В таблицу войдут данные о компаниях, в истории которых было больше шести важных этапов, а раунды финансирования проходили с 2012 по 2013 год включительно."
   ]
  },
  {
   "cell_type": "markdown",
   "id": "08411527",
   "metadata": {},
   "source": [
    "<div class=\"alert alert-info\">\n",
    "<b>SQL запрос:</b>\n",
    "<br> SELECT f.name AS name_of_fund,\n",
    "    \n",
    "c.name AS name_of_company,\n",
    "    \n",
    "fr.raised_amount AS amount\n",
    "    \n",
    "FROM investment AS i\n",
    "    \n",
    "LEFT OUTER JOIN company AS c ON c.id=i.company_id\n",
    "    \n",
    "LEFT OUTER JOIN fund AS f ON f.id=i.fund_id\n",
    "    \n",
    "LEFT OUTER JOIN funding_round AS fr ON fr.id=i.funding_round_id\n",
    "    \n",
    "WHERE c.milestones > 6 AND funded_at BETWEEN '2012-01-01' AND '2013-12-31';\n",
    "</div>"
   ]
  },
  {
   "cell_type": "markdown",
   "id": "e14722c1",
   "metadata": {},
   "source": [
    "20.\n",
    "Выгрузите таблицу, в которой будут такие поля:\n",
    "название компании-покупателя;\n",
    "сумма сделки;\n",
    "название компании, которую купили;\n",
    "сумма инвестиций, вложенных в купленную компанию;\n",
    "доля, которая отображает, во сколько раз сумма покупки превысила сумму вложенных в компанию инвестиций, округлённая до ближайшего целого числа.\n",
    "Не учитывайте те сделки, в которых сумма покупки равна нулю. Если сумма инвестиций в компанию равна нулю, исключите такую компанию из таблицы.\n",
    "Отсортируйте таблицу по сумме сделки от большей к меньшей, а затем по названию купленной компании в лексикографическом порядке. Ограничьте таблицу первыми десятью записями."
   ]
  },
  {
   "cell_type": "markdown",
   "id": "574a7524",
   "metadata": {},
   "source": [
    "<div class=\"alert alert-info\">\n",
    "<b>SQL запрос:</b>\n",
    "<br> WITH \n",
    "    \n",
    "purchase AS (\n",
    "    \n",
    "SELECT a.id,\n",
    "    \n",
    "a.price_amount,\n",
    "    \n",
    "c.name as pokypatel,\n",
    "    \n",
    "c.funding_total\n",
    "    \n",
    "FROM company c \n",
    "    \n",
    "FULL JOIN acquisition a ON c.id=a.acquiring_company_id\n",
    "    \n",
    "WHERE a.price_amount <> 0 ),\n",
    " \n",
    "\n",
    "sale AS (\n",
    "    \n",
    "SELECT a.id,\n",
    "    \n",
    "a.price_amount,\n",
    "    \n",
    "c.name as kupili,\n",
    "    \n",
    "c.funding_total \n",
    "    \n",
    "FROM company c \n",
    "    \n",
    "FULL JOIN acquisition a ON c.id=a.acquired_company_id\n",
    "    \n",
    "WHERE c.funding_total <> 0 )\n",
    " \n",
    "SELECT purchase.pokypatel,\n",
    "    \n",
    "purchase.price_amount,\n",
    "    \n",
    "sale.kupili,\n",
    "    \n",
    "sale.funding_total,\n",
    "    \n",
    "ROUND (purchase.price_amount/sale.funding_total) as dola\n",
    "    \n",
    "FROM purchase\n",
    "    \n",
    "INNER JOIN sale ON purchase.id = sale.id\n",
    "    \n",
    "ORDER BY purchase.price_amount DESC, sale.kupili\n",
    "    \n",
    "LIMIT 10;\n",
    "</div>"
   ]
  },
  {
   "cell_type": "markdown",
   "id": "68f771a2",
   "metadata": {},
   "source": [
    "21.\n",
    "Выгрузите таблицу, в которую войдут названия компаний из категории social, получившие финансирование с 2010 по 2013 год включительно. Проверьте, что сумма инвестиций не равна нулю. Выведите также номер месяца, в котором проходил раунд финансирования."
   ]
  },
  {
   "cell_type": "markdown",
   "id": "8f89f489",
   "metadata": {},
   "source": [
    "<div class=\"alert alert-info\">\n",
    "<b>SQL запрос:</b>\n",
    "<br> SELECT social_companies.NAME,\n",
    "    \n",
    "EXTRACT(MONTH FROM CAST(fr.funded_at AS TIMESTAMP))\n",
    "    \n",
    "FROM\n",
    "    \n",
    "(SELECT NAME,\n",
    "    \n",
    "id\n",
    "    \n",
    "FROM company\n",
    "    \n",
    "WHERE category_code = 'social'\n",
    "    \n",
    ") social_companies\n",
    "    \n",
    "LEFT JOIN funding_round AS fr ON social_companies.id = fr.company_id\n",
    "    \n",
    "WHERE EXTRACT(YEAR FROM CAST(fr.funded_at AS TIMESTAMP)) BETWEEN 2010 AND 2013 AND\n",
    "    \n",
    "fr.raised_amount != 0\n",
    "</div>"
   ]
  },
  {
   "cell_type": "markdown",
   "id": "94f5b0f2",
   "metadata": {},
   "source": [
    "22.\n",
    "Отберите данные по месяцам с 2010 по 2013 год, когда проходили инвестиционные раунды. Сгруппируйте данные по номеру месяца и получите таблицу, в которой будут поля:\n",
    "номер месяца, в котором проходили раунды;\n",
    "количество уникальных названий фондов из США, которые инвестировали в этом месяце;\n",
    "количество компаний, купленных за этот месяц;\n",
    "общая сумма сделок по покупкам в этом месяце."
   ]
  },
  {
   "cell_type": "markdown",
   "id": "b83baaf4",
   "metadata": {},
   "source": [
    "<div class=\"alert alert-info\">\n",
    "<b>SQL запрос:</b>\n",
    "<br> WITH fund_count AS\n",
    "(\n",
    "SELECT EXTRACT(Month FROM CAST(fr.funded_at AS date)) AS month_number,\n",
    "    \n",
    "COUNT(DISTINCT f.name) AS fund_count_USA\n",
    "    \n",
    "FROM funding_round AS fr\n",
    "    \n",
    "LEFT JOIN investment AS i ON fr.id = i.funding_round_id\n",
    "    \n",
    "LEFT JOIN fund AS f ON f.id = i.fund_id\n",
    "    \n",
    "WHERE f.country_code = 'USA'\n",
    "    \n",
    "AND EXTRACT(YEAR FROM CAST(fr.funded_at AS date)) BETWEEN 2010 AND 2013\n",
    "    \n",
    "GROUP BY  EXTRACT(MONTH FROM CAST(fr.funded_at AS date))\n",
    "    \n",
    "),\n",
    "    \n",
    "comp_count AS\n",
    "    \n",
    "(SELECT EXTRACT(Month FROM CAST(acquired_at AS date)) AS month_number,\n",
    "    \n",
    "COUNT(id) AS company_count,\n",
    "    \n",
    "SUM (price_amount) AS total_amount\n",
    "    \n",
    "FROM acquisition\n",
    "    \n",
    "WHERE EXTRACT(YEAR FROM CAST(acquired_at AS date)) BETWEEN 2010 AND 2013\n",
    "    \n",
    "GROUP BY EXTRACT(MONTH FROM CAST(acquired_at AS date))\n",
    "    \n",
    ")\n",
    " \n",
    "SELECT fund_count.month_number,\n",
    "    \n",
    "fund_count_USA,\n",
    "    \n",
    "company_count, \n",
    "    \n",
    "total_amount\n",
    "    \n",
    "FROM fund_count\n",
    "    \n",
    "LEFT JOIN comp_count\n",
    "    \n",
    "ON fund_count.month_number=comp_count.month_number;\n",
    "</div>"
   ]
  },
  {
   "cell_type": "markdown",
   "id": "c41e2f27",
   "metadata": {},
   "source": [
    "23.\n",
    "Составьте сводную таблицу и выведите среднюю сумму инвестиций для стран, в которых есть стартапы, зарегистрированные в 2011, 2012 и 2013 годах. Данные за каждый год должны быть в отдельном поле. Отсортируйте таблицу по среднему значению инвестиций за 2011 год от большего к меньшему."
   ]
  },
  {
   "cell_type": "markdown",
   "id": "577010fb",
   "metadata": {},
   "source": [
    "<div class=\"alert alert-info\">\n",
    "<b>SQL запрос:</b>\n",
    "<br> with\n",
    "    \n",
    "t_11 as (select distinct country_code,\n",
    "    \n",
    "avg(funding_total) as year_2011\n",
    "    \n",
    "from company\n",
    "    \n",
    "where\n",
    "    \n",
    "extract(year from cast(founded_at as\n",
    "    \n",
    "timestamp))=2011\n",
    "    \n",
    "group by country_code),\n",
    " \n",
    "t_12 as (select distinct country_code,\n",
    "    \n",
    "avg(funding_total) as year_2012\n",
    "    \n",
    "from company\n",
    "    \n",
    "where\n",
    "    \n",
    "extract(year from cast(founded_at as\n",
    "    \n",
    "timestamp))=2012\n",
    "    \n",
    "group by country_code),\n",
    " \n",
    "t_13 as (select distinct country_code,\n",
    "    \n",
    "avg(funding_total) as year_2013\n",
    "    \n",
    "from company\n",
    "    \n",
    "where\n",
    "    \n",
    "extract(year from cast(founded_at as\n",
    "    \n",
    "timestamp))=2013\n",
    "    \n",
    "group by country_code)\n",
    " \n",
    "select t_11.country_code,\n",
    "    \n",
    "t_11.year_2011,\n",
    "    \n",
    "t_12.year_2012,\n",
    "    \n",
    "t_13.year_2013\n",
    " \n",
    "from t_11\n",
    " \n",
    "inner join t_12 on\n",
    "    \n",
    "t_11.country_code= t_12.country_code\n",
    "    \n",
    "inner join t_13 on\n",
    "    \n",
    "t_12.country_code= t_13.country_code\n",
    " \n",
    "order by t_11.year_2011 desc;\n",
    "</div>"
   ]
  }
 ],
 "metadata": {
  "kernelspec": {
   "display_name": "Python 3 (ipykernel)",
   "language": "python",
   "name": "python3"
  },
  "language_info": {
   "codemirror_mode": {
    "name": "ipython",
    "version": 3
   },
   "file_extension": ".py",
   "mimetype": "text/x-python",
   "name": "python",
   "nbconvert_exporter": "python",
   "pygments_lexer": "ipython3",
   "version": "3.9.13"
  }
 },
 "nbformat": 4,
 "nbformat_minor": 5
}
