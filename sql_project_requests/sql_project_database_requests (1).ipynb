{
 "cells": [
  {
   "cell_type": "markdown",
   "id": "001b8b17",
   "metadata": {},
   "source": [
    "# SQL"
   ]
  },
  {
   "cell_type": "markdown",
   "id": "e2f85b11",
   "metadata": {},
   "source": [
    "#### Описание проекта."
   ]
  },
  {
   "cell_type": "markdown",
   "id": "c7ca54bd",
   "metadata": {},
   "source": [
    "В самостоятельном проекте вам нужно проанализировать данные о фондах и инвестициях и написать запросы к базе."
   ]
  },
  {
   "cell_type": "markdown",
   "id": "7942c097",
   "metadata": {},
   "source": [
    "*В данных, которые использованы в проекте, упоминаются сервисы и компании, запрещённые в РФ."
   ]
  },
  {
   "cell_type": "markdown",
   "id": "e9ae2fa2",
   "metadata": {},
   "source": [
    "<div class=\"alert alert-info\">\n",
    "<b>Задание:</b>\n",
    "<br> 1. Посчитайте, сколько компаний закрылось.\n",
    "</div>"
   ]
  },
  {
   "cell_type": "markdown",
   "id": "c3472056",
   "metadata": {},
   "source": [
    "SELECT COUNT(status)\n",
    "FROM company\n",
    "WHERE status = 'closed';"
   ]
  },
  {
   "cell_type": "markdown",
   "id": "46a4618b",
   "metadata": {},
   "source": [
    "<div class=\"alert alert-info\">\n",
    "<b>Задание:</b>\n",
    "<br> 2. Отобразите количество привлечённых средств для новостных компаний США. Используйте данные из таблицы company. Отсортируйте таблицу по убыванию значений в поле funding_total .\n",
    "</div>"
   ]
  },
  {
   "cell_type": "markdown",
   "id": "f2a46575",
   "metadata": {},
   "source": [
    "SELECT funding_total\n",
    "FROM company\n",
    "WHERE category_code = 'news' AND country_code = 'USA'\n",
    "ORDER BY funding_total DESC;"
   ]
  },
  {
   "cell_type": "markdown",
   "id": "05a56669",
   "metadata": {},
   "source": [
    "<div class=\"alert alert-info\">\n",
    "<b>Задание:</b>\n",
    "<br> 3. Найдите общую сумму сделок по покупке одних компаний другими в долларах. Отберите сделки, которые осуществлялись только за наличные с 2011 по 2013 год включительно.\n",
    "</div>"
   ]
  },
  {
   "cell_type": "markdown",
   "id": "cffe733f",
   "metadata": {},
   "source": [
    "SELECT SUM(price_amount)\n",
    "FROM acquisition\n",
    "WHERE (term_code = 'cash') AND (acquired_at BETWEEN '2011-01-01' AND '2013-12-31');"
   ]
  },
  {
   "cell_type": "markdown",
   "id": "f861d324",
   "metadata": {},
   "source": [
    "<div class=\"alert alert-info\">\n",
    "<b>Задание:</b>\n",
    "<br> 4. Отобразите имя, фамилию и названия аккаунтов людей в твиттере, у которых названия аккаунтов начинаются на 'Silver'.\n",
    "</div>"
   ]
  },
  {
   "cell_type": "markdown",
   "id": "52617b6c",
   "metadata": {},
   "source": [
    "SELECT first_name,\n",
    "       last_name,\n",
    "       twitter_username\n",
    "FROM people\n",
    "WHERE twitter_username LIKE 'Silver%';"
   ]
  },
  {
   "cell_type": "markdown",
   "id": "4d3c46b8",
   "metadata": {},
   "source": [
    "<div class=\"alert alert-info\">\n",
    "<b>Задание:</b>\n",
    "<br> 5. Выведите на экран всю информацию о людях, у которых названия аккаунтов в твиттере содержат подстроку 'money', а фамилия начинается на 'K'.\n",
    "</div>"
   ]
  },
  {
   "cell_type": "markdown",
   "id": "0f17ba60",
   "metadata": {},
   "source": [
    "SELECT *\n",
    "FROM people\n",
    "WHERE (twitter_username LIKE '%money%') AND (last_name LIKE 'K%');"
   ]
  },
  {
   "cell_type": "markdown",
   "id": "5b822085",
   "metadata": {},
   "source": [
    "<div class=\"alert alert-info\">\n",
    "<b>Задание:</b>\n",
    "<br> 6. Для каждой страны отобразите общую сумму привлечённых инвестиций, которые получили компании, зарегистрированные в этой стране. Страну, в которой зарегистрирована компания, можно определить по коду страны. Отсортируйте данные по убыванию суммы.\n",
    "</div>"
   ]
  },
  {
   "cell_type": "markdown",
   "id": "a0a22fe8",
   "metadata": {},
   "source": [
    "SELECT country_code, \n",
    "       SUM(funding_total)\n",
    "FROM company\n",
    "GROUP BY country_code \n",
    "ORDER BY SUM(funding_total) DESC;"
   ]
  },
  {
   "cell_type": "markdown",
   "id": "2d5b2a5a",
   "metadata": {},
   "source": [
    "<div class=\"alert alert-info\">\n",
    "<b>Задание:</b>\n",
    "<br> 7. Составьте таблицу, в которую войдёт дата проведения раунда, а также минимальное и максимальное значения суммы инвестиций, привлечённых в эту дату.\n",
    "Оставьте в итоговой таблице только те записи, в которых минимальное значение суммы инвестиций не равно нулю и не равно максимальному значению.\n",
    "</div>"
   ]
  },
  {
   "cell_type": "markdown",
   "id": "8df581a4",
   "metadata": {},
   "source": [
    "SELECT funded_at,\n",
    "       MIN(raised_amount),\n",
    "       MAX(raised_amount)\n",
    "FROM funding_round\n",
    "GROUP BY funded_at\n",
    "HAVING MIN(raised_amount) != 0 \n",
    "AND MIN(raised_amount) != MAX(raised_amount);"
   ]
  },
  {
   "cell_type": "markdown",
   "id": "caf8d874",
   "metadata": {},
   "source": [
    "<div class=\"alert alert-info\">\n",
    "<b>Задание:</b>\n",
    "<br> 8. Создайте поле с категориями:\n",
    "    \n",
    "Для фондов, которые инвестируют в 100 и более компаний, назначьте категорию high_activity.\n",
    "    \n",
    "Для фондов, которые инвестируют в 20 и более компаний до 100, назначьте категорию middle_activity.\n",
    "    \n",
    "Если количество инвестируемых компаний фонда не достигает 20, назначьте категорию low_activity.\n",
    "    \n",
    "Отобразите все поля таблицы fund и новое поле с категориями.\n",
    "</div>"
   ]
  },
  {
   "cell_type": "code",
   "execution_count": null,
   "id": "4b03cfd4",
   "metadata": {},
   "outputs": [],
   "source": []
  },
  {
   "cell_type": "markdown",
   "id": "1109fee7",
   "metadata": {},
   "source": [
    "<div class=\"alert alert-info\">\n",
    "<b>Задание:</b>\n",
    "<br> 3. Найдите общую сумму сделок по покупке одних компаний другими в долларах. Отберите сделки, которые осуществлялись только за наличные с 2011 по 2013 год включительно.\n",
    "</div>"
   ]
  },
  {
   "cell_type": "markdown",
   "id": "8098da63",
   "metadata": {},
   "source": [
    "<div class=\"alert alert-info\">\n",
    "<b>Задание:</b>\n",
    "<br> 3. Найдите общую сумму сделок по покупке одних компаний другими в долларах. Отберите сделки, которые осуществлялись только за наличные с 2011 по 2013 год включительно.\n",
    "</div>"
   ]
  },
  {
   "cell_type": "markdown",
   "id": "19a10119",
   "metadata": {},
   "source": [
    "<div class=\"alert alert-info\">\n",
    "<b>Задание:</b>\n",
    "<br> 3. Найдите общую сумму сделок по покупке одних компаний другими в долларах. Отберите сделки, которые осуществлялись только за наличные с 2011 по 2013 год включительно.\n",
    "</div>"
   ]
  },
  {
   "cell_type": "markdown",
   "id": "07d7b0a0",
   "metadata": {},
   "source": [
    "<div class=\"alert alert-info\">\n",
    "<b>Задание:</b>\n",
    "<br> 3. Найдите общую сумму сделок по покупке одних компаний другими в долларах. Отберите сделки, которые осуществлялись только за наличные с 2011 по 2013 год включительно.\n",
    "</div>"
   ]
  },
  {
   "cell_type": "markdown",
   "id": "5a38a945",
   "metadata": {},
   "source": [
    "<div class=\"alert alert-info\">\n",
    "<b>Задание:</b>\n",
    "<br> 3. Найдите общую сумму сделок по покупке одних компаний другими в долларах. Отберите сделки, которые осуществлялись только за наличные с 2011 по 2013 год включительно.\n",
    "</div>"
   ]
  },
  {
   "cell_type": "markdown",
   "id": "948b4a97",
   "metadata": {},
   "source": [
    "<div class=\"alert alert-info\">\n",
    "<b>Задание:</b>\n",
    "<br> 3. Найдите общую сумму сделок по покупке одних компаний другими в долларах. Отберите сделки, которые осуществлялись только за наличные с 2011 по 2013 год включительно.\n",
    "</div>"
   ]
  },
  {
   "cell_type": "markdown",
   "id": "f2ae5ea1",
   "metadata": {},
   "source": [
    "<div class=\"alert alert-info\">\n",
    "<b>Задание:</b>\n",
    "<br> 3. Найдите общую сумму сделок по покупке одних компаний другими в долларах. Отберите сделки, которые осуществлялись только за наличные с 2011 по 2013 год включительно.\n",
    "</div>"
   ]
  },
  {
   "cell_type": "markdown",
   "id": "85b38f23",
   "metadata": {},
   "source": [
    "<div class=\"alert alert-info\">\n",
    "<b>Задание:</b>\n",
    "<br> 3. Найдите общую сумму сделок по покупке одних компаний другими в долларах. Отберите сделки, которые осуществлялись только за наличные с 2011 по 2013 год включительно.\n",
    "</div>"
   ]
  },
  {
   "cell_type": "markdown",
   "id": "ecf819d7",
   "metadata": {},
   "source": [
    "<div class=\"alert alert-info\">\n",
    "<b>Задание:</b>\n",
    "<br> 3. Найдите общую сумму сделок по покупке одних компаний другими в долларах. Отберите сделки, которые осуществлялись только за наличные с 2011 по 2013 год включительно.\n",
    "</div>"
   ]
  },
  {
   "cell_type": "markdown",
   "id": "b6d911c3",
   "metadata": {},
   "source": [
    "<div class=\"alert alert-info\">\n",
    "<b>Задание:</b>\n",
    "<br> 3. Найдите общую сумму сделок по покупке одних компаний другими в долларах. Отберите сделки, которые осуществлялись только за наличные с 2011 по 2013 год включительно.\n",
    "</div>"
   ]
  },
  {
   "cell_type": "markdown",
   "id": "21161d2f",
   "metadata": {},
   "source": [
    "<div class=\"alert alert-info\">\n",
    "<b>Задание:</b>\n",
    "<br> 3. Найдите общую сумму сделок по покупке одних компаний другими в долларах. Отберите сделки, которые осуществлялись только за наличные с 2011 по 2013 год включительно.\n",
    "</div>"
   ]
  },
  {
   "cell_type": "markdown",
   "id": "73ac411e",
   "metadata": {},
   "source": [
    "<div class=\"alert alert-info\">\n",
    "<b>Задание:</b>\n",
    "<br> 3. Найдите общую сумму сделок по покупке одних компаний другими в долларах. Отберите сделки, которые осуществлялись только за наличные с 2011 по 2013 год включительно.\n",
    "</div>"
   ]
  },
  {
   "cell_type": "markdown",
   "id": "e0d1dd72",
   "metadata": {},
   "source": [
    "<div class=\"alert alert-info\">\n",
    "<b>Задание:</b>\n",
    "<br> 3. Найдите общую сумму сделок по покупке одних компаний другими в долларах. Отберите сделки, которые осуществлялись только за наличные с 2011 по 2013 год включительно.\n",
    "</div>"
   ]
  },
  {
   "cell_type": "markdown",
   "id": "4e69086d",
   "metadata": {},
   "source": [
    "<div class=\"alert alert-info\">\n",
    "<b>Задание:</b>\n",
    "<br> 3. Найдите общую сумму сделок по покупке одних компаний другими в долларах. Отберите сделки, которые осуществлялись только за наличные с 2011 по 2013 год включительно.\n",
    "</div>"
   ]
  },
  {
   "cell_type": "markdown",
   "id": "54467eac",
   "metadata": {},
   "source": [
    "<div class=\"alert alert-info\">\n",
    "<b>Задание:</b>\n",
    "<br> 3. Найдите общую сумму сделок по покупке одних компаний другими в долларах. Отберите сделки, которые осуществлялись только за наличные с 2011 по 2013 год включительно.\n",
    "</div>"
   ]
  },
  {
   "cell_type": "markdown",
   "id": "e6e81826",
   "metadata": {},
   "source": [
    "<div class=\"alert alert-info\">\n",
    "<b>Задание:</b>\n",
    "<br> 3. Найдите общую сумму сделок по покупке одних компаний другими в долларах. Отберите сделки, которые осуществлялись только за наличные с 2011 по 2013 год включительно.\n",
    "</div>"
   ]
  },
  {
   "cell_type": "markdown",
   "id": "3fb101b8",
   "metadata": {},
   "source": [
    "<div class=\"alert alert-info\">\n",
    "<b>Задание:</b>\n",
    "<br> 3. Найдите общую сумму сделок по покупке одних компаний другими в долларах. Отберите сделки, которые осуществлялись только за наличные с 2011 по 2013 год включительно.\n",
    "</div>"
   ]
  },
  {
   "cell_type": "markdown",
   "id": "89c6d61a",
   "metadata": {},
   "source": [
    "<div class=\"alert alert-info\">\n",
    "<b>Задание:</b>\n",
    "<br> 3. Найдите общую сумму сделок по покупке одних компаний другими в долларах. Отберите сделки, которые осуществлялись только за наличные с 2011 по 2013 год включительно.\n",
    "</div>"
   ]
  },
  {
   "cell_type": "markdown",
   "id": "38756b78",
   "metadata": {},
   "source": [
    "<div class=\"alert alert-info\">\n",
    "<b>Задание:</b>\n",
    "<br> 3. Найдите общую сумму сделок по покупке одних компаний другими в долларах. Отберите сделки, которые осуществлялись только за наличные с 2011 по 2013 год включительно.\n",
    "</div>"
   ]
  },
  {
   "cell_type": "markdown",
   "id": "b44cad02",
   "metadata": {},
   "source": [
    "<div class=\"alert alert-info\">\n",
    "<b>Задание:</b>\n",
    "<br> 3. Найдите общую сумму сделок по покупке одних компаний другими в долларах. Отберите сделки, которые осуществлялись только за наличные с 2011 по 2013 год включительно.\n",
    "</div>"
   ]
  }
 ],
 "metadata": {
  "kernelspec": {
   "display_name": "Python 3 (ipykernel)",
   "language": "python",
   "name": "python3"
  },
  "language_info": {
   "codemirror_mode": {
    "name": "ipython",
    "version": 3
   },
   "file_extension": ".py",
   "mimetype": "text/x-python",
   "name": "python",
   "nbconvert_exporter": "python",
   "pygments_lexer": "ipython3",
   "version": "3.9.13"
  }
 },
 "nbformat": 4,
 "nbformat_minor": 5
}
