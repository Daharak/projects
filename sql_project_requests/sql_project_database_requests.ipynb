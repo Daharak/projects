{
 "cells": [
  {
   "cell_type": "markdown",
   "id": "b4eb4736",
   "metadata": {
    "toc": true
   },
   "source": [
    "<h1>Оглавление.<span class=\"tocSkip\"></span></h1>\n",
    "<div class=\"toc\"><ul class=\"toc-item\"><li><span><a href=\"#Запросы-к-БД.\" data-toc-modified-id=\"Запросы-к-БД.-1\"><span class=\"toc-item-num\">1&nbsp;&nbsp;</span>Запросы к БД.</a></span></li></ul></div>"
   ]
  },
  {
   "cell_type": "markdown",
   "id": "001b8b17",
   "metadata": {},
   "source": [
    "# Описание проекта."
   ]
  },
  {
   "cell_type": "markdown",
   "id": "e2f85b11",
   "metadata": {},
   "source": [
    "В самостоятельном проекте этого курса вы будете работать с базой данных, которая хранит информацию о венчурных фондах и инвестициях в компании-стартапы. Эта база данных основана на датасете Startup Investments, опубликованном на популярной платформе для соревнований по исследованию данных Kaggle."
   ]
  },
  {
   "cell_type": "markdown",
   "id": "7942c097",
   "metadata": {},
   "source": [
    "*В данных, которые использованы в проекте, упоминаются сервисы и компании, запрещённые в РФ."
   ]
  },
  {
   "cell_type": "markdown",
   "id": "eadf6bd6",
   "metadata": {},
   "source": [
    "## Запросы к БД."
   ]
  },
  {
   "cell_type": "markdown",
   "id": "e9ae2fa2",
   "metadata": {},
   "source": [
    "**1. Посчитайте, сколько компаний закрылось.**"
   ]
  },
  {
   "cell_type": "markdown",
   "id": "6421aa55",
   "metadata": {},
   "source": [
    "SELECT COUNT(status)    \n",
    "FROM company    \n",
    "WHERE status = 'closed';  "
   ]
  },
  {
   "cell_type": "markdown",
   "id": "46a4618b",
   "metadata": {},
   "source": [
    "**2. Отобразите количество привлечённых средств для новостных компаний США. Используйте данные из таблицы company. Отсортируйте таблицу по убыванию значений в поле funding_total.**"
   ]
  },
  {
   "cell_type": "markdown",
   "id": "f93ae0e8",
   "metadata": {},
   "source": [
    "SELECT funding_total  \n",
    "FROM company  \n",
    "WHERE category_code = 'news' AND country_code = 'USA'  \n",
    "ORDER BY funding_total DESC;"
   ]
  },
  {
   "cell_type": "markdown",
   "id": "05a56669",
   "metadata": {},
   "source": [
    "**3. Найдите общую сумму сделок по покупке одних компаний другими в долларах. Отберите сделки, которые осуществлялись только за наличные с 2011 по 2013 год включительно.**"
   ]
  },
  {
   "cell_type": "markdown",
   "id": "e819ae70",
   "metadata": {},
   "source": [
    "SELECT SUM(price_amount)  \n",
    "FROM acquisition  \n",
    "WHERE (term_code = 'cash') AND (acquired_at BETWEEN '2011-01-01' AND '2013-12-31');"
   ]
  },
  {
   "cell_type": "markdown",
   "id": "f861d324",
   "metadata": {},
   "source": [
    "**4. Отобразите имя, фамилию и названия аккаунтов людей в твиттере, у которых названия аккаунтов начинаются на 'Silver'.**"
   ]
  },
  {
   "cell_type": "markdown",
   "id": "2a7a9f07",
   "metadata": {},
   "source": [
    "SELECT first_name,  \n",
    "       last_name,  \n",
    "       twitter_username  \n",
    "FROM people  \n",
    "WHERE twitter_username LIKE 'Silver%';"
   ]
  },
  {
   "cell_type": "markdown",
   "id": "4d3c46b8",
   "metadata": {},
   "source": [
    "**5. Выведите на экран всю информацию о людях, у которых названия аккаунтов в твиттере содержат подстроку 'money', а фамилия начинается на 'K'.**"
   ]
  },
  {
   "cell_type": "markdown",
   "id": "4d8e3ad2",
   "metadata": {},
   "source": [
    "SELECT (*)    \n",
    "FROM people  \n",
    "WHERE (twitter_username LIKE '%money%') AND (last_name LIKE 'K%');  "
   ]
  },
  {
   "cell_type": "markdown",
   "id": "5b822085",
   "metadata": {},
   "source": [
    "**6. Для каждой страны отобразите общую сумму привлечённых инвестиций, которые получили компании, зарегистрированные в этой стране. Страну, в которой зарегистрирована компания, можно определить по коду страны. Отсортируйте данные по убыванию суммы.**"
   ]
  },
  {
   "cell_type": "markdown",
   "id": "6f6cd279",
   "metadata": {},
   "source": [
    "SELECT country_code,  \n",
    "       SUM(funding_total)  \n",
    "FROM company  \n",
    "GROUP BY country_code \n",
    "ORDER BY SUM(funding_total) DESC;"
   ]
  },
  {
   "cell_type": "markdown",
   "id": "2d5b2a5a",
   "metadata": {},
   "source": [
    "**7. Составьте таблицу, в которую войдёт дата проведения раунда, а также минимальное и максимальное значения суммы инвестиций, привлечённых в эту дату.\n",
    "Оставьте в итоговой таблице только те записи, в которых минимальное значение суммы инвестиций не равно нулю и не равно максимальному значению.**"
   ]
  },
  {
   "cell_type": "markdown",
   "id": "a50d19a9",
   "metadata": {},
   "source": [
    "SELECT funded_at,  \n",
    "       MIN(raised_amount),  \n",
    "       MAX(raised_amount)  \n",
    "FROM funding_round  \n",
    "GROUP BY funded_at  \n",
    "HAVING MIN(raised_amount) != 0 \n",
    "AND MIN(raised_amount) != MAX(raised_amount);  "
   ]
  },
  {
   "cell_type": "markdown",
   "id": "caf8d874",
   "metadata": {},
   "source": [
    "**8. Создайте поле с категориями:  \n",
    "Для фондов, которые инвестируют в 100 и более компаний, назначьте категорию high_activity.  \n",
    "Для фондов, которые инвестируют в 20 и более компаний до 100, назначьте категорию middle_activity.  \n",
    "Если количество инвестируемых компаний фонда не достигает 20, назначьте категорию low_activity.  \n",
    "Отобразите все поля таблицы fund и новое поле с категориями.**  "
   ]
  },
  {
   "cell_type": "markdown",
   "id": "59cd191a",
   "metadata": {},
   "source": [
    "SELECT *,  \n",
    "      CASE   \n",
    "      WHEN invested_companies>=100 THEN 'high_activity'  \n",
    "      WHEN invested_companies BETWEEN 20 AND 99 THEN 'middle_activity'  \n",
    "      WHEN invested_companies <20 THEN 'low_activity'  \n",
    "      END category  \n",
    "FROM fund;  "
   ]
  },
  {
   "cell_type": "markdown",
   "id": "1109fee7",
   "metadata": {},
   "source": [
    "**9. Для каждой из категорий, назначенных в предыдущем задании, посчитайте округлённое до ближайшего целого числа среднее количество инвестиционных раундов, в которых фонд принимал участие. Выведите на экран категории и среднее число инвестиционных раундов. Отсортируйте таблицу по возрастанию среднего.**"
   ]
  },
  {
   "cell_type": "markdown",
   "id": "67661cd7",
   "metadata": {},
   "source": [
    "SELECT ROUND(AVG(investment_rounds)) AS investment_rounds,  \n",
    "       CASE  \n",
    "       WHEN invested_companies>=100 THEN 'high_activity'  \n",
    "       WHEN invested_companies>=20 THEN 'middle_activity'  \n",
    "       ELSE 'low_activity'  \n",
    "       END AS activity  \n",
    "FROM fund  \n",
    "GROUP BY activity  \n",
    "ORDER BY investment_rounds ASC;  "
   ]
  },
  {
   "cell_type": "markdown",
   "id": "8098da63",
   "metadata": {},
   "source": [
    "**10. Проанализируйте, в каких странах находятся фонды, которые чаще всего инвестируют в стартапы.  \n",
    "Для каждой страны посчитайте минимальное, максимальное и среднее число компаний, в которые инвестировали фонды этой страны, основанные с 2010 по 2012 год включительно. Исключите страны с фондами, у которых минимальное число компаний, получивших инвестиции, равно нулю. Выгрузите десять самых активных стран-инвесторов.\n",
    "Отсортируйте таблицу по среднему количеству компаний от большего к меньшему, а затем по коду страны в лексикографическом порядке.**"
   ]
  },
  {
   "cell_type": "markdown",
   "id": "a941e23f",
   "metadata": {},
   "source": [
    "SELECT country_code,  \n",
    "       MIN(invested_companies),  \n",
    "       MAX(invested_companies),  \n",
    "       AVG(invested_companies)  \n",
    "FROM fund  \n",
    "WHERE founded_at BETWEEN '2010-01-01' AND '2012-12-31'  \n",
    "GROUP BY country_code  \n",
    "HAVING MIN(invested_companies) !=0  \n",
    "ORDER BY AVG(invested_companies) DESC, country_code ASC  \n",
    "LIMIT 10;  "
   ]
  },
  {
   "cell_type": "markdown",
   "id": "19a10119",
   "metadata": {},
   "source": [
    "**11. Отобразите имя и фамилию всех сотрудников стартапов. Добавьте поле с названием учебного заведения, которое окончил сотрудник, если эта информация известна.**"
   ]
  },
  {
   "cell_type": "markdown",
   "id": "54d30eca",
   "metadata": {},
   "source": [
    "SELECT p.first_name,  \n",
    "       p.last_name,  \n",
    "       e.instituition  \n",
    "FROM people AS p  \n",
    "LEFT JOIN education AS e ON p.id=e.person_id;  "
   ]
  },
  {
   "cell_type": "markdown",
   "id": "07d7b0a0",
   "metadata": {},
   "source": [
    "**12. Для каждой компании найдите количество учебных заведений, которые окончили её сотрудники. Выведите название компании и число уникальных названий учебных заведений. Составьте топ-5 компаний по количеству университетов.**"
   ]
  },
  {
   "cell_type": "markdown",
   "id": "1689c787",
   "metadata": {},
   "source": [
    "SELECT c.name,  \n",
    "       COUNT(DISTINCT e.instituition)  \n",
    "FROM company AS c  \n",
    "INNER JOIN people AS p ON c.id=p.company_id  \n",
    "LEFT JOIN education AS e ON e.person_id=p.id  \n",
    "GROUP BY c.name  \n",
    "ORDER BY COUNT(DISTINCT e.instituition) DESC  \n",
    "LIMIT 5;  "
   ]
  },
  {
   "cell_type": "markdown",
   "id": "5a38a945",
   "metadata": {},
   "source": [
    "**13. Составьте список с уникальными названиями закрытых компаний, для которых первый раунд финансирования оказался последним.**"
   ]
  },
  {
   "cell_type": "markdown",
   "id": "927dbbe7",
   "metadata": {},
   "source": [
    "SELECT DISTINCT c.name  \n",
    "FROM company AS c  \n",
    "LEFT OUTER JOIN funding_round AS fr ON fr.company_id=c.id  \n",
    "WHERE status = 'closed' AND is_first_round=1 AND is_last_round=1;  "
   ]
  },
  {
   "cell_type": "markdown",
   "id": "948b4a97",
   "metadata": {},
   "source": [
    "**14. Составьте список уникальных номеров сотрудников, которые работают в компаниях, отобранных в предыдущем задании.**"
   ]
  },
  {
   "cell_type": "markdown",
   "id": "edee2fc1",
   "metadata": {},
   "source": [
    "SELECT DISTINCT p.id  \n",
    "FROM company AS c  \n",
    "LEFT OUTER JOIN funding_round AS fr ON fr.company_id=c.id  \n",
    "LEFT OUTER JOIN people AS p ON p.company_id=c.id  \n",
    "WHERE status = 'closed' AND is_first_round=1 AND is_last_round=1 AND p.id IS NOT NULL;  "
   ]
  },
  {
   "cell_type": "markdown",
   "id": "f2ae5ea1",
   "metadata": {},
   "source": [
    "**15. Составьте таблицу, куда войдут уникальные пары с номерами сотрудников из предыдущей задачи и учебным заведением, которое окончил сотрудник.**"
   ]
  },
  {
   "cell_type": "markdown",
   "id": "e5a3009c",
   "metadata": {},
   "source": [
    "SELECT DISTINCT p.id,  \n",
    "       e.instituition  \n",
    "FROM company AS c  \n",
    "LEFT OUTER JOIN funding_round AS fr ON fr.company_id=c.id  \n",
    "LEFT OUTER JOIN people AS p ON p.company_id=c.id  \n",
    "LEFT OUTER JOIN education AS e ON e.person_id=p.id  \n",
    "WHERE status = 'closed' AND is_first_round=1 AND is_last_round=1 AND p.id IS NOT NULL AND e.instituition IS NOT NULL;  "
   ]
  },
  {
   "cell_type": "markdown",
   "id": "85b38f23",
   "metadata": {},
   "source": [
    "**16. Посчитайте количество учебных заведений для каждого сотрудника из предыдущего задания. При подсчёте учитывайте, что некоторые сотрудники могли окончить одно и то же заведение дважды.**"
   ]
  },
  {
   "cell_type": "markdown",
   "id": "83b838b5",
   "metadata": {},
   "source": [
    "SELECT p.id,  \n",
    "       COUNT(e.instituition)  \n",
    "FROM education AS e  \n",
    "LEFT OUTER JOIN people AS p ON e.person_id=p.id  \n",
    "WHERE company_id IN  \n",
    "(SELECT c.id  \n",
    "FROM company AS c  \n",
    "LEFT OUTER JOIN funding_round as fr ON fr.company_id=c.id  \n",
    "WHERE c.status = 'closed' AND is_first_round=1 AND is_last_round = 1) \n",
    "GROUP BY p.id;  "
   ]
  },
  {
   "cell_type": "markdown",
   "id": "ecf819d7",
   "metadata": {},
   "source": [
    "**17. Дополните предыдущий запрос и выведите среднее число учебных заведений (всех, не только уникальных), которые окончили сотрудники разных компаний. Нужно вывести только одну запись, группировка здесь не понадобится.**"
   ]
  },
  {
   "cell_type": "markdown",
   "id": "6ca40d86",
   "metadata": {},
   "source": [
    "WITH count_institute AS(  \n",
    "SELECT p.id,  \n",
    "COUNT(e.instituition)  \n",
    "FROM people AS p  \n",
    "INNER JOIN education AS e   \n",
    "ON p.id=e.person_id  \n",
    "WHERE p.company_id IN   \n",
    " \n",
    "(SELECT id  \n",
    "FROM company  \n",
    "WHERE status = 'closed'  \n",
    "AND id IN (SELECT company_id  \n",
    "FROM funding_round  \n",
    "WHERE is_first_round =1 and is_last_round =1)  \n",
    ")  \n",
    "GROUP BY p.id)  \n",
    "\n",
    "SELECT AVG(count)  \n",
    "FROM (SELECT count FROM count_institute) AS avg_count;  "
   ]
  },
  {
   "cell_type": "markdown",
   "id": "b6d911c3",
   "metadata": {},
   "source": [
    "**18. Напишите похожий запрос: выведите среднее число учебных заведений (всех, не только уникальных), которые окончили сотрудники Facebook*.  \n",
    "*(сервис, запрещённый на территории РФ)**"
   ]
  },
  {
   "cell_type": "markdown",
   "id": "70ffdc9f",
   "metadata": {},
   "source": [
    "WITH count_facebook AS(  \n",
    "SELECT p.id,  \n",
    "COUNT(e.instituition)  \n",
    "FROM people AS p  \n",
    "INNER JOIN education AS e  \n",
    "ON p.id=e.person_id  \n",
    "WHERE p.company_id IN   \n",
    " \n",
    "(SELECT id  \n",
    "FROM company  \n",
    "WHERE name = 'Facebook')  \n",
    "GROUP BY p.id)  \n",
    "\n",
    "SELECT AVG(count)  \n",
    "FROM (SELECT count FROM count_facebook) AS avg_count;  "
   ]
  },
  {
   "cell_type": "markdown",
   "id": "21161d2f",
   "metadata": {},
   "source": [
    "**19. Составьте таблицу из полей:  \n",
    "name_of_fund — название фонда;  \n",
    "name_of_company — название компании;  \n",
    "amount — сумма инвестиций, которую привлекла компания в раунде.  \n",
    "В таблицу войдут данные о компаниях, в истории которых было больше шести важных этапов, а раунды финансирования проходили с 2012 по 2013 год включительно.**  "
   ]
  },
  {
   "cell_type": "markdown",
   "id": "5b82e9b9",
   "metadata": {},
   "source": [
    "SELECT f.name AS name_of_fund,  \n",
    "       c.name AS name_of_company,  \n",
    "       fr.raised_amount AS amount  \n",
    "FROM investment AS i  \n",
    "LEFT OUTER JOIN company AS c ON c.id=i.company_id  \n",
    "LEFT OUTER JOIN fund AS f ON f.id=i.fund_id  \n",
    "LEFT OUTER JOIN funding_round AS fr ON fr.id=i.funding_round_id  \n",
    "WHERE c.milestones > 6 AND funded_at BETWEEN '2012-01-01' AND '2013-12-31';  "
   ]
  },
  {
   "cell_type": "markdown",
   "id": "73ac411e",
   "metadata": {},
   "source": [
    "**20. Выгрузите таблицу, в которой будут такие поля:  \n",
    "название компании-покупателя;  \n",
    "сумма сделки;  \n",
    "название компании, которую купили;  \n",
    "сумма инвестиций, вложенных в купленную компанию;  \n",
    "доля, которая отображает, во сколько раз сумма покупки превысила сумму вложенных в компанию инвестиций, округлённая до ближайшего целого числа.  \n",
    "Не учитывайте те сделки, в которых сумма покупки равна нулю. Если сумма инвестиций в компанию равна нулю, исключите такую компанию из таблицы.  \n",
    "Отсортируйте таблицу по сумме сделки от большей к меньшей, а затем по названию купленной компании в лексикографическом порядке. Ограничьте таблицу первыми десятью записями.**  "
   ]
  },
  {
   "cell_type": "markdown",
   "id": "26a11472",
   "metadata": {},
   "source": [
    "WITH   \n",
    "purchase AS (  \n",
    "              SELECT a.id,  \n",
    "                     a.price_amount,  \n",
    "                     c.name as pokypatel,  \n",
    "                     c.funding_total            \n",
    "              FROM company c   \n",
    "              FULL JOIN acquisition a ON c.id=a.acquiring_company_id  \n",
    "              WHERE a.price_amount <> 0 ),  \n",
    " \n",
    "sale AS (  \n",
    "            SELECT a.id,  \n",
    "             a.price_amount,  \n",
    "             c.name as kupili,  \n",
    "             c.funding_total             \n",
    "             FROM company c   \n",
    "             FULL JOIN acquisition a ON c.id=a.acquired_company_id  \n",
    "             WHERE c.funding_total <> 0)  \n",
    " \n",
    "SELECT purchase.pokypatel,  \n",
    "       purchase.price_amount,  \n",
    "       sale.kupili,  \n",
    "       sale.funding_total,  \n",
    "       ROUND (purchase.price_amount/sale.funding_total) as dola  \n",
    "FROM purchase  \n",
    "INNER JOIN sale ON purchase.id = sale.id  \n",
    "ORDER BY purchase.price_amount DESC, sale.kupili  \n",
    "LIMIT 10;  "
   ]
  },
  {
   "cell_type": "markdown",
   "id": "e0d1dd72",
   "metadata": {},
   "source": [
    "**21. Выгрузите таблицу, в которую войдут названия компаний из категории social, получившие финансирование с 2010 по 2013 год включительно. Проверьте, что сумма инвестиций не равна нулю. Выведите также номер месяца, в котором проходил раунд финансирования.**"
   ]
  },
  {
   "cell_type": "markdown",
   "id": "21a18119",
   "metadata": {},
   "source": [
    "SELECT social_companies.NAME,  \n",
    "       EXTRACT(MONTH FROM CAST(fr.funded_at AS TIMESTAMP))  \n",
    "FROM  \n",
    "    (SELECT NAME,  \n",
    "            id  \n",
    "     FROM company  \n",
    "     WHERE category_code = 'social'  \n",
    "    ) AS social_companies  \n",
    "LEFT JOIN funding_round AS fr ON social_companies.id = fr.company_id  \n",
    "WHERE EXTRACT(YEAR FROM CAST(fr.funded_at AS TIMESTAMP)) BETWEEN 2010 AND 2013 AND  \n",
    "      fr.raised_amount != 0;  "
   ]
  },
  {
   "cell_type": "markdown",
   "id": "4e69086d",
   "metadata": {},
   "source": [
    "**22. Отберите данные по месяцам с 2010 по 2013 год, когда проходили инвестиционные раунды. Сгруппируйте данные по номеру месяца и получите таблицу, в которой будут поля:  \n",
    "номер месяца, в котором проходили раунды;  \n",
    "количество уникальных названий фондов из США, которые инвестировали в этом месяце;  \n",
    "количество компаний, купленных за этот месяц;  \n",
    "общая сумма сделок по покупкам в этом месяце.**  "
   ]
  },
  {
   "cell_type": "markdown",
   "id": "ac66f12e",
   "metadata": {},
   "source": [
    "WITH fund_count AS  \n",
    "(  \n",
    "    SELECT EXTRACT(Month FROM CAST(fr.funded_at AS date)) AS month_number,  \n",
    "    COUNT(DISTINCT f.name) AS fund_count_USA  \n",
    "    FROM funding_round AS fr  \n",
    "    LEFT JOIN investment AS i ON fr.id = i.funding_round_id  \n",
    "    LEFT JOIN fund AS f ON f.id = i.fund_id  \n",
    "    WHERE f.country_code = 'USA'  \n",
    "    AND EXTRACT(YEAR FROM CAST(fr.funded_at AS date)) BETWEEN 2010 AND 2013  \n",
    "    GROUP BY  EXTRACT(MONTH FROM CAST(fr.funded_at AS date))  \n",
    "),  \n",
    "\n",
    "comp_count AS  \n",
    "(SELECT EXTRACT(Month FROM CAST(acquired_at AS date)) AS month_number,  \n",
    "    COUNT(id) AS company_count,  \n",
    " SUM (price_amount) AS total_amount  \n",
    "    FROM acquisition  \n",
    "    WHERE EXTRACT(YEAR FROM CAST(acquired_at AS date)) BETWEEN 2010 AND 2013  \n",
    "    GROUP BY EXTRACT(MONTH FROM CAST(acquired_at AS date))  \n",
    ")  \n",
    " \n",
    "SELECT fund_count.month_number,  \n",
    "       fund_count_USA,  \n",
    "       company_count,   \n",
    "       total_amount  \n",
    "FROM fund_count   \n",
    "LEFT JOIN comp_count  \n",
    "ON fund_count.month_number=comp_count.month_number;  "
   ]
  },
  {
   "cell_type": "markdown",
   "id": "54467eac",
   "metadata": {},
   "source": [
    "**23. Составьте сводную таблицу и выведите среднюю сумму инвестиций для стран, в которых есть стартапы, зарегистрированные в 2011, 2012 и 2013 годах. Данные за каждый год должны быть в отдельном поле. Отсортируйте таблицу по среднему значению инвестиций за 2011 год от большего к меньшему.**"
   ]
  },
  {
   "cell_type": "markdown",
   "id": "90bce021",
   "metadata": {},
   "source": [
    "with  \n",
    "t_11 as (select distinct country_code,  \n",
    "avg(funding_total) as year_2011  \n",
    "from company  \n",
    "where  \n",
    "extract(year from cast(founded_at as  \n",
    "timestamp))=2011  \n",
    "group by country_code),  \n",
    " \n",
    "t_12 as (select distinct country_code,  \n",
    "avg(funding_total) as year_2012  \n",
    "from company  \n",
    "where  \n",
    "extract(year from cast(founded_at as  \n",
    "timestamp))=2012  \n",
    "group by country_code),  \n",
    " \n",
    "t_13 as (select distinct country_code,  \n",
    "avg(funding_total) as year_2013  \n",
    "from company  \n",
    "where  \n",
    "extract(year from cast(founded_at as  \n",
    "timestamp))=2013  \n",
    "group by country_code)  \n",
    " \n",
    "select t_11.country_code,  \n",
    "t_11.year_2011,  \n",
    "t_12.year_2012,  \n",
    "t_13.year_2013  \n",
    " \n",
    "from t_11  \n",
    " \n",
    "inner join t_12 on  \n",
    "t_11.country_code= t_12.country_code  \n",
    "inner join t_13 on  \n",
    "t_12.country_code= t_13.country_code  \n",
    " \n",
    "order by t_11.year_2011 desc;  "
   ]
  }
 ],
 "metadata": {
  "kernelspec": {
   "display_name": "Python 3 (ipykernel)",
   "language": "python",
   "name": "python3"
  },
  "language_info": {
   "codemirror_mode": {
    "name": "ipython",
    "version": 3
   },
   "file_extension": ".py",
   "mimetype": "text/x-python",
   "name": "python",
   "nbconvert_exporter": "python",
   "pygments_lexer": "ipython3",
   "version": "3.9.13"
  },
  "toc": {
   "base_numbering": 1,
   "nav_menu": {},
   "number_sections": true,
   "sideBar": true,
   "skip_h1_title": true,
   "title_cell": "Оглавление.",
   "title_sidebar": "Contents",
   "toc_cell": true,
   "toc_position": {},
   "toc_section_display": true,
   "toc_window_display": true
  }
 },
 "nbformat": 4,
 "nbformat_minor": 5
}
