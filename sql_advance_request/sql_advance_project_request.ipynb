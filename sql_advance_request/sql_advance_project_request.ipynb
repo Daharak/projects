{
 "cells": [
  {
   "cell_type": "markdown",
   "id": "9d9b5ea8",
   "metadata": {
    "toc": true
   },
   "source": [
    "<h1>Оглавление<span class=\"tocSkip\"></span></h1>\n",
    "<div class=\"toc\"><ul class=\"toc-item\"><li><span><a href=\"#Запросы-к-БД.\" data-toc-modified-id=\"Запросы-к-БД.-1\"><span class=\"toc-item-num\">1&nbsp;&nbsp;</span>Запросы к БД.</a></span><ul class=\"toc-item\"><li><span><a href=\"#Первая-часть-проекта.\" data-toc-modified-id=\"Первая-часть-проекта.-1.1\"><span class=\"toc-item-num\">1.1&nbsp;&nbsp;</span>Первая часть проекта.</a></span></li><li><span><a href=\"#Вторая-часть-проекта.\" data-toc-modified-id=\"Вторая-часть-проекта.-1.2\"><span class=\"toc-item-num\">1.2&nbsp;&nbsp;</span>Вторая часть проекта.</a></span></li></ul></li></ul></div>"
   ]
  },
  {
   "cell_type": "markdown",
   "id": "4e0227dd",
   "metadata": {},
   "source": [
    "# Описание проекта."
   ]
  },
  {
   "cell_type": "markdown",
   "id": "bac94e07",
   "metadata": {},
   "source": [
    "В самостоятельном проекте вы будете работать с базой данных StackOverflow — сервиса вопросов и ответов о программировании. StackOverflow похож на социальную сеть — пользователи сервиса задают вопросы, отвечают на посты, оставляют комментарии и ставят оценки другим ответам.\n",
    "Вы будете работать с версией базы, где хранятся данные о постах за 2008 год, но в таблицах вы найдёте информацию и о более поздних оценках, которые эти посты получили.\n",
    "\n",
    "*В данных, которые вы будете использовать в проекте, упоминаются сервисы и компании, запрещённые в РФ."
   ]
  },
  {
   "cell_type": "markdown",
   "id": "69c5787e",
   "metadata": {},
   "source": [
    "## Запросы к БД."
   ]
  },
  {
   "cell_type": "markdown",
   "id": "1d739d00",
   "metadata": {},
   "source": [
    "### Первая часть проекта. "
   ]
  },
  {
   "cell_type": "markdown",
   "id": "778b149b",
   "metadata": {},
   "source": [
    "**1. Найдите количество вопросов, которые набрали больше 300 очков или как минимум 100 раз были добавлены в «Закладки».**"
   ]
  },
  {
   "cell_type": "markdown",
   "id": "49762faa",
   "metadata": {},
   "source": [
    "SELECT COUNT(post_type_id)  \n",
    "FROM stackoverflow.posts p  \n",
    "JOIN stackoverflow.post_types pt ON pt.id = p.post_type_id  \n",
    "WHERE type = 'Question' AND (score>300 OR favorites_count>=100);"
   ]
  },
  {
   "cell_type": "markdown",
   "id": "0fae181d",
   "metadata": {},
   "source": [
    "**2. Сколько в среднем в день задавали вопросов с 1 по 18 ноября 2008 включительно? Результат округлите до целого числа.**"
   ]
  },
  {
   "cell_type": "markdown",
   "id": "ef80ab6f",
   "metadata": {},
   "source": [
    "WITH question AS (  \n",
    "    SELECT COUNT(post_type_id) AS count_post,  \n",
    "    p.creation_date::date AS post_dates  \n",
    "    FROM stackoverflow.posts p  \n",
    "    JOIN stackoverflow.post_types pt ON pt.id = p.post_type_id  \n",
    "    WHERE type = 'Question' AND (p.creation_date::date BETWEEN '2008-11-01' AND '2008-11-18')  \n",
    "    GROUP BY p.creation_date::date)  \n",
    "\n",
    "SELECT ROUND(AVG(count_post))\n",
    "FROM question;"
   ]
  },
  {
   "cell_type": "markdown",
   "id": "472384d4",
   "metadata": {},
   "source": [
    "**3. Сколько пользователей получили значки сразу в день регистрации? Выведите количество уникальных пользователей.**"
   ]
  },
  {
   "cell_type": "markdown",
   "id": "6ef125e1",
   "metadata": {},
   "source": [
    "SELECT COUNT(DISTINCT user_id)  \n",
    "FROM stackoverflow.badges b  \n",
    "JOIN stackoverflow.users u ON u.id = b.user_id  \n",
    "WHERE b.creation_date::date = u.creation_date::date;  "
   ]
  },
  {
   "cell_type": "markdown",
   "id": "060aec25",
   "metadata": {},
   "source": [
    "**4. Сколько уникальных постов пользователя с именем Joel Coehoorn получили хотя бы один голос?**"
   ]
  },
  {
   "cell_type": "markdown",
   "id": "a5f6b7e9",
   "metadata": {},
   "source": [
    "SELECT COUNT(DISTINCT(p.id))  \n",
    "FROM stackoverflow.posts p  \n",
    "JOIN stackoverflow.users u ON u.id = p.user_id  \n",
    "JOIN stackoverflow.votes v ON v.post_id = p.id  \n",
    "WHERE u.display_name = 'Joel Coehoorn';  "
   ]
  },
  {
   "cell_type": "markdown",
   "id": "99c52e0c",
   "metadata": {},
   "source": [
    "**5. Выгрузите все поля таблицы vote_types. Добавьте к таблице поле rank, в которое войдут номера записей в обратном порядке. Таблица должна быть отсортирована по полю id.**"
   ]
  },
  {
   "cell_type": "markdown",
   "id": "852434b7",
   "metadata": {},
   "source": [
    "SELECT *,  \n",
    "       RANK() OVER (ORDER BY id DESC)  \n",
    "FROM stackoverflow.vote_types  \n",
    "ORDER BY id;  "
   ]
  },
  {
   "cell_type": "markdown",
   "id": "97f53996",
   "metadata": {},
   "source": [
    "**6. Отберите 10 пользователей, которые поставили больше всего голосов типа Close. Отобразите таблицу из двух полей: идентификатором пользователя и количеством голосов. Отсортируйте данные сначала по убыванию количества голосов, потом по убыванию значения идентификатора пользователя.**"
   ]
  },
  {
   "cell_type": "markdown",
   "id": "a3bd0940",
   "metadata": {},
   "source": [
    "SELECT u.id,  \n",
    "       COUNT(v.id)  \n",
    "FROM stackoverflow.users u  \n",
    "JOIN stackoverflow.votes v ON v.user_id = u.id  \n",
    "JOIN stackoverflow.vote_types vt ON vt.id = v.vote_type_id  \n",
    "WHERE vt.name = 'Close'  \n",
    "GROUP BY u.id  \n",
    "ORDER BY COUNT(v.id) DESC LIMIT 10;  "
   ]
  },
  {
   "cell_type": "markdown",
   "id": "15b03f2f",
   "metadata": {},
   "source": [
    "**7. Отберите 10 пользователей по количеству значков, полученных в период с 15 ноября по 15 декабря 2008 года включительно. Отобразите несколько полей:\n",
    "идентификатор пользователя;\n",
    "число значков;\n",
    "место в рейтинге — чем больше значков, тем выше рейтинг.\n",
    "Пользователям, которые набрали одинаковое количество значков, присвойте одно и то же место в рейтинге.\n",
    "Отсортируйте записи по количеству значков по убыванию, а затем по возрастанию значения идентификатора пользователя.**"
   ]
  },
  {
   "cell_type": "markdown",
   "id": "b5c3635f",
   "metadata": {},
   "source": [
    "SELECT b.user_id,  \n",
    "       COUNT(b.id),  \n",
    "       DENSE_RANK () OVER (ORDER BY COUNT(b.id) DESC)  \n",
    "FROM stackoverflow.badges b  \n",
    "JOIN stackoverflow.users u ON b.user_id = u.id  \n",
    "WHERE b.creation_date::date BETWEEN '2008-11-15' AND '2008-12-15'  \n",
    "GROUP BY b.user_id  \n",
    "ORDER BY COUNT(b.id) DESC, b.user_id ASC LIMIT 10;  "
   ]
  },
  {
   "cell_type": "markdown",
   "id": "2850be08",
   "metadata": {},
   "source": [
    "**8. Сколько в среднем очков получает пост каждого пользователя?\n",
    "Сформируйте таблицу из следующих полей:\n",
    "заголовок поста;\n",
    "идентификатор пользователя;\n",
    "число очков поста;\n",
    "среднее число очков пользователя за пост, округлённое до целого числа.\n",
    "Не учитывайте посты без заголовка, а также те, что набрали ноль очков.**"
   ]
  },
  {
   "cell_type": "markdown",
   "id": "2282b894",
   "metadata": {},
   "source": [
    "SELECT title,  \n",
    "       user_id,  \n",
    "       score,  \n",
    "       ROUND(AVG(score) OVER (PARTITION BY user_id)) AS avg_score      \n",
    "FROM stackoverflow.posts  \n",
    "WHERE title IS NOT NULL AND score != 0;  "
   ]
  },
  {
   "cell_type": "markdown",
   "id": "8ee37843",
   "metadata": {},
   "source": [
    "**9. Отобразите заголовки постов, которые были написаны пользователями, получившими более 1000 значков. Посты без заголовков не должны попасть в список.**"
   ]
  },
  {
   "cell_type": "markdown",
   "id": "8f933181",
   "metadata": {},
   "source": [
    "WITH request AS (SELECT u.id,   \n",
    "               COUNT(DISTINCT b.user_id)  \n",
    "FROM stackoverflow.badges b  \n",
    "JOIN stackoverflow.users u ON u.id = b.user_id        \n",
    "GROUP BY u.id  \n",
    "HAVING(COUNT(DISTINCT b.id))>1000)  \n",
    "\n",
    "SELECT title  \n",
    "FROM request r  \n",
    "JOIN stackoverflow.posts AS p ON r.id = p.user_id  \n",
    "WHERE p.title IS NOT NULL;  "
   ]
  },
  {
   "cell_type": "markdown",
   "id": "c0725ef3",
   "metadata": {},
   "source": [
    "**10. Напишите запрос, который выгрузит данные о пользователях из США (англ. United States). Разделите пользователей на три группы в зависимости от количества просмотров их профилей:  \n",
    "пользователям с числом просмотров больше либо равным 350 присвойте группу 1;  \n",
    "пользователям с числом просмотров меньше 350, но больше либо равно 100 — группу 2;  \n",
    "пользователям с числом просмотров меньше 100 — группу 3.  \n",
    "Отобразите в итоговой таблице идентификатор пользователя, количество просмотров профиля и группу.  \n",
    "Пользователи с нулевым количеством просмотров не должны войти в итоговую таблицу.**  "
   ]
  },
  {
   "cell_type": "markdown",
   "id": "5438766d",
   "metadata": {},
   "source": [
    "SELECT id,  \n",
    "       views,  \n",
    "             CASE  \n",
    "                 WHEN views >= 350 THEN 1  \n",
    "                 WHEN views <= 350 AND views >=100 THEN 2  \n",
    "                 WHEN views <100 THEN 3  \n",
    "             END    \n",
    "FROM stackoverflow.users  \n",
    "WHERE location LIKE '%United States%' and views != 0  \n",
    "ORDER BY id;  "
   ]
  },
  {
   "cell_type": "markdown",
   "id": "4ffdbfec",
   "metadata": {},
   "source": [
    "**11. Дополните предыдущий запрос. Отобразите лидеров каждой группы — пользователей, которые набрали максимальное число просмотров в своей группе. Выведите поля с идентификатором пользователя, группой и количеством просмотров. Отсортируйте таблицу по убыванию просмотров, а затем по возрастанию значения идентификатора.**"
   ]
  },
  {
   "cell_type": "markdown",
   "id": "33c58466",
   "metadata": {},
   "source": [
    "WITH count_cat AS(  \n",
    "       SELECT id,  \n",
    "       views,  \n",
    "             CASE  \n",
    "                 WHEN views >= 350 THEN 1  \n",
    "                 WHEN views <= 350 AND views >=100 THEN 2  \n",
    "                 WHEN views <100 THEN 3  \n",
    "             END category  \n",
    "FROM stackoverflow.users  \n",
    "WHERE location LIKE '%United States%' and views != 0),  \n",
    "\n",
    "count_2 AS(  \n",
    "        SELECT id,  \n",
    "               MAX(views) OVER (PARTITION BY category) AS cat_filtrd,  \n",
    "               views,  \n",
    "               category  \n",
    "FROM count_cat)  \n",
    "\n",
    "\n",
    "SELECT id,  \n",
    "       category,  \n",
    "       cat_filtrd  \n",
    "FROM count_2  \n",
    "WHERE views = cat_filtrd  \n",
    "ORDER BY cat_filtrd DESC, id ASC;  "
   ]
  },
  {
   "cell_type": "markdown",
   "id": "1151f701",
   "metadata": {},
   "source": [
    "**12. Посчитайте ежедневный прирост новых пользователей в ноябре 2008 года. Сформируйте таблицу с полями:  \n",
    "номер дня;  \n",
    "число пользователей, зарегистрированных в этот день;  \n",
    "сумму пользователей с накоплением.**  "
   ]
  },
  {
   "cell_type": "markdown",
   "id": "2d45f7a7",
   "metadata": {},
   "source": [
    "WITH count_day AS(  \n",
    "         SELECT EXTRACT (DAY FROM creation_date::date) AS day_cnt,  \n",
    "         COUNT(id) AS id_cnt  \n",
    "from stackoverflow.users as u  \n",
    "WHERE creation_date BETWEEN '2008-11-01' AND '2008-12-01'  \n",
    "GROUP BY creation_date::date  \n",
    "ORDER BY creation_date::date)  \n",
    "\n",
    "SELECT day_cnt,  \n",
    "       id_cnt,  \n",
    "       SUM(id_cnt) OVER (ORDER BY day_cnt) AS user_sum  \n",
    "FROM count_day  \n",
    "ORDER BY day_cnt;  "
   ]
  },
  {
   "cell_type": "markdown",
   "id": "2bcf5931",
   "metadata": {},
   "source": [
    "**13. Для каждого пользователя, который написал хотя бы один пост, найдите интервал между регистрацией и временем создания первого поста. Отобразите:  \n",
    "идентификатор пользователя;  \n",
    "разницу во времени между регистрацией и первым постом.**  "
   ]
  },
  {
   "cell_type": "markdown",
   "id": "a81bb422",
   "metadata": {},
   "source": [
    "SELECT u.id,  \n",
    "       MIN(p.creation_date) - u.creation_date  \n",
    "FROM stackoverflow.users u  \n",
    "JOIN stackoverflow.posts p ON p.user_id = u.id  \n",
    "GROUP BY u.id, u.creation_date;  "
   ]
  },
  {
   "cell_type": "markdown",
   "id": "a93e6edb",
   "metadata": {},
   "source": [
    "### Вторая часть проекта. "
   ]
  },
  {
   "cell_type": "markdown",
   "id": "0fc9e112",
   "metadata": {},
   "source": [
    "**1. Выведите общую сумму просмотров постов за каждый месяц 2008 года. Если данных за какой-либо месяц в базе нет, такой месяц можно пропустить. Результат отсортируйте по убыванию общего количества просмотров.**"
   ]
  },
  {
   "cell_type": "markdown",
   "id": "05cb8419",
   "metadata": {},
   "source": [
    "SELECT DATE_TRUNC('month', creation_date)::date AS date_posts,  \n",
    "       SUM(views_count) AS views_cnt  \n",
    "FROM stackoverflow.posts p  \n",
    "GROUP BY date_posts  \n",
    "ORDER BY views_cnt DESC;  "
   ]
  },
  {
   "cell_type": "markdown",
   "id": "74f2025b",
   "metadata": {},
   "source": [
    "**2. Выведите имена самых активных пользователей, которые в первый месяц после регистрации (включая день регистрации) дали больше 100 ответов. Вопросы, которые задавали пользователи, не учитывайте. Для каждого имени пользователя выведите количество уникальных значений user_id. Отсортируйте результат по полю с именами в лексикографическом порядке.**"
   ]
  },
  {
   "cell_type": "markdown",
   "id": "15144170",
   "metadata": {},
   "source": [
    "SELECT u.display_name,  \n",
    "       COUNT(DISTINCT p.user_id)  \n",
    "FROM stackoverflow.users u  \n",
    "JOIN stackoverflow.posts p ON p.user_id = u.id  \n",
    "JOIN stackoverflow.post_types pt ON pt.id = p.post_type_id  \n",
    "WHERE pt.type = 'Answer' AND DATE_TRUNC ('day', p.creation_date) <= DATE_TRUNC ('day', u.creation_date + INTERVAL '1 month')  \n",
    "GROUP BY u.display_name  \n",
    "HAVING COUNT(pt.id)>100  \n",
    "ORDER BY u.display_name;  "
   ]
  },
  {
   "cell_type": "markdown",
   "id": "379728d0",
   "metadata": {},
   "source": [
    "**3. Выведите количество постов за 2008 год по месяцам. Отберите посты от пользователей, которые зарегистрировались в сентябре 2008 года и сделали хотя бы один пост в декабре того же года. Отсортируйте таблицу по значению месяца по убыванию.**"
   ]
  },
  {
   "cell_type": "markdown",
   "id": "05913f59",
   "metadata": {},
   "source": [
    "WITH a AS (SELECT DISTINCT u.id AS id  \n",
    "FROM stackoverflow.users u   \n",
    "JOIN stackoverflow.posts p ON u.id=p.user_id    \n",
    "WHERE CAST(DATE_TRUNC('day', u.creation_date) AS DATE) BETWEEN '2008-09-01' AND '2008-09-30'  \n",
    "      AND CAST(DATE_TRUNC('day', p.creation_date) AS DATE) BETWEEN '2008-12-01' AND '2008-12-30')  \n",
    "SELECT CAST(DATE_TRUNC('month', p.creation_date) AS DATE),  \n",
    "       COUNT(p.id)         \n",
    "FROM a  \n",
    "JOIN stackoverflow.posts p ON a.id=p.user_id  \n",
    "WHERE CAST(DATE_TRUNC('year', p.creation_date) AS DATE) BETWEEN '2008-01-01' AND '2008-12-01'  \n",
    "GROUP BY CAST(DATE_TRUNC('month', p.creation_date) AS DATE)  \n",
    "ORDER BY 1 DESC;  "
   ]
  },
  {
   "cell_type": "markdown",
   "id": "ce319915",
   "metadata": {},
   "source": [
    "**4. Используя данные о постах, выведите несколько полей:  \n",
    "идентификатор пользователя, который написал пост;  \n",
    "дата создания поста;  \n",
    "количество просмотров у текущего поста;  \n",
    "сумму просмотров постов автора с накоплением.  \n",
    "Данные в таблице должны быть отсортированы по возрастанию идентификаторов пользователей, а данные об одном и том же   пользователе — по возрастанию даты создания поста.**  "
   ]
  },
  {
   "cell_type": "markdown",
   "id": "83a70473",
   "metadata": {},
   "source": [
    "SELECT DISTINCT user_id,  \n",
    "       creation_date,  \n",
    "       views_count,  \n",
    "       SUM(views_count) OVER (PARTITION BY user_id ORDER BY creation_date ASC) AS sum_views  \n",
    "FROM stackoverflow.posts  \n",
    "GROUP BY user_id, creation_date, views_count  \n",
    "ORDER BY user_id ASC;  "
   ]
  },
  {
   "cell_type": "markdown",
   "id": "5ea70397",
   "metadata": {},
   "source": [
    "**5. Сколько в среднем дней в период с 1 по 7 декабря 2008 года включительно пользователи взаимодействовали с платформой? Для каждого пользователя отберите дни, в которые он или она опубликовали хотя бы один пост. Нужно получить одно целое число — не забудьте округлить результат.**"
   ]
  },
  {
   "cell_type": "markdown",
   "id": "1e38ebea",
   "metadata": {},
   "source": [
    "WITH active_days AS(  \n",
    "                   SELECT user_id,  \n",
    "                   COUNT(DISTINCT(CAST (creation_date AS DATE))) AS act_days  \n",
    "FROM  stackoverflow.posts  \n",
    "WHERE CAST(creation_date AS DATE) BETWEEN '2008-12-01' AND '2008-12-07'  \n",
    "GROUP BY user_id)  \n",
    "\n",
    "SELECT ROUND(AVG(act_days))  \n",
    "FROM active_days;  "
   ]
  },
  {
   "cell_type": "markdown",
   "id": "fe16f66f",
   "metadata": {},
   "source": [
    "**6. На сколько процентов менялось количество постов ежемесячно с 1 сентября по 31 декабря 2008 года? Отобразите таблицу со следующими полями:  \n",
    "номер месяца;  \n",
    "количество постов за месяц;  \n",
    "процент, который показывает, насколько изменилось количество постов в текущем месяце по сравнению с предыдущим.  \n",
    "Если постов стало меньше, значение процента должно быть отрицательным, если больше — положительным. Округлите значение   процента до двух знаков после запятой.  \n",
    "Напомним, что при делении одного целого числа на другое в PostgreSQL в результате получится целое число, округлённое до   ближайшего целого вниз. Чтобы этого избежать, переведите делимое в тип numeric.**    "
   ]
  },
  {
   "cell_type": "markdown",
   "id": "d3c8cbb7",
   "metadata": {},
   "source": [
    "WITH month_cnt AS(  \n",
    "               SELECT DATE_PART('month', creation_date) AS month_post,  \n",
    "               COUNT(id) AS post_cnt  \n",
    "               FROM stackoverflow.posts  \n",
    "               WHERE creation_date >= '2008-09-01' AND creation_date <= '2008-12-31'  \n",
    "               GROUP BY 1)  \n",
    "              \n",
    "SELECT month_post,  \n",
    "       post_cnt,  \n",
    "       ROUND(100 *(post_cnt - LAG(post_cnt) OVER (ORDER BY month_post))::NUMERIC/ LAG(post_cnt) OVER (ORDER BY month_post),   2) AS post_change  \n",
    "FROM month_cnt;  "
   ]
  },
  {
   "cell_type": "markdown",
   "id": "fb4a87c5",
   "metadata": {},
   "source": [
    "**7. Выгрузите данные активности пользователя, который опубликовал больше всего постов за всё время. Выведите данные за октябрь 2008 года в таком виде:  \n",
    "номер недели;  \n",
    "дата и время последнего поста, опубликованного на этой неделе.**    "
   ]
  },
  {
   "cell_type": "markdown",
   "id": "1dacf6dd",
   "metadata": {},
   "source": [
    "WITH top_user as ( SELECT   \n",
    "EXTRACT(WEEK FROM DATE_TRUNC('week',creation_date::date)) as week_number,   \n",
    "creation_date   \n",
    "FROM stackoverflow.posts   \n",
    "WHERE user_id = 22656 and creation_date::date between '2008-10-01' and '2008-10-31')   \n",
    " \n",
    "SELECT DISTINCT week_number,   \n",
    "MAX(creation_date)OVER(PARTITION BY week_number)   \n",
    "FROM top_user   \n",
    "ORDER BY week_number;  "
   ]
  }
 ],
 "metadata": {
  "kernelspec": {
   "display_name": "Python 3 (ipykernel)",
   "language": "python",
   "name": "python3"
  },
  "language_info": {
   "codemirror_mode": {
    "name": "ipython",
    "version": 3
   },
   "file_extension": ".py",
   "mimetype": "text/x-python",
   "name": "python",
   "nbconvert_exporter": "python",
   "pygments_lexer": "ipython3",
   "version": "3.9.13"
  },
  "toc": {
   "base_numbering": 1,
   "nav_menu": {},
   "number_sections": true,
   "sideBar": true,
   "skip_h1_title": true,
   "title_cell": "Оглавление",
   "title_sidebar": "Contents",
   "toc_cell": true,
   "toc_position": {},
   "toc_section_display": true,
   "toc_window_display": true
  }
 },
 "nbformat": 4,
 "nbformat_minor": 5
}
